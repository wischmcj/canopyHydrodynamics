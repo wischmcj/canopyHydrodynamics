{
 "cells": [
  {
   "cell_type": "markdown",
   "id": "57f53381",
   "metadata": {},
   "source": [
    "## Objects  "
   ]
  },
  {
   "cell_type": "markdown",
   "id": "21d2a621",
   "metadata": {},
   "source": [
    "### Cylinder"
   ]
  },
  {
   "cell_type": "code",
   "execution_count": null,
   "id": "4f15f3c8",
   "metadata": {},
   "outputs": [],
   "source": [
    "from src.canhydro.Cylinder import Cylinder"
   ]
  },
  {
   "cell_type": "markdown",
   "id": "cc97e998",
   "metadata": {},
   "source": [
    "The Cylinder class is used to represent the 3-D cylinders that make up a QSM "
   ]
  },
  {
   "cell_type": "code",
   "execution_count": null,
   "id": "ca2e3ba3",
   "metadata": {},
   "outputs": [],
   "source": [
    "# A trivial example of a Cylinder object\n",
    "myCyl = Cylinder(cyl_id=0.0,\n",
    "            x=[1. 4.],         \n",
    "            y=[1. 6.],         \n",
    "            z=[1. 7.],         \n",
    "            radius=1.0,         \n",
    "            length=0.064433,         \n",
    "            branch_order=0.0,         \n",
    "            branch_id=0.0,         \n",
    "            volume=0.010021,         \n",
    "            parent_id=-1.0,         \n",
    "            reverse_branch_order=32.0,         \n",
    "            segment_id=0.0)"
   ]
  },
  {
   "cell_type": "markdown",
   "id": "0e599f0c",
   "metadata": {},
   "source": [
    "Cylinder objects calculate and store data regarding the 3D objects they represent "
   ]
  },
  {
   "cell_type": "code",
   "execution_count": null,
   "id": "c8ccd6ea",
   "metadata": {},
   "outputs": [],
   "source": [
    "# Demonstration of a few statistics functions available for cylinders "
   ]
  },
  {
   "cell_type": "markdown",
   "id": "01d66f39",
   "metadata": {},
   "source": [
    "The most important function posessed by Cylinder objects involves projecting them onto a plane. \\ \n",
    "Cylider objects utilize utilities in the geometry module to return data regarding the shapes created by projecting them onto the XY          ,\n",
    "XZ and YZ planesuse"
   ]
  },
  {
   "cell_type": "code",
   "execution_count": null,
   "id": "aa5ac7c7",
   "metadata": {},
   "outputs": [],
   "source": [
    "# Below the 'project_cylinder' function is used to return data regarding the applicable 2D shapes "
   ]
  },
  {
   "cell_type": "markdown",
   "id": "7be3a796",
   "metadata": {},
   "source": [
    "The projections of a cylinder on a plane may also be drawn via matplotlib and shapely."
   ]
  },
  {
   "cell_type": "code",
   "execution_count": null,
   "id": "eede10ee",
   "metadata": {},
   "outputs": [],
   "source": [
    "# A demonstration of the draw function for a single cylinder "
   ]
  },
  {
   "cell_type": "markdown",
   "id": "0fb7d007",
   "metadata": {},
   "source": [
    "Ultimately, the above functionality is used to calculate statistics regarding collections of cylinders"
   ]
  },
  {
   "cell_type": "code",
   "execution_count": null,
   "metadata": {},
   "outputs": [],
   "source": [
    "# See next section"
   ]
  },
  {
   "cell_type": "markdown",
   "id": "4fdc5c70",
   "metadata": {},
   "source": [
    "### Cylinder Collection "
   ]
  },
  {
   "cell_type": "markdown",
   "id": "26ea874e",
   "metadata": {},
   "source": [
    "Cylinder collections are just as they sound and, at the most basic level, a cyliner collection is defined as a list of 1 or more Cylinder objects "
   ]
  },
  {
   "cell_type": "code",
   "execution_count": null,
   "id": "65608029",
   "metadata": {},
   "outputs": [],
   "source": [
    "# Example showing the most basic possible cylinder Collection"
   ]
  },
  {
   "cell_type": "markdown",
   "id": "4952330b",
   "metadata": {},
   "source": [
    "Cylinder Collection objects are often 1-1 with a QSM, and differ from QSMs in that they have been given additional structure via attributes and methods. "
   ]
  },
  {
   "cell_type": "code",
   "execution_count": null,
   "id": "ffc7a0a6",
   "metadata": {},
   "outputs": [],
   "source": [
    "#Example printing out a png of a cylinder collection, as well as a list of attributes"
   ]
  },
  {
   "cell_type": "markdown",
   "id": "84bb690d",
   "metadata": {},
   "source": [
    "The most important of these attributes is CylinderCollection.digraph, which is a mathematical graph corresponding the CylinderCollection. \\ \n",
    "This graph representation is used in tandem with a traversal algoritm to predict which rain partition each cylinder in the collection belongs to"
   ]
  },
  {
   "cell_type": "code",
   "execution_count": null,
   "id": "57b736f0",
   "metadata": {},
   "outputs": [],
   "source": [
    "# Code example printing out a cylinder collection, colored by stem v. drip flow"
   ]
  },
  {
   "cell_type": "markdown",
   "id": "4f941464",
   "metadata": {},
   "source": [
    "Alpha shapes are another key attribute used in statistics calculations. \\\n",
    "Alpha shapes represent the estimated area covered by the represented tree's canopy when projected in the XY, XZ or YZ direction. \\\n",
    "**these shapes are particularly important in the calculation of Woody Index (see statistics_calculations for more info)"
   ]
  },
  {
   "cell_type": "code",
   "execution_count": null,
   "metadata": {},
   "outputs": [],
   "source": [
    "# A demonstration showing the calculation and plotting of alpha shapes "
   ]
  },
  {
   "cell_type": "markdown",
   "id": "9baf6cb6",
   "metadata": {},
   "source": [
    "The remaining attributes of a CylinderCollection consists primarily of summarry statistics. \\\n",
    "Statistics may be calculated using dedicated functions, or they may be calculated via the overarching 'statistics' function. \\\n",
    "(see statistics_calculations for more info)"
   ]
  },
  {
   "cell_type": "code",
   "execution_count": null,
   "id": "525d2d90",
   "metadata": {},
   "outputs": [],
   "source": [
    "# Demonstrating several options for working with statistics\n",
    "\n",
    "# A few statistic specific functions \n",
    "\n",
    "# Results obtained through the bulk statistics function\n"
   ]
  },
  {
   "cell_type": "markdown",
   "id": "a2f23faa",
   "metadata": {},
   "source": [
    "#"
   ]
  },
  {
   "cell_type": "markdown",
   "id": "525152f2",
   "metadata": {},
   "source": [
    "### Forester"
   ]
  },
  {
   "cell_type": "markdown",
   "id": "f7f38d25",
   "metadata": {},
   "source": [
    "Forester objects allow users to conveniently create and manage Cylinder Collections. In particular, Foresters are useful for reading in and processing QSM files.\n"
   ]
  },
  {
   "cell_type": "code",
   "execution_count": 1,
   "id": "29fc39db",
   "metadata": {},
   "outputs": [],
   "source": [
    "# Importing our local version of the forester object\n",
    "from src.canhydro.Forester import Forester"
   ]
  },
  {
   "cell_type": "markdown",
   "id": "a1be0566",
   "metadata": {},
   "source": [
    "When a Forester object is created, available file names are read from the default directory, './data/input/'. \\\n",
    "This list of available files can be accessed through the Forester.file_names attribute, as shown below"
   ]
  },
  {
   "cell_type": "code",
   "execution_count": 2,
   "id": "3661ce99",
   "metadata": {
    "tags": [
     "myTag"
    ]
   },
   "outputs": [
    {
     "name": "stdout",
     "output_type": "stream",
     "text": [
      "Files available in data/input: ['data/input/5_SmallTree.csv']\n"
     ]
    }
   ],
   "source": [
    "# Creating a new Forester object\n",
    "myForester = Forester()\n",
    "print(f\"Files available in {myForester.directory}: {list(map(str,myForester.file_names))}\")"
   ]
  },
  {
   "cell_type": "markdown",
   "id": "ece770db",
   "metadata": {},
   "source": [
    "Optionally, a custom path may be passed to the Forester object, In which case, the Forester will look for files in the passed directory instead"
   ]
  },
  {
   "cell_type": "code",
   "execution_count": 3,
   "id": "d3d3873f",
   "metadata": {},
   "outputs": [
    {
     "name": "stdout",
     "output_type": "stream",
     "text": [
      "Files available in data/test/: ['data/test/10_MediumCollection.csv', 'data/test/1_TenCyls.csv', 'data/test/3_HappyPathWTrunk.csv', 'data/test/2_EZ_projection.csv', 'data/test/4_LargeCollection.csv', 'data/test/5_SmallTree.csv', 'data/test/6_LargeTree.csv', 'data/test/8_DripPathMidBranch.csv', 'data/test/7_DripPathAdjToTrunk.csv', 'data/test/9_DripOnTrunk.csv']\n"
     ]
    }
   ],
   "source": [
    "# Passing a custom directory to the Forester object will change the directory attribute\n",
    "directory = '/data/test/'\n",
    "myForester = Forester('data/test/')\n",
    "print(f\"Files available in {myForester.directory}: {list(map(str,myForester.file_names))}\")"
   ]
  },
  {
   "cell_type": "markdown",
   "id": "49ae18fe",
   "metadata": {},
   "source": [
    "The 'qsm_to_collection' function can be used create CylinderCollections from a specified file."
   ]
  },
  {
   "cell_type": "code",
   "execution_count": 12,
   "id": "27e6af2a",
   "metadata": {},
   "outputs": [
    {
     "name": "stdout",
     "output_type": "stream",
     "text": [
      "Forester has 1 CylinderCollection, imported from 5_SmallTree.csv\n"
     ]
    }
   ],
   "source": [
    "# Importing a QSM file as a CylinderCollection\n",
    "myForester = Forester('data/test/')\n",
    "myForester.qsm_to_collection('5_SmallTree.csv')\n",
    "\n",
    "cylCollections = myForester.cylinder_collections\n",
    "firstCollection = cylCollections[0]\n",
    "\n",
    "print(f\"Forester has {len(cylCollections)} CylinderCollection, imported from {cylCollections[0].file_name}\")"
   ]
  },
  {
   "cell_type": "markdown",
   "id": "ccd8c24b",
   "metadata": {},
   "source": [
    "If 'All' is provided as the file name, all of the files in the given directory will be read in as CylinderCollections. \\\n",
    "(Note that this may require a significant amount of memory.)"
   ]
  },
  {
   "cell_type": "code",
   "execution_count": 13,
   "id": "984272e4",
   "metadata": {},
   "outputs": [
    {
     "name": "stdout",
     "output_type": "stream",
     "text": [
      "Forester created 10 CylinderCollections, from the following files \n",
      "      ['10_MediumCollection.csv', '1_TenCyls.csv', '3_HappyPathWTrunk.csv', '2_EZ_projection.csv', '4_LargeCollection.csv', '5_SmallTree.csv', '6_LargeTree.csv', '8_DripPathMidBranch.csv', '7_DripPathAdjToTrunk.csv', '9_DripOnTrunk.csv']\n"
     ]
    }
   ],
   "source": [
    "# Reading in all files in the directory as collections\n",
    "myForester.qsm_to_collection('All')\n",
    "cylCollections = myForester.cylinder_collections\n",
    "firstCollection = cylCollections[0]\n",
    "print(f\"\"\"Forester created {len(cylCollections)} CylinderCollections, imported from the following files \n",
    "      {list(map(lambda x: x.file_name,cylCollections))}\"\"\")"
   ]
  },
  {
   "cell_type": "markdown",
   "id": "8a67b2a2",
   "metadata": {},
   "source": [
    "## Configuration Options"
   ]
  },
  {
   "cell_type": "markdown",
   "id": "06ec116b",
   "metadata": {},
   "source": [
    "### Directories"
   ]
  },
  {
   "cell_type": "markdown",
   "id": "61840054",
   "metadata": {},
   "source": [
    "### File Structure"
   ]
  },
  {
   "cell_type": "markdown",
   "id": "1bdce326",
   "metadata": {},
   "source": [
    "### Model Parameters\n"
   ]
  }
 ],
 "metadata": {
  "kernelspec": {
   "display_name": "venv",
   "language": "python",
   "name": "python3"
  },
  "language_info": {
   "codemirror_mode": {
    "name": "ipython",
    "version": 3
   },
   "file_extension": ".py",
   "mimetype": "text/x-python",
   "name": "python",
   "nbconvert_exporter": "python",
   "pygments_lexer": "ipython3",
   "version": "3.10.12"
  }
 },
 "nbformat": 4,
 "nbformat_minor": 5
}
