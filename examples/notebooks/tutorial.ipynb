{
 "cells": [
  {
   "cell_type": "markdown",
   "id": "18941d73",
   "metadata": {},
   "source": [
    "## collection_overlap"
   ]
  },
  {
   "cell_type": "markdown",
   "id": "525152f2",
   "metadata": {},
   "source": [
    "This function is used to..."
   ]
  },
  {
   "cell_type": "code",
   "execution_count": null,
   "id": "3661ce99",
   "metadata": {},
   "outputs": [],
   "source": [
    "# Example usage of create_cylinders\n",
    "import \n",
    "\n",
    "\n",
    "# TODO: Add example code here"
   ]
  },
  {
   "cell_type": "code",
   "execution_count": null,
   "id": "8532e516",
   "metadata": {},
   "outputs": [],
   "source": [
    "# Example usage of collection_overlap\n",
    "\n",
    "# TODO: Add example code here"
   ]
  },
  {
   "cell_type": "code",
   "execution_count": null,
   "id": "38bbfbca",
   "metadata": {},
   "outputs": [],
   "source": [
    "# Example usage of watershed\n",
    "\n",
    "# TODO: Add example code here"
   ]
  }
 ],
 "metadata": {
  "language_info": {
   "name": "python"
  }
 },
 "nbformat": 4,
 "nbformat_minor": 5
}
