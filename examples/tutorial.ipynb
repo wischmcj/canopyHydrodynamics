{
 "cells": [
  {
   "cell_type": "markdown",
   "id": "57f53381",
   "metadata": {},
   "source": [
    "## Objects  "
   ]
  },
  {
   "cell_type": "markdown",
   "id": "21d2a621",
   "metadata": {},
   "source": [
    "## Cylinder"
   ]
  },
  {
   "cell_type": "markdown",
   "id": "525152f2",
   "metadata": {},
   "source": [
    "### Forester"
   ]
  },
  {
   "cell_type": "markdown",
   "id": "f7f38d25",
   "metadata": {},
   "source": [
    "Forester objects allow users to conveniently create and manage Cylinder Collections. In particular, Foresters are useful for reading in and processing QSM files.\n"
   ]
  },
  {
   "cell_type": "code",
   "execution_count": 1,
   "id": "29fc39db",
   "metadata": {},
   "outputs": [],
   "source": [
    "# Importing our local version of the forester object\n",
    "from src.canhydro.Forester import Forester"
   ]
  },
  {
   "cell_type": "markdown",
   "id": "a1be0566",
   "metadata": {},
   "source": [
    "When a Forester object is created, available file names are read from the default directory, './data/input/'. \\\n",
    "This list of available files can be accessed through the Forester.file_names attribute, as shown below"
   ]
  },
  {
   "cell_type": "code",
   "execution_count": 2,
   "id": "3661ce99",
   "metadata": {
    "tags": [
     "myTag"
    ]
   },
   "outputs": [
    {
     "name": "stdout",
     "output_type": "stream",
     "text": [
      "Files available in data/input: ['data/input/5_SmallTree.csv']\n"
     ]
    }
   ],
   "source": [
    "# Creating a new Forester object\n",
    "myForester = Forester()\n",
    "print(f\"Files available in {myForester.directory}: {list(map(str,myForester.file_names))}\")"
   ]
  },
  {
   "cell_type": "markdown",
   "id": "ece770db",
   "metadata": {},
   "source": [
    "Optionally, a custom path may be passed to the Forester object, In which case, the Forester will look for files in the passed directory instead"
   ]
  },
  {
   "cell_type": "code",
   "execution_count": 3,
   "id": "d3d3873f",
   "metadata": {},
   "outputs": [
    {
     "name": "stdout",
     "output_type": "stream",
     "text": [
      "Files available in data/test/: ['data/test/10_MediumCollection.csv', 'data/test/1_TenCyls.csv', 'data/test/3_HappyPathWTrunk.csv', 'data/test/2_EZ_projection.csv', 'data/test/4_LargeCollection.csv', 'data/test/5_SmallTree.csv', 'data/test/6_LargeTree.csv', 'data/test/8_DripPathMidBranch.csv', 'data/test/7_DripPathAdjToTrunk.csv', 'data/test/9_DripOnTrunk.csv']\n"
     ]
    }
   ],
   "source": [
    "# Passing a custom directory to the Forester object will change the directory attribute\n",
    "directory = '/data/test/'\n",
    "myForester = Forester('data/test/')\n",
    "print(f\"Files available in {myForester.directory}: {list(map(str,myForester.file_names))}\")"
   ]
  },
  {
   "cell_type": "markdown",
   "id": "49ae18fe",
   "metadata": {},
   "source": [
    "The 'qsm_to_collection' function can be used create CylinderCollections from a specified file."
   ]
  },
  {
   "cell_type": "code",
   "execution_count": 12,
   "id": "27e6af2a",
   "metadata": {},
   "outputs": [
    {
     "name": "stdout",
     "output_type": "stream",
     "text": [
      "Forester has 1 CylinderCollection, imported from 5_SmallTree.csv\n"
     ]
    }
   ],
   "source": [
    "# Importing a QSM file as a CylinderCollection\n",
    "myForester = Forester('data/test/')\n",
    "myForester.qsm_to_collection('5_SmallTree.csv')\n",
    "\n",
    "cylCollections = myForester.cylinder_collections\n",
    "firstCollection = cylCollections[0]\n",
    "\n",
    "print(f\"Forester has {len(cylCollections)} CylinderCollection, imported from {cylCollections[0].file_name}\")"
   ]
  },
  {
   "cell_type": "markdown",
   "id": "ccd8c24b",
   "metadata": {},
   "source": [
    "If 'All' is provided as the file name, all of the files in the given directory will be read in as CylinderCollections. \\\n",
    "(Note that this may require a significant amount of memory.)"
   ]
  },
  {
   "cell_type": "code",
   "execution_count": 13,
   "id": "984272e4",
   "metadata": {},
   "outputs": [
    {
     "name": "stdout",
     "output_type": "stream",
     "text": [
      "Forester created 10 CylinderCollections, from the following files \n",
      "      ['10_MediumCollection.csv', '1_TenCyls.csv', '3_HappyPathWTrunk.csv', '2_EZ_projection.csv', '4_LargeCollection.csv', '5_SmallTree.csv', '6_LargeTree.csv', '8_DripPathMidBranch.csv', '7_DripPathAdjToTrunk.csv', '9_DripOnTrunk.csv']\n"
     ]
    }
   ],
   "source": [
    "# Reading in all files in the directory as collections\n",
    "myForester.qsm_to_collection('All')\n",
    "cylCollections = myForester.cylinder_collections\n",
    "firstCollection = cylCollections[0]\n",
    "print(f\"\"\"Forester created {len(cylCollections)} CylinderCollections, imported from the following files \n",
    "      {list(map(lambda x: x.file_name,cylCollections))}\"\"\")"
   ]
  },
  {
   "cell_type": "markdown",
   "id": "8bbef182",
   "metadata": {},
   "source": [
    "### Cylinder Collection"
   ]
  },
  {
   "cell_type": "code",
   "execution_count": null,
   "id": "b694dc86",
   "metadata": {},
   "outputs": [],
   "source": []
  },
  {
   "cell_type": "markdown",
   "id": "494b3152",
   "metadata": {},
   "source": [
    "\n",
    "### Cylinder"
   ]
  },
  {
   "cell_type": "code",
   "execution_count": 5,
   "id": "8532e516",
   "metadata": {},
   "outputs": [],
   "source": [
    "# Example usage of collection_overlap\n",
    "\n",
    "# TODO: Add example code her"
   ]
  },
  {
   "cell_type": "code",
   "execution_count": 6,
   "id": "38bbfbca",
   "metadata": {},
   "outputs": [],
   "source": [
    "# Example usage of watershed\n",
    "\n",
    "# TODO: Add example code here"
   ]
  },
  {
   "cell_type": "markdown",
   "id": "8a67b2a2",
   "metadata": {},
   "source": [
    "## Configuration Options"
   ]
  },
  {
   "cell_type": "markdown",
   "id": "06ec116b",
   "metadata": {},
   "source": [
    "### Directories"
   ]
  },
  {
   "cell_type": "markdown",
   "id": "61840054",
   "metadata": {},
   "source": [
    "### File Structure"
   ]
  },
  {
   "cell_type": "markdown",
   "id": "1bdce326",
   "metadata": {},
   "source": [
    "### Model Parameters\n"
   ]
  }
 ],
 "metadata": {
  "kernelspec": {
   "display_name": "venv",
   "language": "python",
   "name": "python3"
  },
  "language_info": {
   "codemirror_mode": {
    "name": "ipython",
    "version": 3
   },
   "file_extension": ".py",
   "mimetype": "text/x-python",
   "name": "python",
   "nbconvert_exporter": "python",
   "pygments_lexer": "ipython3",
   "version": "3.10.12"
  }
 },
 "nbformat": 4,
 "nbformat_minor": 5
}
