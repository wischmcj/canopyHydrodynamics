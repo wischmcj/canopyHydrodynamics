{
 "cells": [
  {
   "cell_type": "markdown",
   "id": "325e86d4",
   "metadata": {},
   "source": [
    "## create_cylinders"
   ]
  },
  {
   "cell_type": "markdown",
   "id": "85601489",
   "metadata": {},
   "source": [
    "This function is used to..."
   ]
  },
  {
   "cell_type": "markdown",
   "id": "66312998",
   "metadata": {},
   "source": [
    "## create_cylinders_from_csv"
   ]
  },
  {
   "cell_type": "markdown",
   "id": "67fd250d",
   "metadata": {},
   "source": [
    "This function is used to..."
   ]
  },
  {
   "cell_type": "markdown",
   "id": "6fc7ebff",
   "metadata": {},
   "source": [
    "## project_cylinders"
   ]
  },
  {
   "cell_type": "markdown",
   "id": "38c6845b",
   "metadata": {},
   "source": [
    "This function is used to..."
   ]
  },
  {
   "cell_type": "markdown",
   "id": "80e7b06a",
   "metadata": {},
   "source": [
    "## lam_filter"
   ]
  },
  {
   "cell_type": "markdown",
   "id": "d72b500e",
   "metadata": {},
   "source": [
    "This function is used to..."
   ]
  },
  {
   "cell_type": "markdown",
   "id": "43f96a68",
   "metadata": {},
   "source": [
    "## find_flows"
   ]
  },
  {
   "cell_type": "markdown",
   "id": "9fe588cc",
   "metadata": {},
   "source": [
    "This function is used to..."
   ]
  },
  {
   "cell_type": "markdown",
   "id": "3498be7b",
   "metadata": {},
   "source": [
    "## pickle"
   ]
  },
  {
   "cell_type": "markdown",
   "id": "0d15f287",
   "metadata": {},
   "source": [
    "This function is used to..."
   ]
  },
  {
   "cell_type": "markdown",
   "id": "90990d95",
   "metadata": {},
   "source": [
    "## highlight_filt_draw"
   ]
  },
  {
   "cell_type": "markdown",
   "id": "48011366",
   "metadata": {},
   "source": [
    "This function is used to..."
   ]
  },
  {
   "cell_type": "markdown",
   "id": "b46271c4",
   "metadata": {},
   "source": [
    "## dbh"
   ]
  },
  {
   "cell_type": "markdown",
   "id": "6fc93573",
   "metadata": {},
   "source": [
    "This function is used to..."
   ]
  },
  {
   "cell_type": "markdown",
   "id": "18941d73",
   "metadata": {},
   "source": [
    "## collection_overlap"
   ]
  },
  {
   "cell_type": "markdown",
   "id": "525152f2",
   "metadata": {},
   "source": [
    "This function is used to..."
   ]
  },
  {
   "cell_type": "markdown",
   "id": "92c5fada",
   "metadata": {},
   "source": [
    "## watershed"
   ]
  },
  {
   "cell_type": "markdown",
   "id": "b420be6e",
   "metadata": {},
   "source": [
    "This function is used to..."
   ]
  },
  {
   "cell_type": "code",
   "execution_count": null,
   "id": "3661ce99",
   "metadata": {},
   "outputs": [],
   "source": [
    "# Example usage of create_cylinders\n",
    "\n",
    "# TODO: Add example code here"
   ]
  },
  {
   "cell_type": "code",
   "execution_count": null,
   "id": "a0b8ffd6",
   "metadata": {},
   "outputs": [],
   "source": [
    "# Example usage of create_cylinders_from_csv\n",
    "\n",
    "# TODO: Add example code here"
   ]
  },
  {
   "cell_type": "code",
   "execution_count": null,
   "id": "7aa0fafa",
   "metadata": {},
   "outputs": [],
   "source": [
    "# Example usage of project_cylinders\n",
    "\n",
    "# TODO: Add example code here"
   ]
  },
  {
   "cell_type": "code",
   "execution_count": null,
   "id": "95df739e",
   "metadata": {},
   "outputs": [],
   "source": [
    "# Example usage of lam_filter\n",
    "\n",
    "# TODO: Add example code here"
   ]
  },
  {
   "cell_type": "code",
   "execution_count": null,
   "id": "9727f4a2",
   "metadata": {},
   "outputs": [],
   "source": [
    "# Example usage of find_flows\n",
    "\n",
    "# TODO: Add example code here"
   ]
  },
  {
   "cell_type": "code",
   "execution_count": null,
   "id": "5e6eaf55",
   "metadata": {},
   "outputs": [],
   "source": [
    "# Example usage of pickle\n",
    "\n",
    "# TODO: Add example code here"
   ]
  },
  {
   "cell_type": "code",
   "execution_count": null,
   "id": "2b23c6eb",
   "metadata": {},
   "outputs": [],
   "source": [
    "# Example usage of highlight_filt_draw\n",
    "\n",
    "# TODO: Add example code here"
   ]
  },
  {
   "cell_type": "code",
   "execution_count": null,
   "id": "67ee8bf3",
   "metadata": {},
   "outputs": [],
   "source": [
    "# Example usage of dbh\n",
    "\n",
    "# TODO: Add example code here"
   ]
  },
  {
   "cell_type": "code",
   "execution_count": null,
   "id": "8532e516",
   "metadata": {},
   "outputs": [],
   "source": [
    "# Example usage of collection_overlap\n",
    "\n",
    "# TODO: Add example code here"
   ]
  },
  {
   "cell_type": "code",
   "execution_count": null,
   "id": "38bbfbca",
   "metadata": {},
   "outputs": [],
   "source": [
    "# Example usage of watershed\n",
    "\n",
    "# TODO: Add example code here"
   ]
  }
 ],
 "metadata": {},
 "nbformat": 4,
 "nbformat_minor": 5
}
