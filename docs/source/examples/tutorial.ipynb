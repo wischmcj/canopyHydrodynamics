{
 "cells": [
  {
   "cell_type": "code",
   "execution_count": null,
   "id": "d117e315",
   "metadata": {},
   "outputs": [],
   "source": [
    "from __future__ import annotations"
   ]
  },
  {
   "cell_type": "code",
   "execution_count": null,
   "id": "21e032c6",
   "metadata": {
    "lines_to_next_cell": 2
   },
   "outputs": [],
   "source": [
    "#   RUNME.setup\n",
    "#  This helps set up your kernal's environment in order to avoid errors\n",
    "import os\n",
    "\n",
    "import numpy as np\n",
    "from matplotlib import pyplot as plt\n",
    "\n",
    "from canopyhydro.Cylinder import Cylinder\n",
    "from src.canopyhydro.CylinderCollection import CylinderCollection\n",
    "from src.canopyhydro.Forester import Forester\n",
    "\n",
    "# Determines where configuration file is located\n",
    "# file contains directory info and model input settings\n",
    "config_file = os.environ[\n",
    "    \"CANOPYHYDRO_CONFIG\"\n",
    "] = f\"{os.getcwd()}/canopyhydro_config.toml\"\n",
    "log_config = os.environ[\"CANOPYHYDRO_LOG_CONFIG\"] = f\"{os.getcwd()}/logging_config.yml\""
   ]
  },
  {
   "cell_type": "code",
   "execution_count": null,
   "id": "7ccee5a3",
   "metadata": {},
   "outputs": [],
   "source": [
    "# Creating a Cylinder object via inputs\n",
    "myCyl = Cylinder(\n",
    "    cyl_id=1.0,\n",
    "    x=[0, 3],\n",
    "    y=[0, 2],\n",
    "    z=[0, 6],\n",
    "    radius=2.0,\n",
    "    length=0.064433,\n",
    "    branch_order=0.0,\n",
    "    branch_id=0.0,\n",
    "    volume=0.010021,\n",
    "    parent_id=0.0,\n",
    "    reverse_branch_order=32.0,\n",
    "    segment_id=0.0,\n",
    ")\n",
    "print(myCyl)"
   ]
  },
  {
   "cell_type": "markdown",
   "id": "21d2a621",
   "metadata": {},
   "source": [
    "### Cylinder"
   ]
  },
  {
   "cell_type": "markdown",
   "id": "cc97e998",
   "metadata": {},
   "source": [
    "The Cylinder class is used to represent the 3-D cylinders that make up a QSM"
   ]
  },
  {
   "cell_type": "code",
   "execution_count": null,
   "id": "ca2e3ba3",
   "metadata": {},
   "outputs": [],
   "source": [
    "# A trivial example of a Cylinder object\n",
    "\n",
    "\n",
    "myCyl = Cylinder(\n",
    "    cyl_id=1.0,\n",
    "    x=[3, 6],\n",
    "    y=[2, 4],\n",
    "    z=[6, 12],\n",
    "    radius=2.0,\n",
    "    length=0.064433,\n",
    "    branch_order=0.0,\n",
    "    branch_id=0.0,\n",
    "    volume=0.010021,\n",
    "    parent_id=0.0,\n",
    "    reverse_branch_order=32.0,\n",
    "    segment_id=0.0,\n",
    ")\n",
    "\n",
    "fig = myCyl.draw_3D(show=True, draw_vectors=True, draw_projections=True)"
   ]
  },
  {
   "cell_type": "markdown",
   "id": "694d11bf",
   "metadata": {},
   "source": [
    "The most important function of Cylinder objects is their ability to return data regarding the projections onto planes. Cylinder objects utilize our custom 'geometry' module to calculate their projections onto the XY, XZ and YZ planes."
   ]
  },
  {
   "cell_type": "code",
   "execution_count": null,
   "id": "67714844",
   "metadata": {},
   "outputs": [],
   "source": [
    "# Projecting a cylinder onto the XY plane\n",
    "import numpy as np\n",
    "\n",
    "from canopyhydro.Cylinder import Cylinder\n",
    "from canopyhydro.CylinderCollection import CylinderCollection\n",
    "\n",
    "cyl = Cylinder(\n",
    "    1, np.array([0, 1]), np.array([0, 1]), np.array([0, 1]), 1, 1, 0, 0, 1, 0, 0, 0\n",
    ")\n",
    "cyl.get_projection(\"XY\")\n",
    "print(cyl.projected_data[\"XY\"][\"polygon\"])\n",
    "print(cyl.projected_data[\"XY\"][\"base_vector\"])\n",
    "print(cyl.projected_data[\"XY\"][\"anti_vector\"])\n",
    "print(cyl.projected_data[\"XY\"][\"angle\"])\n",
    "print(cyl.projected_data[\"XY\"][\"area\"])"
   ]
  },
  {
   "cell_type": "markdown",
   "id": "9a9cd7c6",
   "metadata": {},
   "source": [
    "The main use of this functionality is shown below. Namely, projecting cylinders allows us to more readily provide visualizations of the tree canopy they represent"
   ]
  },
  {
   "cell_type": "code",
   "execution_count": null,
   "id": "1a3b2b4d",
   "metadata": {},
   "outputs": [],
   "source": [
    "# Here we show the 3D view and the 3 possible 2D projections of a Cylinder object\n",
    "myCyl = Cylinder(\n",
    "    cyl_id=1.0,\n",
    "    x=[0, 3],\n",
    "    y=[0, 2],\n",
    "    z=[0, 6],\n",
    "    radius=2.0,\n",
    "    length=0.064433,\n",
    "    branch_order=0.0,\n",
    "    branch_id=0.0,\n",
    "    volume=0.010021,\n",
    "    parent_id=0.0,\n",
    "    reverse_branch_order=32.0,\n",
    "    segment_id=0.0,\n",
    ")\n",
    "\n",
    "\n",
    "fig = myCyl.draw_3D(show=False, draw_projections=True)\n",
    "\n",
    "myCyl.get_projection(\"XY\")\n",
    "print(\"'myCyl' as seen from above\")\n",
    "print(\n",
    "    f\"The 'XY' projection of myCyl as an area of {round(myCyl.projected_data['XY']['area'],2)} cm^3\"\n",
    ")\n",
    "print(\n",
    "    f\"       and the cylinder makes an angle of {round(myCyl.projected_data['XY']['angle'],2)} radians with the XY plane\"\n",
    ")\n",
    "\n",
    "myCyl.get_projection(\"XZ\")\n",
    "print(\n",
    "    f\"The 'XZ' projection of myCyl as an area of {round(myCyl.projected_data['XZ']['area'],2)} cm^3\"\n",
    ")\n",
    "print(\n",
    "    f\"       and the cylinder makes an angle of {round(myCyl.projected_data['XZ']['angle'],2)} radians with the XZ plane\"\n",
    ")\n",
    "\n",
    "myCyl.get_projection(\"YZ\")\n",
    "print(\n",
    "    f\"The 'YZ' projection of myCyl as an area of {round(myCyl.projected_data['YZ']['area'],2)} cm^3\"\n",
    ")\n",
    "print(\n",
    "    f\"       and the cylinder makes an angle of {round(myCyl.projected_data['YZ']['angle'],2)} radians with the YZ plane\"\n",
    ")"
   ]
  },
  {
   "cell_type": "markdown",
   "id": "e434f057",
   "metadata": {},
   "source": [
    "In the above 3D representations, the entire surface of cylinder must be calculated, s this may be computationally intensive. \\\n",
    "As such, the 'get_projection' function calculates statistics regarding 2D projections directly instead."
   ]
  },
  {
   "cell_type": "code",
   "execution_count": null,
   "id": "aa5ac7c7",
   "metadata": {},
   "outputs": [],
   "source": [
    "# The get_projection function allows for the retrieval of\n",
    "# projection data without the need to define the entire surface of the cylinder\n",
    "\n",
    "\n",
    "myCyl = Cylinder(\n",
    "    cyl_id=1.0,\n",
    "    x=[3, 6],\n",
    "    y=[2, 4],\n",
    "    z=[6, 12],\n",
    "    radius=2.0,\n",
    "    length=0.064433,\n",
    "    branch_order=0.0,\n",
    "    branch_id=0.0,\n",
    "    volume=0.010021,\n",
    "    parent_id=0.0,\n",
    "    reverse_branch_order=32.0,\n",
    "    segment_id=0.0,\n",
    ")\n",
    "\n",
    "print(\"'myCyl' as seen from above\")\n",
    "myCyl.get_projection(\"XY\")\n",
    "myCyl.draw(plane=\"XY\")\n",
    "plt.show()\n",
    "\n",
    "print(\"'myCyl' as seen from the 'fromt' of the tree\")\n",
    "myCyl.get_projection(\"XZ\")\n",
    "myCyl.draw(plane=\"XZ\")\n",
    "plt.show()\n",
    "\n",
    "print(\"'myCyl' as seen from one 'side' of the tree\")\n",
    "myCyl.get_projection(\"YZ\")\n",
    "myCyl.draw(plane=\"YZ\")\n",
    "plt.show()"
   ]
  },
  {
   "cell_type": "markdown",
   "id": "f54814c6",
   "metadata": {},
   "source": [
    "For more information regarding these 2D projections, see [Projecting Cylinders](projecting_cylinders.ipynb)"
   ]
  },
  {
   "cell_type": "markdown",
   "id": "4fdc5c70",
   "metadata": {},
   "source": [
    "### Cylinder Collection"
   ]
  },
  {
   "cell_type": "markdown",
   "id": "26ea874e",
   "metadata": {},
   "source": [
    "Cylinder Collections are just as they sound and, at the most basic level, a Cylinder Collection is defined as a list of 1 or more Cylinder objects. \\\n",
    "Cylinder Collections almost always represent QSM's (or parts of a QSM), and are meant to help users explore their QSMs. \\\n",
    "Below, we demonstrate how one might initialize a cylinder collection using cylinder data (e.g. QSM data) stored in a CSV file."
   ]
  },
  {
   "cell_type": "code",
   "execution_count": null,
   "id": "65608029",
   "metadata": {},
   "outputs": [],
   "source": [
    "# Example showing the most basic possible cylinder Collection4\n",
    "myCollection = CylinderCollection()\n",
    "# The below file is one of our several testing files, featuring only\n",
    "# the trunk of a tree and one of its branches\n",
    "myCollection.from_csv(\"5_SmallTree.csv\")\n",
    "myCollection.statistics(\"XY\")\n",
    "myCollection.statistics(\"XY\")"
   ]
  },
  {
   "cell_type": "markdown",
   "id": "e11ba84a",
   "metadata": {},
   "source": [
    "\n",
    "The below demonstrates how these projection and drawing functionality of the cylinder class can be extended to allow for drawing, highlighting and filtering entire tree canopies\n"
   ]
  },
  {
   "cell_type": "code",
   "execution_count": null,
   "id": "3f44977b",
   "metadata": {
    "lines_to_next_cell": 2
   },
   "outputs": [],
   "source": [
    "myCollection = CylinderCollection()\n",
    "# The below file is one of our several testing files, featuring only\n",
    "# the trunk of a tree and one of its branches\n",
    "myCollection.from_csv(\"10_MediumCollection.csv\")\n",
    "\n",
    "# Collections can be drawn without any frills\n",
    "myCollection.draw(\"XY\", show=True)\n",
    "\n",
    "# One can also choose to draw only a portion of the collection,\n",
    "# utilizing 'lambda' functions to define the desired portion of the tree\n",
    "myCollection.draw(\"XZ\", show=False, filter_lambda=lambda: branch_id < 20)\n",
    "\n",
    "\n",
    "# Similarly, features of interest can be highlighted in a different color\n",
    "myCollection.draw(\"XZ\", show=False, filter_lambda=lambda: cyl_id > 100)\n",
    "\n",
    "myCollection.draw(\n",
    "    \"XZ\",\n",
    "    filter_lambda=lambda: cyl_id > 50,\n",
    "    highlight_lambda=lambda: branch_order > 0,\n",
    "    save=True,\n",
    "    file_name_ext=\"highlighted_branch_tutorial.svg\",\n",
    ")  # noqa\n",
    "\n",
    "\n",
    "myCollection.draw(\n",
    "    \"XZ\",\n",
    "    filter_lambda=lambda: cyl_id > 50,\n",
    "    highlight_lambda=lambda: cyl_id > 100,\n",
    "    save=True,\n",
    "    file_name_ext=\"highlighted_branch_tutorial.svg\",\n",
    ")"
   ]
  },
  {
   "cell_type": "markdown",
   "id": "4ebb81ac",
   "metadata": {},
   "source": [
    "We recommend sticing to 2D drawings where possible, as this is a lot less computationally intensive than the alternative. However the same '.draw' function can even generate 3D plots of the tree!"
   ]
  },
  {
   "cell_type": "code",
   "execution_count": null,
   "id": "4383de18",
   "metadata": {},
   "outputs": [],
   "source": [
    "myCollection = CylinderCollection()\n",
    "# The below file is one of our several testing files, featuring only\n",
    "# the trunk of a tree and one of its branches\n",
    "myCollection.from_csv(\"charlie_brown.csv\")\n",
    "\n",
    "# by filtering for cyl_id>100, we are only plotting the\n",
    "# cylinders that are part of the branch\n",
    "# myCollection.draw(\"XZ\", show=True, save=True)\n",
    "# myCollection.draw(\"XY\", show=True, save=True)\n",
    "# myCollection.draw(\"YZ\", show=True, save=True)\n",
    "myCollection.draw(\"3D\", show=False, save=True, file_name_ext=\"2d_3d_comparison\")\n",
    "\n",
    "print(\"XZ Projection of a collection of cylinders\")"
   ]
  },
  {
   "cell_type": "markdown",
   "id": "ec4cb1f2",
   "metadata": {},
   "source": [
    "To understand how these features support canoPyHydro's titular 'flow identification' functionality, check out [Flow Identification and Drawing](flow_identification_drawing.ipynb)"
   ]
  },
  {
   "cell_type": "markdown",
   "id": "a2f23faa",
   "metadata": {},
   "source": [
    "#"
   ]
  },
  {
   "cell_type": "markdown",
   "id": "525152f2",
   "metadata": {},
   "source": [
    "### Forester"
   ]
  },
  {
   "cell_type": "markdown",
   "id": "f7f38d25",
   "metadata": {},
   "source": [
    "Forester objects allow users to conveniently create and manage Cylinder Collections. In particular, Foresters are useful for reading in and processing QSM files.\n"
   ]
  },
  {
   "cell_type": "markdown",
   "id": "a1be0566",
   "metadata": {},
   "source": [
    "When a Forester object is created, available file names are read from the default directory, './data/input/'. \\\n",
    "This list of available files can be accessed through the Forester.file_names attribute, as shown below"
   ]
  },
  {
   "cell_type": "code",
   "execution_count": null,
   "id": "3661ce99",
   "metadata": {
    "tags": [
     "myTag"
    ]
   },
   "outputs": [],
   "source": [
    "# Creating a new Forester object\n",
    "myForester = Forester()\n",
    "print(\n",
    "    f\"Files available in {myForester.directory}: {list(map(str,myForester.file_names))}\"\n",
    ")"
   ]
  },
  {
   "cell_type": "markdown",
   "id": "ece770db",
   "metadata": {},
   "source": [
    "Optionally, a custom path may be passed to the Forester object, In which case, the Forester will look for files in the passed directory instead"
   ]
  },
  {
   "cell_type": "code",
   "execution_count": null,
   "id": "d3d3873f",
   "metadata": {},
   "outputs": [],
   "source": [
    "# Passing a custom directory to the Forester object will change the directory attribute\n",
    "directory = \"/data/test/\"\n",
    "myForester = Forester(\"data/test/\")\n",
    "print(\n",
    "    f\"Files available in {myForester.directory}: {list(map(str,myForester.file_names))}\"\n",
    ")"
   ]
  },
  {
   "cell_type": "markdown",
   "id": "49ae18fe",
   "metadata": {},
   "source": [
    "The 'qsm_to_collection' function can be used create CylinderCollections from a specified file."
   ]
  },
  {
   "cell_type": "code",
   "execution_count": null,
   "id": "27e6af2a",
   "metadata": {},
   "outputs": [],
   "source": [
    "# Importing a QSM file as a CylinderCollection\n",
    "myForester = Forester(\"data/test/\")\n",
    "myForester.qsm_to_collection(\"5_SmallTree.csv\")\n",
    "\n",
    "cylCollections = myForester.cylinder_collections\n",
    "firstCollection = cylCollections[0]\n",
    "\n",
    "print(\n",
    "    f\"Forester has {len(cylCollections)} CylinderCollection, imported from {cylCollections[0].file_name}\"\n",
    ")"
   ]
  },
  {
   "cell_type": "markdown",
   "id": "ccd8c24b",
   "metadata": {},
   "source": [
    "If 'All' is provided as the file name, all of the files in the given directory will be read in as CylinderCollections. \\\n",
    "(Note that this may require a significant amount of memory.)"
   ]
  },
  {
   "cell_type": "code",
   "execution_count": null,
   "id": "984272e4",
   "metadata": {},
   "outputs": [],
   "source": [
    "# Reading in all files in the directory as collections\n",
    "myForester.qsm_to_collection(\"All\")\n",
    "cylCollections = myForester.cylinder_collections\n",
    "firstCollection = cylCollections[0]\n",
    "print(\n",
    "    f\"\"\"Forester created {len(cylCollections)} CylinderCollections, imported from the following files\n",
    "      {list(map(lambda x: x.file_name,cylCollections))}\"\"\"\n",
    ")"
   ]
  },
  {
   "cell_type": "code",
   "execution_count": null,
   "id": "22e005d3",
   "metadata": {},
   "outputs": [],
   "source": [
    "# Code stored here that may or may not be useful as scraps\n",
    "# Alternatively, the 'Forester' class can be used\n",
    "myForester = Forester()\n",
    "print(\n",
    "    f\"Files available in {myForester.directory}: {list(map(str,myForester.file_names))}\"\n",
    ")\n",
    "# Foresters can ...\n",
    "## ... use a custom directory\n",
    "myForester = Forester(\"data/test/\")\n",
    "print(\n",
    "    f\"Files available in {myForester.directory}: {list(map(str,myForester.file_names))}\"\n",
    ")\n",
    "## ... Read in single QSMs\n",
    "myForester.qsm_to_collection(\"5_SmallTree.csv\")\n",
    "print(f\"Forester has {len(myForester.cylinder_collections)} CylinderCollections\")\n",
    "# .. or read in all files in a directory\n",
    "myForester.qsm_to_collection(\"All\")\n",
    "print(\n",
    "    f\"\"\"Forester created {len(myForester.cylinder_collections)} CylinderCollections,\"\"\"\n",
    ")"
   ]
  },
  {
   "cell_type": "markdown",
   "id": "d283d9cd",
   "metadata": {},
   "source": [
    "Putting all that we have learned together, you can see that all of the statistics available through canoPyHydro can be generated with the below 10 lines of code"
   ]
  },
  {
   "cell_type": "code",
   "execution_count": null,
   "id": "7a310a9a",
   "metadata": {},
   "outputs": [],
   "source": [
    "forest = Forester(test_input_dir)\n",
    "forest.get_file_names()\n",
    "forest.qsm_to_collection(file_name=\"3_HappyPathWTrunk.csv\")\n",
    "collection = forest.cylinder_collections[0]\n",
    "collection.project_cylinders(\"XY\")\n",
    "collection.initialize_digraph_from(in_flow_grade_lim=-0.16)\n",
    "collection.find_flow_components()\n",
    "print(\"finished_find_flow_components\")\n",
    "collection.calculate_flows()\n",
    "pickle_collection(collection)"
   ]
  }
 ],
 "metadata": {
  "jupytext": {
   "formats": "ipynb,py:percent"
  },
  "kernelspec": {
   "display_name": "venv",
   "language": "python",
   "name": "python3"
  },
  "language_info": {
   "codemirror_mode": {
    "name": "ipython",
    "version": 3
   },
   "file_extension": ".py",
   "mimetype": "text/x-python",
   "name": "python",
   "nbconvert_exporter": "python",
   "pygments_lexer": "ipython3",
   "version": "3.10.12"
  }
 },
 "nbformat": 4,
 "nbformat_minor": 5
}
