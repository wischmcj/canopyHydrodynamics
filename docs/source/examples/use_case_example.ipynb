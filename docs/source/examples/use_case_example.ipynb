{
 "cells": [
  {
   "cell_type": "markdown",
   "metadata": {},
   "source": [
    "# Use Case Example #1"
   ]
  },
  {
   "cell_type": "markdown",
   "metadata": {},
   "source": [
    "## Setup\n",
    "\n",
    "In this example, we will show case \n"
   ]
  },
  {
   "cell_type": "markdown",
   "metadata": {},
   "source": []
  },
  {
   "cell_type": "code",
   "execution_count": null,
   "metadata": {},
   "outputs": [],
   "source": [
    "from canoPyHydro.CylinderCollection import CylinderCollection\n",
    "\n",
    "# Initializing a CylinderCollection object\n",
    "myCollection = CylinderCollection()\n",
    "\n",
    "# Converting a specified file to a CylinderCollection object\n",
    "myCollection.from_csv(\"example_tree.csv\")\n",
    "\n",
    "# Requesting an plot of the tree projected onto the XZ plane ('fromt' view)\n",
    "myCollection.project_cylinders(\"XZ\")\n",
    "myCollection.draw(\"XZ\")\n",
    "\n",
    "# Requesting an plot of the tree projected onto the YZ plane ('side' view)\n",
    "myCollection.project_cylinders(\"YZ\")\n",
    "myCollection.draw(\"YZ\")\n",
    "\n",
    "# Requesting an plot of the tree projected onto the XY plane (Birds eye view)\n",
    "myCollection.project_cylinders(\"XY\")\n",
    "myCollection.draw(\"XY\")"
   ]
  },
  {
   "cell_type": "code",
   "execution_count": 1,
   "metadata": {},
   "outputs": [
    {
     "ename": "ModuleNotFoundError",
     "evalue": "No module named 'src.canoPyHydro'",
     "output_type": "error",
     "traceback": [
      "\u001b[0;31m---------------------------------------------------------------------------\u001b[0m",
      "\u001b[0;31mModuleNotFoundError\u001b[0m                       Traceback (most recent call last)",
      "Cell \u001b[0;32mIn[1], line 2\u001b[0m\n\u001b[1;32m      1\u001b[0m \u001b[38;5;66;03m# Highlighting the stem flow component\u001b[39;00m\n\u001b[0;32m----> 2\u001b[0m \u001b[38;5;28;01mfrom\u001b[39;00m \u001b[38;5;21;01msrc\u001b[39;00m\u001b[38;5;21;01m.\u001b[39;00m\u001b[38;5;21;01mcanoPyHydro\u001b[39;00m\u001b[38;5;21;01m.\u001b[39;00m\u001b[38;5;21;01mCylinderCollection\u001b[39;00m \u001b[38;5;28;01mimport\u001b[39;00m CylinderCollection\n\u001b[1;32m      3\u001b[0m \u001b[38;5;28;01mfrom\u001b[39;00m \u001b[38;5;21;01mmatplotlib\u001b[39;00m \u001b[38;5;28;01mimport\u001b[39;00m pyplot \u001b[38;5;28;01mas\u001b[39;00m plt    \n\u001b[1;32m      5\u001b[0m \u001b[38;5;66;03m# Initializing a CylinderCollection object\u001b[39;00m\n",
      "\u001b[0;31mModuleNotFoundError\u001b[0m: No module named 'src.canoPyHydro'"
     ]
    }
   ],
   "source": [
    "# Finding and Highlighting the stem flow component\n",
    "from canopyhydro.CylinderCollection import CylinderCollection\n",
    "from matplotlib import pyplot as plt\n",
    "\n",
    "# Initializing a CylinderCollection object\n",
    "myCollection = CylinderCollection()\n",
    "\n",
    "# Converting a specified file to a CylinderCollection object\n",
    "myCollection.from_csv(\"example_tree.csv\")\n",
    "\n",
    "# Requesting an plot of the tree projected onto the XZ plane ('fromt' view)\n",
    "myCollection.project_cylinders(\"XY\")\n",
    "\n",
    "\n",
    "myCollection.initialize_digraph_from()\n",
    "myCollection.find_flow_components()\n",
    "myCollection.calculate_flows()\n",
    "\n",
    "\n",
    "myCollection.draw(\n",
    "    \"XY\", highlight_lambda=lambda: is_stem, save=True, file_name_ext=\"docs_ex\"\n",
    ")\n",
    "myCollection.draw(\n",
    "    \"XZ\", highlight_lambda=lambda: is_stem, save=True, file_name_ext=\"docs_ex\"\n",
    ")"
   ]
  },
  {
   "cell_type": "code",
   "execution_count": 7,
   "metadata": {},
   "outputs": [
    {
     "name": "stdout",
     "output_type": "stream",
     "text": [
      "Cylinder projection: 12.3\n"
     ]
    },
    {
     "ename": "KeyboardInterrupt",
     "evalue": "",
     "output_type": "error",
     "traceback": [
      "\u001b[0;31m---------------------------------------------------------------------------\u001b[0m",
      "\u001b[0;31mKeyboardInterrupt\u001b[0m                         Traceback (most recent call last)",
      "Cell \u001b[0;32mIn[7], line 15\u001b[0m\n\u001b[1;32m     12\u001b[0m myCollection\u001b[38;5;241m.\u001b[39mfrom_csv(\u001b[38;5;124m'\u001b[39m\u001b[38;5;124mexample_tree.csv\u001b[39m\u001b[38;5;124m'\u001b[39m)\n\u001b[1;32m     14\u001b[0m \u001b[38;5;66;03m# Requesting an plot of the tree projected onto the XZ plane ('front' view)\u001b[39;00m\n\u001b[0;32m---> 15\u001b[0m \u001b[43mmyCollection\u001b[49m\u001b[38;5;241;43m.\u001b[39;49m\u001b[43mproject_cylinders\u001b[49m\u001b[43m(\u001b[49m\u001b[38;5;124;43m'\u001b[39;49m\u001b[38;5;124;43mXY\u001b[39;49m\u001b[38;5;124;43m'\u001b[39;49m\u001b[43m)\u001b[49m\n\u001b[1;32m     16\u001b[0m fix, ax \u001b[38;5;241m=\u001b[39m plt\u001b[38;5;241m.\u001b[39msubplots(\u001b[38;5;241m4\u001b[39m,\u001b[38;5;241m1\u001b[39m, figsize\u001b[38;5;241m=\u001b[39m(\u001b[38;5;241m10\u001b[39m,\u001b[38;5;241m10\u001b[39m))\n\u001b[1;32m     17\u001b[0m ax[\u001b[38;5;241m0\u001b[39m] \u001b[38;5;241m=\u001b[39m myCollection\u001b[38;5;241m.\u001b[39mdraw(\u001b[38;5;124m'\u001b[39m\u001b[38;5;124mXZ\u001b[39m\u001b[38;5;124m'\u001b[39m, filter_lambda\u001b[38;5;241m=\u001b[39m\u001b[38;5;28;01mlambda\u001b[39;00m:branch_order\u001b[38;5;241m<\u001b[39m\u001b[38;5;241m=\u001b[39m\u001b[38;5;241m1\u001b[39m, highlight_lambda\u001b[38;5;241m=\u001b[39m\u001b[38;5;28;01mlambda\u001b[39;00m:branch_order\u001b[38;5;241m==\u001b[39m\u001b[38;5;241m1\u001b[39m, save \u001b[38;5;241m=\u001b[39m \u001b[38;5;28;01mTrue\u001b[39;00m, file_name_ext\u001b[38;5;241m=\u001b[39m\u001b[38;5;124m\"\u001b[39m\u001b[38;5;124m_bo_le_1\u001b[39m\u001b[38;5;124m\"\u001b[39m)\n",
      "File \u001b[0;32m/code/code/canopyHydrodynamics/src/canopyhydro/CylinderCollection.py:211\u001b[0m, in \u001b[0;36mCylinderCollection.project_cylinders\u001b[0;34m(self, plane)\u001b[0m\n\u001b[1;32m    209\u001b[0m log\u001b[38;5;241m.\u001b[39minfo(\u001b[38;5;124mf\u001b[39m\u001b[38;5;124m\"\u001b[39m\u001b[38;5;124mProjection into \u001b[39m\u001b[38;5;132;01m{\u001b[39;00mplane\u001b[38;5;132;01m}\u001b[39;00m\u001b[38;5;124m axis begun for file \u001b[39m\u001b[38;5;132;01m{\u001b[39;00m\u001b[38;5;28mself\u001b[39m\u001b[38;5;241m.\u001b[39mfile_name\u001b[38;5;132;01m}\u001b[39;00m\u001b[38;5;124m\"\u001b[39m)\n\u001b[1;32m    210\u001b[0m \u001b[38;5;28;01mfor\u001b[39;00m idx, cyl \u001b[38;5;129;01min\u001b[39;00m \u001b[38;5;28menumerate\u001b[39m(\u001b[38;5;28mself\u001b[39m\u001b[38;5;241m.\u001b[39mcylinders):\n\u001b[0;32m--> 211\u001b[0m     poly \u001b[38;5;241m=\u001b[39m \u001b[43mcyl\u001b[49m\u001b[38;5;241;43m.\u001b[39;49m\u001b[43mget_projection\u001b[49m\u001b[43m(\u001b[49m\u001b[43mplane\u001b[49m\u001b[43m)\u001b[49m\n\u001b[1;32m    212\u001b[0m     polys\u001b[38;5;241m.\u001b[39mappend(poly)\n\u001b[1;32m    213\u001b[0m     \u001b[38;5;66;03m# print a progress update once every 10 thousand or so cylinders\u001b[39;00m\n",
      "File \u001b[0;32m/code/code/canopyHydrodynamics/venv/lib/python3.10/site-packages/canopyhydro/Cylinder.py:170\u001b[0m, in \u001b[0;36mCylinder.get_projection\u001b[0;34m(self, plane)\u001b[0m\n\u001b[1;32m    166\u001b[0m     ranges \u001b[38;5;241m=\u001b[39m [\u001b[38;5;28mself\u001b[39m\u001b[38;5;241m.\u001b[39my, \u001b[38;5;28mself\u001b[39m\u001b[38;5;241m.\u001b[39mz, \u001b[38;5;28mself\u001b[39m\u001b[38;5;241m.\u001b[39mx]\n\u001b[1;32m    168\u001b[0m vector \u001b[38;5;241m=\u001b[39m \u001b[38;5;28mlist\u001b[39m(\u001b[38;5;28mmap\u001b[39m(np\u001b[38;5;241m.\u001b[39mtranspose, ranges))\n\u001b[0;32m--> 170\u001b[0m projection \u001b[38;5;241m=\u001b[39m \u001b[43mget_projection\u001b[49m\u001b[43m(\u001b[49m\u001b[43mvector\u001b[49m\u001b[43m,\u001b[49m\u001b[43m \u001b[49m\u001b[43mmagnitude\u001b[49m\u001b[43m,\u001b[49m\u001b[43m \u001b[49m\u001b[38;5;28;43mself\u001b[39;49m\u001b[38;5;241;43m.\u001b[39;49m\u001b[43mradius\u001b[49m\u001b[43m)\u001b[49m\n\u001b[1;32m    171\u001b[0m \u001b[38;5;28mself\u001b[39m\u001b[38;5;241m.\u001b[39mprojected_data[plane] \u001b[38;5;241m=\u001b[39m projection\n\u001b[1;32m    172\u001b[0m \u001b[38;5;28;01mif\u001b[39;00m plane \u001b[38;5;241m==\u001b[39m \u001b[38;5;124m\"\u001b[39m\u001b[38;5;124mXY\u001b[39m\u001b[38;5;124m\"\u001b[39m:\n",
      "File \u001b[0;32m/code/code/canopyHydrodynamics/venv/lib/python3.10/site-packages/canopyhydro/geometry.py:318\u001b[0m, in \u001b[0;36mget_projection\u001b[0;34m(vector, magnitude, radius)\u001b[0m\n\u001b[1;32m    315\u001b[0m     \u001b[38;5;66;03m# coord_list.extend(c1c)\u001b[39;00m\n\u001b[1;32m    316\u001b[0m     \u001b[38;5;66;03m# coord_list.extend(c2c)\u001b[39;00m\n\u001b[1;32m    317\u001b[0m     c1 \u001b[38;5;241m=\u001b[39m Polygon(c1c)\n\u001b[0;32m--> 318\u001b[0m     c2 \u001b[38;5;241m=\u001b[39m \u001b[43mPolygon\u001b[49m\u001b[43m(\u001b[49m\u001b[43mc2c\u001b[49m\u001b[43m)\u001b[49m\n\u001b[1;32m    319\u001b[0m \u001b[38;5;28;01mexcept\u001b[39;00m \u001b[38;5;167;01mException\u001b[39;00m \u001b[38;5;28;01mas\u001b[39;00m e:\n\u001b[1;32m    320\u001b[0m     log\u001b[38;5;241m.\u001b[39merror(\n\u001b[1;32m    321\u001b[0m         \u001b[38;5;124mf\u001b[39m\u001b[38;5;124m\"\u001b[39m\u001b[38;5;124mError creating circular portions of the projections \u001b[39m\u001b[38;5;132;01m{\u001b[39;00me\u001b[38;5;132;01m}\u001b[39;00m\u001b[38;5;124m\"\u001b[39m\n\u001b[1;32m    322\u001b[0m     )\n",
      "File \u001b[0;32m/code/code/canopyHydrodynamics/venv/lib/python3.10/site-packages/shapely/geometry/polygon.py:239\u001b[0m, in \u001b[0;36mPolygon.__new__\u001b[0;34m(self, shell, holes)\u001b[0m\n\u001b[1;32m    236\u001b[0m     \u001b[38;5;28;01melse\u001b[39;00m:\n\u001b[1;32m    237\u001b[0m         holes \u001b[38;5;241m=\u001b[39m [LinearRing(ring) \u001b[38;5;28;01mfor\u001b[39;00m ring \u001b[38;5;129;01min\u001b[39;00m holes]\n\u001b[0;32m--> 239\u001b[0m geom \u001b[38;5;241m=\u001b[39m \u001b[43mshapely\u001b[49m\u001b[38;5;241;43m.\u001b[39;49m\u001b[43mpolygons\u001b[49m\u001b[43m(\u001b[49m\u001b[43mshell\u001b[49m\u001b[43m,\u001b[49m\u001b[43m \u001b[49m\u001b[43mholes\u001b[49m\u001b[38;5;241;43m=\u001b[39;49m\u001b[43mholes\u001b[49m\u001b[43m)\u001b[49m\n\u001b[1;32m    240\u001b[0m \u001b[38;5;28;01mif\u001b[39;00m \u001b[38;5;129;01mnot\u001b[39;00m \u001b[38;5;28misinstance\u001b[39m(geom, Polygon):\n\u001b[1;32m    241\u001b[0m     \u001b[38;5;28;01mraise\u001b[39;00m \u001b[38;5;167;01mValueError\u001b[39;00m(\u001b[38;5;124m\"\u001b[39m\u001b[38;5;124mInvalid values passed to Polygon constructor\u001b[39m\u001b[38;5;124m\"\u001b[39m)\n",
      "File \u001b[0;32m/code/code/canopyHydrodynamics/venv/lib/python3.10/site-packages/shapely/decorators.py:77\u001b[0m, in \u001b[0;36mmultithreading_enabled.<locals>.wrapped\u001b[0;34m(*args, **kwargs)\u001b[0m\n\u001b[1;32m     75\u001b[0m     \u001b[38;5;28;01mfor\u001b[39;00m arr \u001b[38;5;129;01min\u001b[39;00m array_args:\n\u001b[1;32m     76\u001b[0m         arr\u001b[38;5;241m.\u001b[39mflags\u001b[38;5;241m.\u001b[39mwriteable \u001b[38;5;241m=\u001b[39m \u001b[38;5;28;01mFalse\u001b[39;00m\n\u001b[0;32m---> 77\u001b[0m     \u001b[38;5;28;01mreturn\u001b[39;00m \u001b[43mfunc\u001b[49m\u001b[43m(\u001b[49m\u001b[38;5;241;43m*\u001b[39;49m\u001b[43margs\u001b[49m\u001b[43m,\u001b[49m\u001b[43m \u001b[49m\u001b[38;5;241;43m*\u001b[39;49m\u001b[38;5;241;43m*\u001b[39;49m\u001b[43mkwargs\u001b[49m\u001b[43m)\u001b[49m\n\u001b[1;32m     78\u001b[0m \u001b[38;5;28;01mfinally\u001b[39;00m:\n\u001b[1;32m     79\u001b[0m     \u001b[38;5;28;01mfor\u001b[39;00m arr, old_flag \u001b[38;5;129;01min\u001b[39;00m \u001b[38;5;28mzip\u001b[39m(array_args, old_flags):\n",
      "File \u001b[0;32m/code/code/canopyHydrodynamics/venv/lib/python3.10/site-packages/shapely/creation.py:265\u001b[0m, in \u001b[0;36mpolygons\u001b[0;34m(geometries, holes, indices, out, **kwargs)\u001b[0m\n\u001b[1;32m    262\u001b[0m     \u001b[38;5;28;01mif\u001b[39;00m np\u001b[38;5;241m.\u001b[39missubdtype(holes\u001b[38;5;241m.\u001b[39mdtype, np\u001b[38;5;241m.\u001b[39mnumber):\n\u001b[1;32m    263\u001b[0m         holes \u001b[38;5;241m=\u001b[39m linearrings(holes)\n\u001b[0;32m--> 265\u001b[0m \u001b[38;5;28;01mreturn\u001b[39;00m \u001b[43mlib\u001b[49m\u001b[38;5;241;43m.\u001b[39;49m\u001b[43mpolygons\u001b[49m\u001b[43m(\u001b[49m\u001b[43mgeometries\u001b[49m\u001b[43m,\u001b[49m\u001b[43m \u001b[49m\u001b[43mholes\u001b[49m\u001b[43m,\u001b[49m\u001b[43m \u001b[49m\u001b[43mout\u001b[49m\u001b[38;5;241;43m=\u001b[39;49m\u001b[43mout\u001b[49m\u001b[43m,\u001b[49m\u001b[43m \u001b[49m\u001b[38;5;241;43m*\u001b[39;49m\u001b[38;5;241;43m*\u001b[39;49m\u001b[43mkwargs\u001b[49m\u001b[43m)\u001b[49m\n",
      "\u001b[0;31mKeyboardInterrupt\u001b[0m: "
     ]
    }
   ],
   "source": [
    "# Drawing various branch orders\n",
    "from matplotlib import pyplot as plt\n",
    "import os\n",
    "\n",
    "os.environ[\"CANOPYHYDRO_CONFIG\"] = \"./canopyhydro_config.toml\"\n",
    "from src.canopyhydro.CylinderCollection import CylinderCollection\n",
    "\n",
    "# Initializing a CylinderCollection object\n",
    "myCollection = CylinderCollection()\n",
    "\n",
    "# Converting a specified file to a Cyl0nderCollection object\n",
    "myCollection.from_csv(\"example_tree.csv\")\n",
    "\n",
    "# Requesting an plot of the tree projected onto the XZ plane ('fromt' view)\n",
    "myCollection.project_cylinders(\"XY\")\n",
    "fix, ax = plt.subplots(4, 1, figsize=(10, 10))\n",
    "ax[0] = myCollection.draw(\n",
    "    \"XZ\",\n",
    "    filter_lambda=lambda: branch_order <= 1,\n",
    "    highlight_lambda=lambda: branch_order == 1,\n",
    "    save=True,\n",
    "    file_name_ext=\"_bo_le_1\",\n",
    ")\n",
    "ax[1] = myCollection.draw(\n",
    "    \"XZ\",\n",
    "    filter_lambda=lambda: branch_order <= 2,\n",
    "    highlight_lambda=lambda: branch_order == 2,\n",
    "    save=True,\n",
    "    file_name_ext=\"_bo_le_2\",\n",
    ")\n",
    "ax[2] = myCollection.draw(\n",
    "    \"XZ\",\n",
    "    filter_lambda=lambda: branch_order <= 3,\n",
    "    highlight_lambda=lambda: branch_order == 3,\n",
    "    save=True,\n",
    "    file_name_ext=\"_bo_le_3\",\n",
    ")\n",
    "ax[3] = myCollection.draw(\n",
    "    \"XZ\",\n",
    "    filter_lambda=lambda: branch_order <= 4,\n",
    "    highlight_lambda=lambda: branch_order == 4,\n",
    "    save=True,\n",
    "    file_name_ext=\"_bo_le_4\",\n",
    ")\n",
    "plt.show()"
   ]
  }
 ],
 "metadata": {
  "kernelspec": {
   "display_name": "venv",
   "language": "python",
   "name": "python3"
  },
  "language_info": {
   "codemirror_mode": {
    "name": "ipython",
    "version": 3
   },
   "file_extension": ".py",
   "mimetype": "text/x-python",
   "name": "python",
   "nbconvert_exporter": "python",
   "pygments_lexer": "ipython3",
   "version": "3.10.12"
  }
 },
 "nbformat": 4,
 "nbformat_minor": 2
}
