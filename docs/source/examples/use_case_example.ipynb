{
 "cells": [
  {
   "cell_type": "markdown",
   "metadata": {},
   "source": [
    "# Use Case Example #1"
   ]
  },
  {
   "cell_type": "markdown",
   "metadata": {},
   "source": [
    "## Setup\n",
    "\n",
    "In this example, we will show case \n"
   ]
  },
  {
   "cell_type": "markdown",
   "metadata": {},
   "source": []
  },
  {
   "cell_type": "code",
   "execution_count": null,
   "metadata": {},
   "outputs": [],
   "source": [
    "from canoPyHydro.CylinderCollection import CylinderCollection\n",
    "\n",
    "# Initializing a CylinderCollection object\n",
    "myCollection = CylinderCollection()\n",
    "\n",
    "# Converting a specified file to a CylinderCollection object\n",
    "myCollection.from_csv(\"example_tree.csv\")\n",
    "\n",
    "# Requesting an plot of the tree projected onto the XZ plane ('fromt' view)\n",
    "myCollection.project_cylinders(\"XZ\")\n",
    "myCollection.draw(\"XZ\")\n",
    "\n",
    "# Requesting an plot of the tree projected onto the YZ plane ('side' view)\n",
    "myCollection.project_cylinders(\"YZ\")\n",
    "myCollection.draw(\"YZ\")\n",
    "\n",
    "# Requesting an plot of the tree projected onto the XY plane (Birds eye view)\n",
    "myCollection.project_cylinders(\"XY\")\n",
    "myCollection.draw(\"XY\")"
   ]
  },
  {
   "cell_type": "code",
   "execution_count": null,
   "metadata": {},
   "outputs": [],
   "source": [
    "# Finding and Highlighting the stem flow component\n",
    "import os\n",
    "os.environ[\"CANOPYHYDRO_CONFIG\"] = \"./canopyhydro_config.toml\"\n",
    "from src.canopyhydro.CylinderCollection import CylinderCollection\n",
    "from matplotlib import pyplot as plt\n",
    "\n",
    "# Initializing a CylinderCollection object\n",
    "myCollection = CylinderCollection()\n",
    "\n",
    "# Converting a specified file to a CylinderCollection object\n",
    "myCollection.from_csv(\"example_tree.csv\")\n",
    "\n",
    "# Requesting an plot of the tree projected onto the XZ plane ('fromt' view)\n",
    "myCollection.project_cylinders(\"XY\")\n",
    "\n",
    "\n",
    "myCollection.initialize_digraph_from()\n",
    "myCollection.find_flow_components()\n",
    "myCollection.calculate_flows()\n",
    "\n",
    "\n",
    "myCollection.draw(\n",
    "    \"XY\", highlight_lambda=lambda: is_stem, save=True, file_name_ext=\"docs_ex\"\n",
    ")\n",
    "myCollection.draw(\n",
    "    \"XZ\", highlight_lambda=lambda: is_stem, save=True, file_name_ext=\"docs_ex\"\n",
    ")"
   ]
  },
  {
   "cell_type": "code",
   "execution_count": null,
   "metadata": {},
   "outputs": [],
   "source": [
    "myCollection.watershed_boundary(plane='XY' ,draw=True, stem=True, save=True, file_name_ext=\"docs_ex\")"
   ]
  },
  {
   "cell_type": "code",
   "execution_count": null,
   "metadata": {},
   "outputs": [],
   "source": [
    "# Finding and Highlighting the stem flow component\n",
    "import os\n",
    "os.environ[\"CANOPYHYDRO_CONFIG\"] = \"./canopyhydro_config.toml\"\n",
    "from src.canopyhydro.CylinderCollection import CylinderCollection\n",
    "from matplotlib import pyplot as plt\n",
    "\n",
    "# Initializing a CylinderCollection object\n",
    "myCollection = CylinderCollection()\n",
    "\n",
    "# Converting a specified file to a CylinderCollection object\n",
    "myCollection.from_csv(\"example_tree.csv\")\n",
    "\n",
    "# Requesting an plot of the tree projected onto the XZ plane ('fromt' view)\n",
    "myCollection.project_cylinders(\"XY\")\n",
    "\n",
    "\n",
    "myCollection.initialize_digraph_from()\n",
    "myCollection.find_flow_components()\n",
    "myCollection.calculate_flows()\n",
    "myCollection.watershed_boundary(\n",
    "                component=myCollection.stem_flow_component,\n",
    "                plane='XY',\n",
    "                draw=True,\n",
    "                stem=True,\n",
    "                save=True, file_name_ext=\"stem_alpha\")"
   ]
  },
  {
   "cell_type": "code",
   "execution_count": null,
   "metadata": {},
   "outputs": [],
   "source": [
    "# Drawing various branch orders\n",
    "from matplotlib import pyplot as plt\n",
    "import os\n",
    "\n",
    "os.environ[\"CANOPYHYDRO_CONFIG\"] = \"./canopyhydro_config.toml\"\n",
    "from src.canopyhydro.CylinderCollection import CylinderCollection\n",
    "\n",
    "# Initializing a CylinderCollection object\n",
    "myCollection = CylinderCollection()\n",
    "\n",
    "# Converting a specified file to a Cyl0nderCollection object\n",
    "myCollection.from_csv(\"example_tree.csv\")\n",
    "\n",
    "# Requesting an plot of the tree projected onto the XZ plane ('fromt' view)\n",
    "myCollection.project_cylinders(\"XY\")\n",
    "fix, ax = plt.subplots(4, 1, figsize=(10, 10))\n",
    "myCollection.draw(\"XZ\",filter_lambda=lambda: branch_order <= 1,highlight_lambda=lambda: branch_order == 1,save=True,file_name_ext=\"_bo_le_1\",\n",
    ")\n",
    "ax[1] = myCollection.draw(\n",
    "    \"XZ\",\n",
    "    filter_lambda=lambda: branch_order <= 2,\n",
    "    highlight_lambda=lambda: branch_order == 2,\n",
    "    save=True,\n",
    "    file_name_ext=\"_bo_le_2\",\n",
    ")\n",
    "ax[2] = myCollection.draw(\n",
    "    \"XZ\",\n",
    "    filter_lambda=lambda: branch_order <= 3,\n",
    "    highlight_lambda=lambda: branch_order == 3,\n",
    "    save=True,\n",
    "    file_name_ext=\"_bo_le_3\",\n",
    ")\n",
    "ax[3] = myCollection.draw(\n",
    "    \"XZ\",\n",
    "    filter_lambda=lambda: branch_order <= 4,\n",
    "    highlight_lambda=lambda: branch_order == 4,\n",
    "    save=True,\n",
    "    file_name_ext=\"_bo_le_4\",\n",
    ")\n",
    "plt.show()"
   ]
  },
  {
   "cell_type": "code",
   "execution_count": 1,
   "metadata": {},
   "outputs": [
    {
     "name": "stderr",
     "output_type": "stream",
     "text": [
      "Graph not initialized, running initialize_graph_from with default values\n"
     ]
    },
    {
     "name": "stdout",
     "output_type": "stream",
     "text": [
      "will draw 23 cylinders\n"
     ]
    },
    {
     "ename": "AttributeError",
     "evalue": "'GeometryCollection' object has no attribute 'exterior'",
     "output_type": "error",
     "traceback": [
      "\u001b[0;31m---------------------------------------------------------------------------\u001b[0m",
      "\u001b[0;31mAttributeError\u001b[0m                            Traceback (most recent call last)",
      "Cell \u001b[0;32mIn[1], line 21\u001b[0m\n\u001b[1;32m     18\u001b[0m \u001b[38;5;66;03m# # myCollection.draw(\"XY\", include_alpha_shape=True)\u001b[39;00m\n\u001b[1;32m     19\u001b[0m myCollection\u001b[38;5;241m.\u001b[39mwatershed_boundary(curvature_alpha\u001b[38;5;241m=\u001b[39m \u001b[38;5;241m1.8\u001b[39m) \u001b[38;5;66;03m#, filter_lambda=lambda: branch_order <= 1)\u001b[39;00m\n\u001b[0;32m---> 21\u001b[0m \u001b[43mmyCollection\u001b[49m\u001b[38;5;241;43m.\u001b[39;49m\u001b[43mdraw\u001b[49m\u001b[43m(\u001b[49m\u001b[38;5;124;43m\"\u001b[39;49m\u001b[38;5;124;43mXZ\u001b[39;49m\u001b[38;5;124;43m\"\u001b[39;49m\u001b[43m,\u001b[49m\u001b[43m \u001b[49m\u001b[43minclude_alpha_shape\u001b[49m\u001b[38;5;241;43m=\u001b[39;49m\u001b[38;5;28;43;01mTrue\u001b[39;49;00m\u001b[43m,\u001b[49m\u001b[43m \u001b[49m\u001b[43msave\u001b[49m\u001b[38;5;241;43m=\u001b[39;49m\u001b[38;5;28;43;01mTrue\u001b[39;49;00m\u001b[43m,\u001b[49m\u001b[43m \u001b[49m\u001b[43mfile_name_ext\u001b[49m\u001b[38;5;241;43m=\u001b[39;49m\u001b[38;5;124;43m\"\u001b[39;49m\u001b[38;5;124;43mhull_tutorial\u001b[39;49m\u001b[38;5;124;43m\"\u001b[39;49m\u001b[43m)\u001b[49m\n",
      "File \u001b[0;32m/code/code/canopyHydrodynamics/src/canopyhydro/CylinderCollection.py:318\u001b[0m, in \u001b[0;36mCylinderCollection.draw\u001b[0;34m(self, plane, highlight_lambda, filter_lambda, as_vectors, include_alpha_shape, overlay_transparency, file_name_ext, **kwargs)\u001b[0m\n\u001b[1;32m    315\u001b[0m             \u001b[38;5;28mself\u001b[39m\u001b[38;5;241m.\u001b[39mwatershed_boundary(plane\u001b[38;5;241m=\u001b[39mplane)\n\u001b[1;32m    316\u001b[0m         overlay \u001b[38;5;241m=\u001b[39m \u001b[38;5;28mself\u001b[39m\u001b[38;5;241m.\u001b[39mhulls[\u001b[38;5;124m'\u001b[39m\u001b[38;5;124mplane\u001b[39m\u001b[38;5;124m'\u001b[39m]\n\u001b[0;32m--> 318\u001b[0m     fig \u001b[38;5;241m=\u001b[39m \u001b[43mdraw_cyls\u001b[49m\u001b[43m(\u001b[49m\n\u001b[1;32m    319\u001b[0m \u001b[43m        \u001b[49m\u001b[43mcollection\u001b[49m\u001b[38;5;241;43m=\u001b[39;49m\u001b[43mto_draw\u001b[49m\u001b[43m,\u001b[49m\n\u001b[1;32m    320\u001b[0m \u001b[43m        \u001b[49m\u001b[43mcolors\u001b[49m\u001b[38;5;241;43m=\u001b[39;49m\u001b[43mmatches\u001b[49m\u001b[43m,\u001b[49m\u001b[43m \u001b[49m\n\u001b[1;32m    321\u001b[0m \u001b[43m        \u001b[49m\u001b[43mfile_name_ext\u001b[49m\u001b[38;5;241;43m=\u001b[39;49m\u001b[43mfile_name\u001b[49m\u001b[43m,\u001b[49m\u001b[43m \u001b[49m\n\u001b[1;32m    322\u001b[0m \u001b[43m        \u001b[49m\u001b[43moverlay\u001b[49m\u001b[43m \u001b[49m\u001b[38;5;241;43m=\u001b[39;49m\u001b[43m \u001b[49m\u001b[43moverlay\u001b[49m\u001b[43m,\u001b[49m\n\u001b[1;32m    323\u001b[0m \u001b[43m        \u001b[49m\u001b[43moverlay_transparency\u001b[49m\u001b[38;5;241;43m=\u001b[39;49m\u001b[43moverlay_transparency\u001b[49m\u001b[43m,\u001b[49m\n\u001b[1;32m    324\u001b[0m \u001b[43m        \u001b[49m\u001b[38;5;241;43m*\u001b[39;49m\u001b[38;5;241;43m*\u001b[39;49m\u001b[43mkwargs\u001b[49m\n\u001b[1;32m    325\u001b[0m \u001b[43m    \u001b[49m\u001b[43m)\u001b[49m\n\u001b[1;32m    327\u001b[0m \u001b[38;5;66;03m# if include_drips:\u001b[39;00m\n\u001b[1;32m    328\u001b[0m \u001b[38;5;66;03m#     self.drip_map()\u001b[39;00m\n\u001b[1;32m    329\u001b[0m \u001b[38;5;66;03m# if include_contour:\u001b[39;00m\n\u001b[1;32m    330\u001b[0m \u001b[38;5;66;03m#     self.drip_map()\u001b[39;00m\n\u001b[1;32m    331\u001b[0m \u001b[38;5;66;03m# if include_alpha_shape:\u001b[39;00m\n\u001b[1;32m    332\u001b[0m \u001b[38;5;66;03m#     self.watershed_boundary()\u001b[39;00m\n\u001b[1;32m    333\u001b[0m \u001b[38;5;28;01mreturn\u001b[39;00m fig\n",
      "File \u001b[0;32m/code/code/canopyHydrodynamics/src/canopyhydro/geometry.py:550\u001b[0m, in \u001b[0;36mdraw_cyls\u001b[0;34m(collection, colors, save, file_name_ext, overlay, overlay_transparency, show)\u001b[0m\n\u001b[1;32m    548\u001b[0m \u001b[38;5;28;01mif\u001b[39;00m overlay:\n\u001b[1;32m    549\u001b[0m     \u001b[38;5;28;01mif\u001b[39;00m \u001b[38;5;28misinstance\u001b[39m(overlay, Polygon):\n\u001b[0;32m--> 550\u001b[0m         \u001b[43mpolygon_plot\u001b[49m\u001b[43m(\u001b[49m\u001b[43max\u001b[49m\u001b[43m,\u001b[49m\u001b[43m \u001b[49m\u001b[43moverlay\u001b[49m\u001b[43m,\u001b[49m\u001b[43m \u001b[49m\u001b[43mfacecolor\u001b[49m\u001b[38;5;241;43m=\u001b[39;49m\u001b[38;5;124;43m\"\u001b[39;49m\u001b[38;5;124;43mgrey\u001b[39;49m\u001b[38;5;124;43m\"\u001b[39;49m\u001b[43m,\u001b[49m\u001b[43m \u001b[49m\u001b[43malpha\u001b[49m\u001b[38;5;241;43m=\u001b[39;49m\u001b[43moverlay_transparency\u001b[49m\u001b[43m)\u001b[49m\n\u001b[1;32m    551\u001b[0m \u001b[38;5;28;01mif\u001b[39;00m show:\n\u001b[1;32m    552\u001b[0m     plt\u001b[38;5;241m.\u001b[39mshow()\n",
      "File \u001b[0;32m/code/code/canopyHydrodynamics/src/canopyhydro/geometry.py:40\u001b[0m, in \u001b[0;36mpolygon_plot\u001b[0;34m(ax, polys, **kwargs)\u001b[0m\n\u001b[1;32m     36\u001b[0m to_draw \u001b[38;5;241m=\u001b[39m unary_union(polys)\n\u001b[1;32m     37\u001b[0m kwargs[\u001b[38;5;124m\"\u001b[39m\u001b[38;5;124mfacecolor\u001b[39m\u001b[38;5;124m\"\u001b[39m] \u001b[38;5;241m=\u001b[39m to_rgba(color)\n\u001b[1;32m     39\u001b[0m path \u001b[38;5;241m=\u001b[39m Path\u001b[38;5;241m.\u001b[39mmake_compound_path(\n\u001b[0;32m---> 40\u001b[0m     Path(np\u001b[38;5;241m.\u001b[39masarray(\u001b[43mto_draw\u001b[49m\u001b[38;5;241;43m.\u001b[39;49m\u001b[43mexterior\u001b[49m\u001b[38;5;241m.\u001b[39mcoords)[:, :\u001b[38;5;241m2\u001b[39m]),\n\u001b[1;32m     41\u001b[0m     \u001b[38;5;241m*\u001b[39m[Path(np\u001b[38;5;241m.\u001b[39masarray(ring\u001b[38;5;241m.\u001b[39mcoords)[:, :\u001b[38;5;241m2\u001b[39m]) \u001b[38;5;28;01mfor\u001b[39;00m ring \u001b[38;5;129;01min\u001b[39;00m to_draw\u001b[38;5;241m.\u001b[39minteriors])\n\u001b[1;32m     43\u001b[0m patch \u001b[38;5;241m=\u001b[39m PathPatch(path, \u001b[38;5;241m*\u001b[39m\u001b[38;5;241m*\u001b[39mkwargs)\n\u001b[1;32m     44\u001b[0m collection \u001b[38;5;241m=\u001b[39m PatchCollection([patch], \u001b[38;5;241m*\u001b[39m\u001b[38;5;241m*\u001b[39mkwargs)\n",
      "\u001b[0;31mAttributeError\u001b[0m: 'GeometryCollection' object has no attribute 'exterior'"
     ]
    },
    {
     "data": {
      "image/png": "[encoded data removed]",
      "text/plain": [
       "<Figure size 640x480 with 1 Axes>"
      ]
     },
     "metadata": {},
     "output_type": "display_data"
    }
   ],
   "source": [
    "# Drawing various branch orders\n",
    "from matplotlib import pyplot as plt\n",
    "import os\n",
    "\n",
    "os.environ[\"CANOPYHYDRO_CONFIG\"] = \"./canopyhydro_config.toml\"\n",
    "from src.canopyhydro.CylinderCollection import CylinderCollection\n",
    "\n",
    "# # Initializing a CylinderCollection object\n",
    "myCollection = CylinderCollection()\n",
    "\n",
    "# # Converting a specified file to a Cyl0nderCollection object\n",
    "# # myCollection.from_csv(\"example_tree.csv\")\n",
    "myCollection.from_csv(\"charlie_brown.csv\")\n",
    "\n",
    "# # Requesting an plot of the tree projected onto the XZ plane ('fromt' view)\n",
    "myCollection.project_cylinders(\"XY\")\n",
    "\n",
    "# # myCollection.draw(\"XY\", include_alpha_shape=True)\n",
    "myCollection.watershed_boundary(plane = 'XY', curvature_alpha= 1.8) #, filter_lambda=lambda: branch_order <= 1)\n",
    "\n",
    "myCollection.draw(\"XY\", include_alpha_shape=True, save=True, file_name_ext=\"hull_tutorial\")"
   ]
  },
  {
   "cell_type": "code",
   "execution_count": 1,
   "metadata": {},
   "outputs": [
    {
     "ename": "NameError",
     "evalue": "name 'myCollection' is not defined",
     "output_type": "error",
     "traceback": [
      "\u001b[0;31m---------------------------------------------------------------------------\u001b[0m",
      "\u001b[0;31mNameError\u001b[0m                                 Traceback (most recent call last)",
      "Cell \u001b[0;32mIn[1], line 3\u001b[0m\n\u001b[1;32m      1\u001b[0m \u001b[38;5;66;03m# myCollection.draw(\"XY\", save=True, file_name_ext=\"hull_tutorial\")\u001b[39;00m\n\u001b[1;32m      2\u001b[0m \u001b[38;5;66;03m# myCollection.draw(\"XZ\", save=True, file_name_ext=\"hull_tutorial\")\u001b[39;00m\n\u001b[0;32m----> 3\u001b[0m \u001b[43mmyCollection\u001b[49m\u001b[38;5;241m.\u001b[39mwatershed_boundary(curvature_alpha\u001b[38;5;241m=\u001b[39m\u001b[38;5;241m3\u001b[39m)\n\u001b[1;32m      4\u001b[0m myCollection\u001b[38;5;241m.\u001b[39mdraw(\u001b[38;5;124m\"\u001b[39m\u001b[38;5;124mXY\u001b[39m\u001b[38;5;124m\"\u001b[39m, include_alpha_shape\u001b[38;5;241m=\u001b[39m\u001b[38;5;28;01mTrue\u001b[39;00m)\n",
      "\u001b[0;31mNameError\u001b[0m: name 'myCollection' is not defined"
     ]
    }
   ],
   "source": [
    "# myCollection.draw(\"XY\", save=True, file_name_ext=\"hull_tutorial\")\n",
    "# myCollection.draw(\"XZ\", save=True, file_name_ext=\"hull_tutorial\")\n",
    "myCollection.watershed_boundary(curvature_alpha=3)\n",
    "myCollection.draw(\"XY\", include_alpha_shape=True)"
   ]
  },
  {
   "cell_type": "code",
   "execution_count": 1,
   "metadata": {},
   "outputs": [
    {
     "name": "stderr",
     "output_type": "stream",
     "text": [
      "Graph not initialized, running initialize_graph_from with default values\n"
     ]
    },
    {
     "ename": "UnboundLocalError",
     "evalue": "local variable 'boundary_points' referenced before assignment",
     "output_type": "error",
     "traceback": [
      "\u001b[0;31m---------------------------------------------------------------------------\u001b[0m",
      "\u001b[0;31mUnboundLocalError\u001b[0m                         Traceback (most recent call last)",
      "Cell \u001b[0;32mIn[1], line 19\u001b[0m\n\u001b[1;32m     16\u001b[0m myCollection\u001b[38;5;241m.\u001b[39mproject_cylinders(\u001b[38;5;124m\"\u001b[39m\u001b[38;5;124mXZ\u001b[39m\u001b[38;5;124m\"\u001b[39m)\n\u001b[1;32m     18\u001b[0m \u001b[38;5;66;03m# # myCollection.draw(\"XY\", include_alpha_shape=True)\u001b[39;00m\n\u001b[0;32m---> 19\u001b[0m hull, bps \u001b[38;5;241m=\u001b[39m \u001b[43mmyCollection\u001b[49m\u001b[38;5;241;43m.\u001b[39;49m\u001b[43mwatershed_boundary\u001b[49m\u001b[43m(\u001b[49m\u001b[43mplane\u001b[49m\u001b[43m \u001b[49m\u001b[38;5;241;43m=\u001b[39;49m\u001b[43m \u001b[49m\u001b[38;5;124;43m'\u001b[39;49m\u001b[38;5;124;43mXZ\u001b[39;49m\u001b[38;5;124;43m'\u001b[39;49m\u001b[43m,\u001b[49m\u001b[43m \u001b[49m\u001b[43mcurvature_alpha\u001b[49m\u001b[38;5;241;43m=\u001b[39;49m\u001b[43m \u001b[49m\u001b[38;5;241;43m1.8\u001b[39;49m\u001b[43m)\u001b[49m\n\u001b[1;32m     20\u001b[0m myCollection\u001b[38;5;241m.\u001b[39mdraw(\u001b[38;5;124m\"\u001b[39m\u001b[38;5;124mXZ\u001b[39m\u001b[38;5;124m\"\u001b[39m, include_alpha_shape\u001b[38;5;241m=\u001b[39m\u001b[38;5;28;01mTrue\u001b[39;00m)\u001b[38;5;66;03m#, save=True, file_name_ext=\"hull_tutorial_ex_tree\")\u001b[39;00m\n\u001b[1;32m     21\u001b[0m plt\u001b[38;5;241m.\u001b[39mscatter([p\u001b[38;5;241m.\u001b[39mx \u001b[38;5;28;01mfor\u001b[39;00m p \u001b[38;5;129;01min\u001b[39;00m bps],[p\u001b[38;5;241m.\u001b[39my \u001b[38;5;28;01mfor\u001b[39;00m p \u001b[38;5;129;01min\u001b[39;00m bps])\n",
      "File \u001b[0;32m/code/code/canopyHydrodynamics/src/canopyhydro/CylinderCollection.py:460\u001b[0m, in \u001b[0;36mCylinderCollection.watershed_boundary\u001b[0;34m(self, plane, filter_lambda, curvature_alpha, draw, save, file_name_ext)\u001b[0m\n\u001b[1;32m    458\u001b[0m     comp_cylinders \u001b[38;5;241m=\u001b[39m [    cyl    \u001b[38;5;28;01mfor\u001b[39;00m cyl \u001b[38;5;129;01min\u001b[39;00m comp_cylinders \u001b[38;5;28;01mif\u001b[39;00m cyl\u001b[38;5;241m.\u001b[39mbranch_order \u001b[38;5;241m!=\u001b[39m \u001b[38;5;241m0\u001b[39m]\n\u001b[1;32m    459\u001b[0m     \u001b[38;5;28;01mfor\u001b[39;00m cyl \u001b[38;5;129;01min\u001b[39;00m comp_cylinders:\n\u001b[0;32m--> 460\u001b[0m         \u001b[43mboundary_points\u001b[49m\u001b[38;5;241m.\u001b[39mextend([(cyl\u001b[38;5;241m.\u001b[39mx[\u001b[38;5;241m0\u001b[39m], cyl\u001b[38;5;241m.\u001b[39my[\u001b[38;5;241m0\u001b[39m], cyl\u001b[38;5;241m.\u001b[39mz[\u001b[38;5;241m0\u001b[39m]) \n\u001b[1;32m    461\u001b[0m                                     \u001b[38;5;28;01mfor\u001b[39;00m cyl \u001b[38;5;129;01min\u001b[39;00m comp_cylinders])\n\u001b[1;32m    463\u001b[0m \u001b[38;5;28;01mfor\u001b[39;00m point \u001b[38;5;129;01min\u001b[39;00m boundary_points:   \n\u001b[1;32m    464\u001b[0m     x,y,z\u001b[38;5;241m=\u001b[39mpoint\n",
      "\u001b[0;31mUnboundLocalError\u001b[0m: local variable 'boundary_points' referenced before assignment"
     ]
    }
   ],
   "source": [
    "\n",
    "#from matplotlib import pyplot as plt\n",
    "import os\n",
    "from matplotlib import pyplot as plt\n",
    "\n",
    "os.environ[\"CANOPYHYDRO_CONFIG\"] = \"./canopyhydro_config.toml\"\n",
    "from src.canopyhydro.CylinderCollection import CylinderCollection\n",
    "\n",
    "# # Initializing a CylinderCollection object\n",
    "myCollection = CylinderCollection()\n",
    "\n",
    "# # Converting a specified file to a Cyl0nderCollection object\n",
    "# # myCollection.from_csv(\"example_tree.csv\")\n",
    "myCollection.from_csv(\"charlie_brown.csv\")\n",
    "\n",
    "# # Requesting an plot of the tree projected onto the XZ plane ('fromt' view)\n",
    "myCollection.project_cylinders(\"XZ\")\n",
    "\n",
    "# # myCollection.draw(\"XY\", include_alpha_shape=True)\n",
    "hull, bps = myCollection.watershed_boundary(plane = 'XZ', curvature_alpha= 1.8)\n",
    "myCollection.draw(\"XZ\", include_alpha_shape=True, include_drips=True)\n",
    "#, save=True, file_name_ext=\"hull_tutorial_ex_tree\")\n",
    "plt.show()\n",
    "\n",
    "myCollection.drip_map('XY')\n",
    "plt.scatter([p.x for p in bps],[p.y for p in bps])\n"
   ]
  },
  {
   "cell_type": "code",
   "execution_count": 12,
   "metadata": {},
   "outputs": [
    {
     "name": "stdout",
     "output_type": "stream",
     "text": [
      "['__and__', '__bool__', '__class__', '__delattr__', '__dir__', '__doc__', '__eq__', '__format__', '__ge__', '__geo_interface__', '__getattribute__', '__gt__', '__hash__', '__init__', '__init_subclass__', '__le__', '__lt__', '__module__', '__ne__', '__new__', '__nonzero__', '__or__', '__reduce__', '__reduce_ex__', '__repr__', '__setattr__', '__setstate__', '__sizeof__', '__slots__', '__str__', '__sub__', '__subclasshook__', '__xor__', '_geom', '_geom_prepared', '_ndim', '_repr_svg_', 'almost_equals', 'area', 'boundary', 'bounds', 'buffer', 'centroid', 'contains', 'contains_properly', 'convex_hull', 'coords', 'covered_by', 'covers', 'crosses', 'difference', 'disjoint', 'distance', 'dwithin', 'envelope', 'equals', 'equals_exact', 'geom_type', 'geometryType', 'has_z', 'hausdorff_distance', 'interpolate', 'intersection', 'intersects', 'is_closed', 'is_empty', 'is_ring', 'is_simple', 'is_valid', 'length', 'line_interpolate_point', 'line_locate_point', 'minimum_clearance', 'minimum_rotated_rectangle', 'normalize', 'oriented_envelope', 'overlaps', 'point_on_surface', 'project', 'relate', 'relate_pattern', 'representative_point', 'reverse', 'segmentize', 'simplify', 'svg', 'symmetric_difference', 'touches', 'type', 'union', 'within', 'wkb', 'wkb_hex', 'wkt', 'x', 'xy', 'y', 'z']\n"
     ]
    },
    {
     "data": {
      "text/plain": [
       "<matplotlib.collections.PathCollection at 0x774b823fd570>"
      ]
     },
     "execution_count": 12,
     "metadata": {},
     "output_type": "execute_result"
    },
    {
     "data": {
      "image/png": "[encoded data removed]",
      "text/plain": [
       "<Figure size 640x480 with 1 Axes>"
      ]
     },
     "metadata": {},
     "output_type": "display_data"
    }
   ],
   "source": [
    "print(dir(bps[0]))"
   ]
  },
  {
   "cell_type": "code",
   "execution_count": null,
   "metadata": {},
   "outputs": [],
   "source": [
    "\n",
    "import os\n",
    "from matplotlib import pyplot as plt\n",
    "\n",
    "os.environ[\"CANOPYHYDRO_CONFIG\"] = \"./canopyhydro_config.toml\"\n",
    "from src.canopyhydro.CylinderCollection import CylinderCollection\n",
    "\n",
    "# # Initializing a CylinderCollection object\n",
    "myCollection = CylinderCollection()\n",
    "\n",
    "# # Converting a specified file to a Cyl0nderCollection object\n",
    "myCollection.from_csv(\"example_tree.csv\")\n",
    "\n",
    "# # Requesting an plot of the tree projected onto the XZ plane ('fromt' view)\n",
    "myCollection.project_cylinders(\"XY\")\n",
    "\n",
    "# # myCollection.draw(\"XY\", include_alpha_shape=True)\n",
    "hull, bps = myCollection.watershed_boundary(plane = 'XZ', curvature_alpha= 1.8)\n",
    "myCollection.draw(\"XY\", include_alpha_shape=True, include_drips=True)\n",
    "#, save=True, file_name_ext=\"hull_tutorial_ex_tree\")\n",
    "plt.show()\n"
   ]
  }
 ],
 "metadata": {
  "kernelspec": {
   "display_name": "venv",
   "language": "python",
   "name": "python3"
  },
  "language_info": {
   "codemirror_mode": {
    "name": "ipython",
    "version": 3
   },
   "file_extension": ".py",
   "mimetype": "text/x-python",
   "name": "python",
   "nbconvert_exporter": "python",
   "pygments_lexer": "ipython3",
   "version": "3.10.12"
  }
 },
 "nbformat": 4,
 "nbformat_minor": 2
}
