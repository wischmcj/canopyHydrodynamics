{
 "cells": [
  {
   "cell_type": "markdown",
   "metadata": {
    "lines_to_next_cell": 0
   },
   "source": [
    "# Flow Identification"
   ]
  },
  {
   "cell_type": "code",
   "execution_count": null,
   "metadata": {},
   "outputs": [],
   "source": [
    "# For the purposes of this tutorial, we will turn off logging \n",
    "import logging\n",
    "import os\n",
    "logger = logging.getLogger()\n",
    "logger.setLevel(logging.CRITICAL)\n",
    "\n",
    "# Determines where configuration file is located\n",
    "# # file contains directory info and model input settings\n",
    "# config_file = os.environ[\n",
    "#     \"CANOPYHYDRO_CONFIG\"\n",
    "# ] = f\"{os.getcwd()}/canopyhydro_config.toml\"\n",
    "# log_config = os.environ[\"CANOPYHYDRO_LOG_CONFIG\"] = f\"{os.getcwd()}/logging_config.yml\""
   ]
  },
  {
   "cell_type": "markdown",
   "metadata": {},
   "source": [
    "## Graph Models"
   ]
  },
  {
   "cell_type": "markdown",
   "metadata": {},
   "source": [
    "\n",
    "CanoPyHydro estimates flow partitioning by enriching its cylinder data with a graph based model -  CylinderCollection.digraph. \\\n",
    "This graph representation simulates the tree's watershed and is used in tandem with a traversal algorithm to predict which percipitation partition each cylinder belongs to"
   ]
  },
  {
   "cell_type": "code",
   "execution_count": null,
   "metadata": {},
   "outputs": [],
   "source": [
    "# How Graphs are initialized\n",
    "\n",
    "import os\n",
    "\n",
    "os.environ[\"CANOPYHYDRO_CONFIG\"] = \"./canopyhydro_config.toml\"\n",
    "from canopyhydro.CylinderCollection import CylinderCollection\n",
    "\n",
    "# Initializing a CylinderCollection object\n",
    "myCollection = CylinderCollection()\n",
    "\n",
    "# Converting a specified file to a CylinderCollection object\n",
    "myCollection.from_csv(\"5_SmallTree.csv\")\n",
    "\n",
    "# Requesting an plot of the tree projected onto the XY plane (birds-eye view)\n",
    "myCollection.project_cylinders(\"XY\")\n",
    "\n",
    "# creating the digraph model\n",
    "myCollection.initialize_digraph_from()"
   ]
  },
  {
   "cell_type": "markdown",
   "metadata": {},
   "source": [
    "These graphs are instances of 'DiGraph' objects from the ['networkx' package](https://networkx.org/documentation/stable/reference/index.html). For more information regarding their capabilities, reffer to the afforementioned linked documentation."
   ]
  },
  {
   "cell_type": "markdown",
   "metadata": {},
   "source": [
    "For our purposes, you just need to know that the edges of these graphs correspond to the cylinders in a CylinderCollection. So, when the 'find_flow_components' function traverses a graph, it is akin to walking along the branches of the tree."
   ]
  },
  {
   "cell_type": "code",
   "execution_count": null,
   "metadata": {},
   "outputs": [],
   "source": [
    "# See how cylinder 0 (the base of the tree) correlates\n",
    "#  to edge 0 in our graph\n",
    "print(myCollection.graph.edges(1,data=True))\n",
    "print(myCollection.cylinders[1])"
   ]
  },
  {
   "cell_type": "markdown",
   "metadata": {},
   "source": [
    "Each of the edges in the graph, also have a direction, depending on their angle in space. In particular, each edge is directed in the direction in which intercepted water is presumed to flow. \n",
    "\n",
    "During traversal, each edge may only be traversed in the direction it has been assigned. For example, every cylinder in the stem is oriented towards its base so, just as is the case with water, the only direction in which we can traverse from trunk edge to trunk edge is downward."
   ]
  },
  {
   "cell_type": "code",
   "execution_count": null,
   "metadata": {},
   "outputs": [],
   "source": [
    "# Looking at the cylinders accessable from our stem cylinders (i.e. their neighbors)\n",
    "print('The following cylinders are accessable from cylinder 5: ')\n",
    "print([x for x in myCollection.graph.neighbors(5)])\n",
    "print('The following cylinders are accessable from cylinder 4: ')\n",
    "print([x for x in myCollection.graph.neighbors(4)])\n",
    "print('The following cylinders are accessable from cylinder 3: ')\n",
    "print([x for x in myCollection.graph.neighbors(3)])\n",
    "print('The following cylinders are accessable from cylinder 2: ')\n",
    "print([x for x in myCollection.graph.neighbors(2)])\n",
    "print('The following cylinders are accessable from cylinder 1: ')\n",
    "print([x for x in myCollection.graph.neighbors(1)])\n"
   ]
  },
  {
   "cell_type": "markdown",
   "metadata": {},
   "source": [
    "## Finding Flows"
   ]
  },
  {
   "cell_type": "markdown",
   "metadata": {},
   "source": [
    "This traversal (indeed much of anything at all to do with these graphs), is handled behind the scenes.\n",
    "\n",
    "The code below shows how a user can call 'find_flow_components' to trigger the use of the collections graph and therefore identify the paths water takes - the flows - in the tree canopy"
   ]
  },
  {
   "cell_type": "code",
   "execution_count": null,
   "metadata": {},
   "outputs": [],
   "source": [
    "# Finding the flows in the canopy\n",
    "\n",
    "import os\n",
    "\n",
    "os.environ[\"CANOPYHYDRO_CONFIG\"] = \"./canopyhydro_config.toml\"\n",
    "from canopyhydro.CylinderCollection import CylinderCollection\n",
    "\n",
    "# Initializing a CylinderCollection object\n",
    "myCollection = CylinderCollection()\n",
    "\n",
    "# Converting a specified file to a CylinderCollection object\n",
    "myCollection.from_csv(\"5_SmallTree.csv\")\n",
    "\n",
    "# Requesting an plot of the tree projected onto the XY plane (birds-eye view)\n",
    "myCollection.project_cylinders(\"XY\")\n",
    "\n",
    "# creating the digraph model\n",
    "myCollection.initialize_digraph_from()\n",
    "\n",
    "# Traversing the graph, determining the fate of the water\n",
    "# intercepted by each cylinder\n",
    "myCollection.find_flow_components()\n",
    "\n",
    "# For each of the possible destinations for said water,\n",
    "#   summing the volume, area, etc of the contributing cylinders \n",
    "myCollection.calculate_flows()\n"
   ]
  },
  {
   "cell_type": "markdown",
   "metadata": {},
   "source": [
    "To summarize the above:\n",
    " - We create a cylinder collection to hold the cylinders as well as ~1000 cylinders\\\n",
    " that belong to that collection (Each with a surface area, length, etc.),\n",
    " - For each Cylinder, we calculate the properties of its 'XY' projection\n",
    " - We initialize a graph (stored in myCollection.Graph) for traversal\n",
    " - We travers the graph, and determine where water intercepted by cylinders ends up\n",
    " - For each contiguous group of cylinders *(Called a 'flow')*, we sum the total surface area, volumne etc. of each \\\n",
    "     cylinder"
   ]
  },
  {
   "cell_type": "markdown",
   "metadata": {},
   "source": [
    "For more information on how the statistics calculated by 'calculate_flows' are used, see [statistics](statistics.ipynb)"
   ]
  },
  {
   "cell_type": "markdown",
   "metadata": {},
   "source": [
    "## Figures"
   ]
  },
  {
   "cell_type": "markdown",
   "metadata": {},
   "source": [
    "\n",
    "The usage of the 'watershed_boundary' function is coverd in the [Concave Hulls and Watersheds](watersheds.md) example doc, so we will not go too into depth on them here. \n",
    "\n",
    "Watershed boundaries can also be calculated for filtered sections of the tree in much of the same way. \\\n",
    "This is useful for creating figures and, perhaps more importantly, for generating statistics regarding the ground area covered by a tree's canopy"
   ]
  },
  {
   "cell_type": "code",
   "execution_count": null,
   "metadata": {},
   "outputs": [],
   "source": [
    "#Figures using 'is_stem'\n",
    "\n",
    "#plotting the entire watershed boundary\n",
    "whole_tree_hull,_ = myCollection.watershed_boundary(\n",
    "    plane=\"XY\",\n",
    "    curvature_alpha=0.15,\n",
    "    draw=True,\n",
    ")\n",
    "\n",
    "# plotting the whole tree boundary with the tree\n",
    "#   with stemflow branches highlighted\n",
    "myCollection.draw(\n",
    "    \"XY\",\n",
    "    include_alpha_shape=True\n",
    ")\n",
    "\n",
    "# plotting the boundary of the stemflow generating portion alone\n",
    "stem_flow_hull,_ = myCollection.watershed_boundary(\n",
    "    plane=\"XY\",\n",
    "    curvature_alpha=0.15,\n",
    "    filter_lambda=lambda: is_stem ,\n",
    "    draw=True,\n",
    ")\n",
    "# plotting the stemflow boundary with the tree\n",
    "#   with stemflow branches highlighted\n",
    "myCollection.draw(\n",
    "    \"XY\",\n",
    "    include_alpha_shape=True,\n",
    "    highlight_lambda=lambda: is_stem\n",
    ")\n",
    "\n"
   ]
  },
  {
   "cell_type": "markdown",
   "metadata": {},
   "source": [
    "Once flows have been found for a cylinderCollection, the draw funtion can also access the locations of the drip points and overlay them onto a figure"
   ]
  },
  {
   "cell_type": "code",
   "execution_count": null,
   "metadata": {},
   "outputs": [],
   "source": [
    "# Adding drip points to and XY view of myCollection\n",
    "myCollection.draw(\n",
    "    \"XY\",\n",
    "    highlight_lambda=lambda: is_stem,\n",
    "    include_drips=True,\n",
    ")\n",
    "# Adding drip points to the above mentioned plot\n",
    "myCollection.draw(\n",
    "    \"XY\",\n",
    "    include_alpha_shape=True,\n",
    "    highlight_lambda=lambda: is_stem,\n",
    "    filter_lambda=lambda: cyl_id > 100,\n",
    ")\n",
    "\n",
    "# Drawing the whole canopy boundary\n",
    "myCollection.watershed_boundary(plane=\"XY\", draw=True)"
   ]
  }
 ],
 "metadata": {
  "jupytext": {
   "formats": "ipynb,py:percent"
  },
  "kernelspec": {
   "display_name": "venv",
   "language": "python",
   "name": "python3"
  },
  "language_info": {
   "codemirror_mode": {
    "name": "ipython",
    "version": 3
   },
   "file_extension": ".py",
   "mimetype": "text/x-python",
   "name": "python",
   "nbconvert_exporter": "python",
   "pygments_lexer": "ipython3",
   "version": "3.10.12"
  }
 },
 "nbformat": 4,
 "nbformat_minor": 2
}
