{
 "cells": [
  {
   "cell_type": "code",
   "execution_count": null,
   "metadata": {},
   "outputs": [],
   "source": [
    "\n",
    "# For the purposes of this tutorial, we will turn off logging \n",
    "import logging\n",
    "logger = logging.getLogger()\n",
    "logger.setLevel(logging.CRITICAL)"
   ]
  },
  {
   "cell_type": "markdown",
   "metadata": {},
   "source": [
    "\n",
    "The most important of these attributes is CylinderCollection.digraph, which is a mathematical graph corresponding the CylinderCollection. \\ \n",
    "This graph representation is used in tandem with a traversal algorithm to predict which rain partition each cylinder in the collection belongs "
   ]
  },
  {
   "cell_type": "code",
   "execution_count": null,
   "metadata": {
    "lines_to_next_cell": 2
   },
   "outputs": [],
   "source": [
    "\n",
    "# Code example printing out a cylinder collection, colored by stem v. drip flow"
   ]
  },
  {
   "cell_type": "markdown",
   "metadata": {},
   "source": [
    "\n",
    "Alpha shapes are another key attribute used in statistics calculations. \\\n",
    "Alpha shapes represent the estimated area covered by the represented tree's canopy when projected in the XY, XZ or YZ direction. \\\n",
    "**these shapes are particularly important in the calculation of Woody Index (see statistics_calculations for more info)\n"
   ]
  },
  {
   "cell_type": "code",
   "execution_count": null,
   "metadata": {
    "lines_to_next_cell": 2
   },
   "outputs": [],
   "source": [
    "# A demonstration showing the calculation and plotting of alpha shapes"
   ]
  },
  {
   "cell_type": "markdown",
   "metadata": {},
   "source": [
    "\n",
    "The remaining attributes of a CylinderCollection consists primarily of summarry statistics. \\\n",
    "Statistics may be calculated using dedicated functions, or they may be calculated via the overarching 'statistics' function. \\\n",
    "(see statistics_calculations for more info)\n"
   ]
  },
  {
   "cell_type": "code",
   "execution_count": null,
   "metadata": {},
   "outputs": [],
   "source": [
    "\n",
    "# Demonstrating several options for working with statistics\n",
    "\n",
    "# A few statistic specific functions\n",
    "\n",
    "# Results obtained through the bulk statistics function"
   ]
  }
 ],
 "metadata": {
  "jupytext": {
   "formats": "ipynb,py:percent",
   "main_language": "python"
  },
  "language_info": {
   "name": "python"
  }
 },
 "nbformat": 4,
 "nbformat_minor": 2
}
