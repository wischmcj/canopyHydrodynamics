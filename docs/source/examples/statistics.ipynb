{
 "cells": [
  {
   "cell_type": "markdown",
   "metadata": {},
   "source": [
    "# Statistics"
   ]
  },
  {
   "cell_type": "markdown",
   "metadata": {},
   "source": [
    "CanoPyHydro provides access to a wealth of data regarding tree canopies. \n",
    "\n",
    "To make these statistics more accessable, they may be calculated in bulk via the 'statistics' function. \\\n",
    "The function is called below, and definitions for the statistics can be found in the Glossary. "
   ]
  },
  {
   "cell_type": "code",
   "execution_count": 1,
   "metadata": {},
   "outputs": [
    {
     "data": {
      "text/html": [
       "<pre style=\"white-space:pre;overflow-x:auto;line-height:normal;font-family:Menlo,'DejaVu Sans Mono',consolas,'Courier New',monospace\">2024.10.14 14:28:59.791 |MainThread   | INFO    | CylinderCollection.py:295 -             from_csv() | model - Processing &lt;_io.TextIOWrapper name='./data/input/5_SmallTree.csv' mode='r' encoding='UTF-8'&gt;\n",
       "</pre>\n"
      ],
      "text/plain": [
       "2024.10.14 14:28:59.791 |MainThread   | INFO    | CylinderCollection.py:295 -             from_csv() | model - Processing <_io.TextIOWrapper name='./data/input/5_SmallTree.csv' mode='r' encoding='UTF-8'>\n"
      ]
     },
     "metadata": {},
     "output_type": "display_data"
    },
    {
     "data": {
      "text/html": [
       "<pre style=\"white-space:pre;overflow-x:auto;line-height:normal;font-family:Menlo,'DejaVu Sans Mono',consolas,'Courier New',monospace\">2024.10.14 14:28:59.835 |MainThread   | INFO    | CylinderCollection.py:323 -             from_csv() | model - ./data/input/5_SmallTree.csv initialized with 517 cylinders\n",
       "</pre>\n"
      ],
      "text/plain": [
       "2024.10.14 14:28:59.835 |MainThread   | INFO    | CylinderCollection.py:323 -             from_csv() | model - ./data/input/5_SmallTree.csv initialized with 517 cylinders\n"
      ]
     },
     "metadata": {},
     "output_type": "display_data"
    },
    {
     "data": {
      "text/html": [
       "<pre style=\"white-space:pre;overflow-x:auto;line-height:normal;font-family:Menlo,'DejaVu Sans Mono',consolas,'Courier New',monospace\">2024.10.14 14:28:59.838 |MainThread   | INFO    | CylinderCollection.py:338 -    project_cylinders() | model - Projection into XY axis begun for file 5_SmallTree.csv\n",
       "</pre>\n"
      ],
      "text/plain": [
       "2024.10.14 14:28:59.838 |MainThread   | INFO    | CylinderCollection.py:338 -    project_cylinders() | model - Projection into XY axis begun for file 5_SmallTree.csv\n"
      ]
     },
     "metadata": {},
     "output_type": "display_data"
    },
    {
     "data": {
      "text/html": [
       "<pre style=\"white-space:pre;overflow-x:auto;line-height:normal;font-family:Menlo,'DejaVu Sans Mono',consolas,'Courier New',monospace\">2024.10.14 14:29:01.562 |MainThread   | INFO    | CylinderCollection.py:347 -    project_cylinders() | model - Projection into XY axis complete for file 5_SmallTree.csv\n",
       "</pre>\n"
      ],
      "text/plain": [
       "2024.10.14 14:29:01.562 |MainThread   | INFO    | CylinderCollection.py:347 -    project_cylinders() | model - Projection into XY axis complete for file 5_SmallTree.csv\n"
      ]
     },
     "metadata": {},
     "output_type": "display_data"
    },
    {
     "data": {
      "text/html": [
       "<pre style=\"white-space:pre;overflow-x:auto;line-height:normal;font-family:Menlo,'DejaVu Sans Mono',consolas,'Courier New',monospace\">2024.10.14 14:29:02.044 |MainThread   | INFO    | CylinderCollection.py:772 - find_flow_components() | model - 5_SmallTree.csv found to have 70 drip components\n",
       "</pre>\n"
      ],
      "text/plain": [
       "2024.10.14 14:29:02.044 |MainThread   | INFO    | CylinderCollection.py:772 - find_flow_components() | model - 5_SmallTree.csv found to have 70 drip components\n"
      ]
     },
     "metadata": {},
     "output_type": "display_data"
    },
    {
     "name": "stdout",
     "output_type": "stream",
     "text": [
      "reached_End of find flows\n"
     ]
    },
    {
     "data": {
      "text/html": [
       "<pre style=\"white-space:pre;overflow-x:auto;line-height:normal;font-family:Menlo,'DejaVu Sans Mono',consolas,'Courier New',monospace\">2024.10.14 14:29:02.046 |MainThread   | INFO    | CylinderCollection.py:843 -      calculate_flows() | model - np flow chars [Flow(num_cylinders=np.float64(216.0), projected_area=np.float64(16.51706021532694), surface_area=np.float64(19.495074988550606), angle_sum=np.float64(180.03288665020426), volume=np.float64(3.9062960000000007), sa_to_vol=np.float64(83646.49652248439), drip_node_id=np.float64(0.0), drip_node_loc=(np.float64(-0.299115), np.float64(2.537844), np.float64(-0.598273))), None, None, None, None, None, None, None, None, None, None, None, None, None, None, None, None, None, None, None, None, None, None, None, None, None, None, None, None, None, None, None, None, None, None, None, None, None, None, None, None, None, None, None, None, None, None, None, None, None, None, None, None, None, None, None, None, None, None, None, None, None, None, None, None, None, None, None, None, None, None]\n",
       "</pre>\n"
      ],
      "text/plain": [
       "2024.10.14 14:29:02.046 |MainThread   | INFO    | CylinderCollection.py:843 -      calculate_flows() | model - np flow chars [Flow(num_cylinders=np.float64(216.0), projected_area=np.float64(16.51706021532694), surface_area=np.float64(19.495074988550606), angle_sum=np.float64(180.03288665020426), volume=np.float64(3.9062960000000007), sa_to_vol=np.float64(83646.49652248439), drip_node_id=np.float64(0.0), drip_node_loc=(np.float64(-0.299115), np.float64(2.537844), np.float64(-0.598273))), None, None, None, None, None, None, None, None, None, None, None, None, None, None, None, None, None, None, None, None, None, None, None, None, None, None, None, None, None, None, None, None, None, None, None, None, None, None, None, None, None, None, None, None, None, None, None, None, None, None, None, None, None, None, None, None, None, None, None, None, None, None, None, None, None, None, None, None, None, None]\n"
      ]
     },
     "metadata": {},
     "output_type": "display_data"
    },
    {
     "data": {
      "text/html": [
       "<pre style=\"white-space:pre;overflow-x:auto;line-height:normal;font-family:Menlo,'DejaVu Sans Mono',consolas,'Courier New',monospace\">2024.10.14 14:29:02.053 |MainThread   | INFO    | CylinderCollection.py:844 -      calculate_flows() | model -  flow chars []\n",
       "</pre>\n"
      ],
      "text/plain": [
       "2024.10.14 14:29:02.053 |MainThread   | INFO    | CylinderCollection.py:844 -      calculate_flows() | model -  flow chars []\n"
      ]
     },
     "metadata": {},
     "output_type": "display_data"
    },
    {
     "data": {
      "text/html": [
       "<pre style=\"white-space:pre;overflow-x:auto;line-height:normal;font-family:Menlo,'DejaVu Sans Mono',consolas,'Courier New',monospace\">2024.10.14 14:29:02.055 |MainThread   | INFO    | CylinderCollection.py:846 -      calculate_flows() | model -  togetha [Flow(num_cylinders=np.float64(216.0), projected_area=np.float64(16.51706021532694), surface_area=np.float64(19.495074988550606), angle_sum=np.float64(180.03288665020426), volume=np.float64(3.9062960000000007), sa_to_vol=np.float64(83646.49652248439), drip_node_id=np.float64(0.0), drip_node_loc=(np.float64(-0.299115), np.float64(2.537844), np.float64(-0.598273)))]\n",
       "</pre>\n"
      ],
      "text/plain": [
       "2024.10.14 14:29:02.055 |MainThread   | INFO    | CylinderCollection.py:846 -      calculate_flows() | model -  togetha [Flow(num_cylinders=np.float64(216.0), projected_area=np.float64(16.51706021532694), surface_area=np.float64(19.495074988550606), angle_sum=np.float64(180.03288665020426), volume=np.float64(3.9062960000000007), sa_to_vol=np.float64(83646.49652248439), drip_node_id=np.float64(0.0), drip_node_loc=(np.float64(-0.299115), np.float64(2.537844), np.float64(-0.598273)))]\n"
      ]
     },
     "metadata": {},
     "output_type": "display_data"
    },
    {
     "data": {
      "text/html": [
       "<pre style=\"white-space:pre;overflow-x:auto;line-height:normal;font-family:Menlo,'DejaVu Sans Mono',consolas,'Courier New',monospace\">2024.10.14 14:29:02.154 |MainThread   | INFO    | CylinderCollection.py:1001 -           statistics() | model - Found hull alpha shape stats\n",
       "</pre>\n"
      ],
      "text/plain": [
       "2024.10.14 14:29:02.154 |MainThread   | INFO    | CylinderCollection.py:1001 -           statistics() | model - Found hull alpha shape stats\n"
      ]
     },
     "metadata": {},
     "output_type": "display_data"
    },
    {
     "data": {
      "text/html": [
       "<pre style=\"white-space:pre;overflow-x:auto;line-height:normal;font-family:Menlo,'DejaVu Sans Mono',consolas,'Courier New',monospace\">2024.10.14 14:29:02.568 |MainThread   | INFO    | CylinderCollection.py:1021 -           statistics() | model - found projected areas\n",
       "</pre>\n"
      ],
      "text/plain": [
       "2024.10.14 14:29:02.568 |MainThread   | INFO    | CylinderCollection.py:1021 -           statistics() | model - found projected areas\n"
      ]
     },
     "metadata": {},
     "output_type": "display_data"
    },
    {
     "data": {
      "text/html": [
       "<pre style=\"white-space:pre;overflow-x:auto;line-height:normal;font-family:Menlo,'DejaVu Sans Mono',consolas,'Courier New',monospace\">2024.10.14 14:29:03.230 |MainThread   | INFO    | utils.py:149 -            save_file() | model - [['total_psa', 'psa_w_overlap', 'stem_psa', 'stem_psa_w_overlap', 'tot_surface_area', 'stem_surface_area', 'tot_hull_area', 'tot_hull_boundary', 'stem_hull_area', 'stem_hull_boundary', 'num_drip_points', 'max_bo', 'topQuarterTotPsa', 'topHalfTotPsa', 'topThreeQuarterTotPsa', 'TotalShade', 'top_quarter_shade', 'top_half_shade', 'top_three_quarter_shade', 'DBH', 'volume', 'X_max', 'Y_max', 'Z_max', 'X_min', 'Y_min', 'Z_min', 'Order_zero_angle_avg', 'Order_zero_angle_std', 'Order_one_angle_avg', 'Order_one_angle_std', 'Order_two_angle_avg', 'Order_two_angle_std', 'Order_three_angle_avg', 'Order_three_angle_std', 'order_gr_four_angle_avg', 'order_gr_four_angle_std', 'file_name']]\n",
       "</pre>\n"
      ],
      "text/plain": [
       "2024.10.14 14:29:03.230 |MainThread   | INFO    | utils.py:149 -            save_file() | model - [['total_psa', 'psa_w_overlap', 'stem_psa', 'stem_psa_w_overlap', 'tot_surface_area', 'stem_surface_area', 'tot_hull_area', 'tot_hull_boundary', 'stem_hull_area', 'stem_hull_boundary', 'num_drip_points', 'max_bo', 'topQuarterTotPsa', 'topHalfTotPsa', 'topThreeQuarterTotPsa', 'TotalShade', 'top_quarter_shade', 'top_half_shade', 'top_three_quarter_shade', 'DBH', 'volume', 'X_max', 'Y_max', 'Z_max', 'X_min', 'Y_min', 'Z_min', 'Order_zero_angle_avg', 'Order_zero_angle_std', 'Order_one_angle_avg', 'Order_one_angle_std', 'Order_two_angle_avg', 'Order_two_angle_std', 'Order_three_angle_avg', 'Order_three_angle_std', 'order_gr_four_angle_avg', 'order_gr_four_angle_std', 'file_name']]\n"
      ]
     },
     "metadata": {},
     "output_type": "display_data"
    },
    {
     "data": {
      "text/html": [
       "<pre style=\"white-space:pre;overflow-x:auto;line-height:normal;font-family:Menlo,'DejaVu Sans Mono',consolas,'Courier New',monospace\">2024.10.14 14:29:03.233 |MainThread   | INFO    | utils.py:176 -            save_file() | model - attempting to write to ./data/output//statistics/5_SmallTree__statistics.csv\n",
       "</pre>\n"
      ],
      "text/plain": [
       "2024.10.14 14:29:03.233 |MainThread   | INFO    | utils.py:176 -            save_file() | model - attempting to write to ./data/output//statistics/5_SmallTree__statistics.csv\n"
      ]
     },
     "metadata": {},
     "output_type": "display_data"
    }
   ],
   "source": [
    "# This function \n",
    "import os\n",
    "\n",
    "os.environ[\"CANOPYHYDRO_CONFIG\"] = \"./canopyhydro_config.toml\"\n",
    "from canopyhydro.CylinderCollection import CylinderCollection\n",
    "\n",
    "# Initializing a CylinderCollection object\n",
    "myCollection = CylinderCollection()\n",
    "\n",
    "# Converting a specified file to a CylinderCollection object\n",
    "myCollection.from_csv(\"5_SmallTree.csv\")\n",
    "\n",
    "# Requesting an plot of the tree projected onto the XY plane (birds-eye view)\n",
    "myCollection.project_cylinders(\"XY\")\n",
    "\n",
    "# creating the digraph model\n",
    "myCollection.initialize_digraph_from()\n",
    "\n",
    "stat_file = myCollection.statistics()\n",
    "\n",
    "# Will generate a file with all of the statisics listed below \n",
    "# total_psa\n",
    "# psa_w_overlap\n",
    "# stem_psa\n",
    "# stem_psa_w_overlap\n",
    "# tot_surface_area\n",
    "# stem_surface_area\n",
    "# tot_hull_area\n",
    "# tot_hull_boundary\n",
    "# stem_hull_area\n",
    "\n",
    "# stem_hull_boundary\n",
    "# num_drip_points\n",
    "# max_bo\n",
    "# topQuarterTotPsa\n",
    "# topHalfTotPsa\n",
    "# topThreeQuarterTotPsa\n",
    "# TotalShade\n",
    "# top_quarter_shade\n",
    "# top_half_shade\n",
    "# top_three_quarter_shade\n",
    "# DBH\n",
    "# volume\n",
    "# X_max\n",
    "# Y_max\n",
    "# Z_max\n",
    "# X_min\n",
    "# Y_min\n",
    "# Z_min\n",
    "# Order_zero_angle_avg\n",
    "# Order_zero_angle_std\n",
    "# Order_one_angle_avg\n",
    "# Order_one_angle_std\n",
    "# Order_two_angle_avg\n",
    "# Order_two_angle_std\n",
    "# Order_three_angle_avg\n",
    "# Order_three_angle_std\n",
    "# order_gr_four_angle_avg\n",
    "# order_gr_four_angle_std"
   ]
  },
  {
   "cell_type": "markdown",
   "metadata": {},
   "source": [
    "In addition to this bulk function, some individual statistics can be found using a variety of dedicated functions. A few such funcitons are shown below."
   ]
  },
  {
   "cell_type": "code",
   "execution_count": null,
   "metadata": {},
   "outputs": [],
   "source": [
    "# Identifying flow information (covered later)\n",
    "myCollection.find_flow_components()\n",
    "myCollection.calculate_flows(plane='XY')\n",
    "\n",
    "# Identifying the overlap of branches at various heights/depths in the canopy\n",
    "# myCollection.find_overlap_by_percentile(plane = ['XY'])\n",
    "# myCollection.find_overlap_by_percentile(plane = ['XY'],percentiles=[33,66,99])\n",
    "# myCollection.find_overlap_by_percentile(plane = ['XZ'],percentiles=[10,20,30,70])\n",
    "\n",
    "# Diameter at breast height\n",
    "myCollection.get_dbh()\n",
    "\n",
    "# Angle of the theoretical line from tip\n",
    "#  of trunk to base of trunk\n",
    "# myCollection.find_trunk_lean()"
   ]
  },
  {
   "cell_type": "markdown",
   "metadata": {},
   "source": [
    "Though many statistics do not have functions used to calculate them directly. Many are readily accessible. \\\n",
    "Browsing through the larger 'statistics' function and the 'calculate_flows_function' can show users methods for finding a variety of summary statistics. "
   ]
  },
  {
   "cell_type": "code",
   "execution_count": null,
   "metadata": {},
   "outputs": [],
   "source": [
    "# Finding the total projected area \n",
    "# from 'statistics'\n",
    "import numpy as np\n",
    "from canopyhydro.geometry import unary_union\n",
    "twod_polys = myCollection.pSV\n",
    "projection_of_all_branches = unary_union(twod_polys)\n",
    "projected_area_without_overlap = projection_of_all_branches.area\n",
    "\n",
    "# Finding the sum of all cylinder projected areas\n",
    "xy_projected_area= np.sum([cyl.projected_data['XY'][\"area\"]\n",
    "                                for cyl in myCollection.cylinders]\n",
    "                        )\n",
    "xz_projected_area= np.sum([cyl.projected_data['XZ'][\"area\"]\n",
    "                                for cyl in myCollection.cylinders]\n",
    "                        )\n",
    "total_volume= np.sum([cyl.volume\n",
    "                                for cyl in myCollection.cylinders]\n",
    "                        )"
   ]
  },
  {
   "cell_type": "markdown",
   "metadata": {},
   "source": [
    "# Flow Statistics"
   ]
  },
  {
   "cell_type": "markdown",
   "metadata": {},
   "source": [
    "For additional details on finding flow attributes, see [Flow Identification](flow_identification_drawing.ipynb). \\\n",
    "The main output of the calculate flows function is the 'flows' attribute, which is added to myCollection and is populated with flow statistics (See below)."
   ]
  },
  {
   "cell_type": "code",
   "execution_count": null,
   "metadata": {},
   "outputs": [],
   "source": [
    "# printing the first 20 flows found \n",
    "myCollection.flows[0:20]"
   ]
  },
  {
   "cell_type": "markdown",
   "metadata": {},
   "source": [
    "\n",
    "The first element of the above array is always stemflow. The other flows are all drip flows (those that contribute to through fall) and are listed in no particular order. \\\n",
    "Note also that each flow has a 'drip_node_loc' (drip node location) listed for each flow. This attribute refers to the x,y and z coordinates of the point at which a flow drops off of a branch to the ground. "
   ]
  },
  {
   "cell_type": "markdown",
   "metadata": {},
   "source": [
    "In addition to defining 'myCollection.flows', the above functions set the attribute 'is_stem' for each cylinder. \\\n",
    "By using 'is_stem', we can isolate the stemflow generating portion of the tree. "
   ]
  },
  {
   "cell_type": "code",
   "execution_count": null,
   "metadata": {},
   "outputs": [],
   "source": [
    "whole_tree_hull,_ = myCollection.watershed_boundary(\n",
    "    plane=\"XY\",\n",
    "    curvature_alpha=0.15,\n",
    "    draw=True,\n",
    ")\n",
    "\n",
    "# plotting the boundary of the stemflow generating portion alone\n",
    "stem_flow_hull,_ = myCollection.watershed_boundary(\n",
    "    plane=\"XY\",\n",
    "    curvature_alpha=0.15,\n",
    "    filter_lambda=lambda: is_stem ,\n",
    "    draw=True,\n",
    ")"
   ]
  },
  {
   "cell_type": "markdown",
   "metadata": {},
   "source": [
    "In doing so, we can calculate statistics for only the subset of cylinders that contribute to stemflow."
   ]
  },
  {
   "cell_type": "code",
   "execution_count": null,
   "metadata": {},
   "outputs": [],
   "source": [
    "# Demonstrating how statistics can be generated from hul objects\n",
    "print(type(stem_flow_hull))\n",
    "\n",
    "print('Whole Tree Coverage Area:')\n",
    "print(whole_tree_hull.area)\n",
    "\n",
    "print('Stem Flow Coverage Area:')\n",
    "print(stem_flow_hull.area)\n",
    "\n",
    "\n",
    "print('')\n",
    "\n",
    "print('Whole Tree Coverage Bounds:')\n",
    "print(whole_tree_hull.bounds)\n",
    "\n",
    "print('Stem Flow Coverage Bounds:')\n",
    "print(stem_flow_hull.bounds)\n",
    "\n",
    "print('')\n",
    "\n",
    "# Demonstrating how is_stem might be used in other calculations \n",
    "total_volume= np.sum([cyl.volume\n",
    "                                for cyl in myCollection.cylinders\n",
    "                                if cyl.is_stem]\n",
    "                        )"
   ]
  },
  {
   "cell_type": "markdown",
   "metadata": {},
   "source": [
    "For detailed definitions of all of the statistics availible to users, see the [Glossary](../glossary.rst)"
   ]
  }
 ],
 "metadata": {
  "jupytext": {
   "formats": "ipynb,py:percent",
   "main_language": "python"
  },
  "kernelspec": {
   "display_name": "Python 3",
   "language": "python",
   "name": "python3"
  },
  "language_info": {
   "codemirror_mode": {
    "name": "ipython",
    "version": 3
   },
   "file_extension": ".py",
   "mimetype": "text/x-python",
   "name": "python",
   "nbconvert_exporter": "python",
   "pygments_lexer": "ipython3",
   "version": "3.10.12"
  }
 },
 "nbformat": 4,
 "nbformat_minor": 2
}
