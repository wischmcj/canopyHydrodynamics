{
 "cells": [
  {
   "cell_type": "markdown",
   "metadata": {},
   "source": [
    "# Drawing and Highlighting"
   ]
  },
  {
   "cell_type": "code",
   "execution_count": null,
   "metadata": {},
   "outputs": [],
   "source": [
    "# For the purposes of this tutorial,we will turn off logging \n",
    "import logging\n",
    "logger = logging.getLogger()\n",
    "logger.setLevel(logging.CRITICAL)"
   ]
  },
  {
   "cell_type": "markdown",
   "metadata": {},
   "source": [
    "Let's first discuss our low code approach to figure creation \\\n",
    "Examine the output produced by the following two cells. Note that their outputs are the same,but the former uses quite a bit more code. "
   ]
  },
  {
   "cell_type": "markdown",
   "metadata": {},
   "source": []
  },
  {
   "cell_type": "code",
   "execution_count": null,
   "metadata": {},
   "outputs": [],
   "source": [
    "\n",
    "from canopyhydro.CylinderCollection import CylinderCollection\n",
    "# Initializing a CylinderCollection object\n",
    "myCollection = CylinderCollection()\n",
    "\n",
    "# Converting a specified file to a CylinderCollection object \n",
    "myCollection.from_csv('example_tree.csv')\n",
    "\n",
    "# Requesting an plot of the tree projected onto the XZ plane ('fromt' view)\n",
    "myCollection.project_cylinders('XZ')\n",
    "myCollection.draw('XZ')\n",
    "\n",
    "# Requesting an plot of the tree projected onto the YZ plane ('side' view)\n",
    "myCollection.project_cylinders('YZ')\n",
    "myCollection.draw('YZ')\n",
    "\n",
    "# Requesting an plot of the tree projected onto the XY plane (Birds eye view)\n",
    "myCollection.project_cylinders('XY')\n",
    "myCollection.draw('XY')"
   ]
  },
  {
   "cell_type": "code",
   "execution_count": null,
   "metadata": {},
   "outputs": [],
   "source": [
    "# Below We can see the minimal code needed to plot a tree\n",
    "from canopyhydro.CylinderCollection import CylinderCollection\n",
    "from matplotlib import pyplot as plt    \n",
    "\n",
    "# Requesting an plot of the tree projected onto the XZ plane ('fromt' view)\n",
    "myCollection.draw('XZ')\n",
    "\n",
    "# Requesting an plot of the tree projected onto the YZ plane ('side' view)\n",
    "myCollection.draw('YZ')\n",
    "\n",
    "# Requesting an plot of the tree projected onto the XY plane (Birds eye view)\n",
    "myCollection.draw('XY')\n",
    "\n",
    "\n"
   ]
  },
  {
   "cell_type": "markdown",
   "metadata": {},
   "source": [
    "The latter,more sucinct option is applocable to not just cylinder projections, but\n",
    "for all plotted shapes this includes watershed boundaries (e.g. convex hull), drip points as well as their 'XY,' 'XZ' and 'ZY' projections. \\\n",
    "This is to say, if a requested object is not available when the draw function is called, then the object will be calculated with the default attributes and drawn "
   ]
  },
  {
   "cell_type": "code",
   "execution_count": null,
   "metadata": {},
   "outputs": [],
   "source": [
    "# Plotting a trees cylinders, and the watershed boundary together\n",
    "\n",
    "# Calling draw directly, we get a default hull:\n",
    "#   created to encompass the branch tips, with curvature_alpha=1.8\n",
    "myCollection.draw(\n",
    "    \"XY\",\n",
    "    include_alpha_shape=True\n",
    ")\n",
    "\n",
    "# if we define a custom hull first, the \n",
    "# custom hull will be plotted instead\n",
    "\n",
    "myCollection.watershed_boundary(\n",
    "    plane=\"XY\",\n",
    "    curvature_alpha=0.15,\n",
    "    filter_lambda=lambda: cyl_id > 100,\n",
    "    draw=False,\n",
    ")\n",
    "\n",
    "myCollection.draw(\n",
    "    \"XY\",\n",
    "    include_alpha_shape=True\n",
    ")"
   ]
  },
  {
   "cell_type": "code",
   "execution_count": null,
   "metadata": {
    "lines_to_next_cell": 2
   },
   "outputs": [],
   "source": [
    "# Highlighting the stem flow component\n",
    "from canopyhydro.CylinderCollection import CylinderCollection\n",
    "from matplotlib import pyplot as plt    \n",
    "\n",
    "# Initializing a CylinderCollection object\n",
    "# myCollection = CylinderCollection()\n",
    "\n",
    "# Converting a specified file to a CylinderCollection object \n",
    "# myCollection.from_csv('example_tree.csv')\n",
    "\n",
    "# Requesting an plot of the tree projected onto the XZ plane ('fromt' view)\n",
    "# myCollection.project_cylinders('XY')\n",
    "\n",
    "\n",
    "# myCollection.initialize_digraph_from()\n",
    "# myCollection.find_flow_components()\n",
    "# myCollection.calculate_flows()\n",
    "\n",
    "\n",
    "myCollection.draw('XY', \n",
    "                    highlight_lambda=lambda:is_stem, \n",
    "                    #save = False, file_name_ext=\"docs_ex\"  # disabled for tutorial\n",
    "                    )\n",
    "myCollection.draw('XZ', \n",
    "                    highlight_lambda=lambda:is_stem, \n",
    "                    #save = False, file_name_ext=\"docs_ex\"  # disabled for tutorial\n",
    "                    )"
   ]
  },
  {
   "cell_type": "code",
   "execution_count": null,
   "metadata": {},
   "outputs": [],
   "source": [
    "# Drawing various branch orders \n",
    "myCollection.draw('XZ', filter_lambda=lambda:branch_order<=1, highlight_lambda=lambda:branch_order==1, save = True, file_name_ext=\"docs_ex\")\n",
    "myCollection.draw('XZ', filter_lambda=lambda:branch_order<=2, highlight_lambda=lambda:branch_order==2, save = True, file_name_ext=\"docs_ex\")\n",
    "myCollection.draw('XZ', filter_lambda=lambda:branch_order<=3, highlight_lambda=lambda:branch_order==3, save = True, file_name_ext=\"docs_ex\")\n",
    "myCollection.draw('XZ', filter_lambda=lambda:branch_order<=4, highlight_lambda=lambda:branch_order==4, save = True, file_name_ext=\"docs_ex\")"
   ]
  }
 ],
 "metadata": {
  "jupytext": {
   "formats": "ipynb,py:percent"
  },
  "kernelspec": {
   "display_name": "venv",
   "language": "python",
   "name": "python3"
  },
  "language_info": {
   "codemirror_mode": {
    "name": "ipython",
    "version": 3
   },
   "file_extension": ".py",
   "mimetype": "text/x-python",
   "name": "python",
   "nbconvert_exporter": "python",
   "pygments_lexer": "ipython3",
   "version": "3.10.12"
  }
 },
 "nbformat": 4,
 "nbformat_minor": 2
}
