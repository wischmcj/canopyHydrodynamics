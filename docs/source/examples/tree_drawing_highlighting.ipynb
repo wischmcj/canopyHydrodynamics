{
 "cells": [
  {
   "cell_type": "markdown",
   "metadata": {},
   "source": [
    "# Use Case Example #1"
   ]
  },
  {
   "cell_type": "markdown",
   "metadata": {},
   "source": [
    "## Setup\n",
    "\n",
    "In this example, we will show case \n"
   ]
  },
  {
   "cell_type": "markdown",
   "metadata": {},
   "source": []
  },
  {
   "cell_type": "code",
   "execution_count": null,
   "metadata": {},
   "outputs": [],
   "source": [
    "\n",
    "from src.canopyhydro.CylinderCollection import CylinderCollection\n",
    "\n",
    "# Initializing a CylinderCollection object\n",
    "myCollection = CylinderCollection()\n",
    "\n",
    "# Converting a specified file to a CylinderCollection object \n",
    "myCollection.from_csv('Secrest10-08_000000.csv')\n",
    "\n",
    "# Requesting an plot of the tree projected onto the XZ plane ('fromt' view)\n",
    "myCollection.project_cylinders('XZ')\n",
    "myCollection.draw('XZ')\n",
    "\n",
    "# Requesting an plot of the tree projected onto the YZ plane ('side' view)\n",
    "myCollection.project_cylinders('YZ')\n",
    "myCollection.draw('YZ')\n",
    "\n",
    "# Requesting an plot of the tree projected onto the XY plane (Birds eye view)\n",
    "myCollection.project_cylinders('XY')\n",
    "myCollection.draw('XY')"
   ]
  },
  {
   "cell_type": "markdown",
   "metadata": {},
   "source": []
  },
  {
   "cell_type": "code",
   "execution_count": null,
   "metadata": {},
   "outputs": [],
   "source": [
    "# Below We can see the minimal code needed to plot a tree\n",
    "from src.canopyhydro.CylinderCollection import CylinderCollection\n",
    "from matplotlib import pyplot as plt    \n",
    "\n",
    "# Initializing a CylinderCollection object\n",
    "myCollection = CylinderCollection()\n",
    "\n",
    "# Converting a specified file to a CylinderCollection object \n",
    "myCollection.from_csv('example_tree.csv')\n",
    "\n",
    "# Requesting an plot of the tree projected onto the XZ plane ('fromt' view)\n",
    "myCollection.draw('XZ')\n",
    "\n",
    "# Requesting an plot of the tree projected onto the YZ plane ('side' view)\n",
    "myCollection.draw('YZ')\n",
    "\n",
    "# Requesting an plot of the tree projected onto the XY plane (Birds eye view)\n",
    "myCollection.draw('XY')\n",
    "\n",
    "\n",
    "print('Finished basic tree plot')\n"
   ]
  },
  {
   "cell_type": "code",
   "execution_count": null,
   "metadata": {},
   "outputs": [],
   "source": [
    "# Highlighting the stem flow component\n",
    "from src.canopyhydro.CylinderCollection import CylinderCollection\n",
    "from matplotlib import pyplot as plt    \n",
    "\n",
    "# Initializing a CylinderCollection object\n",
    "# myCollection = CylinderCollection()\n",
    "\n",
    "# Converting a specified file to a CylinderCollection object \n",
    "# myCollection.from_csv('example_tree.csv')\n",
    "\n",
    "# Requesting an plot of the tree projected onto the XZ plane ('fromt' view)\n",
    "# myCollection.project_cylinders('XY')\n",
    "\n",
    "\n",
    "# myCollection.initialize_digraph_from()\n",
    "# myCollection.find_flow_components()\n",
    "# myCollection.calculate_flows()\n",
    "\n",
    "\n",
    "myCollection.draw('XY', highlight_lambda=lambda:is_stem, save = True, file_name_ext=\"docs_ex\")\n",
    "myCollection.draw('XZ', highlight_lambda=lambda:is_stem, save = True, file_name_ext=\"docs_ex\")\n"
   ]
  },
  {
   "cell_type": "code",
   "execution_count": null,
   "metadata": {},
   "outputs": [],
   "source": [
    "# Drawing various branch orders \n",
    "myCollection.draw('XZ', filter_lambda=lambda:branch_order<=1, highlight_lambda=lambda:branch_order==1, save = True, file_name_ext=\"docs_ex\")\n",
    "myCollection.draw('XZ', filter_lambda=lambda:branch_order<=2, highlight_lambda=lambda:branch_order==2, save = True, file_name_ext=\"docs_ex\")\n",
    "myCollection.draw('XZ', filter_lambda=lambda:branch_order<=3, highlight_lambda=lambda:branch_order==3, save = True, file_name_ext=\"docs_ex\")\n",
    "myCollection.draw('XZ', filter_lambda=lambda:branch_order<=4, highlight_lambda=lambda:branch_order==4, save = True, file_name_ext=\"docs_ex\")"
   ]
  }
 ],
 "metadata": {
  "jupytext": {
   "formats": "ipynb,py:percent"
  },
  "kernelspec": {
   "display_name": "venv",
   "language": "python",
   "name": "python3"
  },
  "language_info": {
   "codemirror_mode": {
    "name": "ipython",
    "version": 3
   },
   "file_extension": ".py",
   "mimetype": "text/x-python",
   "name": "python",
   "nbconvert_exporter": "python",
   "pygments_lexer": "ipython3",
   "version": "3.10.12"
  }
 },
 "nbformat": 4,
 "nbformat_minor": 2
}
