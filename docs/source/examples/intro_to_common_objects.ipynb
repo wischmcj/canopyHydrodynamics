{
 "cells": [
  {
   "cell_type": "code",
   "execution_count": null,
   "id": "d117e315",
   "metadata": {
    "lines_to_next_cell": 2
   },
   "outputs": [],
   "source": [
    "from __future__ import annotations\n",
    "\n",
    "# For the purposes of this tutorial, we will turn off logging \n",
    "import logging\n",
    "logger = logging.getLogger()\n",
    "logger.setLevel(logging.CRITICAL)"
   ]
  },
  {
   "cell_type": "code",
   "execution_count": 2,
   "id": "21e032c6",
   "metadata": {
    "lines_to_next_cell": 2
   },
   "outputs": [],
   "source": [
    "#   RUNME.setup\n",
    "#  This helps set up your kernal's environment in order to avoid errors\n",
    "import os\n",
    "\n",
    "import numpy as np\n",
    "from matplotlib import pyplot as plt\n",
    "\n",
    "from canopyhydro.Cylinder import Cylinder\n",
    "from canopyhydro.CylinderCollection import CylinderCollection\n",
    "from canopyhydro.Forester import Forester\n",
    "\n",
    "# Determines where configuration file is located\n",
    "# file contains directory info and model input settings\n",
    "config_file = os.environ[\n",
    "    \"CANOPYHYDRO_CONFIG\"\n",
    "] = f\"{os.getcwd()}/canopyhydro_config.toml\"\n",
    "log_config = os.environ[\"CANOPYHYDRO_LOG_CONFIG\"] = f\"{os.getcwd()}/logging_config.yml\""
   ]
  },
  {
   "cell_type": "code",
   "execution_count": null,
   "id": "7ccee5a3",
   "metadata": {},
   "outputs": [],
   "source": [
    "# Creating a Cylinder object via inputs\n",
    "myCyl = Cylinder(\n",
    "    cyl_id=1.0,\n",
    "    x=[0, 3],\n",
    "    y=[0, 2],\n",
    "    z=[0, 6],\n",
    "    radius=2.0,\n",
    "    length=0.064433,\n",
    "    branch_order=0.0,\n",
    "    branch_id=0.0,\n",
    "    volume=0.010021,\n",
    "    parent_id=0.0,\n",
    "    reverse_branch_order=32.0,\n",
    "    segment_id=0.0,\n",
    ")\n",
    "print(myCyl)"
   ]
  },
  {
   "cell_type": "markdown",
   "id": "21d2a621",
   "metadata": {},
   "source": [
    "### Cylinder"
   ]
  },
  {
   "cell_type": "markdown",
   "id": "cc97e998",
   "metadata": {},
   "source": [
    "The Cylinder class is used to represent the 3-D cylinders that make up a QSM"
   ]
  },
  {
   "cell_type": "code",
   "execution_count": null,
   "id": "ca2e3ba3",
   "metadata": {},
   "outputs": [],
   "source": [
    "# A trivial example of a Cylinder object\n",
    "\n",
    "\n",
    "myCyl = Cylinder(\n",
    "    cyl_id=1.0,\n",
    "    x=[3, 6],\n",
    "    y=[2, 4],\n",
    "    z=[6, 12],\n",
    "    radius=2.0,\n",
    "    length=0.064433,\n",
    "    branch_order=0.0,\n",
    "    branch_id=0.0,\n",
    "    volume=0.010021,\n",
    "    parent_id=0.0,\n",
    "    reverse_branch_order=32.0,\n",
    "    segment_id=0.0,\n",
    ")\n",
    "\n",
    "fig = myCyl.draw_3D(show=True, draw_vectors=True, draw_projections=True)"
   ]
  },
  {
   "cell_type": "markdown",
   "id": "694d11bf",
   "metadata": {},
   "source": [
    "The most important function of Cylinder objects is their ability to return data regarding the projections onto planes. Cylinder objects utilize our custom 'geometry' module to calculate their projections onto the XY, XZ and YZ planes."
   ]
  },
  {
   "cell_type": "code",
   "execution_count": null,
   "id": "67714844",
   "metadata": {},
   "outputs": [],
   "source": [
    "# Projecting a cylinder onto the XY plane\n",
    "import numpy as np\n",
    "\n",
    "from canopyhydro.Cylinder import Cylinder\n",
    "from canopyhydro.CylinderCollection import CylinderCollection\n",
    "\n",
    "cyl = Cylinder(\n",
    "    1, np.array([0, 1]), np.array([0, 1]), np.array([0, 1]), 1, 1, 0, 0, 1, 0, 0, 0\n",
    ")\n",
    "cyl.get_projection(\"XY\")\n",
    "print(cyl.projected_data[\"XY\"][\"polygon\"])\n",
    "print(cyl.projected_data[\"XY\"][\"base_vector\"])\n",
    "print(cyl.projected_data[\"XY\"][\"anti_vector\"])\n",
    "print(cyl.projected_data[\"XY\"][\"angle\"])\n",
    "print(cyl.projected_data[\"XY\"][\"area\"])"
   ]
  },
  {
   "cell_type": "markdown",
   "id": "9a9cd7c6",
   "metadata": {},
   "source": [
    "The main use of this functionality is shown below. Namely, projecting cylinders allows us to more readily provide visualizations of the tree canopy they represent"
   ]
  },
  {
   "cell_type": "code",
   "execution_count": null,
   "id": "1a3b2b4d",
   "metadata": {},
   "outputs": [],
   "source": [
    "# Here we show the 3D view and the 3 possible 2D projections of a Cylinder object\n",
    "myCyl = Cylinder(\n",
    "    cyl_id=1.0,\n",
    "    x=[0, 3],\n",
    "    y=[0, 2],\n",
    "    z=[0, 6],\n",
    "    radius=2.0,\n",
    "    length=0.064433,\n",
    "    branch_order=0.0,\n",
    "    branch_id=0.0,\n",
    "    volume=0.010021,\n",
    "    parent_id=0.0,\n",
    "    reverse_branch_order=32.0,\n",
    "    segment_id=0.0,\n",
    ")\n",
    "\n",
    "\n",
    "fig = myCyl.draw_3D(show=False, draw_projections=True)\n",
    "\n",
    "myCyl.get_projection(\"XY\")\n",
    "print(\"'myCyl' as seen from above\")\n",
    "print(\n",
    "    f\"The 'XY' projection of myCyl as an area of {round(myCyl.projected_data['XY']['area'],2)} cm^3\"\n",
    ")\n",
    "print(\n",
    "    f\"       and the cylinder makes an angle of {round(myCyl.projected_data['XY']['angle'],2)} radians with the XY plane\"\n",
    ")\n",
    "\n",
    "myCyl.get_projection(\"XZ\")\n",
    "print(\n",
    "    f\"The 'XZ' projection of myCyl as an area of {round(myCyl.projected_data['XZ']['area'],2)} cm^3\"\n",
    ")\n",
    "print(\n",
    "    f\"       and the cylinder makes an angle of {round(myCyl.projected_data['XZ']['angle'],2)} radians with the XZ plane\"\n",
    ")\n",
    "\n",
    "myCyl.get_projection(\"YZ\")\n",
    "print(\n",
    "    f\"The 'YZ' projection of myCyl as an area of {round(myCyl.projected_data['YZ']['area'],2)} cm^3\"\n",
    ")\n",
    "print(\n",
    "    f\"       and the cylinder makes an angle of {round(myCyl.projected_data['YZ']['angle'],2)} radians with the YZ plane\"\n",
    ")"
   ]
  },
  {
   "cell_type": "markdown",
   "id": "e434f057",
   "metadata": {},
   "source": [
    "In the above 3D representations, the entire surface of cylinder must be calculated, s this may be computationally intensive. \\\n",
    "As such, the 'get_projection' function calculates statistics regarding 2D projections directly instead."
   ]
  },
  {
   "cell_type": "code",
   "execution_count": null,
   "id": "aa5ac7c7",
   "metadata": {},
   "outputs": [],
   "source": [
    "# The get_projection function allows for the retrieval of\n",
    "# projection data without the need to define the entire surface of the cylinder\n",
    "\n",
    "\n",
    "myCyl = Cylinder(\n",
    "    cyl_id=1.0,\n",
    "    x=[3, 6],\n",
    "    y=[2, 4],\n",
    "    z=[6, 12],\n",
    "    radius=2.0,\n",
    "    length=0.064433,\n",
    "    branch_order=0.0,\n",
    "    branch_id=0.0,\n",
    "    volume=0.010021,\n",
    "    parent_id=0.0,\n",
    "    reverse_branch_order=32.0,\n",
    "    segment_id=0.0,\n",
    ")\n",
    "\n",
    "print(\"'myCyl' as seen from above\")\n",
    "myCyl.get_projection(\"XY\")\n",
    "myCyl.draw(plane=\"XY\")\n",
    "plt.show()\n",
    "\n",
    "print(\"'myCyl' as seen from the 'fromt' of the tree\")\n",
    "myCyl.get_projection(\"XZ\")\n",
    "myCyl.draw(plane=\"XZ\")\n",
    "plt.show()\n",
    "\n",
    "print(\"'myCyl' as seen from one 'side' of the tree\")\n",
    "myCyl.get_projection(\"YZ\")\n",
    "myCyl.draw(plane=\"YZ\")\n",
    "plt.show()"
   ]
  },
  {
   "cell_type": "markdown",
   "id": "f54814c6",
   "metadata": {},
   "source": [
    "For more information regarding these 2D projections, see [Projecting Cylinders](projecting_cylinders.ipynb)"
   ]
  },
  {
   "cell_type": "markdown",
   "id": "4fdc5c70",
   "metadata": {},
   "source": [
    "### Cylinder Collection"
   ]
  },
  {
   "cell_type": "markdown",
   "id": "26ea874e",
   "metadata": {},
   "source": [
    "Cylinder Collections are just as they sound and, at the most basic level, a Cylinder Collection is defined as a list of 1 or more Cylinder objects. \\\n",
    "Cylinder Collections almost always represent QSM's (or parts of a QSM), and are meant to help users explore their QSMs. \\\n",
    "Below, we demonstrate how one might initialize a cylinder collection using cylinder data (e.g. QSM data) stored in a CSV file."
   ]
  },
  {
   "cell_type": "code",
   "execution_count": null,
   "id": "65608029",
   "metadata": {},
   "outputs": [],
   "source": [
    "# Example showing the most basic possible cylinder Collection4\n",
    "myCollection = CylinderCollection()\n",
    "# The below file is one of our several testing files, featuring only\n",
    "# the trunk of a tree and one of its branches\n",
    "myCollection.from_csv(\"5_SmallTree.csv\")\n",
    "myCollection.statistics(\"XY\")\n",
    "myCollection.statistics(\"XY\")"
   ]
  },
  {
   "cell_type": "markdown",
   "id": "e11ba84a",
   "metadata": {},
   "source": [
    "\n",
    "The below demonstrates how these projection and drawing functionality of the cylinder class can be extended to allow for drawing, highlighting and filtering entire tree canopies\n"
   ]
  },
  {
   "cell_type": "code",
   "execution_count": null,
   "id": "3f44977b",
   "metadata": {
    "lines_to_next_cell": 2
   },
   "outputs": [],
   "source": [
    "myCollection = CylinderCollection()\n",
    "# The below file is one of our several testing files, featuring only\n",
    "# the trunk of a tree and one of its branches\n",
    "myCollection.from_csv(\"10_MediumCollection.csv\")\n",
    "\n",
    "# Collections can be drawn without any frills\n",
    "myCollection.draw(\"XY\", show=True)\n",
    "\n",
    "# One can also choose to draw only a portion of the collection,\n",
    "# utilizing 'lambda' functions to define the desired portion of the tree\n",
    "myCollection.draw(\"XZ\", show=False, filter_lambda=lambda: branch_id < 20)\n",
    "\n",
    "\n",
    "# Similarly, features of interest can be highlighted in a different color\n",
    "myCollection.draw(\"XZ\", show=False, filter_lambda=lambda: cyl_id > 100)\n",
    "\n",
    "myCollection.draw(\n",
    "    \"XZ\",\n",
    "    filter_lambda=lambda: cyl_id > 50,\n",
    "    highlight_lambda=lambda: branch_order > 0,\n",
    "    # save=True # Saving disabled for tutorial code\n",
    "    file_name_ext=\"highlighted_branch_tutorial.svg\",\n",
    ")  # noqa\n",
    "\n",
    "\n",
    "myCollection.draw(\n",
    "    \"XZ\",\n",
    "    filter_lambda=lambda: cyl_id > 50,\n",
    "    highlight_lambda=lambda: cyl_id > 100,\n",
    "    # save=True # Saving disabled for tutorial code\n",
    "    file_name_ext=\"highlighted_branch_tutorial.svg\",\n",
    ")"
   ]
  },
  {
   "cell_type": "markdown",
   "id": "4ebb81ac",
   "metadata": {},
   "source": [
    "We recommend sticing to 2D drawings where possible, as this is a lot less computationally intensive than the alternative. However the same '.draw' function can even generate 3D plots of the tree!"
   ]
  },
  {
   "cell_type": "code",
   "execution_count": 4,
   "id": "4383de18",
   "metadata": {},
   "outputs": [
    {
     "data": {
      "text/html": [
       "<pre style=\"white-space:pre;overflow-x:auto;line-height:normal;font-family:Menlo,'DejaVu Sans Mono',consolas,'Courier New',monospace\">2024.10.14 10:37:06.332 |MainThread   | INFO    | CylinderCollection.py:295 -             from_csv() | model - Processing &lt;_io.TextIOWrapper name='./data/input/charlie_brown.csv' mode='r' encoding='UTF-8'&gt;\n",
       "</pre>\n"
      ],
      "text/plain": [
       "2024.10.14 10:37:06.332 |MainThread   | INFO    | CylinderCollection.py:295 -             from_csv() | model - Processing <_io.TextIOWrapper name='./data/input/charlie_brown.csv' mode='r' encoding='UTF-8'>\n"
      ]
     },
     "metadata": {},
     "output_type": "display_data"
    },
    {
     "data": {
      "text/html": [
       "<pre style=\"white-space:pre;overflow-x:auto;line-height:normal;font-family:Menlo,'DejaVu Sans Mono',consolas,'Courier New',monospace\">2024.10.14 10:37:06.405 |MainThread   | INFO    | CylinderCollection.py:323 -             from_csv() | model - ./data/input/charlie_brown.csv initialized with 463 cylinders\n",
       "</pre>\n"
      ],
      "text/plain": [
       "2024.10.14 10:37:06.405 |MainThread   | INFO    | CylinderCollection.py:323 -             from_csv() | model - ./data/input/charlie_brown.csv initialized with 463 cylinders\n"
      ]
     },
     "metadata": {},
     "output_type": "display_data"
    },
    {
     "data": {
      "text/html": [
       "<pre style=\"white-space:pre;overflow-x:auto;line-height:normal;font-family:Menlo,'DejaVu Sans Mono',consolas,'Courier New',monospace\">2024.10.14 10:37:06.415 |MainThread   | INFO    | CylinderCollection.py:403 -                 draw() | model - 463 cylinders matched criteria\n",
       "</pre>\n"
      ],
      "text/plain": [
       "2024.10.14 10:37:06.415 |MainThread   | INFO    | CylinderCollection.py:403 -                 draw() | model - 463 cylinders matched criteria\n"
      ]
     },
     "metadata": {},
     "output_type": "display_data"
    },
    {
     "data": {
      "text/html": [
       "<pre style=\"white-space:pre;overflow-x:auto;line-height:normal;font-family:Menlo,'DejaVu Sans Mono',consolas,'Courier New',monospace\">2024.10.14 10:37:06.468 |MainThread   | INFO    | geometry.py:617 -    draw_cylinders_3D() | model - Plotting cylinder in 3D\n",
       "</pre>\n"
      ],
      "text/plain": [
       "2024.10.14 10:37:06.468 |MainThread   | INFO    | geometry.py:617 -    draw_cylinders_3D() | model - Plotting cylinder in 3D\n"
      ]
     },
     "metadata": {},
     "output_type": "display_data"
    },
    {
     "data": {
      "text/html": [
       "<pre style=\"white-space:pre;overflow-x:auto;line-height:normal;font-family:Menlo,'DejaVu Sans Mono',consolas,'Courier New',monospace\">2024.10.14 10:37:06.480 |MainThread   | INFO    | geometry.py:617 -    draw_cylinders_3D() | model - Plotting cylinder in 3D\n",
       "</pre>\n"
      ],
      "text/plain": [
       "2024.10.14 10:37:06.480 |MainThread   | INFO    | geometry.py:617 -    draw_cylinders_3D() | model - Plotting cylinder in 3D\n"
      ]
     },
     "metadata": {},
     "output_type": "display_data"
    },
    {
     "data": {
      "text/html": [
       "<pre style=\"white-space:pre;overflow-x:auto;line-height:normal;font-family:Menlo,'DejaVu Sans Mono',consolas,'Courier New',monospace\">2024.10.14 10:37:06.491 |MainThread   | INFO    | geometry.py:617 -    draw_cylinders_3D() | model - Plotting cylinder in 3D\n",
       "</pre>\n"
      ],
      "text/plain": [
       "2024.10.14 10:37:06.491 |MainThread   | INFO    | geometry.py:617 -    draw_cylinders_3D() | model - Plotting cylinder in 3D\n"
      ]
     },
     "metadata": {},
     "output_type": "display_data"
    },
    {
     "data": {
      "text/html": [
       "<pre style=\"white-space:pre;overflow-x:auto;line-height:normal;font-family:Menlo,'DejaVu Sans Mono',consolas,'Courier New',monospace\">2024.10.14 10:37:06.504 |MainThread   | INFO    | geometry.py:617 -    draw_cylinders_3D() | model - Plotting cylinder in 3D\n",
       "</pre>\n"
      ],
      "text/plain": [
       "2024.10.14 10:37:06.504 |MainThread   | INFO    | geometry.py:617 -    draw_cylinders_3D() | model - Plotting cylinder in 3D\n"
      ]
     },
     "metadata": {},
     "output_type": "display_data"
    },
    {
     "data": {
      "text/html": [
       "<pre style=\"white-space:pre;overflow-x:auto;line-height:normal;font-family:Menlo,'DejaVu Sans Mono',consolas,'Courier New',monospace\">2024.10.14 10:37:06.519 |MainThread   | INFO    | geometry.py:617 -    draw_cylinders_3D() | model - Plotting cylinder in 3D\n",
       "</pre>\n"
      ],
      "text/plain": [
       "2024.10.14 10:37:06.519 |MainThread   | INFO    | geometry.py:617 -    draw_cylinders_3D() | model - Plotting cylinder in 3D\n"
      ]
     },
     "metadata": {},
     "output_type": "display_data"
    },
    {
     "data": {
      "text/html": [
       "<pre style=\"white-space:pre;overflow-x:auto;line-height:normal;font-family:Menlo,'DejaVu Sans Mono',consolas,'Courier New',monospace\">2024.10.14 10:37:06.532 |MainThread   | INFO    | geometry.py:617 -    draw_cylinders_3D() | model - Plotting cylinder in 3D\n",
       "</pre>\n"
      ],
      "text/plain": [
       "2024.10.14 10:37:06.532 |MainThread   | INFO    | geometry.py:617 -    draw_cylinders_3D() | model - Plotting cylinder in 3D\n"
      ]
     },
     "metadata": {},
     "output_type": "display_data"
    },
    {
     "data": {
      "text/html": [
       "<pre style=\"white-space:pre;overflow-x:auto;line-height:normal;font-family:Menlo,'DejaVu Sans Mono',consolas,'Courier New',monospace\">2024.10.14 10:37:06.542 |MainThread   | INFO    | geometry.py:617 -    draw_cylinders_3D() | model - Plotting cylinder in 3D\n",
       "</pre>\n"
      ],
      "text/plain": [
       "2024.10.14 10:37:06.542 |MainThread   | INFO    | geometry.py:617 -    draw_cylinders_3D() | model - Plotting cylinder in 3D\n"
      ]
     },
     "metadata": {},
     "output_type": "display_data"
    },
    {
     "data": {
      "text/html": [
       "<pre style=\"white-space:pre;overflow-x:auto;line-height:normal;font-family:Menlo,'DejaVu Sans Mono',consolas,'Courier New',monospace\">2024.10.14 10:37:06.553 |MainThread   | INFO    | geometry.py:617 -    draw_cylinders_3D() | model - Plotting cylinder in 3D\n",
       "</pre>\n"
      ],
      "text/plain": [
       "2024.10.14 10:37:06.553 |MainThread   | INFO    | geometry.py:617 -    draw_cylinders_3D() | model - Plotting cylinder in 3D\n"
      ]
     },
     "metadata": {},
     "output_type": "display_data"
    },
    {
     "data": {
      "text/html": [
       "<pre style=\"white-space:pre;overflow-x:auto;line-height:normal;font-family:Menlo,'DejaVu Sans Mono',consolas,'Courier New',monospace\">2024.10.14 10:37:06.570 |MainThread   | INFO    | geometry.py:617 -    draw_cylinders_3D() | model - Plotting cylinder in 3D\n",
       "</pre>\n"
      ],
      "text/plain": [
       "2024.10.14 10:37:06.570 |MainThread   | INFO    | geometry.py:617 -    draw_cylinders_3D() | model - Plotting cylinder in 3D\n"
      ]
     },
     "metadata": {},
     "output_type": "display_data"
    },
    {
     "data": {
      "text/html": [
       "<pre style=\"white-space:pre;overflow-x:auto;line-height:normal;font-family:Menlo,'DejaVu Sans Mono',consolas,'Courier New',monospace\">2024.10.14 10:37:06.591 |MainThread   | INFO    | geometry.py:617 -    draw_cylinders_3D() | model - Plotting cylinder in 3D\n",
       "</pre>\n"
      ],
      "text/plain": [
       "2024.10.14 10:37:06.591 |MainThread   | INFO    | geometry.py:617 -    draw_cylinders_3D() | model - Plotting cylinder in 3D\n"
      ]
     },
     "metadata": {},
     "output_type": "display_data"
    },
    {
     "data": {
      "text/html": [
       "<pre style=\"white-space:pre;overflow-x:auto;line-height:normal;font-family:Menlo,'DejaVu Sans Mono',consolas,'Courier New',monospace\">2024.10.14 10:37:06.604 |MainThread   | INFO    | geometry.py:617 -    draw_cylinders_3D() | model - Plotting cylinder in 3D\n",
       "</pre>\n"
      ],
      "text/plain": [
       "2024.10.14 10:37:06.604 |MainThread   | INFO    | geometry.py:617 -    draw_cylinders_3D() | model - Plotting cylinder in 3D\n"
      ]
     },
     "metadata": {},
     "output_type": "display_data"
    },
    {
     "data": {
      "text/html": [
       "<pre style=\"white-space:pre;overflow-x:auto;line-height:normal;font-family:Menlo,'DejaVu Sans Mono',consolas,'Courier New',monospace\">2024.10.14 10:37:06.615 |MainThread   | INFO    | geometry.py:617 -    draw_cylinders_3D() | model - Plotting cylinder in 3D\n",
       "</pre>\n"
      ],
      "text/plain": [
       "2024.10.14 10:37:06.615 |MainThread   | INFO    | geometry.py:617 -    draw_cylinders_3D() | model - Plotting cylinder in 3D\n"
      ]
     },
     "metadata": {},
     "output_type": "display_data"
    },
    {
     "data": {
      "text/html": [
       "<pre style=\"white-space:pre;overflow-x:auto;line-height:normal;font-family:Menlo,'DejaVu Sans Mono',consolas,'Courier New',monospace\">2024.10.14 10:37:06.622 |MainThread   | INFO    | geometry.py:617 -    draw_cylinders_3D() | model - Plotting cylinder in 3D\n",
       "</pre>\n"
      ],
      "text/plain": [
       "2024.10.14 10:37:06.622 |MainThread   | INFO    | geometry.py:617 -    draw_cylinders_3D() | model - Plotting cylinder in 3D\n"
      ]
     },
     "metadata": {},
     "output_type": "display_data"
    },
    {
     "data": {
      "text/html": [
       "<pre style=\"white-space:pre;overflow-x:auto;line-height:normal;font-family:Menlo,'DejaVu Sans Mono',consolas,'Courier New',monospace\">2024.10.14 10:37:06.631 |MainThread   | INFO    | geometry.py:617 -    draw_cylinders_3D() | model - Plotting cylinder in 3D\n",
       "</pre>\n"
      ],
      "text/plain": [
       "2024.10.14 10:37:06.631 |MainThread   | INFO    | geometry.py:617 -    draw_cylinders_3D() | model - Plotting cylinder in 3D\n"
      ]
     },
     "metadata": {},
     "output_type": "display_data"
    },
    {
     "data": {
      "text/html": [
       "<pre style=\"white-space:pre;overflow-x:auto;line-height:normal;font-family:Menlo,'DejaVu Sans Mono',consolas,'Courier New',monospace\">2024.10.14 10:37:06.637 |MainThread   | INFO    | geometry.py:617 -    draw_cylinders_3D() | model - Plotting cylinder in 3D\n",
       "</pre>\n"
      ],
      "text/plain": [
       "2024.10.14 10:37:06.637 |MainThread   | INFO    | geometry.py:617 -    draw_cylinders_3D() | model - Plotting cylinder in 3D\n"
      ]
     },
     "metadata": {},
     "output_type": "display_data"
    },
    {
     "data": {
      "text/html": [
       "<pre style=\"white-space:pre;overflow-x:auto;line-height:normal;font-family:Menlo,'DejaVu Sans Mono',consolas,'Courier New',monospace\">2024.10.14 10:37:06.645 |MainThread   | INFO    | geometry.py:617 -    draw_cylinders_3D() | model - Plotting cylinder in 3D\n",
       "</pre>\n"
      ],
      "text/plain": [
       "2024.10.14 10:37:06.645 |MainThread   | INFO    | geometry.py:617 -    draw_cylinders_3D() | model - Plotting cylinder in 3D\n"
      ]
     },
     "metadata": {},
     "output_type": "display_data"
    },
    {
     "data": {
      "text/html": [
       "<pre style=\"white-space:pre;overflow-x:auto;line-height:normal;font-family:Menlo,'DejaVu Sans Mono',consolas,'Courier New',monospace\">2024.10.14 10:37:06.652 |MainThread   | INFO    | geometry.py:617 -    draw_cylinders_3D() | model - Plotting cylinder in 3D\n",
       "</pre>\n"
      ],
      "text/plain": [
       "2024.10.14 10:37:06.652 |MainThread   | INFO    | geometry.py:617 -    draw_cylinders_3D() | model - Plotting cylinder in 3D\n"
      ]
     },
     "metadata": {},
     "output_type": "display_data"
    },
    {
     "data": {
      "text/html": [
       "<pre style=\"white-space:pre;overflow-x:auto;line-height:normal;font-family:Menlo,'DejaVu Sans Mono',consolas,'Courier New',monospace\">2024.10.14 10:37:06.658 |MainThread   | INFO    | geometry.py:617 -    draw_cylinders_3D() | model - Plotting cylinder in 3D\n",
       "</pre>\n"
      ],
      "text/plain": [
       "2024.10.14 10:37:06.658 |MainThread   | INFO    | geometry.py:617 -    draw_cylinders_3D() | model - Plotting cylinder in 3D\n"
      ]
     },
     "metadata": {},
     "output_type": "display_data"
    },
    {
     "data": {
      "text/html": [
       "<pre style=\"white-space:pre;overflow-x:auto;line-height:normal;font-family:Menlo,'DejaVu Sans Mono',consolas,'Courier New',monospace\">2024.10.14 10:37:06.667 |MainThread   | INFO    | geometry.py:617 -    draw_cylinders_3D() | model - Plotting cylinder in 3D\n",
       "</pre>\n"
      ],
      "text/plain": [
       "2024.10.14 10:37:06.667 |MainThread   | INFO    | geometry.py:617 -    draw_cylinders_3D() | model - Plotting cylinder in 3D\n"
      ]
     },
     "metadata": {},
     "output_type": "display_data"
    },
    {
     "data": {
      "text/html": [
       "<pre style=\"white-space:pre;overflow-x:auto;line-height:normal;font-family:Menlo,'DejaVu Sans Mono',consolas,'Courier New',monospace\">2024.10.14 10:37:06.674 |MainThread   | INFO    | geometry.py:617 -    draw_cylinders_3D() | model - Plotting cylinder in 3D\n",
       "</pre>\n"
      ],
      "text/plain": [
       "2024.10.14 10:37:06.674 |MainThread   | INFO    | geometry.py:617 -    draw_cylinders_3D() | model - Plotting cylinder in 3D\n"
      ]
     },
     "metadata": {},
     "output_type": "display_data"
    },
    {
     "data": {
      "text/html": [
       "<pre style=\"white-space:pre;overflow-x:auto;line-height:normal;font-family:Menlo,'DejaVu Sans Mono',consolas,'Courier New',monospace\">2024.10.14 10:37:06.683 |MainThread   | INFO    | geometry.py:617 -    draw_cylinders_3D() | model - Plotting cylinder in 3D\n",
       "</pre>\n"
      ],
      "text/plain": [
       "2024.10.14 10:37:06.683 |MainThread   | INFO    | geometry.py:617 -    draw_cylinders_3D() | model - Plotting cylinder in 3D\n"
      ]
     },
     "metadata": {},
     "output_type": "display_data"
    },
    {
     "data": {
      "text/html": [
       "<pre style=\"white-space:pre;overflow-x:auto;line-height:normal;font-family:Menlo,'DejaVu Sans Mono',consolas,'Courier New',monospace\">2024.10.14 10:37:06.696 |MainThread   | INFO    | geometry.py:617 -    draw_cylinders_3D() | model - Plotting cylinder in 3D\n",
       "</pre>\n"
      ],
      "text/plain": [
       "2024.10.14 10:37:06.696 |MainThread   | INFO    | geometry.py:617 -    draw_cylinders_3D() | model - Plotting cylinder in 3D\n"
      ]
     },
     "metadata": {},
     "output_type": "display_data"
    },
    {
     "data": {
      "text/html": [
       "<pre style=\"white-space:pre;overflow-x:auto;line-height:normal;font-family:Menlo,'DejaVu Sans Mono',consolas,'Courier New',monospace\">2024.10.14 10:37:06.703 |MainThread   | INFO    | geometry.py:617 -    draw_cylinders_3D() | model - Plotting cylinder in 3D\n",
       "</pre>\n"
      ],
      "text/plain": [
       "2024.10.14 10:37:06.703 |MainThread   | INFO    | geometry.py:617 -    draw_cylinders_3D() | model - Plotting cylinder in 3D\n"
      ]
     },
     "metadata": {},
     "output_type": "display_data"
    },
    {
     "data": {
      "text/html": [
       "<pre style=\"white-space:pre;overflow-x:auto;line-height:normal;font-family:Menlo,'DejaVu Sans Mono',consolas,'Courier New',monospace\">2024.10.14 10:37:06.714 |MainThread   | INFO    | geometry.py:617 -    draw_cylinders_3D() | model - Plotting cylinder in 3D\n",
       "</pre>\n"
      ],
      "text/plain": [
       "2024.10.14 10:37:06.714 |MainThread   | INFO    | geometry.py:617 -    draw_cylinders_3D() | model - Plotting cylinder in 3D\n"
      ]
     },
     "metadata": {},
     "output_type": "display_data"
    },
    {
     "data": {
      "text/html": [
       "<pre style=\"white-space:pre;overflow-x:auto;line-height:normal;font-family:Menlo,'DejaVu Sans Mono',consolas,'Courier New',monospace\">2024.10.14 10:37:06.722 |MainThread   | INFO    | geometry.py:617 -    draw_cylinders_3D() | model - Plotting cylinder in 3D\n",
       "</pre>\n"
      ],
      "text/plain": [
       "2024.10.14 10:37:06.722 |MainThread   | INFO    | geometry.py:617 -    draw_cylinders_3D() | model - Plotting cylinder in 3D\n"
      ]
     },
     "metadata": {},
     "output_type": "display_data"
    },
    {
     "data": {
      "text/html": [
       "<pre style=\"white-space:pre;overflow-x:auto;line-height:normal;font-family:Menlo,'DejaVu Sans Mono',consolas,'Courier New',monospace\">2024.10.14 10:37:06.733 |MainThread   | INFO    | geometry.py:617 -    draw_cylinders_3D() | model - Plotting cylinder in 3D\n",
       "</pre>\n"
      ],
      "text/plain": [
       "2024.10.14 10:37:06.733 |MainThread   | INFO    | geometry.py:617 -    draw_cylinders_3D() | model - Plotting cylinder in 3D\n"
      ]
     },
     "metadata": {},
     "output_type": "display_data"
    },
    {
     "data": {
      "text/html": [
       "<pre style=\"white-space:pre;overflow-x:auto;line-height:normal;font-family:Menlo,'DejaVu Sans Mono',consolas,'Courier New',monospace\">2024.10.14 10:37:06.741 |MainThread   | INFO    | geometry.py:617 -    draw_cylinders_3D() | model - Plotting cylinder in 3D\n",
       "</pre>\n"
      ],
      "text/plain": [
       "2024.10.14 10:37:06.741 |MainThread   | INFO    | geometry.py:617 -    draw_cylinders_3D() | model - Plotting cylinder in 3D\n"
      ]
     },
     "metadata": {},
     "output_type": "display_data"
    },
    {
     "data": {
      "text/html": [
       "<pre style=\"white-space:pre;overflow-x:auto;line-height:normal;font-family:Menlo,'DejaVu Sans Mono',consolas,'Courier New',monospace\">2024.10.14 10:37:06.751 |MainThread   | INFO    | geometry.py:617 -    draw_cylinders_3D() | model - Plotting cylinder in 3D\n",
       "</pre>\n"
      ],
      "text/plain": [
       "2024.10.14 10:37:06.751 |MainThread   | INFO    | geometry.py:617 -    draw_cylinders_3D() | model - Plotting cylinder in 3D\n"
      ]
     },
     "metadata": {},
     "output_type": "display_data"
    },
    {
     "data": {
      "text/html": [
       "<pre style=\"white-space:pre;overflow-x:auto;line-height:normal;font-family:Menlo,'DejaVu Sans Mono',consolas,'Courier New',monospace\">2024.10.14 10:37:06.762 |MainThread   | INFO    | geometry.py:617 -    draw_cylinders_3D() | model - Plotting cylinder in 3D\n",
       "</pre>\n"
      ],
      "text/plain": [
       "2024.10.14 10:37:06.762 |MainThread   | INFO    | geometry.py:617 -    draw_cylinders_3D() | model - Plotting cylinder in 3D\n"
      ]
     },
     "metadata": {},
     "output_type": "display_data"
    },
    {
     "data": {
      "text/html": [
       "<pre style=\"white-space:pre;overflow-x:auto;line-height:normal;font-family:Menlo,'DejaVu Sans Mono',consolas,'Courier New',monospace\">2024.10.14 10:37:06.773 |MainThread   | INFO    | geometry.py:617 -    draw_cylinders_3D() | model - Plotting cylinder in 3D\n",
       "</pre>\n"
      ],
      "text/plain": [
       "2024.10.14 10:37:06.773 |MainThread   | INFO    | geometry.py:617 -    draw_cylinders_3D() | model - Plotting cylinder in 3D\n"
      ]
     },
     "metadata": {},
     "output_type": "display_data"
    },
    {
     "data": {
      "text/html": [
       "<pre style=\"white-space:pre;overflow-x:auto;line-height:normal;font-family:Menlo,'DejaVu Sans Mono',consolas,'Courier New',monospace\">2024.10.14 10:37:06.784 |MainThread   | INFO    | geometry.py:617 -    draw_cylinders_3D() | model - Plotting cylinder in 3D\n",
       "</pre>\n"
      ],
      "text/plain": [
       "2024.10.14 10:37:06.784 |MainThread   | INFO    | geometry.py:617 -    draw_cylinders_3D() | model - Plotting cylinder in 3D\n"
      ]
     },
     "metadata": {},
     "output_type": "display_data"
    },
    {
     "data": {
      "text/html": [
       "<pre style=\"white-space:pre;overflow-x:auto;line-height:normal;font-family:Menlo,'DejaVu Sans Mono',consolas,'Courier New',monospace\">2024.10.14 10:37:06.795 |MainThread   | INFO    | geometry.py:617 -    draw_cylinders_3D() | model - Plotting cylinder in 3D\n",
       "</pre>\n"
      ],
      "text/plain": [
       "2024.10.14 10:37:06.795 |MainThread   | INFO    | geometry.py:617 -    draw_cylinders_3D() | model - Plotting cylinder in 3D\n"
      ]
     },
     "metadata": {},
     "output_type": "display_data"
    },
    {
     "data": {
      "text/html": [
       "<pre style=\"white-space:pre;overflow-x:auto;line-height:normal;font-family:Menlo,'DejaVu Sans Mono',consolas,'Courier New',monospace\">2024.10.14 10:37:06.802 |MainThread   | INFO    | geometry.py:617 -    draw_cylinders_3D() | model - Plotting cylinder in 3D\n",
       "</pre>\n"
      ],
      "text/plain": [
       "2024.10.14 10:37:06.802 |MainThread   | INFO    | geometry.py:617 -    draw_cylinders_3D() | model - Plotting cylinder in 3D\n"
      ]
     },
     "metadata": {},
     "output_type": "display_data"
    },
    {
     "data": {
      "text/html": [
       "<pre style=\"white-space:pre;overflow-x:auto;line-height:normal;font-family:Menlo,'DejaVu Sans Mono',consolas,'Courier New',monospace\">2024.10.14 10:37:06.813 |MainThread   | INFO    | geometry.py:617 -    draw_cylinders_3D() | model - Plotting cylinder in 3D\n",
       "</pre>\n"
      ],
      "text/plain": [
       "2024.10.14 10:37:06.813 |MainThread   | INFO    | geometry.py:617 -    draw_cylinders_3D() | model - Plotting cylinder in 3D\n"
      ]
     },
     "metadata": {},
     "output_type": "display_data"
    },
    {
     "data": {
      "text/html": [
       "<pre style=\"white-space:pre;overflow-x:auto;line-height:normal;font-family:Menlo,'DejaVu Sans Mono',consolas,'Courier New',monospace\">2024.10.14 10:37:06.821 |MainThread   | INFO    | geometry.py:617 -    draw_cylinders_3D() | model - Plotting cylinder in 3D\n",
       "</pre>\n"
      ],
      "text/plain": [
       "2024.10.14 10:37:06.821 |MainThread   | INFO    | geometry.py:617 -    draw_cylinders_3D() | model - Plotting cylinder in 3D\n"
      ]
     },
     "metadata": {},
     "output_type": "display_data"
    },
    {
     "data": {
      "text/html": [
       "<pre style=\"white-space:pre;overflow-x:auto;line-height:normal;font-family:Menlo,'DejaVu Sans Mono',consolas,'Courier New',monospace\">2024.10.14 10:37:06.833 |MainThread   | INFO    | geometry.py:617 -    draw_cylinders_3D() | model - Plotting cylinder in 3D\n",
       "</pre>\n"
      ],
      "text/plain": [
       "2024.10.14 10:37:06.833 |MainThread   | INFO    | geometry.py:617 -    draw_cylinders_3D() | model - Plotting cylinder in 3D\n"
      ]
     },
     "metadata": {},
     "output_type": "display_data"
    },
    {
     "data": {
      "text/html": [
       "<pre style=\"white-space:pre;overflow-x:auto;line-height:normal;font-family:Menlo,'DejaVu Sans Mono',consolas,'Courier New',monospace\">2024.10.14 10:37:06.845 |MainThread   | INFO    | geometry.py:617 -    draw_cylinders_3D() | model - Plotting cylinder in 3D\n",
       "</pre>\n"
      ],
      "text/plain": [
       "2024.10.14 10:37:06.845 |MainThread   | INFO    | geometry.py:617 -    draw_cylinders_3D() | model - Plotting cylinder in 3D\n"
      ]
     },
     "metadata": {},
     "output_type": "display_data"
    },
    {
     "data": {
      "text/html": [
       "<pre style=\"white-space:pre;overflow-x:auto;line-height:normal;font-family:Menlo,'DejaVu Sans Mono',consolas,'Courier New',monospace\">2024.10.14 10:37:06.854 |MainThread   | INFO    | geometry.py:617 -    draw_cylinders_3D() | model - Plotting cylinder in 3D\n",
       "</pre>\n"
      ],
      "text/plain": [
       "2024.10.14 10:37:06.854 |MainThread   | INFO    | geometry.py:617 -    draw_cylinders_3D() | model - Plotting cylinder in 3D\n"
      ]
     },
     "metadata": {},
     "output_type": "display_data"
    },
    {
     "data": {
      "text/html": [
       "<pre style=\"white-space:pre;overflow-x:auto;line-height:normal;font-family:Menlo,'DejaVu Sans Mono',consolas,'Courier New',monospace\">2024.10.14 10:37:06.864 |MainThread   | INFO    | geometry.py:617 -    draw_cylinders_3D() | model - Plotting cylinder in 3D\n",
       "</pre>\n"
      ],
      "text/plain": [
       "2024.10.14 10:37:06.864 |MainThread   | INFO    | geometry.py:617 -    draw_cylinders_3D() | model - Plotting cylinder in 3D\n"
      ]
     },
     "metadata": {},
     "output_type": "display_data"
    },
    {
     "data": {
      "text/html": [
       "<pre style=\"white-space:pre;overflow-x:auto;line-height:normal;font-family:Menlo,'DejaVu Sans Mono',consolas,'Courier New',monospace\">2024.10.14 10:37:06.871 |MainThread   | INFO    | geometry.py:617 -    draw_cylinders_3D() | model - Plotting cylinder in 3D\n",
       "</pre>\n"
      ],
      "text/plain": [
       "2024.10.14 10:37:06.871 |MainThread   | INFO    | geometry.py:617 -    draw_cylinders_3D() | model - Plotting cylinder in 3D\n"
      ]
     },
     "metadata": {},
     "output_type": "display_data"
    },
    {
     "data": {
      "text/html": [
       "<pre style=\"white-space:pre;overflow-x:auto;line-height:normal;font-family:Menlo,'DejaVu Sans Mono',consolas,'Courier New',monospace\">2024.10.14 10:37:06.884 |MainThread   | INFO    | geometry.py:617 -    draw_cylinders_3D() | model - Plotting cylinder in 3D\n",
       "</pre>\n"
      ],
      "text/plain": [
       "2024.10.14 10:37:06.884 |MainThread   | INFO    | geometry.py:617 -    draw_cylinders_3D() | model - Plotting cylinder in 3D\n"
      ]
     },
     "metadata": {},
     "output_type": "display_data"
    },
    {
     "data": {
      "text/html": [
       "<pre style=\"white-space:pre;overflow-x:auto;line-height:normal;font-family:Menlo,'DejaVu Sans Mono',consolas,'Courier New',monospace\">2024.10.14 10:37:06.896 |MainThread   | INFO    | geometry.py:617 -    draw_cylinders_3D() | model - Plotting cylinder in 3D\n",
       "</pre>\n"
      ],
      "text/plain": [
       "2024.10.14 10:37:06.896 |MainThread   | INFO    | geometry.py:617 -    draw_cylinders_3D() | model - Plotting cylinder in 3D\n"
      ]
     },
     "metadata": {},
     "output_type": "display_data"
    },
    {
     "data": {
      "text/html": [
       "<pre style=\"white-space:pre;overflow-x:auto;line-height:normal;font-family:Menlo,'DejaVu Sans Mono',consolas,'Courier New',monospace\">2024.10.14 10:37:06.904 |MainThread   | INFO    | geometry.py:617 -    draw_cylinders_3D() | model - Plotting cylinder in 3D\n",
       "</pre>\n"
      ],
      "text/plain": [
       "2024.10.14 10:37:06.904 |MainThread   | INFO    | geometry.py:617 -    draw_cylinders_3D() | model - Plotting cylinder in 3D\n"
      ]
     },
     "metadata": {},
     "output_type": "display_data"
    },
    {
     "data": {
      "text/html": [
       "<pre style=\"white-space:pre;overflow-x:auto;line-height:normal;font-family:Menlo,'DejaVu Sans Mono',consolas,'Courier New',monospace\">2024.10.14 10:37:06.915 |MainThread   | INFO    | geometry.py:617 -    draw_cylinders_3D() | model - Plotting cylinder in 3D\n",
       "</pre>\n"
      ],
      "text/plain": [
       "2024.10.14 10:37:06.915 |MainThread   | INFO    | geometry.py:617 -    draw_cylinders_3D() | model - Plotting cylinder in 3D\n"
      ]
     },
     "metadata": {},
     "output_type": "display_data"
    },
    {
     "data": {
      "text/html": [
       "<pre style=\"white-space:pre;overflow-x:auto;line-height:normal;font-family:Menlo,'DejaVu Sans Mono',consolas,'Courier New',monospace\">2024.10.14 10:37:06.924 |MainThread   | INFO    | geometry.py:617 -    draw_cylinders_3D() | model - Plotting cylinder in 3D\n",
       "</pre>\n"
      ],
      "text/plain": [
       "2024.10.14 10:37:06.924 |MainThread   | INFO    | geometry.py:617 -    draw_cylinders_3D() | model - Plotting cylinder in 3D\n"
      ]
     },
     "metadata": {},
     "output_type": "display_data"
    },
    {
     "data": {
      "text/html": [
       "<pre style=\"white-space:pre;overflow-x:auto;line-height:normal;font-family:Menlo,'DejaVu Sans Mono',consolas,'Courier New',monospace\">2024.10.14 10:37:06.935 |MainThread   | INFO    | geometry.py:617 -    draw_cylinders_3D() | model - Plotting cylinder in 3D\n",
       "</pre>\n"
      ],
      "text/plain": [
       "2024.10.14 10:37:06.935 |MainThread   | INFO    | geometry.py:617 -    draw_cylinders_3D() | model - Plotting cylinder in 3D\n"
      ]
     },
     "metadata": {},
     "output_type": "display_data"
    },
    {
     "data": {
      "text/html": [
       "<pre style=\"white-space:pre;overflow-x:auto;line-height:normal;font-family:Menlo,'DejaVu Sans Mono',consolas,'Courier New',monospace\">2024.10.14 10:37:06.946 |MainThread   | INFO    | geometry.py:617 -    draw_cylinders_3D() | model - Plotting cylinder in 3D\n",
       "</pre>\n"
      ],
      "text/plain": [
       "2024.10.14 10:37:06.946 |MainThread   | INFO    | geometry.py:617 -    draw_cylinders_3D() | model - Plotting cylinder in 3D\n"
      ]
     },
     "metadata": {},
     "output_type": "display_data"
    },
    {
     "data": {
      "text/html": [
       "<pre style=\"white-space:pre;overflow-x:auto;line-height:normal;font-family:Menlo,'DejaVu Sans Mono',consolas,'Courier New',monospace\">2024.10.14 10:37:06.953 |MainThread   | INFO    | geometry.py:617 -    draw_cylinders_3D() | model - Plotting cylinder in 3D\n",
       "</pre>\n"
      ],
      "text/plain": [
       "2024.10.14 10:37:06.953 |MainThread   | INFO    | geometry.py:617 -    draw_cylinders_3D() | model - Plotting cylinder in 3D\n"
      ]
     },
     "metadata": {},
     "output_type": "display_data"
    },
    {
     "data": {
      "text/html": [
       "<pre style=\"white-space:pre;overflow-x:auto;line-height:normal;font-family:Menlo,'DejaVu Sans Mono',consolas,'Courier New',monospace\">2024.10.14 10:37:06.965 |MainThread   | INFO    | geometry.py:617 -    draw_cylinders_3D() | model - Plotting cylinder in 3D\n",
       "</pre>\n"
      ],
      "text/plain": [
       "2024.10.14 10:37:06.965 |MainThread   | INFO    | geometry.py:617 -    draw_cylinders_3D() | model - Plotting cylinder in 3D\n"
      ]
     },
     "metadata": {},
     "output_type": "display_data"
    },
    {
     "data": {
      "text/html": [
       "<pre style=\"white-space:pre;overflow-x:auto;line-height:normal;font-family:Menlo,'DejaVu Sans Mono',consolas,'Courier New',monospace\">2024.10.14 10:37:06.980 |MainThread   | INFO    | geometry.py:617 -    draw_cylinders_3D() | model - Plotting cylinder in 3D\n",
       "</pre>\n"
      ],
      "text/plain": [
       "2024.10.14 10:37:06.980 |MainThread   | INFO    | geometry.py:617 -    draw_cylinders_3D() | model - Plotting cylinder in 3D\n"
      ]
     },
     "metadata": {},
     "output_type": "display_data"
    },
    {
     "data": {
      "text/html": [
       "<pre style=\"white-space:pre;overflow-x:auto;line-height:normal;font-family:Menlo,'DejaVu Sans Mono',consolas,'Courier New',monospace\">2024.10.14 10:37:06.994 |MainThread   | INFO    | geometry.py:617 -    draw_cylinders_3D() | model - Plotting cylinder in 3D\n",
       "</pre>\n"
      ],
      "text/plain": [
       "2024.10.14 10:37:06.994 |MainThread   | INFO    | geometry.py:617 -    draw_cylinders_3D() | model - Plotting cylinder in 3D\n"
      ]
     },
     "metadata": {},
     "output_type": "display_data"
    },
    {
     "data": {
      "text/html": [
       "<pre style=\"white-space:pre;overflow-x:auto;line-height:normal;font-family:Menlo,'DejaVu Sans Mono',consolas,'Courier New',monospace\">2024.10.14 10:37:07.011 |MainThread   | INFO    | geometry.py:617 -    draw_cylinders_3D() | model - Plotting cylinder in 3D\n",
       "</pre>\n"
      ],
      "text/plain": [
       "2024.10.14 10:37:07.011 |MainThread   | INFO    | geometry.py:617 -    draw_cylinders_3D() | model - Plotting cylinder in 3D\n"
      ]
     },
     "metadata": {},
     "output_type": "display_data"
    },
    {
     "data": {
      "text/html": [
       "<pre style=\"white-space:pre;overflow-x:auto;line-height:normal;font-family:Menlo,'DejaVu Sans Mono',consolas,'Courier New',monospace\">2024.10.14 10:37:07.029 |MainThread   | INFO    | geometry.py:617 -    draw_cylinders_3D() | model - Plotting cylinder in 3D\n",
       "</pre>\n"
      ],
      "text/plain": [
       "2024.10.14 10:37:07.029 |MainThread   | INFO    | geometry.py:617 -    draw_cylinders_3D() | model - Plotting cylinder in 3D\n"
      ]
     },
     "metadata": {},
     "output_type": "display_data"
    },
    {
     "data": {
      "text/html": [
       "<pre style=\"white-space:pre;overflow-x:auto;line-height:normal;font-family:Menlo,'DejaVu Sans Mono',consolas,'Courier New',monospace\">2024.10.14 10:37:07.044 |MainThread   | INFO    | geometry.py:617 -    draw_cylinders_3D() | model - Plotting cylinder in 3D\n",
       "</pre>\n"
      ],
      "text/plain": [
       "2024.10.14 10:37:07.044 |MainThread   | INFO    | geometry.py:617 -    draw_cylinders_3D() | model - Plotting cylinder in 3D\n"
      ]
     },
     "metadata": {},
     "output_type": "display_data"
    },
    {
     "data": {
      "text/html": [
       "<pre style=\"white-space:pre;overflow-x:auto;line-height:normal;font-family:Menlo,'DejaVu Sans Mono',consolas,'Courier New',monospace\">2024.10.14 10:37:07.060 |MainThread   | INFO    | geometry.py:617 -    draw_cylinders_3D() | model - Plotting cylinder in 3D\n",
       "</pre>\n"
      ],
      "text/plain": [
       "2024.10.14 10:37:07.060 |MainThread   | INFO    | geometry.py:617 -    draw_cylinders_3D() | model - Plotting cylinder in 3D\n"
      ]
     },
     "metadata": {},
     "output_type": "display_data"
    },
    {
     "data": {
      "text/html": [
       "<pre style=\"white-space:pre;overflow-x:auto;line-height:normal;font-family:Menlo,'DejaVu Sans Mono',consolas,'Courier New',monospace\">2024.10.14 10:37:07.073 |MainThread   | INFO    | geometry.py:617 -    draw_cylinders_3D() | model - Plotting cylinder in 3D\n",
       "</pre>\n"
      ],
      "text/plain": [
       "2024.10.14 10:37:07.073 |MainThread   | INFO    | geometry.py:617 -    draw_cylinders_3D() | model - Plotting cylinder in 3D\n"
      ]
     },
     "metadata": {},
     "output_type": "display_data"
    },
    {
     "data": {
      "text/html": [
       "<pre style=\"white-space:pre;overflow-x:auto;line-height:normal;font-family:Menlo,'DejaVu Sans Mono',consolas,'Courier New',monospace\">2024.10.14 10:37:07.087 |MainThread   | INFO    | geometry.py:617 -    draw_cylinders_3D() | model - Plotting cylinder in 3D\n",
       "</pre>\n"
      ],
      "text/plain": [
       "2024.10.14 10:37:07.087 |MainThread   | INFO    | geometry.py:617 -    draw_cylinders_3D() | model - Plotting cylinder in 3D\n"
      ]
     },
     "metadata": {},
     "output_type": "display_data"
    },
    {
     "data": {
      "text/html": [
       "<pre style=\"white-space:pre;overflow-x:auto;line-height:normal;font-family:Menlo,'DejaVu Sans Mono',consolas,'Courier New',monospace\">2024.10.14 10:37:07.103 |MainThread   | INFO    | geometry.py:617 -    draw_cylinders_3D() | model - Plotting cylinder in 3D\n",
       "</pre>\n"
      ],
      "text/plain": [
       "2024.10.14 10:37:07.103 |MainThread   | INFO    | geometry.py:617 -    draw_cylinders_3D() | model - Plotting cylinder in 3D\n"
      ]
     },
     "metadata": {},
     "output_type": "display_data"
    },
    {
     "data": {
      "text/html": [
       "<pre style=\"white-space:pre;overflow-x:auto;line-height:normal;font-family:Menlo,'DejaVu Sans Mono',consolas,'Courier New',monospace\">2024.10.14 10:37:07.116 |MainThread   | INFO    | geometry.py:617 -    draw_cylinders_3D() | model - Plotting cylinder in 3D\n",
       "</pre>\n"
      ],
      "text/plain": [
       "2024.10.14 10:37:07.116 |MainThread   | INFO    | geometry.py:617 -    draw_cylinders_3D() | model - Plotting cylinder in 3D\n"
      ]
     },
     "metadata": {},
     "output_type": "display_data"
    },
    {
     "data": {
      "text/html": [
       "<pre style=\"white-space:pre;overflow-x:auto;line-height:normal;font-family:Menlo,'DejaVu Sans Mono',consolas,'Courier New',monospace\">2024.10.14 10:37:07.132 |MainThread   | INFO    | geometry.py:617 -    draw_cylinders_3D() | model - Plotting cylinder in 3D\n",
       "</pre>\n"
      ],
      "text/plain": [
       "2024.10.14 10:37:07.132 |MainThread   | INFO    | geometry.py:617 -    draw_cylinders_3D() | model - Plotting cylinder in 3D\n"
      ]
     },
     "metadata": {},
     "output_type": "display_data"
    },
    {
     "data": {
      "text/html": [
       "<pre style=\"white-space:pre;overflow-x:auto;line-height:normal;font-family:Menlo,'DejaVu Sans Mono',consolas,'Courier New',monospace\">2024.10.14 10:37:07.147 |MainThread   | INFO    | geometry.py:617 -    draw_cylinders_3D() | model - Plotting cylinder in 3D\n",
       "</pre>\n"
      ],
      "text/plain": [
       "2024.10.14 10:37:07.147 |MainThread   | INFO    | geometry.py:617 -    draw_cylinders_3D() | model - Plotting cylinder in 3D\n"
      ]
     },
     "metadata": {},
     "output_type": "display_data"
    },
    {
     "data": {
      "text/html": [
       "<pre style=\"white-space:pre;overflow-x:auto;line-height:normal;font-family:Menlo,'DejaVu Sans Mono',consolas,'Courier New',monospace\">2024.10.14 10:37:07.627 |MainThread   | INFO    | geometry.py:617 -    draw_cylinders_3D() | model - Plotting cylinder in 3D\n",
       "</pre>\n"
      ],
      "text/plain": [
       "2024.10.14 10:37:07.627 |MainThread   | INFO    | geometry.py:617 -    draw_cylinders_3D() | model - Plotting cylinder in 3D\n"
      ]
     },
     "metadata": {},
     "output_type": "display_data"
    },
    {
     "data": {
      "text/html": [
       "<pre style=\"white-space:pre;overflow-x:auto;line-height:normal;font-family:Menlo,'DejaVu Sans Mono',consolas,'Courier New',monospace\">2024.10.14 10:37:07.634 |MainThread   | INFO    | geometry.py:617 -    draw_cylinders_3D() | model - Plotting cylinder in 3D\n",
       "</pre>\n"
      ],
      "text/plain": [
       "2024.10.14 10:37:07.634 |MainThread   | INFO    | geometry.py:617 -    draw_cylinders_3D() | model - Plotting cylinder in 3D\n"
      ]
     },
     "metadata": {},
     "output_type": "display_data"
    },
    {
     "data": {
      "text/html": [
       "<pre style=\"white-space:pre;overflow-x:auto;line-height:normal;font-family:Menlo,'DejaVu Sans Mono',consolas,'Courier New',monospace\">2024.10.14 10:37:07.642 |MainThread   | INFO    | geometry.py:617 -    draw_cylinders_3D() | model - Plotting cylinder in 3D\n",
       "</pre>\n"
      ],
      "text/plain": [
       "2024.10.14 10:37:07.642 |MainThread   | INFO    | geometry.py:617 -    draw_cylinders_3D() | model - Plotting cylinder in 3D\n"
      ]
     },
     "metadata": {},
     "output_type": "display_data"
    },
    {
     "data": {
      "text/html": [
       "<pre style=\"white-space:pre;overflow-x:auto;line-height:normal;font-family:Menlo,'DejaVu Sans Mono',consolas,'Courier New',monospace\">2024.10.14 10:37:07.653 |MainThread   | INFO    | geometry.py:617 -    draw_cylinders_3D() | model - Plotting cylinder in 3D\n",
       "</pre>\n"
      ],
      "text/plain": [
       "2024.10.14 10:37:07.653 |MainThread   | INFO    | geometry.py:617 -    draw_cylinders_3D() | model - Plotting cylinder in 3D\n"
      ]
     },
     "metadata": {},
     "output_type": "display_data"
    },
    {
     "data": {
      "text/html": [
       "<pre style=\"white-space:pre;overflow-x:auto;line-height:normal;font-family:Menlo,'DejaVu Sans Mono',consolas,'Courier New',monospace\">2024.10.14 10:37:07.663 |MainThread   | INFO    | geometry.py:617 -    draw_cylinders_3D() | model - Plotting cylinder in 3D\n",
       "</pre>\n"
      ],
      "text/plain": [
       "2024.10.14 10:37:07.663 |MainThread   | INFO    | geometry.py:617 -    draw_cylinders_3D() | model - Plotting cylinder in 3D\n"
      ]
     },
     "metadata": {},
     "output_type": "display_data"
    },
    {
     "data": {
      "text/html": [
       "<pre style=\"white-space:pre;overflow-x:auto;line-height:normal;font-family:Menlo,'DejaVu Sans Mono',consolas,'Courier New',monospace\">2024.10.14 10:37:07.670 |MainThread   | INFO    | geometry.py:617 -    draw_cylinders_3D() | model - Plotting cylinder in 3D\n",
       "</pre>\n"
      ],
      "text/plain": [
       "2024.10.14 10:37:07.670 |MainThread   | INFO    | geometry.py:617 -    draw_cylinders_3D() | model - Plotting cylinder in 3D\n"
      ]
     },
     "metadata": {},
     "output_type": "display_data"
    },
    {
     "data": {
      "text/html": [
       "<pre style=\"white-space:pre;overflow-x:auto;line-height:normal;font-family:Menlo,'DejaVu Sans Mono',consolas,'Courier New',monospace\">2024.10.14 10:37:07.684 |MainThread   | INFO    | geometry.py:617 -    draw_cylinders_3D() | model - Plotting cylinder in 3D\n",
       "</pre>\n"
      ],
      "text/plain": [
       "2024.10.14 10:37:07.684 |MainThread   | INFO    | geometry.py:617 -    draw_cylinders_3D() | model - Plotting cylinder in 3D\n"
      ]
     },
     "metadata": {},
     "output_type": "display_data"
    },
    {
     "data": {
      "text/html": [
       "<pre style=\"white-space:pre;overflow-x:auto;line-height:normal;font-family:Menlo,'DejaVu Sans Mono',consolas,'Courier New',monospace\">2024.10.14 10:37:07.696 |MainThread   | INFO    | geometry.py:617 -    draw_cylinders_3D() | model - Plotting cylinder in 3D\n",
       "</pre>\n"
      ],
      "text/plain": [
       "2024.10.14 10:37:07.696 |MainThread   | INFO    | geometry.py:617 -    draw_cylinders_3D() | model - Plotting cylinder in 3D\n"
      ]
     },
     "metadata": {},
     "output_type": "display_data"
    },
    {
     "data": {
      "text/html": [
       "<pre style=\"white-space:pre;overflow-x:auto;line-height:normal;font-family:Menlo,'DejaVu Sans Mono',consolas,'Courier New',monospace\">2024.10.14 10:37:07.707 |MainThread   | INFO    | geometry.py:617 -    draw_cylinders_3D() | model - Plotting cylinder in 3D\n",
       "</pre>\n"
      ],
      "text/plain": [
       "2024.10.14 10:37:07.707 |MainThread   | INFO    | geometry.py:617 -    draw_cylinders_3D() | model - Plotting cylinder in 3D\n"
      ]
     },
     "metadata": {},
     "output_type": "display_data"
    },
    {
     "data": {
      "text/html": [
       "<pre style=\"white-space:pre;overflow-x:auto;line-height:normal;font-family:Menlo,'DejaVu Sans Mono',consolas,'Courier New',monospace\">2024.10.14 10:37:07.720 |MainThread   | INFO    | geometry.py:617 -    draw_cylinders_3D() | model - Plotting cylinder in 3D\n",
       "</pre>\n"
      ],
      "text/plain": [
       "2024.10.14 10:37:07.720 |MainThread   | INFO    | geometry.py:617 -    draw_cylinders_3D() | model - Plotting cylinder in 3D\n"
      ]
     },
     "metadata": {},
     "output_type": "display_data"
    },
    {
     "data": {
      "text/html": [
       "<pre style=\"white-space:pre;overflow-x:auto;line-height:normal;font-family:Menlo,'DejaVu Sans Mono',consolas,'Courier New',monospace\">2024.10.14 10:37:07.736 |MainThread   | INFO    | geometry.py:617 -    draw_cylinders_3D() | model - Plotting cylinder in 3D\n",
       "</pre>\n"
      ],
      "text/plain": [
       "2024.10.14 10:37:07.736 |MainThread   | INFO    | geometry.py:617 -    draw_cylinders_3D() | model - Plotting cylinder in 3D\n"
      ]
     },
     "metadata": {},
     "output_type": "display_data"
    },
    {
     "data": {
      "text/html": [
       "<pre style=\"white-space:pre;overflow-x:auto;line-height:normal;font-family:Menlo,'DejaVu Sans Mono',consolas,'Courier New',monospace\">2024.10.14 10:37:07.746 |MainThread   | INFO    | geometry.py:617 -    draw_cylinders_3D() | model - Plotting cylinder in 3D\n",
       "</pre>\n"
      ],
      "text/plain": [
       "2024.10.14 10:37:07.746 |MainThread   | INFO    | geometry.py:617 -    draw_cylinders_3D() | model - Plotting cylinder in 3D\n"
      ]
     },
     "metadata": {},
     "output_type": "display_data"
    },
    {
     "data": {
      "text/html": [
       "<pre style=\"white-space:pre;overflow-x:auto;line-height:normal;font-family:Menlo,'DejaVu Sans Mono',consolas,'Courier New',monospace\">2024.10.14 10:37:07.753 |MainThread   | INFO    | geometry.py:617 -    draw_cylinders_3D() | model - Plotting cylinder in 3D\n",
       "</pre>\n"
      ],
      "text/plain": [
       "2024.10.14 10:37:07.753 |MainThread   | INFO    | geometry.py:617 -    draw_cylinders_3D() | model - Plotting cylinder in 3D\n"
      ]
     },
     "metadata": {},
     "output_type": "display_data"
    },
    {
     "data": {
      "text/html": [
       "<pre style=\"white-space:pre;overflow-x:auto;line-height:normal;font-family:Menlo,'DejaVu Sans Mono',consolas,'Courier New',monospace\">2024.10.14 10:37:07.765 |MainThread   | INFO    | geometry.py:617 -    draw_cylinders_3D() | model - Plotting cylinder in 3D\n",
       "</pre>\n"
      ],
      "text/plain": [
       "2024.10.14 10:37:07.765 |MainThread   | INFO    | geometry.py:617 -    draw_cylinders_3D() | model - Plotting cylinder in 3D\n"
      ]
     },
     "metadata": {},
     "output_type": "display_data"
    },
    {
     "data": {
      "text/html": [
       "<pre style=\"white-space:pre;overflow-x:auto;line-height:normal;font-family:Menlo,'DejaVu Sans Mono',consolas,'Courier New',monospace\">2024.10.14 10:37:07.775 |MainThread   | INFO    | geometry.py:617 -    draw_cylinders_3D() | model - Plotting cylinder in 3D\n",
       "</pre>\n"
      ],
      "text/plain": [
       "2024.10.14 10:37:07.775 |MainThread   | INFO    | geometry.py:617 -    draw_cylinders_3D() | model - Plotting cylinder in 3D\n"
      ]
     },
     "metadata": {},
     "output_type": "display_data"
    },
    {
     "data": {
      "text/html": [
       "<pre style=\"white-space:pre;overflow-x:auto;line-height:normal;font-family:Menlo,'DejaVu Sans Mono',consolas,'Courier New',monospace\">2024.10.14 10:37:07.786 |MainThread   | INFO    | geometry.py:617 -    draw_cylinders_3D() | model - Plotting cylinder in 3D\n",
       "</pre>\n"
      ],
      "text/plain": [
       "2024.10.14 10:37:07.786 |MainThread   | INFO    | geometry.py:617 -    draw_cylinders_3D() | model - Plotting cylinder in 3D\n"
      ]
     },
     "metadata": {},
     "output_type": "display_data"
    },
    {
     "data": {
      "text/html": [
       "<pre style=\"white-space:pre;overflow-x:auto;line-height:normal;font-family:Menlo,'DejaVu Sans Mono',consolas,'Courier New',monospace\">2024.10.14 10:37:07.797 |MainThread   | INFO    | geometry.py:617 -    draw_cylinders_3D() | model - Plotting cylinder in 3D\n",
       "</pre>\n"
      ],
      "text/plain": [
       "2024.10.14 10:37:07.797 |MainThread   | INFO    | geometry.py:617 -    draw_cylinders_3D() | model - Plotting cylinder in 3D\n"
      ]
     },
     "metadata": {},
     "output_type": "display_data"
    },
    {
     "data": {
      "text/html": [
       "<pre style=\"white-space:pre;overflow-x:auto;line-height:normal;font-family:Menlo,'DejaVu Sans Mono',consolas,'Courier New',monospace\">2024.10.14 10:37:07.805 |MainThread   | INFO    | geometry.py:617 -    draw_cylinders_3D() | model - Plotting cylinder in 3D\n",
       "</pre>\n"
      ],
      "text/plain": [
       "2024.10.14 10:37:07.805 |MainThread   | INFO    | geometry.py:617 -    draw_cylinders_3D() | model - Plotting cylinder in 3D\n"
      ]
     },
     "metadata": {},
     "output_type": "display_data"
    },
    {
     "data": {
      "text/html": [
       "<pre style=\"white-space:pre;overflow-x:auto;line-height:normal;font-family:Menlo,'DejaVu Sans Mono',consolas,'Courier New',monospace\">2024.10.14 10:37:07.819 |MainThread   | INFO    | geometry.py:617 -    draw_cylinders_3D() | model - Plotting cylinder in 3D\n",
       "</pre>\n"
      ],
      "text/plain": [
       "2024.10.14 10:37:07.819 |MainThread   | INFO    | geometry.py:617 -    draw_cylinders_3D() | model - Plotting cylinder in 3D\n"
      ]
     },
     "metadata": {},
     "output_type": "display_data"
    },
    {
     "data": {
      "text/html": [
       "<pre style=\"white-space:pre;overflow-x:auto;line-height:normal;font-family:Menlo,'DejaVu Sans Mono',consolas,'Courier New',monospace\">2024.10.14 10:37:07.830 |MainThread   | INFO    | geometry.py:617 -    draw_cylinders_3D() | model - Plotting cylinder in 3D\n",
       "</pre>\n"
      ],
      "text/plain": [
       "2024.10.14 10:37:07.830 |MainThread   | INFO    | geometry.py:617 -    draw_cylinders_3D() | model - Plotting cylinder in 3D\n"
      ]
     },
     "metadata": {},
     "output_type": "display_data"
    },
    {
     "data": {
      "text/html": [
       "<pre style=\"white-space:pre;overflow-x:auto;line-height:normal;font-family:Menlo,'DejaVu Sans Mono',consolas,'Courier New',monospace\">2024.10.14 10:37:07.838 |MainThread   | INFO    | geometry.py:617 -    draw_cylinders_3D() | model - Plotting cylinder in 3D\n",
       "</pre>\n"
      ],
      "text/plain": [
       "2024.10.14 10:37:07.838 |MainThread   | INFO    | geometry.py:617 -    draw_cylinders_3D() | model - Plotting cylinder in 3D\n"
      ]
     },
     "metadata": {},
     "output_type": "display_data"
    },
    {
     "data": {
      "text/html": [
       "<pre style=\"white-space:pre;overflow-x:auto;line-height:normal;font-family:Menlo,'DejaVu Sans Mono',consolas,'Courier New',monospace\">2024.10.14 10:37:07.852 |MainThread   | INFO    | geometry.py:617 -    draw_cylinders_3D() | model - Plotting cylinder in 3D\n",
       "</pre>\n"
      ],
      "text/plain": [
       "2024.10.14 10:37:07.852 |MainThread   | INFO    | geometry.py:617 -    draw_cylinders_3D() | model - Plotting cylinder in 3D\n"
      ]
     },
     "metadata": {},
     "output_type": "display_data"
    },
    {
     "data": {
      "text/html": [
       "<pre style=\"white-space:pre;overflow-x:auto;line-height:normal;font-family:Menlo,'DejaVu Sans Mono',consolas,'Courier New',monospace\">2024.10.14 10:37:07.864 |MainThread   | INFO    | geometry.py:617 -    draw_cylinders_3D() | model - Plotting cylinder in 3D\n",
       "</pre>\n"
      ],
      "text/plain": [
       "2024.10.14 10:37:07.864 |MainThread   | INFO    | geometry.py:617 -    draw_cylinders_3D() | model - Plotting cylinder in 3D\n"
      ]
     },
     "metadata": {},
     "output_type": "display_data"
    },
    {
     "data": {
      "text/html": [
       "<pre style=\"white-space:pre;overflow-x:auto;line-height:normal;font-family:Menlo,'DejaVu Sans Mono',consolas,'Courier New',monospace\">2024.10.14 10:37:07.872 |MainThread   | INFO    | geometry.py:617 -    draw_cylinders_3D() | model - Plotting cylinder in 3D\n",
       "</pre>\n"
      ],
      "text/plain": [
       "2024.10.14 10:37:07.872 |MainThread   | INFO    | geometry.py:617 -    draw_cylinders_3D() | model - Plotting cylinder in 3D\n"
      ]
     },
     "metadata": {},
     "output_type": "display_data"
    },
    {
     "data": {
      "text/html": [
       "<pre style=\"white-space:pre;overflow-x:auto;line-height:normal;font-family:Menlo,'DejaVu Sans Mono',consolas,'Courier New',monospace\">2024.10.14 10:37:07.883 |MainThread   | INFO    | geometry.py:617 -    draw_cylinders_3D() | model - Plotting cylinder in 3D\n",
       "</pre>\n"
      ],
      "text/plain": [
       "2024.10.14 10:37:07.883 |MainThread   | INFO    | geometry.py:617 -    draw_cylinders_3D() | model - Plotting cylinder in 3D\n"
      ]
     },
     "metadata": {},
     "output_type": "display_data"
    },
    {
     "data": {
      "text/html": [
       "<pre style=\"white-space:pre;overflow-x:auto;line-height:normal;font-family:Menlo,'DejaVu Sans Mono',consolas,'Courier New',monospace\">2024.10.14 10:37:07.891 |MainThread   | INFO    | geometry.py:617 -    draw_cylinders_3D() | model - Plotting cylinder in 3D\n",
       "</pre>\n"
      ],
      "text/plain": [
       "2024.10.14 10:37:07.891 |MainThread   | INFO    | geometry.py:617 -    draw_cylinders_3D() | model - Plotting cylinder in 3D\n"
      ]
     },
     "metadata": {},
     "output_type": "display_data"
    },
    {
     "data": {
      "text/html": [
       "<pre style=\"white-space:pre;overflow-x:auto;line-height:normal;font-family:Menlo,'DejaVu Sans Mono',consolas,'Courier New',monospace\">2024.10.14 10:37:07.903 |MainThread   | INFO    | geometry.py:617 -    draw_cylinders_3D() | model - Plotting cylinder in 3D\n",
       "</pre>\n"
      ],
      "text/plain": [
       "2024.10.14 10:37:07.903 |MainThread   | INFO    | geometry.py:617 -    draw_cylinders_3D() | model - Plotting cylinder in 3D\n"
      ]
     },
     "metadata": {},
     "output_type": "display_data"
    },
    {
     "data": {
      "text/html": [
       "<pre style=\"white-space:pre;overflow-x:auto;line-height:normal;font-family:Menlo,'DejaVu Sans Mono',consolas,'Courier New',monospace\">2024.10.14 10:37:07.915 |MainThread   | INFO    | geometry.py:617 -    draw_cylinders_3D() | model - Plotting cylinder in 3D\n",
       "</pre>\n"
      ],
      "text/plain": [
       "2024.10.14 10:37:07.915 |MainThread   | INFO    | geometry.py:617 -    draw_cylinders_3D() | model - Plotting cylinder in 3D\n"
      ]
     },
     "metadata": {},
     "output_type": "display_data"
    },
    {
     "data": {
      "text/html": [
       "<pre style=\"white-space:pre;overflow-x:auto;line-height:normal;font-family:Menlo,'DejaVu Sans Mono',consolas,'Courier New',monospace\">2024.10.14 10:37:07.923 |MainThread   | INFO    | geometry.py:617 -    draw_cylinders_3D() | model - Plotting cylinder in 3D\n",
       "</pre>\n"
      ],
      "text/plain": [
       "2024.10.14 10:37:07.923 |MainThread   | INFO    | geometry.py:617 -    draw_cylinders_3D() | model - Plotting cylinder in 3D\n"
      ]
     },
     "metadata": {},
     "output_type": "display_data"
    },
    {
     "data": {
      "text/html": [
       "<pre style=\"white-space:pre;overflow-x:auto;line-height:normal;font-family:Menlo,'DejaVu Sans Mono',consolas,'Courier New',monospace\">2024.10.14 10:37:07.935 |MainThread   | INFO    | geometry.py:617 -    draw_cylinders_3D() | model - Plotting cylinder in 3D\n",
       "</pre>\n"
      ],
      "text/plain": [
       "2024.10.14 10:37:07.935 |MainThread   | INFO    | geometry.py:617 -    draw_cylinders_3D() | model - Plotting cylinder in 3D\n"
      ]
     },
     "metadata": {},
     "output_type": "display_data"
    },
    {
     "data": {
      "text/html": [
       "<pre style=\"white-space:pre;overflow-x:auto;line-height:normal;font-family:Menlo,'DejaVu Sans Mono',consolas,'Courier New',monospace\">2024.10.14 10:37:07.951 |MainThread   | INFO    | geometry.py:617 -    draw_cylinders_3D() | model - Plotting cylinder in 3D\n",
       "</pre>\n"
      ],
      "text/plain": [
       "2024.10.14 10:37:07.951 |MainThread   | INFO    | geometry.py:617 -    draw_cylinders_3D() | model - Plotting cylinder in 3D\n"
      ]
     },
     "metadata": {},
     "output_type": "display_data"
    },
    {
     "data": {
      "text/html": [
       "<pre style=\"white-space:pre;overflow-x:auto;line-height:normal;font-family:Menlo,'DejaVu Sans Mono',consolas,'Courier New',monospace\">2024.10.14 10:37:07.962 |MainThread   | INFO    | geometry.py:617 -    draw_cylinders_3D() | model - Plotting cylinder in 3D\n",
       "</pre>\n"
      ],
      "text/plain": [
       "2024.10.14 10:37:07.962 |MainThread   | INFO    | geometry.py:617 -    draw_cylinders_3D() | model - Plotting cylinder in 3D\n"
      ]
     },
     "metadata": {},
     "output_type": "display_data"
    },
    {
     "data": {
      "text/html": [
       "<pre style=\"white-space:pre;overflow-x:auto;line-height:normal;font-family:Menlo,'DejaVu Sans Mono',consolas,'Courier New',monospace\">2024.10.14 10:37:07.971 |MainThread   | INFO    | geometry.py:617 -    draw_cylinders_3D() | model - Plotting cylinder in 3D\n",
       "</pre>\n"
      ],
      "text/plain": [
       "2024.10.14 10:37:07.971 |MainThread   | INFO    | geometry.py:617 -    draw_cylinders_3D() | model - Plotting cylinder in 3D\n"
      ]
     },
     "metadata": {},
     "output_type": "display_data"
    },
    {
     "data": {
      "text/html": [
       "<pre style=\"white-space:pre;overflow-x:auto;line-height:normal;font-family:Menlo,'DejaVu Sans Mono',consolas,'Courier New',monospace\">2024.10.14 10:37:07.985 |MainThread   | INFO    | geometry.py:617 -    draw_cylinders_3D() | model - Plotting cylinder in 3D\n",
       "</pre>\n"
      ],
      "text/plain": [
       "2024.10.14 10:37:07.985 |MainThread   | INFO    | geometry.py:617 -    draw_cylinders_3D() | model - Plotting cylinder in 3D\n"
      ]
     },
     "metadata": {},
     "output_type": "display_data"
    },
    {
     "data": {
      "text/html": [
       "<pre style=\"white-space:pre;overflow-x:auto;line-height:normal;font-family:Menlo,'DejaVu Sans Mono',consolas,'Courier New',monospace\">2024.10.14 10:37:07.997 |MainThread   | INFO    | geometry.py:617 -    draw_cylinders_3D() | model - Plotting cylinder in 3D\n",
       "</pre>\n"
      ],
      "text/plain": [
       "2024.10.14 10:37:07.997 |MainThread   | INFO    | geometry.py:617 -    draw_cylinders_3D() | model - Plotting cylinder in 3D\n"
      ]
     },
     "metadata": {},
     "output_type": "display_data"
    },
    {
     "data": {
      "text/html": [
       "<pre style=\"white-space:pre;overflow-x:auto;line-height:normal;font-family:Menlo,'DejaVu Sans Mono',consolas,'Courier New',monospace\">2024.10.14 10:37:08.007 |MainThread   | INFO    | geometry.py:617 -    draw_cylinders_3D() | model - Plotting cylinder in 3D\n",
       "</pre>\n"
      ],
      "text/plain": [
       "2024.10.14 10:37:08.007 |MainThread   | INFO    | geometry.py:617 -    draw_cylinders_3D() | model - Plotting cylinder in 3D\n"
      ]
     },
     "metadata": {},
     "output_type": "display_data"
    },
    {
     "data": {
      "text/html": [
       "<pre style=\"white-space:pre;overflow-x:auto;line-height:normal;font-family:Menlo,'DejaVu Sans Mono',consolas,'Courier New',monospace\">2024.10.14 10:37:08.020 |MainThread   | INFO    | geometry.py:617 -    draw_cylinders_3D() | model - Plotting cylinder in 3D\n",
       "</pre>\n"
      ],
      "text/plain": [
       "2024.10.14 10:37:08.020 |MainThread   | INFO    | geometry.py:617 -    draw_cylinders_3D() | model - Plotting cylinder in 3D\n"
      ]
     },
     "metadata": {},
     "output_type": "display_data"
    },
    {
     "data": {
      "text/html": [
       "<pre style=\"white-space:pre;overflow-x:auto;line-height:normal;font-family:Menlo,'DejaVu Sans Mono',consolas,'Courier New',monospace\">2024.10.14 10:37:08.036 |MainThread   | INFO    | geometry.py:617 -    draw_cylinders_3D() | model - Plotting cylinder in 3D\n",
       "</pre>\n"
      ],
      "text/plain": [
       "2024.10.14 10:37:08.036 |MainThread   | INFO    | geometry.py:617 -    draw_cylinders_3D() | model - Plotting cylinder in 3D\n"
      ]
     },
     "metadata": {},
     "output_type": "display_data"
    },
    {
     "data": {
      "text/html": [
       "<pre style=\"white-space:pre;overflow-x:auto;line-height:normal;font-family:Menlo,'DejaVu Sans Mono',consolas,'Courier New',monospace\">2024.10.14 10:37:08.049 |MainThread   | INFO    | geometry.py:617 -    draw_cylinders_3D() | model - Plotting cylinder in 3D\n",
       "</pre>\n"
      ],
      "text/plain": [
       "2024.10.14 10:37:08.049 |MainThread   | INFO    | geometry.py:617 -    draw_cylinders_3D() | model - Plotting cylinder in 3D\n"
      ]
     },
     "metadata": {},
     "output_type": "display_data"
    },
    {
     "data": {
      "text/html": [
       "<pre style=\"white-space:pre;overflow-x:auto;line-height:normal;font-family:Menlo,'DejaVu Sans Mono',consolas,'Courier New',monospace\">2024.10.14 10:37:08.063 |MainThread   | INFO    | geometry.py:617 -    draw_cylinders_3D() | model - Plotting cylinder in 3D\n",
       "</pre>\n"
      ],
      "text/plain": [
       "2024.10.14 10:37:08.063 |MainThread   | INFO    | geometry.py:617 -    draw_cylinders_3D() | model - Plotting cylinder in 3D\n"
      ]
     },
     "metadata": {},
     "output_type": "display_data"
    },
    {
     "data": {
      "text/html": [
       "<pre style=\"white-space:pre;overflow-x:auto;line-height:normal;font-family:Menlo,'DejaVu Sans Mono',consolas,'Courier New',monospace\">2024.10.14 10:37:08.072 |MainThread   | INFO    | geometry.py:617 -    draw_cylinders_3D() | model - Plotting cylinder in 3D\n",
       "</pre>\n"
      ],
      "text/plain": [
       "2024.10.14 10:37:08.072 |MainThread   | INFO    | geometry.py:617 -    draw_cylinders_3D() | model - Plotting cylinder in 3D\n"
      ]
     },
     "metadata": {},
     "output_type": "display_data"
    },
    {
     "data": {
      "text/html": [
       "<pre style=\"white-space:pre;overflow-x:auto;line-height:normal;font-family:Menlo,'DejaVu Sans Mono',consolas,'Courier New',monospace\">2024.10.14 10:37:08.083 |MainThread   | INFO    | geometry.py:617 -    draw_cylinders_3D() | model - Plotting cylinder in 3D\n",
       "</pre>\n"
      ],
      "text/plain": [
       "2024.10.14 10:37:08.083 |MainThread   | INFO    | geometry.py:617 -    draw_cylinders_3D() | model - Plotting cylinder in 3D\n"
      ]
     },
     "metadata": {},
     "output_type": "display_data"
    },
    {
     "data": {
      "text/html": [
       "<pre style=\"white-space:pre;overflow-x:auto;line-height:normal;font-family:Menlo,'DejaVu Sans Mono',consolas,'Courier New',monospace\">2024.10.14 10:37:08.096 |MainThread   | INFO    | geometry.py:617 -    draw_cylinders_3D() | model - Plotting cylinder in 3D\n",
       "</pre>\n"
      ],
      "text/plain": [
       "2024.10.14 10:37:08.096 |MainThread   | INFO    | geometry.py:617 -    draw_cylinders_3D() | model - Plotting cylinder in 3D\n"
      ]
     },
     "metadata": {},
     "output_type": "display_data"
    },
    {
     "data": {
      "text/html": [
       "<pre style=\"white-space:pre;overflow-x:auto;line-height:normal;font-family:Menlo,'DejaVu Sans Mono',consolas,'Courier New',monospace\">2024.10.14 10:37:08.105 |MainThread   | INFO    | geometry.py:617 -    draw_cylinders_3D() | model - Plotting cylinder in 3D\n",
       "</pre>\n"
      ],
      "text/plain": [
       "2024.10.14 10:37:08.105 |MainThread   | INFO    | geometry.py:617 -    draw_cylinders_3D() | model - Plotting cylinder in 3D\n"
      ]
     },
     "metadata": {},
     "output_type": "display_data"
    },
    {
     "data": {
      "text/html": [
       "<pre style=\"white-space:pre;overflow-x:auto;line-height:normal;font-family:Menlo,'DejaVu Sans Mono',consolas,'Courier New',monospace\">2024.10.14 10:37:08.118 |MainThread   | INFO    | geometry.py:617 -    draw_cylinders_3D() | model - Plotting cylinder in 3D\n",
       "</pre>\n"
      ],
      "text/plain": [
       "2024.10.14 10:37:08.118 |MainThread   | INFO    | geometry.py:617 -    draw_cylinders_3D() | model - Plotting cylinder in 3D\n"
      ]
     },
     "metadata": {},
     "output_type": "display_data"
    },
    {
     "data": {
      "text/html": [
       "<pre style=\"white-space:pre;overflow-x:auto;line-height:normal;font-family:Menlo,'DejaVu Sans Mono',consolas,'Courier New',monospace\">2024.10.14 10:37:08.131 |MainThread   | INFO    | geometry.py:617 -    draw_cylinders_3D() | model - Plotting cylinder in 3D\n",
       "</pre>\n"
      ],
      "text/plain": [
       "2024.10.14 10:37:08.131 |MainThread   | INFO    | geometry.py:617 -    draw_cylinders_3D() | model - Plotting cylinder in 3D\n"
      ]
     },
     "metadata": {},
     "output_type": "display_data"
    },
    {
     "data": {
      "text/html": [
       "<pre style=\"white-space:pre;overflow-x:auto;line-height:normal;font-family:Menlo,'DejaVu Sans Mono',consolas,'Courier New',monospace\">2024.10.14 10:37:08.141 |MainThread   | INFO    | geometry.py:617 -    draw_cylinders_3D() | model - Plotting cylinder in 3D\n",
       "</pre>\n"
      ],
      "text/plain": [
       "2024.10.14 10:37:08.141 |MainThread   | INFO    | geometry.py:617 -    draw_cylinders_3D() | model - Plotting cylinder in 3D\n"
      ]
     },
     "metadata": {},
     "output_type": "display_data"
    },
    {
     "data": {
      "text/html": [
       "<pre style=\"white-space:pre;overflow-x:auto;line-height:normal;font-family:Menlo,'DejaVu Sans Mono',consolas,'Courier New',monospace\">2024.10.14 10:37:08.153 |MainThread   | INFO    | geometry.py:617 -    draw_cylinders_3D() | model - Plotting cylinder in 3D\n",
       "</pre>\n"
      ],
      "text/plain": [
       "2024.10.14 10:37:08.153 |MainThread   | INFO    | geometry.py:617 -    draw_cylinders_3D() | model - Plotting cylinder in 3D\n"
      ]
     },
     "metadata": {},
     "output_type": "display_data"
    },
    {
     "data": {
      "text/html": [
       "<pre style=\"white-space:pre;overflow-x:auto;line-height:normal;font-family:Menlo,'DejaVu Sans Mono',consolas,'Courier New',monospace\">2024.10.14 10:37:08.167 |MainThread   | INFO    | geometry.py:617 -    draw_cylinders_3D() | model - Plotting cylinder in 3D\n",
       "</pre>\n"
      ],
      "text/plain": [
       "2024.10.14 10:37:08.167 |MainThread   | INFO    | geometry.py:617 -    draw_cylinders_3D() | model - Plotting cylinder in 3D\n"
      ]
     },
     "metadata": {},
     "output_type": "display_data"
    },
    {
     "data": {
      "text/html": [
       "<pre style=\"white-space:pre;overflow-x:auto;line-height:normal;font-family:Menlo,'DejaVu Sans Mono',consolas,'Courier New',monospace\">2024.10.14 10:37:08.183 |MainThread   | INFO    | geometry.py:617 -    draw_cylinders_3D() | model - Plotting cylinder in 3D\n",
       "</pre>\n"
      ],
      "text/plain": [
       "2024.10.14 10:37:08.183 |MainThread   | INFO    | geometry.py:617 -    draw_cylinders_3D() | model - Plotting cylinder in 3D\n"
      ]
     },
     "metadata": {},
     "output_type": "display_data"
    },
    {
     "data": {
      "text/html": [
       "<pre style=\"white-space:pre;overflow-x:auto;line-height:normal;font-family:Menlo,'DejaVu Sans Mono',consolas,'Courier New',monospace\">2024.10.14 10:37:08.200 |MainThread   | INFO    | geometry.py:617 -    draw_cylinders_3D() | model - Plotting cylinder in 3D\n",
       "</pre>\n"
      ],
      "text/plain": [
       "2024.10.14 10:37:08.200 |MainThread   | INFO    | geometry.py:617 -    draw_cylinders_3D() | model - Plotting cylinder in 3D\n"
      ]
     },
     "metadata": {},
     "output_type": "display_data"
    },
    {
     "data": {
      "text/html": [
       "<pre style=\"white-space:pre;overflow-x:auto;line-height:normal;font-family:Menlo,'DejaVu Sans Mono',consolas,'Courier New',monospace\">2024.10.14 10:37:08.217 |MainThread   | INFO    | geometry.py:617 -    draw_cylinders_3D() | model - Plotting cylinder in 3D\n",
       "</pre>\n"
      ],
      "text/plain": [
       "2024.10.14 10:37:08.217 |MainThread   | INFO    | geometry.py:617 -    draw_cylinders_3D() | model - Plotting cylinder in 3D\n"
      ]
     },
     "metadata": {},
     "output_type": "display_data"
    },
    {
     "data": {
      "text/html": [
       "<pre style=\"white-space:pre;overflow-x:auto;line-height:normal;font-family:Menlo,'DejaVu Sans Mono',consolas,'Courier New',monospace\">2024.10.14 10:37:08.230 |MainThread   | INFO    | geometry.py:617 -    draw_cylinders_3D() | model - Plotting cylinder in 3D\n",
       "</pre>\n"
      ],
      "text/plain": [
       "2024.10.14 10:37:08.230 |MainThread   | INFO    | geometry.py:617 -    draw_cylinders_3D() | model - Plotting cylinder in 3D\n"
      ]
     },
     "metadata": {},
     "output_type": "display_data"
    },
    {
     "data": {
      "text/html": [
       "<pre style=\"white-space:pre;overflow-x:auto;line-height:normal;font-family:Menlo,'DejaVu Sans Mono',consolas,'Courier New',monospace\">2024.10.14 10:37:08.245 |MainThread   | INFO    | geometry.py:617 -    draw_cylinders_3D() | model - Plotting cylinder in 3D\n",
       "</pre>\n"
      ],
      "text/plain": [
       "2024.10.14 10:37:08.245 |MainThread   | INFO    | geometry.py:617 -    draw_cylinders_3D() | model - Plotting cylinder in 3D\n"
      ]
     },
     "metadata": {},
     "output_type": "display_data"
    },
    {
     "data": {
      "text/html": [
       "<pre style=\"white-space:pre;overflow-x:auto;line-height:normal;font-family:Menlo,'DejaVu Sans Mono',consolas,'Courier New',monospace\">2024.10.14 10:37:08.264 |MainThread   | INFO    | geometry.py:617 -    draw_cylinders_3D() | model - Plotting cylinder in 3D\n",
       "</pre>\n"
      ],
      "text/plain": [
       "2024.10.14 10:37:08.264 |MainThread   | INFO    | geometry.py:617 -    draw_cylinders_3D() | model - Plotting cylinder in 3D\n"
      ]
     },
     "metadata": {},
     "output_type": "display_data"
    },
    {
     "data": {
      "text/html": [
       "<pre style=\"white-space:pre;overflow-x:auto;line-height:normal;font-family:Menlo,'DejaVu Sans Mono',consolas,'Courier New',monospace\">2024.10.14 10:37:08.281 |MainThread   | INFO    | geometry.py:617 -    draw_cylinders_3D() | model - Plotting cylinder in 3D\n",
       "</pre>\n"
      ],
      "text/plain": [
       "2024.10.14 10:37:08.281 |MainThread   | INFO    | geometry.py:617 -    draw_cylinders_3D() | model - Plotting cylinder in 3D\n"
      ]
     },
     "metadata": {},
     "output_type": "display_data"
    },
    {
     "data": {
      "text/html": [
       "<pre style=\"white-space:pre;overflow-x:auto;line-height:normal;font-family:Menlo,'DejaVu Sans Mono',consolas,'Courier New',monospace\">2024.10.14 10:37:08.296 |MainThread   | INFO    | geometry.py:617 -    draw_cylinders_3D() | model - Plotting cylinder in 3D\n",
       "</pre>\n"
      ],
      "text/plain": [
       "2024.10.14 10:37:08.296 |MainThread   | INFO    | geometry.py:617 -    draw_cylinders_3D() | model - Plotting cylinder in 3D\n"
      ]
     },
     "metadata": {},
     "output_type": "display_data"
    },
    {
     "data": {
      "text/html": [
       "<pre style=\"white-space:pre;overflow-x:auto;line-height:normal;font-family:Menlo,'DejaVu Sans Mono',consolas,'Courier New',monospace\">2024.10.14 10:37:08.310 |MainThread   | INFO    | geometry.py:617 -    draw_cylinders_3D() | model - Plotting cylinder in 3D\n",
       "</pre>\n"
      ],
      "text/plain": [
       "2024.10.14 10:37:08.310 |MainThread   | INFO    | geometry.py:617 -    draw_cylinders_3D() | model - Plotting cylinder in 3D\n"
      ]
     },
     "metadata": {},
     "output_type": "display_data"
    },
    {
     "data": {
      "text/html": [
       "<pre style=\"white-space:pre;overflow-x:auto;line-height:normal;font-family:Menlo,'DejaVu Sans Mono',consolas,'Courier New',monospace\">2024.10.14 10:37:08.325 |MainThread   | INFO    | geometry.py:617 -    draw_cylinders_3D() | model - Plotting cylinder in 3D\n",
       "</pre>\n"
      ],
      "text/plain": [
       "2024.10.14 10:37:08.325 |MainThread   | INFO    | geometry.py:617 -    draw_cylinders_3D() | model - Plotting cylinder in 3D\n"
      ]
     },
     "metadata": {},
     "output_type": "display_data"
    },
    {
     "data": {
      "text/html": [
       "<pre style=\"white-space:pre;overflow-x:auto;line-height:normal;font-family:Menlo,'DejaVu Sans Mono',consolas,'Courier New',monospace\">2024.10.14 10:37:08.353 |MainThread   | INFO    | geometry.py:617 -    draw_cylinders_3D() | model - Plotting cylinder in 3D\n",
       "</pre>\n"
      ],
      "text/plain": [
       "2024.10.14 10:37:08.353 |MainThread   | INFO    | geometry.py:617 -    draw_cylinders_3D() | model - Plotting cylinder in 3D\n"
      ]
     },
     "metadata": {},
     "output_type": "display_data"
    },
    {
     "data": {
      "text/html": [
       "<pre style=\"white-space:pre;overflow-x:auto;line-height:normal;font-family:Menlo,'DejaVu Sans Mono',consolas,'Courier New',monospace\">2024.10.14 10:37:08.383 |MainThread   | INFO    | geometry.py:617 -    draw_cylinders_3D() | model - Plotting cylinder in 3D\n",
       "</pre>\n"
      ],
      "text/plain": [
       "2024.10.14 10:37:08.383 |MainThread   | INFO    | geometry.py:617 -    draw_cylinders_3D() | model - Plotting cylinder in 3D\n"
      ]
     },
     "metadata": {},
     "output_type": "display_data"
    },
    {
     "data": {
      "text/html": [
       "<pre style=\"white-space:pre;overflow-x:auto;line-height:normal;font-family:Menlo,'DejaVu Sans Mono',consolas,'Courier New',monospace\">2024.10.14 10:37:08.416 |MainThread   | INFO    | geometry.py:617 -    draw_cylinders_3D() | model - Plotting cylinder in 3D\n",
       "</pre>\n"
      ],
      "text/plain": [
       "2024.10.14 10:37:08.416 |MainThread   | INFO    | geometry.py:617 -    draw_cylinders_3D() | model - Plotting cylinder in 3D\n"
      ]
     },
     "metadata": {},
     "output_type": "display_data"
    },
    {
     "data": {
      "text/html": [
       "<pre style=\"white-space:pre;overflow-x:auto;line-height:normal;font-family:Menlo,'DejaVu Sans Mono',consolas,'Courier New',monospace\">2024.10.14 10:37:08.437 |MainThread   | INFO    | geometry.py:617 -    draw_cylinders_3D() | model - Plotting cylinder in 3D\n",
       "</pre>\n"
      ],
      "text/plain": [
       "2024.10.14 10:37:08.437 |MainThread   | INFO    | geometry.py:617 -    draw_cylinders_3D() | model - Plotting cylinder in 3D\n"
      ]
     },
     "metadata": {},
     "output_type": "display_data"
    },
    {
     "data": {
      "text/html": [
       "<pre style=\"white-space:pre;overflow-x:auto;line-height:normal;font-family:Menlo,'DejaVu Sans Mono',consolas,'Courier New',monospace\">2024.10.14 10:37:08.452 |MainThread   | INFO    | geometry.py:617 -    draw_cylinders_3D() | model - Plotting cylinder in 3D\n",
       "</pre>\n"
      ],
      "text/plain": [
       "2024.10.14 10:37:08.452 |MainThread   | INFO    | geometry.py:617 -    draw_cylinders_3D() | model - Plotting cylinder in 3D\n"
      ]
     },
     "metadata": {},
     "output_type": "display_data"
    },
    {
     "data": {
      "text/html": [
       "<pre style=\"white-space:pre;overflow-x:auto;line-height:normal;font-family:Menlo,'DejaVu Sans Mono',consolas,'Courier New',monospace\">2024.10.14 10:37:08.467 |MainThread   | INFO    | geometry.py:617 -    draw_cylinders_3D() | model - Plotting cylinder in 3D\n",
       "</pre>\n"
      ],
      "text/plain": [
       "2024.10.14 10:37:08.467 |MainThread   | INFO    | geometry.py:617 -    draw_cylinders_3D() | model - Plotting cylinder in 3D\n"
      ]
     },
     "metadata": {},
     "output_type": "display_data"
    },
    {
     "data": {
      "text/html": [
       "<pre style=\"white-space:pre;overflow-x:auto;line-height:normal;font-family:Menlo,'DejaVu Sans Mono',consolas,'Courier New',monospace\">2024.10.14 10:37:08.482 |MainThread   | INFO    | geometry.py:617 -    draw_cylinders_3D() | model - Plotting cylinder in 3D\n",
       "</pre>\n"
      ],
      "text/plain": [
       "2024.10.14 10:37:08.482 |MainThread   | INFO    | geometry.py:617 -    draw_cylinders_3D() | model - Plotting cylinder in 3D\n"
      ]
     },
     "metadata": {},
     "output_type": "display_data"
    },
    {
     "data": {
      "text/html": [
       "<pre style=\"white-space:pre;overflow-x:auto;line-height:normal;font-family:Menlo,'DejaVu Sans Mono',consolas,'Courier New',monospace\">2024.10.14 10:37:08.498 |MainThread   | INFO    | geometry.py:617 -    draw_cylinders_3D() | model - Plotting cylinder in 3D\n",
       "</pre>\n"
      ],
      "text/plain": [
       "2024.10.14 10:37:08.498 |MainThread   | INFO    | geometry.py:617 -    draw_cylinders_3D() | model - Plotting cylinder in 3D\n"
      ]
     },
     "metadata": {},
     "output_type": "display_data"
    },
    {
     "data": {
      "text/html": [
       "<pre style=\"white-space:pre;overflow-x:auto;line-height:normal;font-family:Menlo,'DejaVu Sans Mono',consolas,'Courier New',monospace\">2024.10.14 10:37:08.512 |MainThread   | INFO    | geometry.py:617 -    draw_cylinders_3D() | model - Plotting cylinder in 3D\n",
       "</pre>\n"
      ],
      "text/plain": [
       "2024.10.14 10:37:08.512 |MainThread   | INFO    | geometry.py:617 -    draw_cylinders_3D() | model - Plotting cylinder in 3D\n"
      ]
     },
     "metadata": {},
     "output_type": "display_data"
    },
    {
     "data": {
      "text/html": [
       "<pre style=\"white-space:pre;overflow-x:auto;line-height:normal;font-family:Menlo,'DejaVu Sans Mono',consolas,'Courier New',monospace\">2024.10.14 10:37:08.539 |MainThread   | INFO    | geometry.py:617 -    draw_cylinders_3D() | model - Plotting cylinder in 3D\n",
       "</pre>\n"
      ],
      "text/plain": [
       "2024.10.14 10:37:08.539 |MainThread   | INFO    | geometry.py:617 -    draw_cylinders_3D() | model - Plotting cylinder in 3D\n"
      ]
     },
     "metadata": {},
     "output_type": "display_data"
    },
    {
     "data": {
      "text/html": [
       "<pre style=\"white-space:pre;overflow-x:auto;line-height:normal;font-family:Menlo,'DejaVu Sans Mono',consolas,'Courier New',monospace\">2024.10.14 10:37:08.554 |MainThread   | INFO    | geometry.py:617 -    draw_cylinders_3D() | model - Plotting cylinder in 3D\n",
       "</pre>\n"
      ],
      "text/plain": [
       "2024.10.14 10:37:08.554 |MainThread   | INFO    | geometry.py:617 -    draw_cylinders_3D() | model - Plotting cylinder in 3D\n"
      ]
     },
     "metadata": {},
     "output_type": "display_data"
    },
    {
     "data": {
      "text/html": [
       "<pre style=\"white-space:pre;overflow-x:auto;line-height:normal;font-family:Menlo,'DejaVu Sans Mono',consolas,'Courier New',monospace\">2024.10.14 10:37:08.567 |MainThread   | INFO    | geometry.py:617 -    draw_cylinders_3D() | model - Plotting cylinder in 3D\n",
       "</pre>\n"
      ],
      "text/plain": [
       "2024.10.14 10:37:08.567 |MainThread   | INFO    | geometry.py:617 -    draw_cylinders_3D() | model - Plotting cylinder in 3D\n"
      ]
     },
     "metadata": {},
     "output_type": "display_data"
    },
    {
     "data": {
      "text/html": [
       "<pre style=\"white-space:pre;overflow-x:auto;line-height:normal;font-family:Menlo,'DejaVu Sans Mono',consolas,'Courier New',monospace\">2024.10.14 10:37:08.577 |MainThread   | INFO    | geometry.py:617 -    draw_cylinders_3D() | model - Plotting cylinder in 3D\n",
       "</pre>\n"
      ],
      "text/plain": [
       "2024.10.14 10:37:08.577 |MainThread   | INFO    | geometry.py:617 -    draw_cylinders_3D() | model - Plotting cylinder in 3D\n"
      ]
     },
     "metadata": {},
     "output_type": "display_data"
    },
    {
     "data": {
      "text/html": [
       "<pre style=\"white-space:pre;overflow-x:auto;line-height:normal;font-family:Menlo,'DejaVu Sans Mono',consolas,'Courier New',monospace\">2024.10.14 10:37:08.589 |MainThread   | INFO    | geometry.py:617 -    draw_cylinders_3D() | model - Plotting cylinder in 3D\n",
       "</pre>\n"
      ],
      "text/plain": [
       "2024.10.14 10:37:08.589 |MainThread   | INFO    | geometry.py:617 -    draw_cylinders_3D() | model - Plotting cylinder in 3D\n"
      ]
     },
     "metadata": {},
     "output_type": "display_data"
    },
    {
     "data": {
      "text/html": [
       "<pre style=\"white-space:pre;overflow-x:auto;line-height:normal;font-family:Menlo,'DejaVu Sans Mono',consolas,'Courier New',monospace\">2024.10.14 10:37:08.599 |MainThread   | INFO    | geometry.py:617 -    draw_cylinders_3D() | model - Plotting cylinder in 3D\n",
       "</pre>\n"
      ],
      "text/plain": [
       "2024.10.14 10:37:08.599 |MainThread   | INFO    | geometry.py:617 -    draw_cylinders_3D() | model - Plotting cylinder in 3D\n"
      ]
     },
     "metadata": {},
     "output_type": "display_data"
    },
    {
     "data": {
      "text/html": [
       "<pre style=\"white-space:pre;overflow-x:auto;line-height:normal;font-family:Menlo,'DejaVu Sans Mono',consolas,'Courier New',monospace\">2024.10.14 10:37:08.606 |MainThread   | INFO    | geometry.py:617 -    draw_cylinders_3D() | model - Plotting cylinder in 3D\n",
       "</pre>\n"
      ],
      "text/plain": [
       "2024.10.14 10:37:08.606 |MainThread   | INFO    | geometry.py:617 -    draw_cylinders_3D() | model - Plotting cylinder in 3D\n"
      ]
     },
     "metadata": {},
     "output_type": "display_data"
    },
    {
     "data": {
      "text/html": [
       "<pre style=\"white-space:pre;overflow-x:auto;line-height:normal;font-family:Menlo,'DejaVu Sans Mono',consolas,'Courier New',monospace\">2024.10.14 10:37:08.620 |MainThread   | INFO    | geometry.py:617 -    draw_cylinders_3D() | model - Plotting cylinder in 3D\n",
       "</pre>\n"
      ],
      "text/plain": [
       "2024.10.14 10:37:08.620 |MainThread   | INFO    | geometry.py:617 -    draw_cylinders_3D() | model - Plotting cylinder in 3D\n"
      ]
     },
     "metadata": {},
     "output_type": "display_data"
    },
    {
     "data": {
      "text/html": [
       "<pre style=\"white-space:pre;overflow-x:auto;line-height:normal;font-family:Menlo,'DejaVu Sans Mono',consolas,'Courier New',monospace\">2024.10.14 10:37:08.633 |MainThread   | INFO    | geometry.py:617 -    draw_cylinders_3D() | model - Plotting cylinder in 3D\n",
       "</pre>\n"
      ],
      "text/plain": [
       "2024.10.14 10:37:08.633 |MainThread   | INFO    | geometry.py:617 -    draw_cylinders_3D() | model - Plotting cylinder in 3D\n"
      ]
     },
     "metadata": {},
     "output_type": "display_data"
    },
    {
     "data": {
      "text/html": [
       "<pre style=\"white-space:pre;overflow-x:auto;line-height:normal;font-family:Menlo,'DejaVu Sans Mono',consolas,'Courier New',monospace\">2024.10.14 10:37:08.650 |MainThread   | INFO    | geometry.py:617 -    draw_cylinders_3D() | model - Plotting cylinder in 3D\n",
       "</pre>\n"
      ],
      "text/plain": [
       "2024.10.14 10:37:08.650 |MainThread   | INFO    | geometry.py:617 -    draw_cylinders_3D() | model - Plotting cylinder in 3D\n"
      ]
     },
     "metadata": {},
     "output_type": "display_data"
    },
    {
     "data": {
      "text/html": [
       "<pre style=\"white-space:pre;overflow-x:auto;line-height:normal;font-family:Menlo,'DejaVu Sans Mono',consolas,'Courier New',monospace\">2024.10.14 10:37:08.663 |MainThread   | INFO    | geometry.py:617 -    draw_cylinders_3D() | model - Plotting cylinder in 3D\n",
       "</pre>\n"
      ],
      "text/plain": [
       "2024.10.14 10:37:08.663 |MainThread   | INFO    | geometry.py:617 -    draw_cylinders_3D() | model - Plotting cylinder in 3D\n"
      ]
     },
     "metadata": {},
     "output_type": "display_data"
    },
    {
     "data": {
      "text/html": [
       "<pre style=\"white-space:pre;overflow-x:auto;line-height:normal;font-family:Menlo,'DejaVu Sans Mono',consolas,'Courier New',monospace\">2024.10.14 10:37:08.670 |MainThread   | INFO    | geometry.py:617 -    draw_cylinders_3D() | model - Plotting cylinder in 3D\n",
       "</pre>\n"
      ],
      "text/plain": [
       "2024.10.14 10:37:08.670 |MainThread   | INFO    | geometry.py:617 -    draw_cylinders_3D() | model - Plotting cylinder in 3D\n"
      ]
     },
     "metadata": {},
     "output_type": "display_data"
    },
    {
     "data": {
      "text/html": [
       "<pre style=\"white-space:pre;overflow-x:auto;line-height:normal;font-family:Menlo,'DejaVu Sans Mono',consolas,'Courier New',monospace\">2024.10.14 10:37:08.681 |MainThread   | INFO    | geometry.py:617 -    draw_cylinders_3D() | model - Plotting cylinder in 3D\n",
       "</pre>\n"
      ],
      "text/plain": [
       "2024.10.14 10:37:08.681 |MainThread   | INFO    | geometry.py:617 -    draw_cylinders_3D() | model - Plotting cylinder in 3D\n"
      ]
     },
     "metadata": {},
     "output_type": "display_data"
    },
    {
     "data": {
      "text/html": [
       "<pre style=\"white-space:pre;overflow-x:auto;line-height:normal;font-family:Menlo,'DejaVu Sans Mono',consolas,'Courier New',monospace\">2024.10.14 10:37:08.688 |MainThread   | INFO    | geometry.py:617 -    draw_cylinders_3D() | model - Plotting cylinder in 3D\n",
       "</pre>\n"
      ],
      "text/plain": [
       "2024.10.14 10:37:08.688 |MainThread   | INFO    | geometry.py:617 -    draw_cylinders_3D() | model - Plotting cylinder in 3D\n"
      ]
     },
     "metadata": {},
     "output_type": "display_data"
    },
    {
     "data": {
      "text/html": [
       "<pre style=\"white-space:pre;overflow-x:auto;line-height:normal;font-family:Menlo,'DejaVu Sans Mono',consolas,'Courier New',monospace\">2024.10.14 10:37:08.698 |MainThread   | INFO    | geometry.py:617 -    draw_cylinders_3D() | model - Plotting cylinder in 3D\n",
       "</pre>\n"
      ],
      "text/plain": [
       "2024.10.14 10:37:08.698 |MainThread   | INFO    | geometry.py:617 -    draw_cylinders_3D() | model - Plotting cylinder in 3D\n"
      ]
     },
     "metadata": {},
     "output_type": "display_data"
    },
    {
     "data": {
      "text/html": [
       "<pre style=\"white-space:pre;overflow-x:auto;line-height:normal;font-family:Menlo,'DejaVu Sans Mono',consolas,'Courier New',monospace\">2024.10.14 10:37:08.706 |MainThread   | INFO    | geometry.py:617 -    draw_cylinders_3D() | model - Plotting cylinder in 3D\n",
       "</pre>\n"
      ],
      "text/plain": [
       "2024.10.14 10:37:08.706 |MainThread   | INFO    | geometry.py:617 -    draw_cylinders_3D() | model - Plotting cylinder in 3D\n"
      ]
     },
     "metadata": {},
     "output_type": "display_data"
    },
    {
     "data": {
      "text/html": [
       "<pre style=\"white-space:pre;overflow-x:auto;line-height:normal;font-family:Menlo,'DejaVu Sans Mono',consolas,'Courier New',monospace\">2024.10.14 10:37:08.721 |MainThread   | INFO    | geometry.py:617 -    draw_cylinders_3D() | model - Plotting cylinder in 3D\n",
       "</pre>\n"
      ],
      "text/plain": [
       "2024.10.14 10:37:08.721 |MainThread   | INFO    | geometry.py:617 -    draw_cylinders_3D() | model - Plotting cylinder in 3D\n"
      ]
     },
     "metadata": {},
     "output_type": "display_data"
    },
    {
     "data": {
      "text/html": [
       "<pre style=\"white-space:pre;overflow-x:auto;line-height:normal;font-family:Menlo,'DejaVu Sans Mono',consolas,'Courier New',monospace\">2024.10.14 10:37:08.734 |MainThread   | INFO    | geometry.py:617 -    draw_cylinders_3D() | model - Plotting cylinder in 3D\n",
       "</pre>\n"
      ],
      "text/plain": [
       "2024.10.14 10:37:08.734 |MainThread   | INFO    | geometry.py:617 -    draw_cylinders_3D() | model - Plotting cylinder in 3D\n"
      ]
     },
     "metadata": {},
     "output_type": "display_data"
    },
    {
     "data": {
      "text/html": [
       "<pre style=\"white-space:pre;overflow-x:auto;line-height:normal;font-family:Menlo,'DejaVu Sans Mono',consolas,'Courier New',monospace\">2024.10.14 10:37:08.747 |MainThread   | INFO    | geometry.py:617 -    draw_cylinders_3D() | model - Plotting cylinder in 3D\n",
       "</pre>\n"
      ],
      "text/plain": [
       "2024.10.14 10:37:08.747 |MainThread   | INFO    | geometry.py:617 -    draw_cylinders_3D() | model - Plotting cylinder in 3D\n"
      ]
     },
     "metadata": {},
     "output_type": "display_data"
    },
    {
     "data": {
      "text/html": [
       "<pre style=\"white-space:pre;overflow-x:auto;line-height:normal;font-family:Menlo,'DejaVu Sans Mono',consolas,'Courier New',monospace\">2024.10.14 10:37:08.754 |MainThread   | INFO    | geometry.py:617 -    draw_cylinders_3D() | model - Plotting cylinder in 3D\n",
       "</pre>\n"
      ],
      "text/plain": [
       "2024.10.14 10:37:08.754 |MainThread   | INFO    | geometry.py:617 -    draw_cylinders_3D() | model - Plotting cylinder in 3D\n"
      ]
     },
     "metadata": {},
     "output_type": "display_data"
    },
    {
     "data": {
      "text/html": [
       "<pre style=\"white-space:pre;overflow-x:auto;line-height:normal;font-family:Menlo,'DejaVu Sans Mono',consolas,'Courier New',monospace\">2024.10.14 10:37:08.765 |MainThread   | INFO    | geometry.py:617 -    draw_cylinders_3D() | model - Plotting cylinder in 3D\n",
       "</pre>\n"
      ],
      "text/plain": [
       "2024.10.14 10:37:08.765 |MainThread   | INFO    | geometry.py:617 -    draw_cylinders_3D() | model - Plotting cylinder in 3D\n"
      ]
     },
     "metadata": {},
     "output_type": "display_data"
    },
    {
     "data": {
      "text/html": [
       "<pre style=\"white-space:pre;overflow-x:auto;line-height:normal;font-family:Menlo,'DejaVu Sans Mono',consolas,'Courier New',monospace\">2024.10.14 10:37:08.775 |MainThread   | INFO    | geometry.py:617 -    draw_cylinders_3D() | model - Plotting cylinder in 3D\n",
       "</pre>\n"
      ],
      "text/plain": [
       "2024.10.14 10:37:08.775 |MainThread   | INFO    | geometry.py:617 -    draw_cylinders_3D() | model - Plotting cylinder in 3D\n"
      ]
     },
     "metadata": {},
     "output_type": "display_data"
    },
    {
     "data": {
      "text/html": [
       "<pre style=\"white-space:pre;overflow-x:auto;line-height:normal;font-family:Menlo,'DejaVu Sans Mono',consolas,'Courier New',monospace\">2024.10.14 10:37:08.792 |MainThread   | INFO    | geometry.py:617 -    draw_cylinders_3D() | model - Plotting cylinder in 3D\n",
       "</pre>\n"
      ],
      "text/plain": [
       "2024.10.14 10:37:08.792 |MainThread   | INFO    | geometry.py:617 -    draw_cylinders_3D() | model - Plotting cylinder in 3D\n"
      ]
     },
     "metadata": {},
     "output_type": "display_data"
    },
    {
     "data": {
      "text/html": [
       "<pre style=\"white-space:pre;overflow-x:auto;line-height:normal;font-family:Menlo,'DejaVu Sans Mono',consolas,'Courier New',monospace\">2024.10.14 10:37:08.808 |MainThread   | INFO    | geometry.py:617 -    draw_cylinders_3D() | model - Plotting cylinder in 3D\n",
       "</pre>\n"
      ],
      "text/plain": [
       "2024.10.14 10:37:08.808 |MainThread   | INFO    | geometry.py:617 -    draw_cylinders_3D() | model - Plotting cylinder in 3D\n"
      ]
     },
     "metadata": {},
     "output_type": "display_data"
    },
    {
     "data": {
      "text/html": [
       "<pre style=\"white-space:pre;overflow-x:auto;line-height:normal;font-family:Menlo,'DejaVu Sans Mono',consolas,'Courier New',monospace\">2024.10.14 10:37:08.818 |MainThread   | INFO    | geometry.py:617 -    draw_cylinders_3D() | model - Plotting cylinder in 3D\n",
       "</pre>\n"
      ],
      "text/plain": [
       "2024.10.14 10:37:08.818 |MainThread   | INFO    | geometry.py:617 -    draw_cylinders_3D() | model - Plotting cylinder in 3D\n"
      ]
     },
     "metadata": {},
     "output_type": "display_data"
    },
    {
     "data": {
      "text/html": [
       "<pre style=\"white-space:pre;overflow-x:auto;line-height:normal;font-family:Menlo,'DejaVu Sans Mono',consolas,'Courier New',monospace\">2024.10.14 10:37:08.826 |MainThread   | INFO    | geometry.py:617 -    draw_cylinders_3D() | model - Plotting cylinder in 3D\n",
       "</pre>\n"
      ],
      "text/plain": [
       "2024.10.14 10:37:08.826 |MainThread   | INFO    | geometry.py:617 -    draw_cylinders_3D() | model - Plotting cylinder in 3D\n"
      ]
     },
     "metadata": {},
     "output_type": "display_data"
    },
    {
     "data": {
      "text/html": [
       "<pre style=\"white-space:pre;overflow-x:auto;line-height:normal;font-family:Menlo,'DejaVu Sans Mono',consolas,'Courier New',monospace\">2024.10.14 10:37:08.837 |MainThread   | INFO    | geometry.py:617 -    draw_cylinders_3D() | model - Plotting cylinder in 3D\n",
       "</pre>\n"
      ],
      "text/plain": [
       "2024.10.14 10:37:08.837 |MainThread   | INFO    | geometry.py:617 -    draw_cylinders_3D() | model - Plotting cylinder in 3D\n"
      ]
     },
     "metadata": {},
     "output_type": "display_data"
    },
    {
     "data": {
      "text/html": [
       "<pre style=\"white-space:pre;overflow-x:auto;line-height:normal;font-family:Menlo,'DejaVu Sans Mono',consolas,'Courier New',monospace\">2024.10.14 10:37:08.849 |MainThread   | INFO    | geometry.py:617 -    draw_cylinders_3D() | model - Plotting cylinder in 3D\n",
       "</pre>\n"
      ],
      "text/plain": [
       "2024.10.14 10:37:08.849 |MainThread   | INFO    | geometry.py:617 -    draw_cylinders_3D() | model - Plotting cylinder in 3D\n"
      ]
     },
     "metadata": {},
     "output_type": "display_data"
    },
    {
     "data": {
      "text/html": [
       "<pre style=\"white-space:pre;overflow-x:auto;line-height:normal;font-family:Menlo,'DejaVu Sans Mono',consolas,'Courier New',monospace\">2024.10.14 10:37:08.861 |MainThread   | INFO    | geometry.py:617 -    draw_cylinders_3D() | model - Plotting cylinder in 3D\n",
       "</pre>\n"
      ],
      "text/plain": [
       "2024.10.14 10:37:08.861 |MainThread   | INFO    | geometry.py:617 -    draw_cylinders_3D() | model - Plotting cylinder in 3D\n"
      ]
     },
     "metadata": {},
     "output_type": "display_data"
    },
    {
     "data": {
      "text/html": [
       "<pre style=\"white-space:pre;overflow-x:auto;line-height:normal;font-family:Menlo,'DejaVu Sans Mono',consolas,'Courier New',monospace\">2024.10.14 10:37:08.874 |MainThread   | INFO    | geometry.py:617 -    draw_cylinders_3D() | model - Plotting cylinder in 3D\n",
       "</pre>\n"
      ],
      "text/plain": [
       "2024.10.14 10:37:08.874 |MainThread   | INFO    | geometry.py:617 -    draw_cylinders_3D() | model - Plotting cylinder in 3D\n"
      ]
     },
     "metadata": {},
     "output_type": "display_data"
    },
    {
     "data": {
      "text/html": [
       "<pre style=\"white-space:pre;overflow-x:auto;line-height:normal;font-family:Menlo,'DejaVu Sans Mono',consolas,'Courier New',monospace\">2024.10.14 10:37:08.888 |MainThread   | INFO    | geometry.py:617 -    draw_cylinders_3D() | model - Plotting cylinder in 3D\n",
       "</pre>\n"
      ],
      "text/plain": [
       "2024.10.14 10:37:08.888 |MainThread   | INFO    | geometry.py:617 -    draw_cylinders_3D() | model - Plotting cylinder in 3D\n"
      ]
     },
     "metadata": {},
     "output_type": "display_data"
    },
    {
     "data": {
      "text/html": [
       "<pre style=\"white-space:pre;overflow-x:auto;line-height:normal;font-family:Menlo,'DejaVu Sans Mono',consolas,'Courier New',monospace\">2024.10.14 10:37:08.902 |MainThread   | INFO    | geometry.py:617 -    draw_cylinders_3D() | model - Plotting cylinder in 3D\n",
       "</pre>\n"
      ],
      "text/plain": [
       "2024.10.14 10:37:08.902 |MainThread   | INFO    | geometry.py:617 -    draw_cylinders_3D() | model - Plotting cylinder in 3D\n"
      ]
     },
     "metadata": {},
     "output_type": "display_data"
    },
    {
     "data": {
      "text/html": [
       "<pre style=\"white-space:pre;overflow-x:auto;line-height:normal;font-family:Menlo,'DejaVu Sans Mono',consolas,'Courier New',monospace\">2024.10.14 10:37:08.914 |MainThread   | INFO    | geometry.py:617 -    draw_cylinders_3D() | model - Plotting cylinder in 3D\n",
       "</pre>\n"
      ],
      "text/plain": [
       "2024.10.14 10:37:08.914 |MainThread   | INFO    | geometry.py:617 -    draw_cylinders_3D() | model - Plotting cylinder in 3D\n"
      ]
     },
     "metadata": {},
     "output_type": "display_data"
    },
    {
     "data": {
      "text/html": [
       "<pre style=\"white-space:pre;overflow-x:auto;line-height:normal;font-family:Menlo,'DejaVu Sans Mono',consolas,'Courier New',monospace\">2024.10.14 10:37:08.922 |MainThread   | INFO    | geometry.py:617 -    draw_cylinders_3D() | model - Plotting cylinder in 3D\n",
       "</pre>\n"
      ],
      "text/plain": [
       "2024.10.14 10:37:08.922 |MainThread   | INFO    | geometry.py:617 -    draw_cylinders_3D() | model - Plotting cylinder in 3D\n"
      ]
     },
     "metadata": {},
     "output_type": "display_data"
    },
    {
     "data": {
      "text/html": [
       "<pre style=\"white-space:pre;overflow-x:auto;line-height:normal;font-family:Menlo,'DejaVu Sans Mono',consolas,'Courier New',monospace\">2024.10.14 10:37:08.935 |MainThread   | INFO    | geometry.py:617 -    draw_cylinders_3D() | model - Plotting cylinder in 3D\n",
       "</pre>\n"
      ],
      "text/plain": [
       "2024.10.14 10:37:08.935 |MainThread   | INFO    | geometry.py:617 -    draw_cylinders_3D() | model - Plotting cylinder in 3D\n"
      ]
     },
     "metadata": {},
     "output_type": "display_data"
    },
    {
     "data": {
      "text/html": [
       "<pre style=\"white-space:pre;overflow-x:auto;line-height:normal;font-family:Menlo,'DejaVu Sans Mono',consolas,'Courier New',monospace\">2024.10.14 10:37:08.946 |MainThread   | INFO    | geometry.py:617 -    draw_cylinders_3D() | model - Plotting cylinder in 3D\n",
       "</pre>\n"
      ],
      "text/plain": [
       "2024.10.14 10:37:08.946 |MainThread   | INFO    | geometry.py:617 -    draw_cylinders_3D() | model - Plotting cylinder in 3D\n"
      ]
     },
     "metadata": {},
     "output_type": "display_data"
    },
    {
     "data": {
      "text/html": [
       "<pre style=\"white-space:pre;overflow-x:auto;line-height:normal;font-family:Menlo,'DejaVu Sans Mono',consolas,'Courier New',monospace\">2024.10.14 10:37:08.957 |MainThread   | INFO    | geometry.py:617 -    draw_cylinders_3D() | model - Plotting cylinder in 3D\n",
       "</pre>\n"
      ],
      "text/plain": [
       "2024.10.14 10:37:08.957 |MainThread   | INFO    | geometry.py:617 -    draw_cylinders_3D() | model - Plotting cylinder in 3D\n"
      ]
     },
     "metadata": {},
     "output_type": "display_data"
    },
    {
     "data": {
      "text/html": [
       "<pre style=\"white-space:pre;overflow-x:auto;line-height:normal;font-family:Menlo,'DejaVu Sans Mono',consolas,'Courier New',monospace\">2024.10.14 10:37:08.968 |MainThread   | INFO    | geometry.py:617 -    draw_cylinders_3D() | model - Plotting cylinder in 3D\n",
       "</pre>\n"
      ],
      "text/plain": [
       "2024.10.14 10:37:08.968 |MainThread   | INFO    | geometry.py:617 -    draw_cylinders_3D() | model - Plotting cylinder in 3D\n"
      ]
     },
     "metadata": {},
     "output_type": "display_data"
    },
    {
     "data": {
      "text/html": [
       "<pre style=\"white-space:pre;overflow-x:auto;line-height:normal;font-family:Menlo,'DejaVu Sans Mono',consolas,'Courier New',monospace\">2024.10.14 10:37:08.978 |MainThread   | INFO    | geometry.py:617 -    draw_cylinders_3D() | model - Plotting cylinder in 3D\n",
       "</pre>\n"
      ],
      "text/plain": [
       "2024.10.14 10:37:08.978 |MainThread   | INFO    | geometry.py:617 -    draw_cylinders_3D() | model - Plotting cylinder in 3D\n"
      ]
     },
     "metadata": {},
     "output_type": "display_data"
    },
    {
     "data": {
      "text/html": [
       "<pre style=\"white-space:pre;overflow-x:auto;line-height:normal;font-family:Menlo,'DejaVu Sans Mono',consolas,'Courier New',monospace\">2024.10.14 10:37:08.986 |MainThread   | INFO    | geometry.py:617 -    draw_cylinders_3D() | model - Plotting cylinder in 3D\n",
       "</pre>\n"
      ],
      "text/plain": [
       "2024.10.14 10:37:08.986 |MainThread   | INFO    | geometry.py:617 -    draw_cylinders_3D() | model - Plotting cylinder in 3D\n"
      ]
     },
     "metadata": {},
     "output_type": "display_data"
    },
    {
     "data": {
      "text/html": [
       "<pre style=\"white-space:pre;overflow-x:auto;line-height:normal;font-family:Menlo,'DejaVu Sans Mono',consolas,'Courier New',monospace\">2024.10.14 10:37:08.998 |MainThread   | INFO    | geometry.py:617 -    draw_cylinders_3D() | model - Plotting cylinder in 3D\n",
       "</pre>\n"
      ],
      "text/plain": [
       "2024.10.14 10:37:08.998 |MainThread   | INFO    | geometry.py:617 -    draw_cylinders_3D() | model - Plotting cylinder in 3D\n"
      ]
     },
     "metadata": {},
     "output_type": "display_data"
    },
    {
     "data": {
      "text/html": [
       "<pre style=\"white-space:pre;overflow-x:auto;line-height:normal;font-family:Menlo,'DejaVu Sans Mono',consolas,'Courier New',monospace\">2024.10.14 10:37:09.007 |MainThread   | INFO    | geometry.py:617 -    draw_cylinders_3D() | model - Plotting cylinder in 3D\n",
       "</pre>\n"
      ],
      "text/plain": [
       "2024.10.14 10:37:09.007 |MainThread   | INFO    | geometry.py:617 -    draw_cylinders_3D() | model - Plotting cylinder in 3D\n"
      ]
     },
     "metadata": {},
     "output_type": "display_data"
    },
    {
     "data": {
      "text/html": [
       "<pre style=\"white-space:pre;overflow-x:auto;line-height:normal;font-family:Menlo,'DejaVu Sans Mono',consolas,'Courier New',monospace\">2024.10.14 10:37:09.019 |MainThread   | INFO    | geometry.py:617 -    draw_cylinders_3D() | model - Plotting cylinder in 3D\n",
       "</pre>\n"
      ],
      "text/plain": [
       "2024.10.14 10:37:09.019 |MainThread   | INFO    | geometry.py:617 -    draw_cylinders_3D() | model - Plotting cylinder in 3D\n"
      ]
     },
     "metadata": {},
     "output_type": "display_data"
    },
    {
     "data": {
      "text/html": [
       "<pre style=\"white-space:pre;overflow-x:auto;line-height:normal;font-family:Menlo,'DejaVu Sans Mono',consolas,'Courier New',monospace\">2024.10.14 10:37:09.034 |MainThread   | INFO    | geometry.py:617 -    draw_cylinders_3D() | model - Plotting cylinder in 3D\n",
       "</pre>\n"
      ],
      "text/plain": [
       "2024.10.14 10:37:09.034 |MainThread   | INFO    | geometry.py:617 -    draw_cylinders_3D() | model - Plotting cylinder in 3D\n"
      ]
     },
     "metadata": {},
     "output_type": "display_data"
    },
    {
     "data": {
      "text/html": [
       "<pre style=\"white-space:pre;overflow-x:auto;line-height:normal;font-family:Menlo,'DejaVu Sans Mono',consolas,'Courier New',monospace\">2024.10.14 10:37:09.049 |MainThread   | INFO    | geometry.py:617 -    draw_cylinders_3D() | model - Plotting cylinder in 3D\n",
       "</pre>\n"
      ],
      "text/plain": [
       "2024.10.14 10:37:09.049 |MainThread   | INFO    | geometry.py:617 -    draw_cylinders_3D() | model - Plotting cylinder in 3D\n"
      ]
     },
     "metadata": {},
     "output_type": "display_data"
    },
    {
     "data": {
      "text/html": [
       "<pre style=\"white-space:pre;overflow-x:auto;line-height:normal;font-family:Menlo,'DejaVu Sans Mono',consolas,'Courier New',monospace\">2024.10.14 10:37:09.058 |MainThread   | INFO    | geometry.py:617 -    draw_cylinders_3D() | model - Plotting cylinder in 3D\n",
       "</pre>\n"
      ],
      "text/plain": [
       "2024.10.14 10:37:09.058 |MainThread   | INFO    | geometry.py:617 -    draw_cylinders_3D() | model - Plotting cylinder in 3D\n"
      ]
     },
     "metadata": {},
     "output_type": "display_data"
    },
    {
     "data": {
      "text/html": [
       "<pre style=\"white-space:pre;overflow-x:auto;line-height:normal;font-family:Menlo,'DejaVu Sans Mono',consolas,'Courier New',monospace\">2024.10.14 10:37:09.069 |MainThread   | INFO    | geometry.py:617 -    draw_cylinders_3D() | model - Plotting cylinder in 3D\n",
       "</pre>\n"
      ],
      "text/plain": [
       "2024.10.14 10:37:09.069 |MainThread   | INFO    | geometry.py:617 -    draw_cylinders_3D() | model - Plotting cylinder in 3D\n"
      ]
     },
     "metadata": {},
     "output_type": "display_data"
    },
    {
     "data": {
      "text/html": [
       "<pre style=\"white-space:pre;overflow-x:auto;line-height:normal;font-family:Menlo,'DejaVu Sans Mono',consolas,'Courier New',monospace\">2024.10.14 10:37:09.080 |MainThread   | INFO    | geometry.py:617 -    draw_cylinders_3D() | model - Plotting cylinder in 3D\n",
       "</pre>\n"
      ],
      "text/plain": [
       "2024.10.14 10:37:09.080 |MainThread   | INFO    | geometry.py:617 -    draw_cylinders_3D() | model - Plotting cylinder in 3D\n"
      ]
     },
     "metadata": {},
     "output_type": "display_data"
    },
    {
     "data": {
      "text/html": [
       "<pre style=\"white-space:pre;overflow-x:auto;line-height:normal;font-family:Menlo,'DejaVu Sans Mono',consolas,'Courier New',monospace\">2024.10.14 10:37:09.087 |MainThread   | INFO    | geometry.py:617 -    draw_cylinders_3D() | model - Plotting cylinder in 3D\n",
       "</pre>\n"
      ],
      "text/plain": [
       "2024.10.14 10:37:09.087 |MainThread   | INFO    | geometry.py:617 -    draw_cylinders_3D() | model - Plotting cylinder in 3D\n"
      ]
     },
     "metadata": {},
     "output_type": "display_data"
    },
    {
     "data": {
      "text/html": [
       "<pre style=\"white-space:pre;overflow-x:auto;line-height:normal;font-family:Menlo,'DejaVu Sans Mono',consolas,'Courier New',monospace\">2024.10.14 10:37:09.100 |MainThread   | INFO    | geometry.py:617 -    draw_cylinders_3D() | model - Plotting cylinder in 3D\n",
       "</pre>\n"
      ],
      "text/plain": [
       "2024.10.14 10:37:09.100 |MainThread   | INFO    | geometry.py:617 -    draw_cylinders_3D() | model - Plotting cylinder in 3D\n"
      ]
     },
     "metadata": {},
     "output_type": "display_data"
    },
    {
     "data": {
      "text/html": [
       "<pre style=\"white-space:pre;overflow-x:auto;line-height:normal;font-family:Menlo,'DejaVu Sans Mono',consolas,'Courier New',monospace\">2024.10.14 10:37:09.114 |MainThread   | INFO    | geometry.py:617 -    draw_cylinders_3D() | model - Plotting cylinder in 3D\n",
       "</pre>\n"
      ],
      "text/plain": [
       "2024.10.14 10:37:09.114 |MainThread   | INFO    | geometry.py:617 -    draw_cylinders_3D() | model - Plotting cylinder in 3D\n"
      ]
     },
     "metadata": {},
     "output_type": "display_data"
    },
    {
     "data": {
      "text/html": [
       "<pre style=\"white-space:pre;overflow-x:auto;line-height:normal;font-family:Menlo,'DejaVu Sans Mono',consolas,'Courier New',monospace\">2024.10.14 10:37:09.123 |MainThread   | INFO    | geometry.py:617 -    draw_cylinders_3D() | model - Plotting cylinder in 3D\n",
       "</pre>\n"
      ],
      "text/plain": [
       "2024.10.14 10:37:09.123 |MainThread   | INFO    | geometry.py:617 -    draw_cylinders_3D() | model - Plotting cylinder in 3D\n"
      ]
     },
     "metadata": {},
     "output_type": "display_data"
    },
    {
     "data": {
      "text/html": [
       "<pre style=\"white-space:pre;overflow-x:auto;line-height:normal;font-family:Menlo,'DejaVu Sans Mono',consolas,'Courier New',monospace\">2024.10.14 10:37:09.135 |MainThread   | INFO    | geometry.py:617 -    draw_cylinders_3D() | model - Plotting cylinder in 3D\n",
       "</pre>\n"
      ],
      "text/plain": [
       "2024.10.14 10:37:09.135 |MainThread   | INFO    | geometry.py:617 -    draw_cylinders_3D() | model - Plotting cylinder in 3D\n"
      ]
     },
     "metadata": {},
     "output_type": "display_data"
    },
    {
     "data": {
      "text/html": [
       "<pre style=\"white-space:pre;overflow-x:auto;line-height:normal;font-family:Menlo,'DejaVu Sans Mono',consolas,'Courier New',monospace\">2024.10.14 10:37:09.149 |MainThread   | INFO    | geometry.py:617 -    draw_cylinders_3D() | model - Plotting cylinder in 3D\n",
       "</pre>\n"
      ],
      "text/plain": [
       "2024.10.14 10:37:09.149 |MainThread   | INFO    | geometry.py:617 -    draw_cylinders_3D() | model - Plotting cylinder in 3D\n"
      ]
     },
     "metadata": {},
     "output_type": "display_data"
    },
    {
     "data": {
      "text/html": [
       "<pre style=\"white-space:pre;overflow-x:auto;line-height:normal;font-family:Menlo,'DejaVu Sans Mono',consolas,'Courier New',monospace\">2024.10.14 10:37:09.158 |MainThread   | INFO    | geometry.py:617 -    draw_cylinders_3D() | model - Plotting cylinder in 3D\n",
       "</pre>\n"
      ],
      "text/plain": [
       "2024.10.14 10:37:09.158 |MainThread   | INFO    | geometry.py:617 -    draw_cylinders_3D() | model - Plotting cylinder in 3D\n"
      ]
     },
     "metadata": {},
     "output_type": "display_data"
    },
    {
     "data": {
      "text/html": [
       "<pre style=\"white-space:pre;overflow-x:auto;line-height:normal;font-family:Menlo,'DejaVu Sans Mono',consolas,'Courier New',monospace\">2024.10.14 10:37:09.171 |MainThread   | INFO    | geometry.py:617 -    draw_cylinders_3D() | model - Plotting cylinder in 3D\n",
       "</pre>\n"
      ],
      "text/plain": [
       "2024.10.14 10:37:09.171 |MainThread   | INFO    | geometry.py:617 -    draw_cylinders_3D() | model - Plotting cylinder in 3D\n"
      ]
     },
     "metadata": {},
     "output_type": "display_data"
    },
    {
     "data": {
      "text/html": [
       "<pre style=\"white-space:pre;overflow-x:auto;line-height:normal;font-family:Menlo,'DejaVu Sans Mono',consolas,'Courier New',monospace\">2024.10.14 10:37:09.185 |MainThread   | INFO    | geometry.py:617 -    draw_cylinders_3D() | model - Plotting cylinder in 3D\n",
       "</pre>\n"
      ],
      "text/plain": [
       "2024.10.14 10:37:09.185 |MainThread   | INFO    | geometry.py:617 -    draw_cylinders_3D() | model - Plotting cylinder in 3D\n"
      ]
     },
     "metadata": {},
     "output_type": "display_data"
    },
    {
     "data": {
      "text/html": [
       "<pre style=\"white-space:pre;overflow-x:auto;line-height:normal;font-family:Menlo,'DejaVu Sans Mono',consolas,'Courier New',monospace\">2024.10.14 10:37:09.199 |MainThread   | INFO    | geometry.py:617 -    draw_cylinders_3D() | model - Plotting cylinder in 3D\n",
       "</pre>\n"
      ],
      "text/plain": [
       "2024.10.14 10:37:09.199 |MainThread   | INFO    | geometry.py:617 -    draw_cylinders_3D() | model - Plotting cylinder in 3D\n"
      ]
     },
     "metadata": {},
     "output_type": "display_data"
    },
    {
     "data": {
      "text/html": [
       "<pre style=\"white-space:pre;overflow-x:auto;line-height:normal;font-family:Menlo,'DejaVu Sans Mono',consolas,'Courier New',monospace\">2024.10.14 10:37:09.208 |MainThread   | INFO    | geometry.py:617 -    draw_cylinders_3D() | model - Plotting cylinder in 3D\n",
       "</pre>\n"
      ],
      "text/plain": [
       "2024.10.14 10:37:09.208 |MainThread   | INFO    | geometry.py:617 -    draw_cylinders_3D() | model - Plotting cylinder in 3D\n"
      ]
     },
     "metadata": {},
     "output_type": "display_data"
    },
    {
     "data": {
      "text/html": [
       "<pre style=\"white-space:pre;overflow-x:auto;line-height:normal;font-family:Menlo,'DejaVu Sans Mono',consolas,'Courier New',monospace\">2024.10.14 10:37:09.218 |MainThread   | INFO    | geometry.py:617 -    draw_cylinders_3D() | model - Plotting cylinder in 3D\n",
       "</pre>\n"
      ],
      "text/plain": [
       "2024.10.14 10:37:09.218 |MainThread   | INFO    | geometry.py:617 -    draw_cylinders_3D() | model - Plotting cylinder in 3D\n"
      ]
     },
     "metadata": {},
     "output_type": "display_data"
    },
    {
     "data": {
      "text/html": [
       "<pre style=\"white-space:pre;overflow-x:auto;line-height:normal;font-family:Menlo,'DejaVu Sans Mono',consolas,'Courier New',monospace\">2024.10.14 10:37:09.232 |MainThread   | INFO    | geometry.py:617 -    draw_cylinders_3D() | model - Plotting cylinder in 3D\n",
       "</pre>\n"
      ],
      "text/plain": [
       "2024.10.14 10:37:09.232 |MainThread   | INFO    | geometry.py:617 -    draw_cylinders_3D() | model - Plotting cylinder in 3D\n"
      ]
     },
     "metadata": {},
     "output_type": "display_data"
    },
    {
     "data": {
      "text/html": [
       "<pre style=\"white-space:pre;overflow-x:auto;line-height:normal;font-family:Menlo,'DejaVu Sans Mono',consolas,'Courier New',monospace\">2024.10.14 10:37:09.240 |MainThread   | INFO    | geometry.py:617 -    draw_cylinders_3D() | model - Plotting cylinder in 3D\n",
       "</pre>\n"
      ],
      "text/plain": [
       "2024.10.14 10:37:09.240 |MainThread   | INFO    | geometry.py:617 -    draw_cylinders_3D() | model - Plotting cylinder in 3D\n"
      ]
     },
     "metadata": {},
     "output_type": "display_data"
    },
    {
     "data": {
      "text/html": [
       "<pre style=\"white-space:pre;overflow-x:auto;line-height:normal;font-family:Menlo,'DejaVu Sans Mono',consolas,'Courier New',monospace\">2024.10.14 10:37:09.252 |MainThread   | INFO    | geometry.py:617 -    draw_cylinders_3D() | model - Plotting cylinder in 3D\n",
       "</pre>\n"
      ],
      "text/plain": [
       "2024.10.14 10:37:09.252 |MainThread   | INFO    | geometry.py:617 -    draw_cylinders_3D() | model - Plotting cylinder in 3D\n"
      ]
     },
     "metadata": {},
     "output_type": "display_data"
    },
    {
     "data": {
      "text/html": [
       "<pre style=\"white-space:pre;overflow-x:auto;line-height:normal;font-family:Menlo,'DejaVu Sans Mono',consolas,'Courier New',monospace\">2024.10.14 10:37:09.264 |MainThread   | INFO    | geometry.py:617 -    draw_cylinders_3D() | model - Plotting cylinder in 3D\n",
       "</pre>\n"
      ],
      "text/plain": [
       "2024.10.14 10:37:09.264 |MainThread   | INFO    | geometry.py:617 -    draw_cylinders_3D() | model - Plotting cylinder in 3D\n"
      ]
     },
     "metadata": {},
     "output_type": "display_data"
    },
    {
     "data": {
      "text/html": [
       "<pre style=\"white-space:pre;overflow-x:auto;line-height:normal;font-family:Menlo,'DejaVu Sans Mono',consolas,'Courier New',monospace\">2024.10.14 10:37:09.272 |MainThread   | INFO    | geometry.py:617 -    draw_cylinders_3D() | model - Plotting cylinder in 3D\n",
       "</pre>\n"
      ],
      "text/plain": [
       "2024.10.14 10:37:09.272 |MainThread   | INFO    | geometry.py:617 -    draw_cylinders_3D() | model - Plotting cylinder in 3D\n"
      ]
     },
     "metadata": {},
     "output_type": "display_data"
    },
    {
     "data": {
      "text/html": [
       "<pre style=\"white-space:pre;overflow-x:auto;line-height:normal;font-family:Menlo,'DejaVu Sans Mono',consolas,'Courier New',monospace\">2024.10.14 10:37:09.286 |MainThread   | INFO    | geometry.py:617 -    draw_cylinders_3D() | model - Plotting cylinder in 3D\n",
       "</pre>\n"
      ],
      "text/plain": [
       "2024.10.14 10:37:09.286 |MainThread   | INFO    | geometry.py:617 -    draw_cylinders_3D() | model - Plotting cylinder in 3D\n"
      ]
     },
     "metadata": {},
     "output_type": "display_data"
    },
    {
     "data": {
      "text/html": [
       "<pre style=\"white-space:pre;overflow-x:auto;line-height:normal;font-family:Menlo,'DejaVu Sans Mono',consolas,'Courier New',monospace\">2024.10.14 10:37:09.301 |MainThread   | INFO    | geometry.py:617 -    draw_cylinders_3D() | model - Plotting cylinder in 3D\n",
       "</pre>\n"
      ],
      "text/plain": [
       "2024.10.14 10:37:09.301 |MainThread   | INFO    | geometry.py:617 -    draw_cylinders_3D() | model - Plotting cylinder in 3D\n"
      ]
     },
     "metadata": {},
     "output_type": "display_data"
    },
    {
     "data": {
      "text/html": [
       "<pre style=\"white-space:pre;overflow-x:auto;line-height:normal;font-family:Menlo,'DejaVu Sans Mono',consolas,'Courier New',monospace\">2024.10.14 10:37:09.316 |MainThread   | INFO    | geometry.py:617 -    draw_cylinders_3D() | model - Plotting cylinder in 3D\n",
       "</pre>\n"
      ],
      "text/plain": [
       "2024.10.14 10:37:09.316 |MainThread   | INFO    | geometry.py:617 -    draw_cylinders_3D() | model - Plotting cylinder in 3D\n"
      ]
     },
     "metadata": {},
     "output_type": "display_data"
    },
    {
     "data": {
      "text/html": [
       "<pre style=\"white-space:pre;overflow-x:auto;line-height:normal;font-family:Menlo,'DejaVu Sans Mono',consolas,'Courier New',monospace\">2024.10.14 10:37:09.332 |MainThread   | INFO    | geometry.py:617 -    draw_cylinders_3D() | model - Plotting cylinder in 3D\n",
       "</pre>\n"
      ],
      "text/plain": [
       "2024.10.14 10:37:09.332 |MainThread   | INFO    | geometry.py:617 -    draw_cylinders_3D() | model - Plotting cylinder in 3D\n"
      ]
     },
     "metadata": {},
     "output_type": "display_data"
    },
    {
     "data": {
      "text/html": [
       "<pre style=\"white-space:pre;overflow-x:auto;line-height:normal;font-family:Menlo,'DejaVu Sans Mono',consolas,'Courier New',monospace\">2024.10.14 10:37:09.341 |MainThread   | INFO    | geometry.py:617 -    draw_cylinders_3D() | model - Plotting cylinder in 3D\n",
       "</pre>\n"
      ],
      "text/plain": [
       "2024.10.14 10:37:09.341 |MainThread   | INFO    | geometry.py:617 -    draw_cylinders_3D() | model - Plotting cylinder in 3D\n"
      ]
     },
     "metadata": {},
     "output_type": "display_data"
    },
    {
     "data": {
      "text/html": [
       "<pre style=\"white-space:pre;overflow-x:auto;line-height:normal;font-family:Menlo,'DejaVu Sans Mono',consolas,'Courier New',monospace\">2024.10.14 10:37:09.355 |MainThread   | INFO    | geometry.py:617 -    draw_cylinders_3D() | model - Plotting cylinder in 3D\n",
       "</pre>\n"
      ],
      "text/plain": [
       "2024.10.14 10:37:09.355 |MainThread   | INFO    | geometry.py:617 -    draw_cylinders_3D() | model - Plotting cylinder in 3D\n"
      ]
     },
     "metadata": {},
     "output_type": "display_data"
    },
    {
     "data": {
      "text/html": [
       "<pre style=\"white-space:pre;overflow-x:auto;line-height:normal;font-family:Menlo,'DejaVu Sans Mono',consolas,'Courier New',monospace\">2024.10.14 10:37:09.368 |MainThread   | INFO    | geometry.py:617 -    draw_cylinders_3D() | model - Plotting cylinder in 3D\n",
       "</pre>\n"
      ],
      "text/plain": [
       "2024.10.14 10:37:09.368 |MainThread   | INFO    | geometry.py:617 -    draw_cylinders_3D() | model - Plotting cylinder in 3D\n"
      ]
     },
     "metadata": {},
     "output_type": "display_data"
    },
    {
     "data": {
      "text/html": [
       "<pre style=\"white-space:pre;overflow-x:auto;line-height:normal;font-family:Menlo,'DejaVu Sans Mono',consolas,'Courier New',monospace\">2024.10.14 10:37:09.381 |MainThread   | INFO    | geometry.py:617 -    draw_cylinders_3D() | model - Plotting cylinder in 3D\n",
       "</pre>\n"
      ],
      "text/plain": [
       "2024.10.14 10:37:09.381 |MainThread   | INFO    | geometry.py:617 -    draw_cylinders_3D() | model - Plotting cylinder in 3D\n"
      ]
     },
     "metadata": {},
     "output_type": "display_data"
    },
    {
     "data": {
      "text/html": [
       "<pre style=\"white-space:pre;overflow-x:auto;line-height:normal;font-family:Menlo,'DejaVu Sans Mono',consolas,'Courier New',monospace\">2024.10.14 10:37:09.391 |MainThread   | INFO    | geometry.py:617 -    draw_cylinders_3D() | model - Plotting cylinder in 3D\n",
       "</pre>\n"
      ],
      "text/plain": [
       "2024.10.14 10:37:09.391 |MainThread   | INFO    | geometry.py:617 -    draw_cylinders_3D() | model - Plotting cylinder in 3D\n"
      ]
     },
     "metadata": {},
     "output_type": "display_data"
    },
    {
     "data": {
      "text/html": [
       "<pre style=\"white-space:pre;overflow-x:auto;line-height:normal;font-family:Menlo,'DejaVu Sans Mono',consolas,'Courier New',monospace\">2024.10.14 10:37:09.402 |MainThread   | INFO    | geometry.py:617 -    draw_cylinders_3D() | model - Plotting cylinder in 3D\n",
       "</pre>\n"
      ],
      "text/plain": [
       "2024.10.14 10:37:09.402 |MainThread   | INFO    | geometry.py:617 -    draw_cylinders_3D() | model - Plotting cylinder in 3D\n"
      ]
     },
     "metadata": {},
     "output_type": "display_data"
    },
    {
     "data": {
      "text/html": [
       "<pre style=\"white-space:pre;overflow-x:auto;line-height:normal;font-family:Menlo,'DejaVu Sans Mono',consolas,'Courier New',monospace\">2024.10.14 10:37:09.415 |MainThread   | INFO    | geometry.py:617 -    draw_cylinders_3D() | model - Plotting cylinder in 3D\n",
       "</pre>\n"
      ],
      "text/plain": [
       "2024.10.14 10:37:09.415 |MainThread   | INFO    | geometry.py:617 -    draw_cylinders_3D() | model - Plotting cylinder in 3D\n"
      ]
     },
     "metadata": {},
     "output_type": "display_data"
    },
    {
     "data": {
      "text/html": [
       "<pre style=\"white-space:pre;overflow-x:auto;line-height:normal;font-family:Menlo,'DejaVu Sans Mono',consolas,'Courier New',monospace\">2024.10.14 10:37:09.423 |MainThread   | INFO    | geometry.py:617 -    draw_cylinders_3D() | model - Plotting cylinder in 3D\n",
       "</pre>\n"
      ],
      "text/plain": [
       "2024.10.14 10:37:09.423 |MainThread   | INFO    | geometry.py:617 -    draw_cylinders_3D() | model - Plotting cylinder in 3D\n"
      ]
     },
     "metadata": {},
     "output_type": "display_data"
    },
    {
     "data": {
      "text/html": [
       "<pre style=\"white-space:pre;overflow-x:auto;line-height:normal;font-family:Menlo,'DejaVu Sans Mono',consolas,'Courier New',monospace\">2024.10.14 10:37:09.435 |MainThread   | INFO    | geometry.py:617 -    draw_cylinders_3D() | model - Plotting cylinder in 3D\n",
       "</pre>\n"
      ],
      "text/plain": [
       "2024.10.14 10:37:09.435 |MainThread   | INFO    | geometry.py:617 -    draw_cylinders_3D() | model - Plotting cylinder in 3D\n"
      ]
     },
     "metadata": {},
     "output_type": "display_data"
    },
    {
     "data": {
      "text/html": [
       "<pre style=\"white-space:pre;overflow-x:auto;line-height:normal;font-family:Menlo,'DejaVu Sans Mono',consolas,'Courier New',monospace\">2024.10.14 10:37:09.446 |MainThread   | INFO    | geometry.py:617 -    draw_cylinders_3D() | model - Plotting cylinder in 3D\n",
       "</pre>\n"
      ],
      "text/plain": [
       "2024.10.14 10:37:09.446 |MainThread   | INFO    | geometry.py:617 -    draw_cylinders_3D() | model - Plotting cylinder in 3D\n"
      ]
     },
     "metadata": {},
     "output_type": "display_data"
    },
    {
     "data": {
      "text/html": [
       "<pre style=\"white-space:pre;overflow-x:auto;line-height:normal;font-family:Menlo,'DejaVu Sans Mono',consolas,'Courier New',monospace\">2024.10.14 10:37:09.454 |MainThread   | INFO    | geometry.py:617 -    draw_cylinders_3D() | model - Plotting cylinder in 3D\n",
       "</pre>\n"
      ],
      "text/plain": [
       "2024.10.14 10:37:09.454 |MainThread   | INFO    | geometry.py:617 -    draw_cylinders_3D() | model - Plotting cylinder in 3D\n"
      ]
     },
     "metadata": {},
     "output_type": "display_data"
    },
    {
     "data": {
      "text/html": [
       "<pre style=\"white-space:pre;overflow-x:auto;line-height:normal;font-family:Menlo,'DejaVu Sans Mono',consolas,'Courier New',monospace\">2024.10.14 10:37:09.467 |MainThread   | INFO    | geometry.py:617 -    draw_cylinders_3D() | model - Plotting cylinder in 3D\n",
       "</pre>\n"
      ],
      "text/plain": [
       "2024.10.14 10:37:09.467 |MainThread   | INFO    | geometry.py:617 -    draw_cylinders_3D() | model - Plotting cylinder in 3D\n"
      ]
     },
     "metadata": {},
     "output_type": "display_data"
    },
    {
     "data": {
      "text/html": [
       "<pre style=\"white-space:pre;overflow-x:auto;line-height:normal;font-family:Menlo,'DejaVu Sans Mono',consolas,'Courier New',monospace\">2024.10.14 10:37:09.478 |MainThread   | INFO    | geometry.py:617 -    draw_cylinders_3D() | model - Plotting cylinder in 3D\n",
       "</pre>\n"
      ],
      "text/plain": [
       "2024.10.14 10:37:09.478 |MainThread   | INFO    | geometry.py:617 -    draw_cylinders_3D() | model - Plotting cylinder in 3D\n"
      ]
     },
     "metadata": {},
     "output_type": "display_data"
    },
    {
     "data": {
      "text/html": [
       "<pre style=\"white-space:pre;overflow-x:auto;line-height:normal;font-family:Menlo,'DejaVu Sans Mono',consolas,'Courier New',monospace\">2024.10.14 10:37:09.490 |MainThread   | INFO    | geometry.py:617 -    draw_cylinders_3D() | model - Plotting cylinder in 3D\n",
       "</pre>\n"
      ],
      "text/plain": [
       "2024.10.14 10:37:09.490 |MainThread   | INFO    | geometry.py:617 -    draw_cylinders_3D() | model - Plotting cylinder in 3D\n"
      ]
     },
     "metadata": {},
     "output_type": "display_data"
    },
    {
     "data": {
      "text/html": [
       "<pre style=\"white-space:pre;overflow-x:auto;line-height:normal;font-family:Menlo,'DejaVu Sans Mono',consolas,'Courier New',monospace\">2024.10.14 10:37:09.505 |MainThread   | INFO    | geometry.py:617 -    draw_cylinders_3D() | model - Plotting cylinder in 3D\n",
       "</pre>\n"
      ],
      "text/plain": [
       "2024.10.14 10:37:09.505 |MainThread   | INFO    | geometry.py:617 -    draw_cylinders_3D() | model - Plotting cylinder in 3D\n"
      ]
     },
     "metadata": {},
     "output_type": "display_data"
    },
    {
     "data": {
      "text/html": [
       "<pre style=\"white-space:pre;overflow-x:auto;line-height:normal;font-family:Menlo,'DejaVu Sans Mono',consolas,'Courier New',monospace\">2024.10.14 10:37:09.516 |MainThread   | INFO    | geometry.py:617 -    draw_cylinders_3D() | model - Plotting cylinder in 3D\n",
       "</pre>\n"
      ],
      "text/plain": [
       "2024.10.14 10:37:09.516 |MainThread   | INFO    | geometry.py:617 -    draw_cylinders_3D() | model - Plotting cylinder in 3D\n"
      ]
     },
     "metadata": {},
     "output_type": "display_data"
    },
    {
     "data": {
      "text/html": [
       "<pre style=\"white-space:pre;overflow-x:auto;line-height:normal;font-family:Menlo,'DejaVu Sans Mono',consolas,'Courier New',monospace\">2024.10.14 10:37:09.524 |MainThread   | INFO    | geometry.py:617 -    draw_cylinders_3D() | model - Plotting cylinder in 3D\n",
       "</pre>\n"
      ],
      "text/plain": [
       "2024.10.14 10:37:09.524 |MainThread   | INFO    | geometry.py:617 -    draw_cylinders_3D() | model - Plotting cylinder in 3D\n"
      ]
     },
     "metadata": {},
     "output_type": "display_data"
    },
    {
     "data": {
      "text/html": [
       "<pre style=\"white-space:pre;overflow-x:auto;line-height:normal;font-family:Menlo,'DejaVu Sans Mono',consolas,'Courier New',monospace\">2024.10.14 10:37:09.539 |MainThread   | INFO    | geometry.py:617 -    draw_cylinders_3D() | model - Plotting cylinder in 3D\n",
       "</pre>\n"
      ],
      "text/plain": [
       "2024.10.14 10:37:09.539 |MainThread   | INFO    | geometry.py:617 -    draw_cylinders_3D() | model - Plotting cylinder in 3D\n"
      ]
     },
     "metadata": {},
     "output_type": "display_data"
    },
    {
     "data": {
      "text/html": [
       "<pre style=\"white-space:pre;overflow-x:auto;line-height:normal;font-family:Menlo,'DejaVu Sans Mono',consolas,'Courier New',monospace\">2024.10.14 10:37:09.549 |MainThread   | INFO    | geometry.py:617 -    draw_cylinders_3D() | model - Plotting cylinder in 3D\n",
       "</pre>\n"
      ],
      "text/plain": [
       "2024.10.14 10:37:09.549 |MainThread   | INFO    | geometry.py:617 -    draw_cylinders_3D() | model - Plotting cylinder in 3D\n"
      ]
     },
     "metadata": {},
     "output_type": "display_data"
    },
    {
     "data": {
      "text/html": [
       "<pre style=\"white-space:pre;overflow-x:auto;line-height:normal;font-family:Menlo,'DejaVu Sans Mono',consolas,'Courier New',monospace\">2024.10.14 10:37:09.556 |MainThread   | INFO    | geometry.py:617 -    draw_cylinders_3D() | model - Plotting cylinder in 3D\n",
       "</pre>\n"
      ],
      "text/plain": [
       "2024.10.14 10:37:09.556 |MainThread   | INFO    | geometry.py:617 -    draw_cylinders_3D() | model - Plotting cylinder in 3D\n"
      ]
     },
     "metadata": {},
     "output_type": "display_data"
    },
    {
     "data": {
      "text/html": [
       "<pre style=\"white-space:pre;overflow-x:auto;line-height:normal;font-family:Menlo,'DejaVu Sans Mono',consolas,'Courier New',monospace\">2024.10.14 10:37:09.568 |MainThread   | INFO    | geometry.py:617 -    draw_cylinders_3D() | model - Plotting cylinder in 3D\n",
       "</pre>\n"
      ],
      "text/plain": [
       "2024.10.14 10:37:09.568 |MainThread   | INFO    | geometry.py:617 -    draw_cylinders_3D() | model - Plotting cylinder in 3D\n"
      ]
     },
     "metadata": {},
     "output_type": "display_data"
    },
    {
     "data": {
      "text/html": [
       "<pre style=\"white-space:pre;overflow-x:auto;line-height:normal;font-family:Menlo,'DejaVu Sans Mono',consolas,'Courier New',monospace\">2024.10.14 10:37:09.580 |MainThread   | INFO    | geometry.py:617 -    draw_cylinders_3D() | model - Plotting cylinder in 3D\n",
       "</pre>\n"
      ],
      "text/plain": [
       "2024.10.14 10:37:09.580 |MainThread   | INFO    | geometry.py:617 -    draw_cylinders_3D() | model - Plotting cylinder in 3D\n"
      ]
     },
     "metadata": {},
     "output_type": "display_data"
    },
    {
     "data": {
      "text/html": [
       "<pre style=\"white-space:pre;overflow-x:auto;line-height:normal;font-family:Menlo,'DejaVu Sans Mono',consolas,'Courier New',monospace\">2024.10.14 10:37:09.589 |MainThread   | INFO    | geometry.py:617 -    draw_cylinders_3D() | model - Plotting cylinder in 3D\n",
       "</pre>\n"
      ],
      "text/plain": [
       "2024.10.14 10:37:09.589 |MainThread   | INFO    | geometry.py:617 -    draw_cylinders_3D() | model - Plotting cylinder in 3D\n"
      ]
     },
     "metadata": {},
     "output_type": "display_data"
    },
    {
     "data": {
      "text/html": [
       "<pre style=\"white-space:pre;overflow-x:auto;line-height:normal;font-family:Menlo,'DejaVu Sans Mono',consolas,'Courier New',monospace\">2024.10.14 10:37:09.600 |MainThread   | INFO    | geometry.py:617 -    draw_cylinders_3D() | model - Plotting cylinder in 3D\n",
       "</pre>\n"
      ],
      "text/plain": [
       "2024.10.14 10:37:09.600 |MainThread   | INFO    | geometry.py:617 -    draw_cylinders_3D() | model - Plotting cylinder in 3D\n"
      ]
     },
     "metadata": {},
     "output_type": "display_data"
    },
    {
     "data": {
      "text/html": [
       "<pre style=\"white-space:pre;overflow-x:auto;line-height:normal;font-family:Menlo,'DejaVu Sans Mono',consolas,'Courier New',monospace\">2024.10.14 10:37:09.609 |MainThread   | INFO    | geometry.py:617 -    draw_cylinders_3D() | model - Plotting cylinder in 3D\n",
       "</pre>\n"
      ],
      "text/plain": [
       "2024.10.14 10:37:09.609 |MainThread   | INFO    | geometry.py:617 -    draw_cylinders_3D() | model - Plotting cylinder in 3D\n"
      ]
     },
     "metadata": {},
     "output_type": "display_data"
    },
    {
     "data": {
      "text/html": [
       "<pre style=\"white-space:pre;overflow-x:auto;line-height:normal;font-family:Menlo,'DejaVu Sans Mono',consolas,'Courier New',monospace\">2024.10.14 10:37:09.619 |MainThread   | INFO    | geometry.py:617 -    draw_cylinders_3D() | model - Plotting cylinder in 3D\n",
       "</pre>\n"
      ],
      "text/plain": [
       "2024.10.14 10:37:09.619 |MainThread   | INFO    | geometry.py:617 -    draw_cylinders_3D() | model - Plotting cylinder in 3D\n"
      ]
     },
     "metadata": {},
     "output_type": "display_data"
    },
    {
     "data": {
      "text/html": [
       "<pre style=\"white-space:pre;overflow-x:auto;line-height:normal;font-family:Menlo,'DejaVu Sans Mono',consolas,'Courier New',monospace\">2024.10.14 10:37:09.632 |MainThread   | INFO    | geometry.py:617 -    draw_cylinders_3D() | model - Plotting cylinder in 3D\n",
       "</pre>\n"
      ],
      "text/plain": [
       "2024.10.14 10:37:09.632 |MainThread   | INFO    | geometry.py:617 -    draw_cylinders_3D() | model - Plotting cylinder in 3D\n"
      ]
     },
     "metadata": {},
     "output_type": "display_data"
    },
    {
     "data": {
      "text/html": [
       "<pre style=\"white-space:pre;overflow-x:auto;line-height:normal;font-family:Menlo,'DejaVu Sans Mono',consolas,'Courier New',monospace\">2024.10.14 10:37:09.640 |MainThread   | INFO    | geometry.py:617 -    draw_cylinders_3D() | model - Plotting cylinder in 3D\n",
       "</pre>\n"
      ],
      "text/plain": [
       "2024.10.14 10:37:09.640 |MainThread   | INFO    | geometry.py:617 -    draw_cylinders_3D() | model - Plotting cylinder in 3D\n"
      ]
     },
     "metadata": {},
     "output_type": "display_data"
    },
    {
     "data": {
      "text/html": [
       "<pre style=\"white-space:pre;overflow-x:auto;line-height:normal;font-family:Menlo,'DejaVu Sans Mono',consolas,'Courier New',monospace\">2024.10.14 10:37:09.652 |MainThread   | INFO    | geometry.py:617 -    draw_cylinders_3D() | model - Plotting cylinder in 3D\n",
       "</pre>\n"
      ],
      "text/plain": [
       "2024.10.14 10:37:09.652 |MainThread   | INFO    | geometry.py:617 -    draw_cylinders_3D() | model - Plotting cylinder in 3D\n"
      ]
     },
     "metadata": {},
     "output_type": "display_data"
    },
    {
     "data": {
      "text/html": [
       "<pre style=\"white-space:pre;overflow-x:auto;line-height:normal;font-family:Menlo,'DejaVu Sans Mono',consolas,'Courier New',monospace\">2024.10.14 10:37:09.665 |MainThread   | INFO    | geometry.py:617 -    draw_cylinders_3D() | model - Plotting cylinder in 3D\n",
       "</pre>\n"
      ],
      "text/plain": [
       "2024.10.14 10:37:09.665 |MainThread   | INFO    | geometry.py:617 -    draw_cylinders_3D() | model - Plotting cylinder in 3D\n"
      ]
     },
     "metadata": {},
     "output_type": "display_data"
    },
    {
     "data": {
      "text/html": [
       "<pre style=\"white-space:pre;overflow-x:auto;line-height:normal;font-family:Menlo,'DejaVu Sans Mono',consolas,'Courier New',monospace\">2024.10.14 10:37:09.672 |MainThread   | INFO    | geometry.py:617 -    draw_cylinders_3D() | model - Plotting cylinder in 3D\n",
       "</pre>\n"
      ],
      "text/plain": [
       "2024.10.14 10:37:09.672 |MainThread   | INFO    | geometry.py:617 -    draw_cylinders_3D() | model - Plotting cylinder in 3D\n"
      ]
     },
     "metadata": {},
     "output_type": "display_data"
    },
    {
     "data": {
      "text/html": [
       "<pre style=\"white-space:pre;overflow-x:auto;line-height:normal;font-family:Menlo,'DejaVu Sans Mono',consolas,'Courier New',monospace\">2024.10.14 10:37:09.686 |MainThread   | INFO    | geometry.py:617 -    draw_cylinders_3D() | model - Plotting cylinder in 3D\n",
       "</pre>\n"
      ],
      "text/plain": [
       "2024.10.14 10:37:09.686 |MainThread   | INFO    | geometry.py:617 -    draw_cylinders_3D() | model - Plotting cylinder in 3D\n"
      ]
     },
     "metadata": {},
     "output_type": "display_data"
    },
    {
     "data": {
      "text/html": [
       "<pre style=\"white-space:pre;overflow-x:auto;line-height:normal;font-family:Menlo,'DejaVu Sans Mono',consolas,'Courier New',monospace\">2024.10.14 10:37:09.699 |MainThread   | INFO    | geometry.py:617 -    draw_cylinders_3D() | model - Plotting cylinder in 3D\n",
       "</pre>\n"
      ],
      "text/plain": [
       "2024.10.14 10:37:09.699 |MainThread   | INFO    | geometry.py:617 -    draw_cylinders_3D() | model - Plotting cylinder in 3D\n"
      ]
     },
     "metadata": {},
     "output_type": "display_data"
    },
    {
     "data": {
      "text/html": [
       "<pre style=\"white-space:pre;overflow-x:auto;line-height:normal;font-family:Menlo,'DejaVu Sans Mono',consolas,'Courier New',monospace\">2024.10.14 10:37:09.706 |MainThread   | INFO    | geometry.py:617 -    draw_cylinders_3D() | model - Plotting cylinder in 3D\n",
       "</pre>\n"
      ],
      "text/plain": [
       "2024.10.14 10:37:09.706 |MainThread   | INFO    | geometry.py:617 -    draw_cylinders_3D() | model - Plotting cylinder in 3D\n"
      ]
     },
     "metadata": {},
     "output_type": "display_data"
    },
    {
     "data": {
      "text/html": [
       "<pre style=\"white-space:pre;overflow-x:auto;line-height:normal;font-family:Menlo,'DejaVu Sans Mono',consolas,'Courier New',monospace\">2024.10.14 10:37:09.719 |MainThread   | INFO    | geometry.py:617 -    draw_cylinders_3D() | model - Plotting cylinder in 3D\n",
       "</pre>\n"
      ],
      "text/plain": [
       "2024.10.14 10:37:09.719 |MainThread   | INFO    | geometry.py:617 -    draw_cylinders_3D() | model - Plotting cylinder in 3D\n"
      ]
     },
     "metadata": {},
     "output_type": "display_data"
    },
    {
     "data": {
      "text/html": [
       "<pre style=\"white-space:pre;overflow-x:auto;line-height:normal;font-family:Menlo,'DejaVu Sans Mono',consolas,'Courier New',monospace\">2024.10.14 10:37:09.732 |MainThread   | INFO    | geometry.py:617 -    draw_cylinders_3D() | model - Plotting cylinder in 3D\n",
       "</pre>\n"
      ],
      "text/plain": [
       "2024.10.14 10:37:09.732 |MainThread   | INFO    | geometry.py:617 -    draw_cylinders_3D() | model - Plotting cylinder in 3D\n"
      ]
     },
     "metadata": {},
     "output_type": "display_data"
    },
    {
     "data": {
      "text/html": [
       "<pre style=\"white-space:pre;overflow-x:auto;line-height:normal;font-family:Menlo,'DejaVu Sans Mono',consolas,'Courier New',monospace\">2024.10.14 10:37:09.740 |MainThread   | INFO    | geometry.py:617 -    draw_cylinders_3D() | model - Plotting cylinder in 3D\n",
       "</pre>\n"
      ],
      "text/plain": [
       "2024.10.14 10:37:09.740 |MainThread   | INFO    | geometry.py:617 -    draw_cylinders_3D() | model - Plotting cylinder in 3D\n"
      ]
     },
     "metadata": {},
     "output_type": "display_data"
    },
    {
     "data": {
      "text/html": [
       "<pre style=\"white-space:pre;overflow-x:auto;line-height:normal;font-family:Menlo,'DejaVu Sans Mono',consolas,'Courier New',monospace\">2024.10.14 10:37:09.752 |MainThread   | INFO    | geometry.py:617 -    draw_cylinders_3D() | model - Plotting cylinder in 3D\n",
       "</pre>\n"
      ],
      "text/plain": [
       "2024.10.14 10:37:09.752 |MainThread   | INFO    | geometry.py:617 -    draw_cylinders_3D() | model - Plotting cylinder in 3D\n"
      ]
     },
     "metadata": {},
     "output_type": "display_data"
    },
    {
     "data": {
      "text/html": [
       "<pre style=\"white-space:pre;overflow-x:auto;line-height:normal;font-family:Menlo,'DejaVu Sans Mono',consolas,'Courier New',monospace\">2024.10.14 10:37:09.762 |MainThread   | INFO    | geometry.py:617 -    draw_cylinders_3D() | model - Plotting cylinder in 3D\n",
       "</pre>\n"
      ],
      "text/plain": [
       "2024.10.14 10:37:09.762 |MainThread   | INFO    | geometry.py:617 -    draw_cylinders_3D() | model - Plotting cylinder in 3D\n"
      ]
     },
     "metadata": {},
     "output_type": "display_data"
    },
    {
     "data": {
      "text/html": [
       "<pre style=\"white-space:pre;overflow-x:auto;line-height:normal;font-family:Menlo,'DejaVu Sans Mono',consolas,'Courier New',monospace\">2024.10.14 10:37:09.770 |MainThread   | INFO    | geometry.py:617 -    draw_cylinders_3D() | model - Plotting cylinder in 3D\n",
       "</pre>\n"
      ],
      "text/plain": [
       "2024.10.14 10:37:09.770 |MainThread   | INFO    | geometry.py:617 -    draw_cylinders_3D() | model - Plotting cylinder in 3D\n"
      ]
     },
     "metadata": {},
     "output_type": "display_data"
    },
    {
     "data": {
      "text/html": [
       "<pre style=\"white-space:pre;overflow-x:auto;line-height:normal;font-family:Menlo,'DejaVu Sans Mono',consolas,'Courier New',monospace\">2024.10.14 10:37:09.783 |MainThread   | INFO    | geometry.py:617 -    draw_cylinders_3D() | model - Plotting cylinder in 3D\n",
       "</pre>\n"
      ],
      "text/plain": [
       "2024.10.14 10:37:09.783 |MainThread   | INFO    | geometry.py:617 -    draw_cylinders_3D() | model - Plotting cylinder in 3D\n"
      ]
     },
     "metadata": {},
     "output_type": "display_data"
    },
    {
     "data": {
      "text/html": [
       "<pre style=\"white-space:pre;overflow-x:auto;line-height:normal;font-family:Menlo,'DejaVu Sans Mono',consolas,'Courier New',monospace\">2024.10.14 10:37:09.790 |MainThread   | INFO    | geometry.py:617 -    draw_cylinders_3D() | model - Plotting cylinder in 3D\n",
       "</pre>\n"
      ],
      "text/plain": [
       "2024.10.14 10:37:09.790 |MainThread   | INFO    | geometry.py:617 -    draw_cylinders_3D() | model - Plotting cylinder in 3D\n"
      ]
     },
     "metadata": {},
     "output_type": "display_data"
    },
    {
     "data": {
      "text/html": [
       "<pre style=\"white-space:pre;overflow-x:auto;line-height:normal;font-family:Menlo,'DejaVu Sans Mono',consolas,'Courier New',monospace\">2024.10.14 10:37:09.803 |MainThread   | INFO    | geometry.py:617 -    draw_cylinders_3D() | model - Plotting cylinder in 3D\n",
       "</pre>\n"
      ],
      "text/plain": [
       "2024.10.14 10:37:09.803 |MainThread   | INFO    | geometry.py:617 -    draw_cylinders_3D() | model - Plotting cylinder in 3D\n"
      ]
     },
     "metadata": {},
     "output_type": "display_data"
    },
    {
     "data": {
      "text/html": [
       "<pre style=\"white-space:pre;overflow-x:auto;line-height:normal;font-family:Menlo,'DejaVu Sans Mono',consolas,'Courier New',monospace\">2024.10.14 10:37:09.817 |MainThread   | INFO    | geometry.py:617 -    draw_cylinders_3D() | model - Plotting cylinder in 3D\n",
       "</pre>\n"
      ],
      "text/plain": [
       "2024.10.14 10:37:09.817 |MainThread   | INFO    | geometry.py:617 -    draw_cylinders_3D() | model - Plotting cylinder in 3D\n"
      ]
     },
     "metadata": {},
     "output_type": "display_data"
    },
    {
     "data": {
      "text/html": [
       "<pre style=\"white-space:pre;overflow-x:auto;line-height:normal;font-family:Menlo,'DejaVu Sans Mono',consolas,'Courier New',monospace\">2024.10.14 10:37:09.825 |MainThread   | INFO    | geometry.py:617 -    draw_cylinders_3D() | model - Plotting cylinder in 3D\n",
       "</pre>\n"
      ],
      "text/plain": [
       "2024.10.14 10:37:09.825 |MainThread   | INFO    | geometry.py:617 -    draw_cylinders_3D() | model - Plotting cylinder in 3D\n"
      ]
     },
     "metadata": {},
     "output_type": "display_data"
    },
    {
     "data": {
      "text/html": [
       "<pre style=\"white-space:pre;overflow-x:auto;line-height:normal;font-family:Menlo,'DejaVu Sans Mono',consolas,'Courier New',monospace\">2024.10.14 10:37:09.837 |MainThread   | INFO    | geometry.py:617 -    draw_cylinders_3D() | model - Plotting cylinder in 3D\n",
       "</pre>\n"
      ],
      "text/plain": [
       "2024.10.14 10:37:09.837 |MainThread   | INFO    | geometry.py:617 -    draw_cylinders_3D() | model - Plotting cylinder in 3D\n"
      ]
     },
     "metadata": {},
     "output_type": "display_data"
    },
    {
     "data": {
      "text/html": [
       "<pre style=\"white-space:pre;overflow-x:auto;line-height:normal;font-family:Menlo,'DejaVu Sans Mono',consolas,'Courier New',monospace\">2024.10.14 10:37:09.849 |MainThread   | INFO    | geometry.py:617 -    draw_cylinders_3D() | model - Plotting cylinder in 3D\n",
       "</pre>\n"
      ],
      "text/plain": [
       "2024.10.14 10:37:09.849 |MainThread   | INFO    | geometry.py:617 -    draw_cylinders_3D() | model - Plotting cylinder in 3D\n"
      ]
     },
     "metadata": {},
     "output_type": "display_data"
    },
    {
     "data": {
      "text/html": [
       "<pre style=\"white-space:pre;overflow-x:auto;line-height:normal;font-family:Menlo,'DejaVu Sans Mono',consolas,'Courier New',monospace\">2024.10.14 10:37:09.858 |MainThread   | INFO    | geometry.py:617 -    draw_cylinders_3D() | model - Plotting cylinder in 3D\n",
       "</pre>\n"
      ],
      "text/plain": [
       "2024.10.14 10:37:09.858 |MainThread   | INFO    | geometry.py:617 -    draw_cylinders_3D() | model - Plotting cylinder in 3D\n"
      ]
     },
     "metadata": {},
     "output_type": "display_data"
    },
    {
     "data": {
      "text/html": [
       "<pre style=\"white-space:pre;overflow-x:auto;line-height:normal;font-family:Menlo,'DejaVu Sans Mono',consolas,'Courier New',monospace\">2024.10.14 10:37:09.871 |MainThread   | INFO    | geometry.py:617 -    draw_cylinders_3D() | model - Plotting cylinder in 3D\n",
       "</pre>\n"
      ],
      "text/plain": [
       "2024.10.14 10:37:09.871 |MainThread   | INFO    | geometry.py:617 -    draw_cylinders_3D() | model - Plotting cylinder in 3D\n"
      ]
     },
     "metadata": {},
     "output_type": "display_data"
    },
    {
     "data": {
      "text/html": [
       "<pre style=\"white-space:pre;overflow-x:auto;line-height:normal;font-family:Menlo,'DejaVu Sans Mono',consolas,'Courier New',monospace\">2024.10.14 10:37:09.885 |MainThread   | INFO    | geometry.py:617 -    draw_cylinders_3D() | model - Plotting cylinder in 3D\n",
       "</pre>\n"
      ],
      "text/plain": [
       "2024.10.14 10:37:09.885 |MainThread   | INFO    | geometry.py:617 -    draw_cylinders_3D() | model - Plotting cylinder in 3D\n"
      ]
     },
     "metadata": {},
     "output_type": "display_data"
    },
    {
     "data": {
      "text/html": [
       "<pre style=\"white-space:pre;overflow-x:auto;line-height:normal;font-family:Menlo,'DejaVu Sans Mono',consolas,'Courier New',monospace\">2024.10.14 10:37:09.899 |MainThread   | INFO    | geometry.py:617 -    draw_cylinders_3D() | model - Plotting cylinder in 3D\n",
       "</pre>\n"
      ],
      "text/plain": [
       "2024.10.14 10:37:09.899 |MainThread   | INFO    | geometry.py:617 -    draw_cylinders_3D() | model - Plotting cylinder in 3D\n"
      ]
     },
     "metadata": {},
     "output_type": "display_data"
    },
    {
     "data": {
      "text/html": [
       "<pre style=\"white-space:pre;overflow-x:auto;line-height:normal;font-family:Menlo,'DejaVu Sans Mono',consolas,'Courier New',monospace\">2024.10.14 10:37:09.908 |MainThread   | INFO    | geometry.py:617 -    draw_cylinders_3D() | model - Plotting cylinder in 3D\n",
       "</pre>\n"
      ],
      "text/plain": [
       "2024.10.14 10:37:09.908 |MainThread   | INFO    | geometry.py:617 -    draw_cylinders_3D() | model - Plotting cylinder in 3D\n"
      ]
     },
     "metadata": {},
     "output_type": "display_data"
    },
    {
     "data": {
      "text/html": [
       "<pre style=\"white-space:pre;overflow-x:auto;line-height:normal;font-family:Menlo,'DejaVu Sans Mono',consolas,'Courier New',monospace\">2024.10.14 10:37:09.918 |MainThread   | INFO    | geometry.py:617 -    draw_cylinders_3D() | model - Plotting cylinder in 3D\n",
       "</pre>\n"
      ],
      "text/plain": [
       "2024.10.14 10:37:09.918 |MainThread   | INFO    | geometry.py:617 -    draw_cylinders_3D() | model - Plotting cylinder in 3D\n"
      ]
     },
     "metadata": {},
     "output_type": "display_data"
    },
    {
     "data": {
      "text/html": [
       "<pre style=\"white-space:pre;overflow-x:auto;line-height:normal;font-family:Menlo,'DejaVu Sans Mono',consolas,'Courier New',monospace\">2024.10.14 10:37:09.930 |MainThread   | INFO    | geometry.py:617 -    draw_cylinders_3D() | model - Plotting cylinder in 3D\n",
       "</pre>\n"
      ],
      "text/plain": [
       "2024.10.14 10:37:09.930 |MainThread   | INFO    | geometry.py:617 -    draw_cylinders_3D() | model - Plotting cylinder in 3D\n"
      ]
     },
     "metadata": {},
     "output_type": "display_data"
    },
    {
     "data": {
      "text/html": [
       "<pre style=\"white-space:pre;overflow-x:auto;line-height:normal;font-family:Menlo,'DejaVu Sans Mono',consolas,'Courier New',monospace\">2024.10.14 10:37:09.939 |MainThread   | INFO    | geometry.py:617 -    draw_cylinders_3D() | model - Plotting cylinder in 3D\n",
       "</pre>\n"
      ],
      "text/plain": [
       "2024.10.14 10:37:09.939 |MainThread   | INFO    | geometry.py:617 -    draw_cylinders_3D() | model - Plotting cylinder in 3D\n"
      ]
     },
     "metadata": {},
     "output_type": "display_data"
    },
    {
     "data": {
      "text/html": [
       "<pre style=\"white-space:pre;overflow-x:auto;line-height:normal;font-family:Menlo,'DejaVu Sans Mono',consolas,'Courier New',monospace\">2024.10.14 10:37:09.953 |MainThread   | INFO    | geometry.py:617 -    draw_cylinders_3D() | model - Plotting cylinder in 3D\n",
       "</pre>\n"
      ],
      "text/plain": [
       "2024.10.14 10:37:09.953 |MainThread   | INFO    | geometry.py:617 -    draw_cylinders_3D() | model - Plotting cylinder in 3D\n"
      ]
     },
     "metadata": {},
     "output_type": "display_data"
    },
    {
     "data": {
      "text/html": [
       "<pre style=\"white-space:pre;overflow-x:auto;line-height:normal;font-family:Menlo,'DejaVu Sans Mono',consolas,'Courier New',monospace\">2024.10.14 10:37:09.965 |MainThread   | INFO    | geometry.py:617 -    draw_cylinders_3D() | model - Plotting cylinder in 3D\n",
       "</pre>\n"
      ],
      "text/plain": [
       "2024.10.14 10:37:09.965 |MainThread   | INFO    | geometry.py:617 -    draw_cylinders_3D() | model - Plotting cylinder in 3D\n"
      ]
     },
     "metadata": {},
     "output_type": "display_data"
    },
    {
     "data": {
      "text/html": [
       "<pre style=\"white-space:pre;overflow-x:auto;line-height:normal;font-family:Menlo,'DejaVu Sans Mono',consolas,'Courier New',monospace\">2024.10.14 10:37:09.981 |MainThread   | INFO    | geometry.py:617 -    draw_cylinders_3D() | model - Plotting cylinder in 3D\n",
       "</pre>\n"
      ],
      "text/plain": [
       "2024.10.14 10:37:09.981 |MainThread   | INFO    | geometry.py:617 -    draw_cylinders_3D() | model - Plotting cylinder in 3D\n"
      ]
     },
     "metadata": {},
     "output_type": "display_data"
    },
    {
     "data": {
      "text/html": [
       "<pre style=\"white-space:pre;overflow-x:auto;line-height:normal;font-family:Menlo,'DejaVu Sans Mono',consolas,'Courier New',monospace\">2024.10.14 10:37:09.988 |MainThread   | INFO    | geometry.py:617 -    draw_cylinders_3D() | model - Plotting cylinder in 3D\n",
       "</pre>\n"
      ],
      "text/plain": [
       "2024.10.14 10:37:09.988 |MainThread   | INFO    | geometry.py:617 -    draw_cylinders_3D() | model - Plotting cylinder in 3D\n"
      ]
     },
     "metadata": {},
     "output_type": "display_data"
    },
    {
     "data": {
      "text/html": [
       "<pre style=\"white-space:pre;overflow-x:auto;line-height:normal;font-family:Menlo,'DejaVu Sans Mono',consolas,'Courier New',monospace\">2024.10.14 10:37:09.999 |MainThread   | INFO    | geometry.py:617 -    draw_cylinders_3D() | model - Plotting cylinder in 3D\n",
       "</pre>\n"
      ],
      "text/plain": [
       "2024.10.14 10:37:09.999 |MainThread   | INFO    | geometry.py:617 -    draw_cylinders_3D() | model - Plotting cylinder in 3D\n"
      ]
     },
     "metadata": {},
     "output_type": "display_data"
    },
    {
     "data": {
      "text/html": [
       "<pre style=\"white-space:pre;overflow-x:auto;line-height:normal;font-family:Menlo,'DejaVu Sans Mono',consolas,'Courier New',monospace\">2024.10.14 10:37:10.007 |MainThread   | INFO    | geometry.py:617 -    draw_cylinders_3D() | model - Plotting cylinder in 3D\n",
       "</pre>\n"
      ],
      "text/plain": [
       "2024.10.14 10:37:10.007 |MainThread   | INFO    | geometry.py:617 -    draw_cylinders_3D() | model - Plotting cylinder in 3D\n"
      ]
     },
     "metadata": {},
     "output_type": "display_data"
    },
    {
     "data": {
      "text/html": [
       "<pre style=\"white-space:pre;overflow-x:auto;line-height:normal;font-family:Menlo,'DejaVu Sans Mono',consolas,'Courier New',monospace\">2024.10.14 10:37:10.017 |MainThread   | INFO    | geometry.py:617 -    draw_cylinders_3D() | model - Plotting cylinder in 3D\n",
       "</pre>\n"
      ],
      "text/plain": [
       "2024.10.14 10:37:10.017 |MainThread   | INFO    | geometry.py:617 -    draw_cylinders_3D() | model - Plotting cylinder in 3D\n"
      ]
     },
     "metadata": {},
     "output_type": "display_data"
    },
    {
     "data": {
      "text/html": [
       "<pre style=\"white-space:pre;overflow-x:auto;line-height:normal;font-family:Menlo,'DejaVu Sans Mono',consolas,'Courier New',monospace\">2024.10.14 10:37:10.155 |MainThread   | INFO    | geometry.py:617 -    draw_cylinders_3D() | model - Plotting cylinder in 3D\n",
       "</pre>\n"
      ],
      "text/plain": [
       "2024.10.14 10:37:10.155 |MainThread   | INFO    | geometry.py:617 -    draw_cylinders_3D() | model - Plotting cylinder in 3D\n"
      ]
     },
     "metadata": {},
     "output_type": "display_data"
    },
    {
     "data": {
      "text/html": [
       "<pre style=\"white-space:pre;overflow-x:auto;line-height:normal;font-family:Menlo,'DejaVu Sans Mono',consolas,'Courier New',monospace\">2024.10.14 10:37:10.170 |MainThread   | INFO    | geometry.py:617 -    draw_cylinders_3D() | model - Plotting cylinder in 3D\n",
       "</pre>\n"
      ],
      "text/plain": [
       "2024.10.14 10:37:10.170 |MainThread   | INFO    | geometry.py:617 -    draw_cylinders_3D() | model - Plotting cylinder in 3D\n"
      ]
     },
     "metadata": {},
     "output_type": "display_data"
    },
    {
     "data": {
      "text/html": [
       "<pre style=\"white-space:pre;overflow-x:auto;line-height:normal;font-family:Menlo,'DejaVu Sans Mono',consolas,'Courier New',monospace\">2024.10.14 10:37:10.183 |MainThread   | INFO    | geometry.py:617 -    draw_cylinders_3D() | model - Plotting cylinder in 3D\n",
       "</pre>\n"
      ],
      "text/plain": [
       "2024.10.14 10:37:10.183 |MainThread   | INFO    | geometry.py:617 -    draw_cylinders_3D() | model - Plotting cylinder in 3D\n"
      ]
     },
     "metadata": {},
     "output_type": "display_data"
    },
    {
     "data": {
      "text/html": [
       "<pre style=\"white-space:pre;overflow-x:auto;line-height:normal;font-family:Menlo,'DejaVu Sans Mono',consolas,'Courier New',monospace\">2024.10.14 10:37:10.195 |MainThread   | INFO    | geometry.py:617 -    draw_cylinders_3D() | model - Plotting cylinder in 3D\n",
       "</pre>\n"
      ],
      "text/plain": [
       "2024.10.14 10:37:10.195 |MainThread   | INFO    | geometry.py:617 -    draw_cylinders_3D() | model - Plotting cylinder in 3D\n"
      ]
     },
     "metadata": {},
     "output_type": "display_data"
    },
    {
     "data": {
      "text/html": [
       "<pre style=\"white-space:pre;overflow-x:auto;line-height:normal;font-family:Menlo,'DejaVu Sans Mono',consolas,'Courier New',monospace\">2024.10.14 10:37:10.208 |MainThread   | INFO    | geometry.py:617 -    draw_cylinders_3D() | model - Plotting cylinder in 3D\n",
       "</pre>\n"
      ],
      "text/plain": [
       "2024.10.14 10:37:10.208 |MainThread   | INFO    | geometry.py:617 -    draw_cylinders_3D() | model - Plotting cylinder in 3D\n"
      ]
     },
     "metadata": {},
     "output_type": "display_data"
    },
    {
     "data": {
      "text/html": [
       "<pre style=\"white-space:pre;overflow-x:auto;line-height:normal;font-family:Menlo,'DejaVu Sans Mono',consolas,'Courier New',monospace\">2024.10.14 10:37:10.221 |MainThread   | INFO    | geometry.py:617 -    draw_cylinders_3D() | model - Plotting cylinder in 3D\n",
       "</pre>\n"
      ],
      "text/plain": [
       "2024.10.14 10:37:10.221 |MainThread   | INFO    | geometry.py:617 -    draw_cylinders_3D() | model - Plotting cylinder in 3D\n"
      ]
     },
     "metadata": {},
     "output_type": "display_data"
    },
    {
     "data": {
      "text/html": [
       "<pre style=\"white-space:pre;overflow-x:auto;line-height:normal;font-family:Menlo,'DejaVu Sans Mono',consolas,'Courier New',monospace\">2024.10.14 10:37:10.232 |MainThread   | INFO    | geometry.py:617 -    draw_cylinders_3D() | model - Plotting cylinder in 3D\n",
       "</pre>\n"
      ],
      "text/plain": [
       "2024.10.14 10:37:10.232 |MainThread   | INFO    | geometry.py:617 -    draw_cylinders_3D() | model - Plotting cylinder in 3D\n"
      ]
     },
     "metadata": {},
     "output_type": "display_data"
    },
    {
     "data": {
      "text/html": [
       "<pre style=\"white-space:pre;overflow-x:auto;line-height:normal;font-family:Menlo,'DejaVu Sans Mono',consolas,'Courier New',monospace\">2024.10.14 10:37:10.241 |MainThread   | INFO    | geometry.py:617 -    draw_cylinders_3D() | model - Plotting cylinder in 3D\n",
       "</pre>\n"
      ],
      "text/plain": [
       "2024.10.14 10:37:10.241 |MainThread   | INFO    | geometry.py:617 -    draw_cylinders_3D() | model - Plotting cylinder in 3D\n"
      ]
     },
     "metadata": {},
     "output_type": "display_data"
    },
    {
     "data": {
      "text/html": [
       "<pre style=\"white-space:pre;overflow-x:auto;line-height:normal;font-family:Menlo,'DejaVu Sans Mono',consolas,'Courier New',monospace\">2024.10.14 10:37:10.254 |MainThread   | INFO    | geometry.py:617 -    draw_cylinders_3D() | model - Plotting cylinder in 3D\n",
       "</pre>\n"
      ],
      "text/plain": [
       "2024.10.14 10:37:10.254 |MainThread   | INFO    | geometry.py:617 -    draw_cylinders_3D() | model - Plotting cylinder in 3D\n"
      ]
     },
     "metadata": {},
     "output_type": "display_data"
    },
    {
     "data": {
      "text/html": [
       "<pre style=\"white-space:pre;overflow-x:auto;line-height:normal;font-family:Menlo,'DejaVu Sans Mono',consolas,'Courier New',monospace\">2024.10.14 10:37:10.267 |MainThread   | INFO    | geometry.py:617 -    draw_cylinders_3D() | model - Plotting cylinder in 3D\n",
       "</pre>\n"
      ],
      "text/plain": [
       "2024.10.14 10:37:10.267 |MainThread   | INFO    | geometry.py:617 -    draw_cylinders_3D() | model - Plotting cylinder in 3D\n"
      ]
     },
     "metadata": {},
     "output_type": "display_data"
    },
    {
     "data": {
      "text/html": [
       "<pre style=\"white-space:pre;overflow-x:auto;line-height:normal;font-family:Menlo,'DejaVu Sans Mono',consolas,'Courier New',monospace\">2024.10.14 10:37:10.275 |MainThread   | INFO    | geometry.py:617 -    draw_cylinders_3D() | model - Plotting cylinder in 3D\n",
       "</pre>\n"
      ],
      "text/plain": [
       "2024.10.14 10:37:10.275 |MainThread   | INFO    | geometry.py:617 -    draw_cylinders_3D() | model - Plotting cylinder in 3D\n"
      ]
     },
     "metadata": {},
     "output_type": "display_data"
    },
    {
     "data": {
      "text/html": [
       "<pre style=\"white-space:pre;overflow-x:auto;line-height:normal;font-family:Menlo,'DejaVu Sans Mono',consolas,'Courier New',monospace\">2024.10.14 10:37:10.287 |MainThread   | INFO    | geometry.py:617 -    draw_cylinders_3D() | model - Plotting cylinder in 3D\n",
       "</pre>\n"
      ],
      "text/plain": [
       "2024.10.14 10:37:10.287 |MainThread   | INFO    | geometry.py:617 -    draw_cylinders_3D() | model - Plotting cylinder in 3D\n"
      ]
     },
     "metadata": {},
     "output_type": "display_data"
    },
    {
     "data": {
      "text/html": [
       "<pre style=\"white-space:pre;overflow-x:auto;line-height:normal;font-family:Menlo,'DejaVu Sans Mono',consolas,'Courier New',monospace\">2024.10.14 10:37:10.297 |MainThread   | INFO    | geometry.py:617 -    draw_cylinders_3D() | model - Plotting cylinder in 3D\n",
       "</pre>\n"
      ],
      "text/plain": [
       "2024.10.14 10:37:10.297 |MainThread   | INFO    | geometry.py:617 -    draw_cylinders_3D() | model - Plotting cylinder in 3D\n"
      ]
     },
     "metadata": {},
     "output_type": "display_data"
    },
    {
     "data": {
      "text/html": [
       "<pre style=\"white-space:pre;overflow-x:auto;line-height:normal;font-family:Menlo,'DejaVu Sans Mono',consolas,'Courier New',monospace\">2024.10.14 10:37:10.305 |MainThread   | INFO    | geometry.py:617 -    draw_cylinders_3D() | model - Plotting cylinder in 3D\n",
       "</pre>\n"
      ],
      "text/plain": [
       "2024.10.14 10:37:10.305 |MainThread   | INFO    | geometry.py:617 -    draw_cylinders_3D() | model - Plotting cylinder in 3D\n"
      ]
     },
     "metadata": {},
     "output_type": "display_data"
    },
    {
     "data": {
      "text/html": [
       "<pre style=\"white-space:pre;overflow-x:auto;line-height:normal;font-family:Menlo,'DejaVu Sans Mono',consolas,'Courier New',monospace\">2024.10.14 10:37:10.319 |MainThread   | INFO    | geometry.py:617 -    draw_cylinders_3D() | model - Plotting cylinder in 3D\n",
       "</pre>\n"
      ],
      "text/plain": [
       "2024.10.14 10:37:10.319 |MainThread   | INFO    | geometry.py:617 -    draw_cylinders_3D() | model - Plotting cylinder in 3D\n"
      ]
     },
     "metadata": {},
     "output_type": "display_data"
    },
    {
     "data": {
      "text/html": [
       "<pre style=\"white-space:pre;overflow-x:auto;line-height:normal;font-family:Menlo,'DejaVu Sans Mono',consolas,'Courier New',monospace\">2024.10.14 10:37:10.331 |MainThread   | INFO    | geometry.py:617 -    draw_cylinders_3D() | model - Plotting cylinder in 3D\n",
       "</pre>\n"
      ],
      "text/plain": [
       "2024.10.14 10:37:10.331 |MainThread   | INFO    | geometry.py:617 -    draw_cylinders_3D() | model - Plotting cylinder in 3D\n"
      ]
     },
     "metadata": {},
     "output_type": "display_data"
    },
    {
     "data": {
      "text/html": [
       "<pre style=\"white-space:pre;overflow-x:auto;line-height:normal;font-family:Menlo,'DejaVu Sans Mono',consolas,'Courier New',monospace\">2024.10.14 10:37:10.339 |MainThread   | INFO    | geometry.py:617 -    draw_cylinders_3D() | model - Plotting cylinder in 3D\n",
       "</pre>\n"
      ],
      "text/plain": [
       "2024.10.14 10:37:10.339 |MainThread   | INFO    | geometry.py:617 -    draw_cylinders_3D() | model - Plotting cylinder in 3D\n"
      ]
     },
     "metadata": {},
     "output_type": "display_data"
    },
    {
     "data": {
      "text/html": [
       "<pre style=\"white-space:pre;overflow-x:auto;line-height:normal;font-family:Menlo,'DejaVu Sans Mono',consolas,'Courier New',monospace\">2024.10.14 10:37:10.353 |MainThread   | INFO    | geometry.py:617 -    draw_cylinders_3D() | model - Plotting cylinder in 3D\n",
       "</pre>\n"
      ],
      "text/plain": [
       "2024.10.14 10:37:10.353 |MainThread   | INFO    | geometry.py:617 -    draw_cylinders_3D() | model - Plotting cylinder in 3D\n"
      ]
     },
     "metadata": {},
     "output_type": "display_data"
    },
    {
     "data": {
      "text/html": [
       "<pre style=\"white-space:pre;overflow-x:auto;line-height:normal;font-family:Menlo,'DejaVu Sans Mono',consolas,'Courier New',monospace\">2024.10.14 10:37:10.366 |MainThread   | INFO    | geometry.py:617 -    draw_cylinders_3D() | model - Plotting cylinder in 3D\n",
       "</pre>\n"
      ],
      "text/plain": [
       "2024.10.14 10:37:10.366 |MainThread   | INFO    | geometry.py:617 -    draw_cylinders_3D() | model - Plotting cylinder in 3D\n"
      ]
     },
     "metadata": {},
     "output_type": "display_data"
    },
    {
     "data": {
      "text/html": [
       "<pre style=\"white-space:pre;overflow-x:auto;line-height:normal;font-family:Menlo,'DejaVu Sans Mono',consolas,'Courier New',monospace\">2024.10.14 10:37:10.374 |MainThread   | INFO    | geometry.py:617 -    draw_cylinders_3D() | model - Plotting cylinder in 3D\n",
       "</pre>\n"
      ],
      "text/plain": [
       "2024.10.14 10:37:10.374 |MainThread   | INFO    | geometry.py:617 -    draw_cylinders_3D() | model - Plotting cylinder in 3D\n"
      ]
     },
     "metadata": {},
     "output_type": "display_data"
    },
    {
     "data": {
      "text/html": [
       "<pre style=\"white-space:pre;overflow-x:auto;line-height:normal;font-family:Menlo,'DejaVu Sans Mono',consolas,'Courier New',monospace\">2024.10.14 10:37:10.386 |MainThread   | INFO    | geometry.py:617 -    draw_cylinders_3D() | model - Plotting cylinder in 3D\n",
       "</pre>\n"
      ],
      "text/plain": [
       "2024.10.14 10:37:10.386 |MainThread   | INFO    | geometry.py:617 -    draw_cylinders_3D() | model - Plotting cylinder in 3D\n"
      ]
     },
     "metadata": {},
     "output_type": "display_data"
    },
    {
     "data": {
      "text/html": [
       "<pre style=\"white-space:pre;overflow-x:auto;line-height:normal;font-family:Menlo,'DejaVu Sans Mono',consolas,'Courier New',monospace\">2024.10.14 10:37:10.397 |MainThread   | INFO    | geometry.py:617 -    draw_cylinders_3D() | model - Plotting cylinder in 3D\n",
       "</pre>\n"
      ],
      "text/plain": [
       "2024.10.14 10:37:10.397 |MainThread   | INFO    | geometry.py:617 -    draw_cylinders_3D() | model - Plotting cylinder in 3D\n"
      ]
     },
     "metadata": {},
     "output_type": "display_data"
    },
    {
     "data": {
      "text/html": [
       "<pre style=\"white-space:pre;overflow-x:auto;line-height:normal;font-family:Menlo,'DejaVu Sans Mono',consolas,'Courier New',monospace\">2024.10.14 10:37:10.405 |MainThread   | INFO    | geometry.py:617 -    draw_cylinders_3D() | model - Plotting cylinder in 3D\n",
       "</pre>\n"
      ],
      "text/plain": [
       "2024.10.14 10:37:10.405 |MainThread   | INFO    | geometry.py:617 -    draw_cylinders_3D() | model - Plotting cylinder in 3D\n"
      ]
     },
     "metadata": {},
     "output_type": "display_data"
    },
    {
     "data": {
      "text/html": [
       "<pre style=\"white-space:pre;overflow-x:auto;line-height:normal;font-family:Menlo,'DejaVu Sans Mono',consolas,'Courier New',monospace\">2024.10.14 10:37:10.416 |MainThread   | INFO    | geometry.py:617 -    draw_cylinders_3D() | model - Plotting cylinder in 3D\n",
       "</pre>\n"
      ],
      "text/plain": [
       "2024.10.14 10:37:10.416 |MainThread   | INFO    | geometry.py:617 -    draw_cylinders_3D() | model - Plotting cylinder in 3D\n"
      ]
     },
     "metadata": {},
     "output_type": "display_data"
    },
    {
     "data": {
      "text/html": [
       "<pre style=\"white-space:pre;overflow-x:auto;line-height:normal;font-family:Menlo,'DejaVu Sans Mono',consolas,'Courier New',monospace\">2024.10.14 10:37:10.423 |MainThread   | INFO    | geometry.py:617 -    draw_cylinders_3D() | model - Plotting cylinder in 3D\n",
       "</pre>\n"
      ],
      "text/plain": [
       "2024.10.14 10:37:10.423 |MainThread   | INFO    | geometry.py:617 -    draw_cylinders_3D() | model - Plotting cylinder in 3D\n"
      ]
     },
     "metadata": {},
     "output_type": "display_data"
    },
    {
     "data": {
      "text/html": [
       "<pre style=\"white-space:pre;overflow-x:auto;line-height:normal;font-family:Menlo,'DejaVu Sans Mono',consolas,'Courier New',monospace\">2024.10.14 10:37:10.435 |MainThread   | INFO    | geometry.py:617 -    draw_cylinders_3D() | model - Plotting cylinder in 3D\n",
       "</pre>\n"
      ],
      "text/plain": [
       "2024.10.14 10:37:10.435 |MainThread   | INFO    | geometry.py:617 -    draw_cylinders_3D() | model - Plotting cylinder in 3D\n"
      ]
     },
     "metadata": {},
     "output_type": "display_data"
    },
    {
     "data": {
      "text/html": [
       "<pre style=\"white-space:pre;overflow-x:auto;line-height:normal;font-family:Menlo,'DejaVu Sans Mono',consolas,'Courier New',monospace\">2024.10.14 10:37:10.441 |MainThread   | INFO    | geometry.py:617 -    draw_cylinders_3D() | model - Plotting cylinder in 3D\n",
       "</pre>\n"
      ],
      "text/plain": [
       "2024.10.14 10:37:10.441 |MainThread   | INFO    | geometry.py:617 -    draw_cylinders_3D() | model - Plotting cylinder in 3D\n"
      ]
     },
     "metadata": {},
     "output_type": "display_data"
    },
    {
     "data": {
      "text/html": [
       "<pre style=\"white-space:pre;overflow-x:auto;line-height:normal;font-family:Menlo,'DejaVu Sans Mono',consolas,'Courier New',monospace\">2024.10.14 10:37:10.456 |MainThread   | INFO    | geometry.py:617 -    draw_cylinders_3D() | model - Plotting cylinder in 3D\n",
       "</pre>\n"
      ],
      "text/plain": [
       "2024.10.14 10:37:10.456 |MainThread   | INFO    | geometry.py:617 -    draw_cylinders_3D() | model - Plotting cylinder in 3D\n"
      ]
     },
     "metadata": {},
     "output_type": "display_data"
    },
    {
     "data": {
      "text/html": [
       "<pre style=\"white-space:pre;overflow-x:auto;line-height:normal;font-family:Menlo,'DejaVu Sans Mono',consolas,'Courier New',monospace\">2024.10.14 10:37:10.469 |MainThread   | INFO    | geometry.py:617 -    draw_cylinders_3D() | model - Plotting cylinder in 3D\n",
       "</pre>\n"
      ],
      "text/plain": [
       "2024.10.14 10:37:10.469 |MainThread   | INFO    | geometry.py:617 -    draw_cylinders_3D() | model - Plotting cylinder in 3D\n"
      ]
     },
     "metadata": {},
     "output_type": "display_data"
    },
    {
     "data": {
      "text/html": [
       "<pre style=\"white-space:pre;overflow-x:auto;line-height:normal;font-family:Menlo,'DejaVu Sans Mono',consolas,'Courier New',monospace\">2024.10.14 10:37:10.481 |MainThread   | INFO    | geometry.py:617 -    draw_cylinders_3D() | model - Plotting cylinder in 3D\n",
       "</pre>\n"
      ],
      "text/plain": [
       "2024.10.14 10:37:10.481 |MainThread   | INFO    | geometry.py:617 -    draw_cylinders_3D() | model - Plotting cylinder in 3D\n"
      ]
     },
     "metadata": {},
     "output_type": "display_data"
    },
    {
     "data": {
      "text/html": [
       "<pre style=\"white-space:pre;overflow-x:auto;line-height:normal;font-family:Menlo,'DejaVu Sans Mono',consolas,'Courier New',monospace\">2024.10.14 10:37:10.490 |MainThread   | INFO    | geometry.py:617 -    draw_cylinders_3D() | model - Plotting cylinder in 3D\n",
       "</pre>\n"
      ],
      "text/plain": [
       "2024.10.14 10:37:10.490 |MainThread   | INFO    | geometry.py:617 -    draw_cylinders_3D() | model - Plotting cylinder in 3D\n"
      ]
     },
     "metadata": {},
     "output_type": "display_data"
    },
    {
     "data": {
      "text/html": [
       "<pre style=\"white-space:pre;overflow-x:auto;line-height:normal;font-family:Menlo,'DejaVu Sans Mono',consolas,'Courier New',monospace\">2024.10.14 10:37:10.501 |MainThread   | INFO    | geometry.py:617 -    draw_cylinders_3D() | model - Plotting cylinder in 3D\n",
       "</pre>\n"
      ],
      "text/plain": [
       "2024.10.14 10:37:10.501 |MainThread   | INFO    | geometry.py:617 -    draw_cylinders_3D() | model - Plotting cylinder in 3D\n"
      ]
     },
     "metadata": {},
     "output_type": "display_data"
    },
    {
     "data": {
      "text/html": [
       "<pre style=\"white-space:pre;overflow-x:auto;line-height:normal;font-family:Menlo,'DejaVu Sans Mono',consolas,'Courier New',monospace\">2024.10.14 10:37:10.511 |MainThread   | INFO    | geometry.py:617 -    draw_cylinders_3D() | model - Plotting cylinder in 3D\n",
       "</pre>\n"
      ],
      "text/plain": [
       "2024.10.14 10:37:10.511 |MainThread   | INFO    | geometry.py:617 -    draw_cylinders_3D() | model - Plotting cylinder in 3D\n"
      ]
     },
     "metadata": {},
     "output_type": "display_data"
    },
    {
     "data": {
      "text/html": [
       "<pre style=\"white-space:pre;overflow-x:auto;line-height:normal;font-family:Menlo,'DejaVu Sans Mono',consolas,'Courier New',monospace\">2024.10.14 10:37:10.522 |MainThread   | INFO    | geometry.py:617 -    draw_cylinders_3D() | model - Plotting cylinder in 3D\n",
       "</pre>\n"
      ],
      "text/plain": [
       "2024.10.14 10:37:10.522 |MainThread   | INFO    | geometry.py:617 -    draw_cylinders_3D() | model - Plotting cylinder in 3D\n"
      ]
     },
     "metadata": {},
     "output_type": "display_data"
    },
    {
     "data": {
      "text/html": [
       "<pre style=\"white-space:pre;overflow-x:auto;line-height:normal;font-family:Menlo,'DejaVu Sans Mono',consolas,'Courier New',monospace\">2024.10.14 10:37:10.534 |MainThread   | INFO    | geometry.py:617 -    draw_cylinders_3D() | model - Plotting cylinder in 3D\n",
       "</pre>\n"
      ],
      "text/plain": [
       "2024.10.14 10:37:10.534 |MainThread   | INFO    | geometry.py:617 -    draw_cylinders_3D() | model - Plotting cylinder in 3D\n"
      ]
     },
     "metadata": {},
     "output_type": "display_data"
    },
    {
     "data": {
      "text/html": [
       "<pre style=\"white-space:pre;overflow-x:auto;line-height:normal;font-family:Menlo,'DejaVu Sans Mono',consolas,'Courier New',monospace\">2024.10.14 10:37:10.543 |MainThread   | INFO    | geometry.py:617 -    draw_cylinders_3D() | model - Plotting cylinder in 3D\n",
       "</pre>\n"
      ],
      "text/plain": [
       "2024.10.14 10:37:10.543 |MainThread   | INFO    | geometry.py:617 -    draw_cylinders_3D() | model - Plotting cylinder in 3D\n"
      ]
     },
     "metadata": {},
     "output_type": "display_data"
    },
    {
     "data": {
      "text/html": [
       "<pre style=\"white-space:pre;overflow-x:auto;line-height:normal;font-family:Menlo,'DejaVu Sans Mono',consolas,'Courier New',monospace\">2024.10.14 10:37:10.557 |MainThread   | INFO    | geometry.py:617 -    draw_cylinders_3D() | model - Plotting cylinder in 3D\n",
       "</pre>\n"
      ],
      "text/plain": [
       "2024.10.14 10:37:10.557 |MainThread   | INFO    | geometry.py:617 -    draw_cylinders_3D() | model - Plotting cylinder in 3D\n"
      ]
     },
     "metadata": {},
     "output_type": "display_data"
    },
    {
     "data": {
      "text/html": [
       "<pre style=\"white-space:pre;overflow-x:auto;line-height:normal;font-family:Menlo,'DejaVu Sans Mono',consolas,'Courier New',monospace\">2024.10.14 10:37:10.568 |MainThread   | INFO    | geometry.py:617 -    draw_cylinders_3D() | model - Plotting cylinder in 3D\n",
       "</pre>\n"
      ],
      "text/plain": [
       "2024.10.14 10:37:10.568 |MainThread   | INFO    | geometry.py:617 -    draw_cylinders_3D() | model - Plotting cylinder in 3D\n"
      ]
     },
     "metadata": {},
     "output_type": "display_data"
    },
    {
     "data": {
      "text/html": [
       "<pre style=\"white-space:pre;overflow-x:auto;line-height:normal;font-family:Menlo,'DejaVu Sans Mono',consolas,'Courier New',monospace\">2024.10.14 10:37:10.582 |MainThread   | INFO    | geometry.py:617 -    draw_cylinders_3D() | model - Plotting cylinder in 3D\n",
       "</pre>\n"
      ],
      "text/plain": [
       "2024.10.14 10:37:10.582 |MainThread   | INFO    | geometry.py:617 -    draw_cylinders_3D() | model - Plotting cylinder in 3D\n"
      ]
     },
     "metadata": {},
     "output_type": "display_data"
    },
    {
     "data": {
      "text/html": [
       "<pre style=\"white-space:pre;overflow-x:auto;line-height:normal;font-family:Menlo,'DejaVu Sans Mono',consolas,'Courier New',monospace\">2024.10.14 10:37:10.590 |MainThread   | INFO    | geometry.py:617 -    draw_cylinders_3D() | model - Plotting cylinder in 3D\n",
       "</pre>\n"
      ],
      "text/plain": [
       "2024.10.14 10:37:10.590 |MainThread   | INFO    | geometry.py:617 -    draw_cylinders_3D() | model - Plotting cylinder in 3D\n"
      ]
     },
     "metadata": {},
     "output_type": "display_data"
    },
    {
     "data": {
      "text/html": [
       "<pre style=\"white-space:pre;overflow-x:auto;line-height:normal;font-family:Menlo,'DejaVu Sans Mono',consolas,'Courier New',monospace\">2024.10.14 10:37:10.600 |MainThread   | INFO    | geometry.py:617 -    draw_cylinders_3D() | model - Plotting cylinder in 3D\n",
       "</pre>\n"
      ],
      "text/plain": [
       "2024.10.14 10:37:10.600 |MainThread   | INFO    | geometry.py:617 -    draw_cylinders_3D() | model - Plotting cylinder in 3D\n"
      ]
     },
     "metadata": {},
     "output_type": "display_data"
    },
    {
     "data": {
      "text/html": [
       "<pre style=\"white-space:pre;overflow-x:auto;line-height:normal;font-family:Menlo,'DejaVu Sans Mono',consolas,'Courier New',monospace\">2024.10.14 10:37:10.607 |MainThread   | INFO    | geometry.py:617 -    draw_cylinders_3D() | model - Plotting cylinder in 3D\n",
       "</pre>\n"
      ],
      "text/plain": [
       "2024.10.14 10:37:10.607 |MainThread   | INFO    | geometry.py:617 -    draw_cylinders_3D() | model - Plotting cylinder in 3D\n"
      ]
     },
     "metadata": {},
     "output_type": "display_data"
    },
    {
     "data": {
      "text/html": [
       "<pre style=\"white-space:pre;overflow-x:auto;line-height:normal;font-family:Menlo,'DejaVu Sans Mono',consolas,'Courier New',monospace\">2024.10.14 10:37:10.619 |MainThread   | INFO    | geometry.py:617 -    draw_cylinders_3D() | model - Plotting cylinder in 3D\n",
       "</pre>\n"
      ],
      "text/plain": [
       "2024.10.14 10:37:10.619 |MainThread   | INFO    | geometry.py:617 -    draw_cylinders_3D() | model - Plotting cylinder in 3D\n"
      ]
     },
     "metadata": {},
     "output_type": "display_data"
    },
    {
     "data": {
      "text/html": [
       "<pre style=\"white-space:pre;overflow-x:auto;line-height:normal;font-family:Menlo,'DejaVu Sans Mono',consolas,'Courier New',monospace\">2024.10.14 10:37:10.631 |MainThread   | INFO    | geometry.py:617 -    draw_cylinders_3D() | model - Plotting cylinder in 3D\n",
       "</pre>\n"
      ],
      "text/plain": [
       "2024.10.14 10:37:10.631 |MainThread   | INFO    | geometry.py:617 -    draw_cylinders_3D() | model - Plotting cylinder in 3D\n"
      ]
     },
     "metadata": {},
     "output_type": "display_data"
    },
    {
     "data": {
      "text/html": [
       "<pre style=\"white-space:pre;overflow-x:auto;line-height:normal;font-family:Menlo,'DejaVu Sans Mono',consolas,'Courier New',monospace\">2024.10.14 10:37:10.639 |MainThread   | INFO    | geometry.py:617 -    draw_cylinders_3D() | model - Plotting cylinder in 3D\n",
       "</pre>\n"
      ],
      "text/plain": [
       "2024.10.14 10:37:10.639 |MainThread   | INFO    | geometry.py:617 -    draw_cylinders_3D() | model - Plotting cylinder in 3D\n"
      ]
     },
     "metadata": {},
     "output_type": "display_data"
    },
    {
     "data": {
      "text/html": [
       "<pre style=\"white-space:pre;overflow-x:auto;line-height:normal;font-family:Menlo,'DejaVu Sans Mono',consolas,'Courier New',monospace\">2024.10.14 10:37:10.652 |MainThread   | INFO    | geometry.py:617 -    draw_cylinders_3D() | model - Plotting cylinder in 3D\n",
       "</pre>\n"
      ],
      "text/plain": [
       "2024.10.14 10:37:10.652 |MainThread   | INFO    | geometry.py:617 -    draw_cylinders_3D() | model - Plotting cylinder in 3D\n"
      ]
     },
     "metadata": {},
     "output_type": "display_data"
    },
    {
     "data": {
      "text/html": [
       "<pre style=\"white-space:pre;overflow-x:auto;line-height:normal;font-family:Menlo,'DejaVu Sans Mono',consolas,'Courier New',monospace\">2024.10.14 10:37:10.667 |MainThread   | INFO    | geometry.py:617 -    draw_cylinders_3D() | model - Plotting cylinder in 3D\n",
       "</pre>\n"
      ],
      "text/plain": [
       "2024.10.14 10:37:10.667 |MainThread   | INFO    | geometry.py:617 -    draw_cylinders_3D() | model - Plotting cylinder in 3D\n"
      ]
     },
     "metadata": {},
     "output_type": "display_data"
    },
    {
     "data": {
      "text/html": [
       "<pre style=\"white-space:pre;overflow-x:auto;line-height:normal;font-family:Menlo,'DejaVu Sans Mono',consolas,'Courier New',monospace\">2024.10.14 10:37:10.674 |MainThread   | INFO    | geometry.py:617 -    draw_cylinders_3D() | model - Plotting cylinder in 3D\n",
       "</pre>\n"
      ],
      "text/plain": [
       "2024.10.14 10:37:10.674 |MainThread   | INFO    | geometry.py:617 -    draw_cylinders_3D() | model - Plotting cylinder in 3D\n"
      ]
     },
     "metadata": {},
     "output_type": "display_data"
    },
    {
     "data": {
      "text/html": [
       "<pre style=\"white-space:pre;overflow-x:auto;line-height:normal;font-family:Menlo,'DejaVu Sans Mono',consolas,'Courier New',monospace\">2024.10.14 10:37:10.688 |MainThread   | INFO    | geometry.py:617 -    draw_cylinders_3D() | model - Plotting cylinder in 3D\n",
       "</pre>\n"
      ],
      "text/plain": [
       "2024.10.14 10:37:10.688 |MainThread   | INFO    | geometry.py:617 -    draw_cylinders_3D() | model - Plotting cylinder in 3D\n"
      ]
     },
     "metadata": {},
     "output_type": "display_data"
    },
    {
     "data": {
      "text/html": [
       "<pre style=\"white-space:pre;overflow-x:auto;line-height:normal;font-family:Menlo,'DejaVu Sans Mono',consolas,'Courier New',monospace\">2024.10.14 10:37:10.702 |MainThread   | INFO    | geometry.py:617 -    draw_cylinders_3D() | model - Plotting cylinder in 3D\n",
       "</pre>\n"
      ],
      "text/plain": [
       "2024.10.14 10:37:10.702 |MainThread   | INFO    | geometry.py:617 -    draw_cylinders_3D() | model - Plotting cylinder in 3D\n"
      ]
     },
     "metadata": {},
     "output_type": "display_data"
    },
    {
     "data": {
      "text/html": [
       "<pre style=\"white-space:pre;overflow-x:auto;line-height:normal;font-family:Menlo,'DejaVu Sans Mono',consolas,'Courier New',monospace\">2024.10.14 10:37:10.715 |MainThread   | INFO    | geometry.py:617 -    draw_cylinders_3D() | model - Plotting cylinder in 3D\n",
       "</pre>\n"
      ],
      "text/plain": [
       "2024.10.14 10:37:10.715 |MainThread   | INFO    | geometry.py:617 -    draw_cylinders_3D() | model - Plotting cylinder in 3D\n"
      ]
     },
     "metadata": {},
     "output_type": "display_data"
    },
    {
     "data": {
      "text/html": [
       "<pre style=\"white-space:pre;overflow-x:auto;line-height:normal;font-family:Menlo,'DejaVu Sans Mono',consolas,'Courier New',monospace\">2024.10.14 10:37:10.725 |MainThread   | INFO    | geometry.py:617 -    draw_cylinders_3D() | model - Plotting cylinder in 3D\n",
       "</pre>\n"
      ],
      "text/plain": [
       "2024.10.14 10:37:10.725 |MainThread   | INFO    | geometry.py:617 -    draw_cylinders_3D() | model - Plotting cylinder in 3D\n"
      ]
     },
     "metadata": {},
     "output_type": "display_data"
    },
    {
     "data": {
      "text/html": [
       "<pre style=\"white-space:pre;overflow-x:auto;line-height:normal;font-family:Menlo,'DejaVu Sans Mono',consolas,'Courier New',monospace\">2024.10.14 10:37:10.739 |MainThread   | INFO    | geometry.py:617 -    draw_cylinders_3D() | model - Plotting cylinder in 3D\n",
       "</pre>\n"
      ],
      "text/plain": [
       "2024.10.14 10:37:10.739 |MainThread   | INFO    | geometry.py:617 -    draw_cylinders_3D() | model - Plotting cylinder in 3D\n"
      ]
     },
     "metadata": {},
     "output_type": "display_data"
    },
    {
     "data": {
      "text/html": [
       "<pre style=\"white-space:pre;overflow-x:auto;line-height:normal;font-family:Menlo,'DejaVu Sans Mono',consolas,'Courier New',monospace\">2024.10.14 10:37:10.752 |MainThread   | INFO    | geometry.py:617 -    draw_cylinders_3D() | model - Plotting cylinder in 3D\n",
       "</pre>\n"
      ],
      "text/plain": [
       "2024.10.14 10:37:10.752 |MainThread   | INFO    | geometry.py:617 -    draw_cylinders_3D() | model - Plotting cylinder in 3D\n"
      ]
     },
     "metadata": {},
     "output_type": "display_data"
    },
    {
     "data": {
      "text/html": [
       "<pre style=\"white-space:pre;overflow-x:auto;line-height:normal;font-family:Menlo,'DejaVu Sans Mono',consolas,'Courier New',monospace\">2024.10.14 10:37:10.763 |MainThread   | INFO    | geometry.py:617 -    draw_cylinders_3D() | model - Plotting cylinder in 3D\n",
       "</pre>\n"
      ],
      "text/plain": [
       "2024.10.14 10:37:10.763 |MainThread   | INFO    | geometry.py:617 -    draw_cylinders_3D() | model - Plotting cylinder in 3D\n"
      ]
     },
     "metadata": {},
     "output_type": "display_data"
    },
    {
     "data": {
      "text/html": [
       "<pre style=\"white-space:pre;overflow-x:auto;line-height:normal;font-family:Menlo,'DejaVu Sans Mono',consolas,'Courier New',monospace\">2024.10.14 10:37:10.771 |MainThread   | INFO    | geometry.py:617 -    draw_cylinders_3D() | model - Plotting cylinder in 3D\n",
       "</pre>\n"
      ],
      "text/plain": [
       "2024.10.14 10:37:10.771 |MainThread   | INFO    | geometry.py:617 -    draw_cylinders_3D() | model - Plotting cylinder in 3D\n"
      ]
     },
     "metadata": {},
     "output_type": "display_data"
    },
    {
     "data": {
      "text/html": [
       "<pre style=\"white-space:pre;overflow-x:auto;line-height:normal;font-family:Menlo,'DejaVu Sans Mono',consolas,'Courier New',monospace\">2024.10.14 10:37:10.782 |MainThread   | INFO    | geometry.py:617 -    draw_cylinders_3D() | model - Plotting cylinder in 3D\n",
       "</pre>\n"
      ],
      "text/plain": [
       "2024.10.14 10:37:10.782 |MainThread   | INFO    | geometry.py:617 -    draw_cylinders_3D() | model - Plotting cylinder in 3D\n"
      ]
     },
     "metadata": {},
     "output_type": "display_data"
    },
    {
     "data": {
      "text/html": [
       "<pre style=\"white-space:pre;overflow-x:auto;line-height:normal;font-family:Menlo,'DejaVu Sans Mono',consolas,'Courier New',monospace\">2024.10.14 10:37:10.793 |MainThread   | INFO    | geometry.py:617 -    draw_cylinders_3D() | model - Plotting cylinder in 3D\n",
       "</pre>\n"
      ],
      "text/plain": [
       "2024.10.14 10:37:10.793 |MainThread   | INFO    | geometry.py:617 -    draw_cylinders_3D() | model - Plotting cylinder in 3D\n"
      ]
     },
     "metadata": {},
     "output_type": "display_data"
    },
    {
     "data": {
      "text/html": [
       "<pre style=\"white-space:pre;overflow-x:auto;line-height:normal;font-family:Menlo,'DejaVu Sans Mono',consolas,'Courier New',monospace\">2024.10.14 10:37:10.807 |MainThread   | INFO    | geometry.py:617 -    draw_cylinders_3D() | model - Plotting cylinder in 3D\n",
       "</pre>\n"
      ],
      "text/plain": [
       "2024.10.14 10:37:10.807 |MainThread   | INFO    | geometry.py:617 -    draw_cylinders_3D() | model - Plotting cylinder in 3D\n"
      ]
     },
     "metadata": {},
     "output_type": "display_data"
    },
    {
     "data": {
      "text/html": [
       "<pre style=\"white-space:pre;overflow-x:auto;line-height:normal;font-family:Menlo,'DejaVu Sans Mono',consolas,'Courier New',monospace\">2024.10.14 10:37:10.822 |MainThread   | INFO    | geometry.py:617 -    draw_cylinders_3D() | model - Plotting cylinder in 3D\n",
       "</pre>\n"
      ],
      "text/plain": [
       "2024.10.14 10:37:10.822 |MainThread   | INFO    | geometry.py:617 -    draw_cylinders_3D() | model - Plotting cylinder in 3D\n"
      ]
     },
     "metadata": {},
     "output_type": "display_data"
    },
    {
     "data": {
      "text/html": [
       "<pre style=\"white-space:pre;overflow-x:auto;line-height:normal;font-family:Menlo,'DejaVu Sans Mono',consolas,'Courier New',monospace\">2024.10.14 10:37:10.835 |MainThread   | INFO    | geometry.py:617 -    draw_cylinders_3D() | model - Plotting cylinder in 3D\n",
       "</pre>\n"
      ],
      "text/plain": [
       "2024.10.14 10:37:10.835 |MainThread   | INFO    | geometry.py:617 -    draw_cylinders_3D() | model - Plotting cylinder in 3D\n"
      ]
     },
     "metadata": {},
     "output_type": "display_data"
    },
    {
     "data": {
      "text/html": [
       "<pre style=\"white-space:pre;overflow-x:auto;line-height:normal;font-family:Menlo,'DejaVu Sans Mono',consolas,'Courier New',monospace\">2024.10.14 10:37:10.849 |MainThread   | INFO    | geometry.py:617 -    draw_cylinders_3D() | model - Plotting cylinder in 3D\n",
       "</pre>\n"
      ],
      "text/plain": [
       "2024.10.14 10:37:10.849 |MainThread   | INFO    | geometry.py:617 -    draw_cylinders_3D() | model - Plotting cylinder in 3D\n"
      ]
     },
     "metadata": {},
     "output_type": "display_data"
    },
    {
     "data": {
      "text/html": [
       "<pre style=\"white-space:pre;overflow-x:auto;line-height:normal;font-family:Menlo,'DejaVu Sans Mono',consolas,'Courier New',monospace\">2024.10.14 10:37:10.862 |MainThread   | INFO    | geometry.py:617 -    draw_cylinders_3D() | model - Plotting cylinder in 3D\n",
       "</pre>\n"
      ],
      "text/plain": [
       "2024.10.14 10:37:10.862 |MainThread   | INFO    | geometry.py:617 -    draw_cylinders_3D() | model - Plotting cylinder in 3D\n"
      ]
     },
     "metadata": {},
     "output_type": "display_data"
    },
    {
     "data": {
      "text/html": [
       "<pre style=\"white-space:pre;overflow-x:auto;line-height:normal;font-family:Menlo,'DejaVu Sans Mono',consolas,'Courier New',monospace\">2024.10.14 10:37:10.873 |MainThread   | INFO    | geometry.py:617 -    draw_cylinders_3D() | model - Plotting cylinder in 3D\n",
       "</pre>\n"
      ],
      "text/plain": [
       "2024.10.14 10:37:10.873 |MainThread   | INFO    | geometry.py:617 -    draw_cylinders_3D() | model - Plotting cylinder in 3D\n"
      ]
     },
     "metadata": {},
     "output_type": "display_data"
    },
    {
     "data": {
      "text/html": [
       "<pre style=\"white-space:pre;overflow-x:auto;line-height:normal;font-family:Menlo,'DejaVu Sans Mono',consolas,'Courier New',monospace\">2024.10.14 10:37:10.886 |MainThread   | INFO    | geometry.py:617 -    draw_cylinders_3D() | model - Plotting cylinder in 3D\n",
       "</pre>\n"
      ],
      "text/plain": [
       "2024.10.14 10:37:10.886 |MainThread   | INFO    | geometry.py:617 -    draw_cylinders_3D() | model - Plotting cylinder in 3D\n"
      ]
     },
     "metadata": {},
     "output_type": "display_data"
    },
    {
     "data": {
      "text/html": [
       "<pre style=\"white-space:pre;overflow-x:auto;line-height:normal;font-family:Menlo,'DejaVu Sans Mono',consolas,'Courier New',monospace\">2024.10.14 10:37:10.900 |MainThread   | INFO    | geometry.py:617 -    draw_cylinders_3D() | model - Plotting cylinder in 3D\n",
       "</pre>\n"
      ],
      "text/plain": [
       "2024.10.14 10:37:10.900 |MainThread   | INFO    | geometry.py:617 -    draw_cylinders_3D() | model - Plotting cylinder in 3D\n"
      ]
     },
     "metadata": {},
     "output_type": "display_data"
    },
    {
     "data": {
      "text/html": [
       "<pre style=\"white-space:pre;overflow-x:auto;line-height:normal;font-family:Menlo,'DejaVu Sans Mono',consolas,'Courier New',monospace\">2024.10.14 10:37:10.914 |MainThread   | INFO    | geometry.py:617 -    draw_cylinders_3D() | model - Plotting cylinder in 3D\n",
       "</pre>\n"
      ],
      "text/plain": [
       "2024.10.14 10:37:10.914 |MainThread   | INFO    | geometry.py:617 -    draw_cylinders_3D() | model - Plotting cylinder in 3D\n"
      ]
     },
     "metadata": {},
     "output_type": "display_data"
    },
    {
     "data": {
      "text/html": [
       "<pre style=\"white-space:pre;overflow-x:auto;line-height:normal;font-family:Menlo,'DejaVu Sans Mono',consolas,'Courier New',monospace\">2024.10.14 10:37:10.925 |MainThread   | INFO    | geometry.py:617 -    draw_cylinders_3D() | model - Plotting cylinder in 3D\n",
       "</pre>\n"
      ],
      "text/plain": [
       "2024.10.14 10:37:10.925 |MainThread   | INFO    | geometry.py:617 -    draw_cylinders_3D() | model - Plotting cylinder in 3D\n"
      ]
     },
     "metadata": {},
     "output_type": "display_data"
    },
    {
     "data": {
      "text/html": [
       "<pre style=\"white-space:pre;overflow-x:auto;line-height:normal;font-family:Menlo,'DejaVu Sans Mono',consolas,'Courier New',monospace\">2024.10.14 10:37:10.937 |MainThread   | INFO    | geometry.py:617 -    draw_cylinders_3D() | model - Plotting cylinder in 3D\n",
       "</pre>\n"
      ],
      "text/plain": [
       "2024.10.14 10:37:10.937 |MainThread   | INFO    | geometry.py:617 -    draw_cylinders_3D() | model - Plotting cylinder in 3D\n"
      ]
     },
     "metadata": {},
     "output_type": "display_data"
    },
    {
     "data": {
      "text/html": [
       "<pre style=\"white-space:pre;overflow-x:auto;line-height:normal;font-family:Menlo,'DejaVu Sans Mono',consolas,'Courier New',monospace\">2024.10.14 10:37:10.949 |MainThread   | INFO    | geometry.py:617 -    draw_cylinders_3D() | model - Plotting cylinder in 3D\n",
       "</pre>\n"
      ],
      "text/plain": [
       "2024.10.14 10:37:10.949 |MainThread   | INFO    | geometry.py:617 -    draw_cylinders_3D() | model - Plotting cylinder in 3D\n"
      ]
     },
     "metadata": {},
     "output_type": "display_data"
    },
    {
     "data": {
      "text/html": [
       "<pre style=\"white-space:pre;overflow-x:auto;line-height:normal;font-family:Menlo,'DejaVu Sans Mono',consolas,'Courier New',monospace\">2024.10.14 10:37:10.957 |MainThread   | INFO    | geometry.py:617 -    draw_cylinders_3D() | model - Plotting cylinder in 3D\n",
       "</pre>\n"
      ],
      "text/plain": [
       "2024.10.14 10:37:10.957 |MainThread   | INFO    | geometry.py:617 -    draw_cylinders_3D() | model - Plotting cylinder in 3D\n"
      ]
     },
     "metadata": {},
     "output_type": "display_data"
    },
    {
     "data": {
      "text/html": [
       "<pre style=\"white-space:pre;overflow-x:auto;line-height:normal;font-family:Menlo,'DejaVu Sans Mono',consolas,'Courier New',monospace\">2024.10.14 10:37:10.968 |MainThread   | INFO    | geometry.py:617 -    draw_cylinders_3D() | model - Plotting cylinder in 3D\n",
       "</pre>\n"
      ],
      "text/plain": [
       "2024.10.14 10:37:10.968 |MainThread   | INFO    | geometry.py:617 -    draw_cylinders_3D() | model - Plotting cylinder in 3D\n"
      ]
     },
     "metadata": {},
     "output_type": "display_data"
    },
    {
     "data": {
      "text/html": [
       "<pre style=\"white-space:pre;overflow-x:auto;line-height:normal;font-family:Menlo,'DejaVu Sans Mono',consolas,'Courier New',monospace\">2024.10.14 10:37:10.980 |MainThread   | INFO    | geometry.py:617 -    draw_cylinders_3D() | model - Plotting cylinder in 3D\n",
       "</pre>\n"
      ],
      "text/plain": [
       "2024.10.14 10:37:10.980 |MainThread   | INFO    | geometry.py:617 -    draw_cylinders_3D() | model - Plotting cylinder in 3D\n"
      ]
     },
     "metadata": {},
     "output_type": "display_data"
    },
    {
     "data": {
      "text/html": [
       "<pre style=\"white-space:pre;overflow-x:auto;line-height:normal;font-family:Menlo,'DejaVu Sans Mono',consolas,'Courier New',monospace\">2024.10.14 10:37:10.989 |MainThread   | INFO    | geometry.py:617 -    draw_cylinders_3D() | model - Plotting cylinder in 3D\n",
       "</pre>\n"
      ],
      "text/plain": [
       "2024.10.14 10:37:10.989 |MainThread   | INFO    | geometry.py:617 -    draw_cylinders_3D() | model - Plotting cylinder in 3D\n"
      ]
     },
     "metadata": {},
     "output_type": "display_data"
    },
    {
     "data": {
      "text/html": [
       "<pre style=\"white-space:pre;overflow-x:auto;line-height:normal;font-family:Menlo,'DejaVu Sans Mono',consolas,'Courier New',monospace\">2024.10.14 10:37:11.001 |MainThread   | INFO    | geometry.py:617 -    draw_cylinders_3D() | model - Plotting cylinder in 3D\n",
       "</pre>\n"
      ],
      "text/plain": [
       "2024.10.14 10:37:11.001 |MainThread   | INFO    | geometry.py:617 -    draw_cylinders_3D() | model - Plotting cylinder in 3D\n"
      ]
     },
     "metadata": {},
     "output_type": "display_data"
    },
    {
     "data": {
      "text/html": [
       "<pre style=\"white-space:pre;overflow-x:auto;line-height:normal;font-family:Menlo,'DejaVu Sans Mono',consolas,'Courier New',monospace\">2024.10.14 10:37:11.011 |MainThread   | INFO    | geometry.py:617 -    draw_cylinders_3D() | model - Plotting cylinder in 3D\n",
       "</pre>\n"
      ],
      "text/plain": [
       "2024.10.14 10:37:11.011 |MainThread   | INFO    | geometry.py:617 -    draw_cylinders_3D() | model - Plotting cylinder in 3D\n"
      ]
     },
     "metadata": {},
     "output_type": "display_data"
    },
    {
     "data": {
      "text/html": [
       "<pre style=\"white-space:pre;overflow-x:auto;line-height:normal;font-family:Menlo,'DejaVu Sans Mono',consolas,'Courier New',monospace\">2024.10.14 10:37:11.020 |MainThread   | INFO    | geometry.py:617 -    draw_cylinders_3D() | model - Plotting cylinder in 3D\n",
       "</pre>\n"
      ],
      "text/plain": [
       "2024.10.14 10:37:11.020 |MainThread   | INFO    | geometry.py:617 -    draw_cylinders_3D() | model - Plotting cylinder in 3D\n"
      ]
     },
     "metadata": {},
     "output_type": "display_data"
    },
    {
     "data": {
      "text/html": [
       "<pre style=\"white-space:pre;overflow-x:auto;line-height:normal;font-family:Menlo,'DejaVu Sans Mono',consolas,'Courier New',monospace\">2024.10.14 10:37:11.031 |MainThread   | INFO    | geometry.py:617 -    draw_cylinders_3D() | model - Plotting cylinder in 3D\n",
       "</pre>\n"
      ],
      "text/plain": [
       "2024.10.14 10:37:11.031 |MainThread   | INFO    | geometry.py:617 -    draw_cylinders_3D() | model - Plotting cylinder in 3D\n"
      ]
     },
     "metadata": {},
     "output_type": "display_data"
    },
    {
     "data": {
      "text/html": [
       "<pre style=\"white-space:pre;overflow-x:auto;line-height:normal;font-family:Menlo,'DejaVu Sans Mono',consolas,'Courier New',monospace\">2024.10.14 10:37:11.039 |MainThread   | INFO    | geometry.py:617 -    draw_cylinders_3D() | model - Plotting cylinder in 3D\n",
       "</pre>\n"
      ],
      "text/plain": [
       "2024.10.14 10:37:11.039 |MainThread   | INFO    | geometry.py:617 -    draw_cylinders_3D() | model - Plotting cylinder in 3D\n"
      ]
     },
     "metadata": {},
     "output_type": "display_data"
    },
    {
     "data": {
      "text/html": [
       "<pre style=\"white-space:pre;overflow-x:auto;line-height:normal;font-family:Menlo,'DejaVu Sans Mono',consolas,'Courier New',monospace\">2024.10.14 10:37:11.049 |MainThread   | INFO    | geometry.py:617 -    draw_cylinders_3D() | model - Plotting cylinder in 3D\n",
       "</pre>\n"
      ],
      "text/plain": [
       "2024.10.14 10:37:11.049 |MainThread   | INFO    | geometry.py:617 -    draw_cylinders_3D() | model - Plotting cylinder in 3D\n"
      ]
     },
     "metadata": {},
     "output_type": "display_data"
    },
    {
     "data": {
      "text/html": [
       "<pre style=\"white-space:pre;overflow-x:auto;line-height:normal;font-family:Menlo,'DejaVu Sans Mono',consolas,'Courier New',monospace\">2024.10.14 10:37:11.059 |MainThread   | INFO    | geometry.py:617 -    draw_cylinders_3D() | model - Plotting cylinder in 3D\n",
       "</pre>\n"
      ],
      "text/plain": [
       "2024.10.14 10:37:11.059 |MainThread   | INFO    | geometry.py:617 -    draw_cylinders_3D() | model - Plotting cylinder in 3D\n"
      ]
     },
     "metadata": {},
     "output_type": "display_data"
    },
    {
     "data": {
      "text/html": [
       "<pre style=\"white-space:pre;overflow-x:auto;line-height:normal;font-family:Menlo,'DejaVu Sans Mono',consolas,'Courier New',monospace\">2024.10.14 10:37:11.071 |MainThread   | INFO    | geometry.py:617 -    draw_cylinders_3D() | model - Plotting cylinder in 3D\n",
       "</pre>\n"
      ],
      "text/plain": [
       "2024.10.14 10:37:11.071 |MainThread   | INFO    | geometry.py:617 -    draw_cylinders_3D() | model - Plotting cylinder in 3D\n"
      ]
     },
     "metadata": {},
     "output_type": "display_data"
    },
    {
     "data": {
      "text/html": [
       "<pre style=\"white-space:pre;overflow-x:auto;line-height:normal;font-family:Menlo,'DejaVu Sans Mono',consolas,'Courier New',monospace\">2024.10.14 10:37:11.084 |MainThread   | INFO    | geometry.py:617 -    draw_cylinders_3D() | model - Plotting cylinder in 3D\n",
       "</pre>\n"
      ],
      "text/plain": [
       "2024.10.14 10:37:11.084 |MainThread   | INFO    | geometry.py:617 -    draw_cylinders_3D() | model - Plotting cylinder in 3D\n"
      ]
     },
     "metadata": {},
     "output_type": "display_data"
    },
    {
     "data": {
      "text/html": [
       "<pre style=\"white-space:pre;overflow-x:auto;line-height:normal;font-family:Menlo,'DejaVu Sans Mono',consolas,'Courier New',monospace\">2024.10.14 10:37:11.096 |MainThread   | INFO    | geometry.py:617 -    draw_cylinders_3D() | model - Plotting cylinder in 3D\n",
       "</pre>\n"
      ],
      "text/plain": [
       "2024.10.14 10:37:11.096 |MainThread   | INFO    | geometry.py:617 -    draw_cylinders_3D() | model - Plotting cylinder in 3D\n"
      ]
     },
     "metadata": {},
     "output_type": "display_data"
    },
    {
     "data": {
      "text/html": [
       "<pre style=\"white-space:pre;overflow-x:auto;line-height:normal;font-family:Menlo,'DejaVu Sans Mono',consolas,'Courier New',monospace\">2024.10.14 10:37:11.106 |MainThread   | INFO    | geometry.py:617 -    draw_cylinders_3D() | model - Plotting cylinder in 3D\n",
       "</pre>\n"
      ],
      "text/plain": [
       "2024.10.14 10:37:11.106 |MainThread   | INFO    | geometry.py:617 -    draw_cylinders_3D() | model - Plotting cylinder in 3D\n"
      ]
     },
     "metadata": {},
     "output_type": "display_data"
    },
    {
     "data": {
      "text/html": [
       "<pre style=\"white-space:pre;overflow-x:auto;line-height:normal;font-family:Menlo,'DejaVu Sans Mono',consolas,'Courier New',monospace\">2024.10.14 10:37:11.117 |MainThread   | INFO    | geometry.py:617 -    draw_cylinders_3D() | model - Plotting cylinder in 3D\n",
       "</pre>\n"
      ],
      "text/plain": [
       "2024.10.14 10:37:11.117 |MainThread   | INFO    | geometry.py:617 -    draw_cylinders_3D() | model - Plotting cylinder in 3D\n"
      ]
     },
     "metadata": {},
     "output_type": "display_data"
    },
    {
     "data": {
      "text/html": [
       "<pre style=\"white-space:pre;overflow-x:auto;line-height:normal;font-family:Menlo,'DejaVu Sans Mono',consolas,'Courier New',monospace\">2024.10.14 10:37:11.125 |MainThread   | INFO    | geometry.py:617 -    draw_cylinders_3D() | model - Plotting cylinder in 3D\n",
       "</pre>\n"
      ],
      "text/plain": [
       "2024.10.14 10:37:11.125 |MainThread   | INFO    | geometry.py:617 -    draw_cylinders_3D() | model - Plotting cylinder in 3D\n"
      ]
     },
     "metadata": {},
     "output_type": "display_data"
    },
    {
     "data": {
      "text/html": [
       "<pre style=\"white-space:pre;overflow-x:auto;line-height:normal;font-family:Menlo,'DejaVu Sans Mono',consolas,'Courier New',monospace\">2024.10.14 10:37:11.137 |MainThread   | INFO    | geometry.py:617 -    draw_cylinders_3D() | model - Plotting cylinder in 3D\n",
       "</pre>\n"
      ],
      "text/plain": [
       "2024.10.14 10:37:11.137 |MainThread   | INFO    | geometry.py:617 -    draw_cylinders_3D() | model - Plotting cylinder in 3D\n"
      ]
     },
     "metadata": {},
     "output_type": "display_data"
    },
    {
     "data": {
      "text/html": [
       "<pre style=\"white-space:pre;overflow-x:auto;line-height:normal;font-family:Menlo,'DejaVu Sans Mono',consolas,'Courier New',monospace\">2024.10.14 10:37:11.150 |MainThread   | INFO    | geometry.py:617 -    draw_cylinders_3D() | model - Plotting cylinder in 3D\n",
       "</pre>\n"
      ],
      "text/plain": [
       "2024.10.14 10:37:11.150 |MainThread   | INFO    | geometry.py:617 -    draw_cylinders_3D() | model - Plotting cylinder in 3D\n"
      ]
     },
     "metadata": {},
     "output_type": "display_data"
    },
    {
     "data": {
      "text/html": [
       "<pre style=\"white-space:pre;overflow-x:auto;line-height:normal;font-family:Menlo,'DejaVu Sans Mono',consolas,'Courier New',monospace\">2024.10.14 10:37:11.165 |MainThread   | INFO    | geometry.py:617 -    draw_cylinders_3D() | model - Plotting cylinder in 3D\n",
       "</pre>\n"
      ],
      "text/plain": [
       "2024.10.14 10:37:11.165 |MainThread   | INFO    | geometry.py:617 -    draw_cylinders_3D() | model - Plotting cylinder in 3D\n"
      ]
     },
     "metadata": {},
     "output_type": "display_data"
    },
    {
     "data": {
      "text/html": [
       "<pre style=\"white-space:pre;overflow-x:auto;line-height:normal;font-family:Menlo,'DejaVu Sans Mono',consolas,'Courier New',monospace\">2024.10.14 10:37:11.178 |MainThread   | INFO    | geometry.py:617 -    draw_cylinders_3D() | model - Plotting cylinder in 3D\n",
       "</pre>\n"
      ],
      "text/plain": [
       "2024.10.14 10:37:11.178 |MainThread   | INFO    | geometry.py:617 -    draw_cylinders_3D() | model - Plotting cylinder in 3D\n"
      ]
     },
     "metadata": {},
     "output_type": "display_data"
    },
    {
     "data": {
      "text/html": [
       "<pre style=\"white-space:pre;overflow-x:auto;line-height:normal;font-family:Menlo,'DejaVu Sans Mono',consolas,'Courier New',monospace\">2024.10.14 10:37:11.191 |MainThread   | INFO    | geometry.py:617 -    draw_cylinders_3D() | model - Plotting cylinder in 3D\n",
       "</pre>\n"
      ],
      "text/plain": [
       "2024.10.14 10:37:11.191 |MainThread   | INFO    | geometry.py:617 -    draw_cylinders_3D() | model - Plotting cylinder in 3D\n"
      ]
     },
     "metadata": {},
     "output_type": "display_data"
    },
    {
     "data": {
      "text/html": [
       "<pre style=\"white-space:pre;overflow-x:auto;line-height:normal;font-family:Menlo,'DejaVu Sans Mono',consolas,'Courier New',monospace\">2024.10.14 10:37:11.219 |MainThread   | INFO    | geometry.py:617 -    draw_cylinders_3D() | model - Plotting cylinder in 3D\n",
       "</pre>\n"
      ],
      "text/plain": [
       "2024.10.14 10:37:11.219 |MainThread   | INFO    | geometry.py:617 -    draw_cylinders_3D() | model - Plotting cylinder in 3D\n"
      ]
     },
     "metadata": {},
     "output_type": "display_data"
    },
    {
     "data": {
      "text/html": [
       "<pre style=\"white-space:pre;overflow-x:auto;line-height:normal;font-family:Menlo,'DejaVu Sans Mono',consolas,'Courier New',monospace\">2024.10.14 10:37:11.232 |MainThread   | INFO    | geometry.py:617 -    draw_cylinders_3D() | model - Plotting cylinder in 3D\n",
       "</pre>\n"
      ],
      "text/plain": [
       "2024.10.14 10:37:11.232 |MainThread   | INFO    | geometry.py:617 -    draw_cylinders_3D() | model - Plotting cylinder in 3D\n"
      ]
     },
     "metadata": {},
     "output_type": "display_data"
    },
    {
     "data": {
      "text/html": [
       "<pre style=\"white-space:pre;overflow-x:auto;line-height:normal;font-family:Menlo,'DejaVu Sans Mono',consolas,'Courier New',monospace\">2024.10.14 10:37:11.244 |MainThread   | INFO    | geometry.py:617 -    draw_cylinders_3D() | model - Plotting cylinder in 3D\n",
       "</pre>\n"
      ],
      "text/plain": [
       "2024.10.14 10:37:11.244 |MainThread   | INFO    | geometry.py:617 -    draw_cylinders_3D() | model - Plotting cylinder in 3D\n"
      ]
     },
     "metadata": {},
     "output_type": "display_data"
    },
    {
     "data": {
      "text/html": [
       "<pre style=\"white-space:pre;overflow-x:auto;line-height:normal;font-family:Menlo,'DejaVu Sans Mono',consolas,'Courier New',monospace\">2024.10.14 10:37:11.254 |MainThread   | INFO    | geometry.py:617 -    draw_cylinders_3D() | model - Plotting cylinder in 3D\n",
       "</pre>\n"
      ],
      "text/plain": [
       "2024.10.14 10:37:11.254 |MainThread   | INFO    | geometry.py:617 -    draw_cylinders_3D() | model - Plotting cylinder in 3D\n"
      ]
     },
     "metadata": {},
     "output_type": "display_data"
    },
    {
     "data": {
      "text/html": [
       "<pre style=\"white-space:pre;overflow-x:auto;line-height:normal;font-family:Menlo,'DejaVu Sans Mono',consolas,'Courier New',monospace\">2024.10.14 10:37:11.263 |MainThread   | INFO    | geometry.py:617 -    draw_cylinders_3D() | model - Plotting cylinder in 3D\n",
       "</pre>\n"
      ],
      "text/plain": [
       "2024.10.14 10:37:11.263 |MainThread   | INFO    | geometry.py:617 -    draw_cylinders_3D() | model - Plotting cylinder in 3D\n"
      ]
     },
     "metadata": {},
     "output_type": "display_data"
    },
    {
     "data": {
      "text/html": [
       "<pre style=\"white-space:pre;overflow-x:auto;line-height:normal;font-family:Menlo,'DejaVu Sans Mono',consolas,'Courier New',monospace\">2024.10.14 10:37:11.270 |MainThread   | INFO    | geometry.py:617 -    draw_cylinders_3D() | model - Plotting cylinder in 3D\n",
       "</pre>\n"
      ],
      "text/plain": [
       "2024.10.14 10:37:11.270 |MainThread   | INFO    | geometry.py:617 -    draw_cylinders_3D() | model - Plotting cylinder in 3D\n"
      ]
     },
     "metadata": {},
     "output_type": "display_data"
    },
    {
     "data": {
      "text/html": [
       "<pre style=\"white-space:pre;overflow-x:auto;line-height:normal;font-family:Menlo,'DejaVu Sans Mono',consolas,'Courier New',monospace\">2024.10.14 10:37:11.283 |MainThread   | INFO    | geometry.py:617 -    draw_cylinders_3D() | model - Plotting cylinder in 3D\n",
       "</pre>\n"
      ],
      "text/plain": [
       "2024.10.14 10:37:11.283 |MainThread   | INFO    | geometry.py:617 -    draw_cylinders_3D() | model - Plotting cylinder in 3D\n"
      ]
     },
     "metadata": {},
     "output_type": "display_data"
    },
    {
     "data": {
      "text/html": [
       "<pre style=\"white-space:pre;overflow-x:auto;line-height:normal;font-family:Menlo,'DejaVu Sans Mono',consolas,'Courier New',monospace\">2024.10.14 10:37:11.290 |MainThread   | INFO    | geometry.py:617 -    draw_cylinders_3D() | model - Plotting cylinder in 3D\n",
       "</pre>\n"
      ],
      "text/plain": [
       "2024.10.14 10:37:11.290 |MainThread   | INFO    | geometry.py:617 -    draw_cylinders_3D() | model - Plotting cylinder in 3D\n"
      ]
     },
     "metadata": {},
     "output_type": "display_data"
    },
    {
     "data": {
      "text/html": [
       "<pre style=\"white-space:pre;overflow-x:auto;line-height:normal;font-family:Menlo,'DejaVu Sans Mono',consolas,'Courier New',monospace\">2024.10.14 10:37:11.298 |MainThread   | INFO    | geometry.py:617 -    draw_cylinders_3D() | model - Plotting cylinder in 3D\n",
       "</pre>\n"
      ],
      "text/plain": [
       "2024.10.14 10:37:11.298 |MainThread   | INFO    | geometry.py:617 -    draw_cylinders_3D() | model - Plotting cylinder in 3D\n"
      ]
     },
     "metadata": {},
     "output_type": "display_data"
    },
    {
     "data": {
      "text/html": [
       "<pre style=\"white-space:pre;overflow-x:auto;line-height:normal;font-family:Menlo,'DejaVu Sans Mono',consolas,'Courier New',monospace\">2024.10.14 10:37:11.309 |MainThread   | INFO    | geometry.py:617 -    draw_cylinders_3D() | model - Plotting cylinder in 3D\n",
       "</pre>\n"
      ],
      "text/plain": [
       "2024.10.14 10:37:11.309 |MainThread   | INFO    | geometry.py:617 -    draw_cylinders_3D() | model - Plotting cylinder in 3D\n"
      ]
     },
     "metadata": {},
     "output_type": "display_data"
    },
    {
     "data": {
      "text/html": [
       "<pre style=\"white-space:pre;overflow-x:auto;line-height:normal;font-family:Menlo,'DejaVu Sans Mono',consolas,'Courier New',monospace\">2024.10.14 10:37:11.320 |MainThread   | INFO    | geometry.py:617 -    draw_cylinders_3D() | model - Plotting cylinder in 3D\n",
       "</pre>\n"
      ],
      "text/plain": [
       "2024.10.14 10:37:11.320 |MainThread   | INFO    | geometry.py:617 -    draw_cylinders_3D() | model - Plotting cylinder in 3D\n"
      ]
     },
     "metadata": {},
     "output_type": "display_data"
    },
    {
     "data": {
      "text/html": [
       "<pre style=\"white-space:pre;overflow-x:auto;line-height:normal;font-family:Menlo,'DejaVu Sans Mono',consolas,'Courier New',monospace\">2024.10.14 10:37:11.333 |MainThread   | INFO    | geometry.py:617 -    draw_cylinders_3D() | model - Plotting cylinder in 3D\n",
       "</pre>\n"
      ],
      "text/plain": [
       "2024.10.14 10:37:11.333 |MainThread   | INFO    | geometry.py:617 -    draw_cylinders_3D() | model - Plotting cylinder in 3D\n"
      ]
     },
     "metadata": {},
     "output_type": "display_data"
    },
    {
     "data": {
      "text/html": [
       "<pre style=\"white-space:pre;overflow-x:auto;line-height:normal;font-family:Menlo,'DejaVu Sans Mono',consolas,'Courier New',monospace\">2024.10.14 10:37:11.345 |MainThread   | INFO    | geometry.py:617 -    draw_cylinders_3D() | model - Plotting cylinder in 3D\n",
       "</pre>\n"
      ],
      "text/plain": [
       "2024.10.14 10:37:11.345 |MainThread   | INFO    | geometry.py:617 -    draw_cylinders_3D() | model - Plotting cylinder in 3D\n"
      ]
     },
     "metadata": {},
     "output_type": "display_data"
    },
    {
     "data": {
      "text/html": [
       "<pre style=\"white-space:pre;overflow-x:auto;line-height:normal;font-family:Menlo,'DejaVu Sans Mono',consolas,'Courier New',monospace\">2024.10.14 10:37:11.353 |MainThread   | INFO    | geometry.py:617 -    draw_cylinders_3D() | model - Plotting cylinder in 3D\n",
       "</pre>\n"
      ],
      "text/plain": [
       "2024.10.14 10:37:11.353 |MainThread   | INFO    | geometry.py:617 -    draw_cylinders_3D() | model - Plotting cylinder in 3D\n"
      ]
     },
     "metadata": {},
     "output_type": "display_data"
    },
    {
     "data": {
      "text/html": [
       "<pre style=\"white-space:pre;overflow-x:auto;line-height:normal;font-family:Menlo,'DejaVu Sans Mono',consolas,'Courier New',monospace\">2024.10.14 10:37:11.363 |MainThread   | INFO    | geometry.py:617 -    draw_cylinders_3D() | model - Plotting cylinder in 3D\n",
       "</pre>\n"
      ],
      "text/plain": [
       "2024.10.14 10:37:11.363 |MainThread   | INFO    | geometry.py:617 -    draw_cylinders_3D() | model - Plotting cylinder in 3D\n"
      ]
     },
     "metadata": {},
     "output_type": "display_data"
    },
    {
     "data": {
      "text/html": [
       "<pre style=\"white-space:pre;overflow-x:auto;line-height:normal;font-family:Menlo,'DejaVu Sans Mono',consolas,'Courier New',monospace\">2024.10.14 10:37:11.371 |MainThread   | INFO    | geometry.py:617 -    draw_cylinders_3D() | model - Plotting cylinder in 3D\n",
       "</pre>\n"
      ],
      "text/plain": [
       "2024.10.14 10:37:11.371 |MainThread   | INFO    | geometry.py:617 -    draw_cylinders_3D() | model - Plotting cylinder in 3D\n"
      ]
     },
     "metadata": {},
     "output_type": "display_data"
    },
    {
     "data": {
      "text/html": [
       "<pre style=\"white-space:pre;overflow-x:auto;line-height:normal;font-family:Menlo,'DejaVu Sans Mono',consolas,'Courier New',monospace\">2024.10.14 10:37:11.384 |MainThread   | INFO    | geometry.py:617 -    draw_cylinders_3D() | model - Plotting cylinder in 3D\n",
       "</pre>\n"
      ],
      "text/plain": [
       "2024.10.14 10:37:11.384 |MainThread   | INFO    | geometry.py:617 -    draw_cylinders_3D() | model - Plotting cylinder in 3D\n"
      ]
     },
     "metadata": {},
     "output_type": "display_data"
    },
    {
     "data": {
      "text/html": [
       "<pre style=\"white-space:pre;overflow-x:auto;line-height:normal;font-family:Menlo,'DejaVu Sans Mono',consolas,'Courier New',monospace\">2024.10.14 10:37:11.391 |MainThread   | INFO    | geometry.py:617 -    draw_cylinders_3D() | model - Plotting cylinder in 3D\n",
       "</pre>\n"
      ],
      "text/plain": [
       "2024.10.14 10:37:11.391 |MainThread   | INFO    | geometry.py:617 -    draw_cylinders_3D() | model - Plotting cylinder in 3D\n"
      ]
     },
     "metadata": {},
     "output_type": "display_data"
    },
    {
     "data": {
      "text/html": [
       "<pre style=\"white-space:pre;overflow-x:auto;line-height:normal;font-family:Menlo,'DejaVu Sans Mono',consolas,'Courier New',monospace\">2024.10.14 10:37:11.403 |MainThread   | INFO    | geometry.py:617 -    draw_cylinders_3D() | model - Plotting cylinder in 3D\n",
       "</pre>\n"
      ],
      "text/plain": [
       "2024.10.14 10:37:11.403 |MainThread   | INFO    | geometry.py:617 -    draw_cylinders_3D() | model - Plotting cylinder in 3D\n"
      ]
     },
     "metadata": {},
     "output_type": "display_data"
    },
    {
     "data": {
      "text/html": [
       "<pre style=\"white-space:pre;overflow-x:auto;line-height:normal;font-family:Menlo,'DejaVu Sans Mono',consolas,'Courier New',monospace\">2024.10.14 10:37:11.415 |MainThread   | INFO    | geometry.py:617 -    draw_cylinders_3D() | model - Plotting cylinder in 3D\n",
       "</pre>\n"
      ],
      "text/plain": [
       "2024.10.14 10:37:11.415 |MainThread   | INFO    | geometry.py:617 -    draw_cylinders_3D() | model - Plotting cylinder in 3D\n"
      ]
     },
     "metadata": {},
     "output_type": "display_data"
    },
    {
     "data": {
      "text/html": [
       "<pre style=\"white-space:pre;overflow-x:auto;line-height:normal;font-family:Menlo,'DejaVu Sans Mono',consolas,'Courier New',monospace\">2024.10.14 10:37:11.422 |MainThread   | INFO    | geometry.py:617 -    draw_cylinders_3D() | model - Plotting cylinder in 3D\n",
       "</pre>\n"
      ],
      "text/plain": [
       "2024.10.14 10:37:11.422 |MainThread   | INFO    | geometry.py:617 -    draw_cylinders_3D() | model - Plotting cylinder in 3D\n"
      ]
     },
     "metadata": {},
     "output_type": "display_data"
    },
    {
     "data": {
      "text/html": [
       "<pre style=\"white-space:pre;overflow-x:auto;line-height:normal;font-family:Menlo,'DejaVu Sans Mono',consolas,'Courier New',monospace\">2024.10.14 10:37:11.433 |MainThread   | INFO    | geometry.py:617 -    draw_cylinders_3D() | model - Plotting cylinder in 3D\n",
       "</pre>\n"
      ],
      "text/plain": [
       "2024.10.14 10:37:11.433 |MainThread   | INFO    | geometry.py:617 -    draw_cylinders_3D() | model - Plotting cylinder in 3D\n"
      ]
     },
     "metadata": {},
     "output_type": "display_data"
    },
    {
     "data": {
      "text/html": [
       "<pre style=\"white-space:pre;overflow-x:auto;line-height:normal;font-family:Menlo,'DejaVu Sans Mono',consolas,'Courier New',monospace\">2024.10.14 10:37:11.449 |MainThread   | INFO    | geometry.py:617 -    draw_cylinders_3D() | model - Plotting cylinder in 3D\n",
       "</pre>\n"
      ],
      "text/plain": [
       "2024.10.14 10:37:11.449 |MainThread   | INFO    | geometry.py:617 -    draw_cylinders_3D() | model - Plotting cylinder in 3D\n"
      ]
     },
     "metadata": {},
     "output_type": "display_data"
    },
    {
     "data": {
      "text/html": [
       "<pre style=\"white-space:pre;overflow-x:auto;line-height:normal;font-family:Menlo,'DejaVu Sans Mono',consolas,'Courier New',monospace\">2024.10.14 10:37:11.463 |MainThread   | INFO    | geometry.py:617 -    draw_cylinders_3D() | model - Plotting cylinder in 3D\n",
       "</pre>\n"
      ],
      "text/plain": [
       "2024.10.14 10:37:11.463 |MainThread   | INFO    | geometry.py:617 -    draw_cylinders_3D() | model - Plotting cylinder in 3D\n"
      ]
     },
     "metadata": {},
     "output_type": "display_data"
    },
    {
     "data": {
      "text/html": [
       "<pre style=\"white-space:pre;overflow-x:auto;line-height:normal;font-family:Menlo,'DejaVu Sans Mono',consolas,'Courier New',monospace\">2024.10.14 10:37:11.477 |MainThread   | INFO    | geometry.py:617 -    draw_cylinders_3D() | model - Plotting cylinder in 3D\n",
       "</pre>\n"
      ],
      "text/plain": [
       "2024.10.14 10:37:11.477 |MainThread   | INFO    | geometry.py:617 -    draw_cylinders_3D() | model - Plotting cylinder in 3D\n"
      ]
     },
     "metadata": {},
     "output_type": "display_data"
    },
    {
     "data": {
      "text/html": [
       "<pre style=\"white-space:pre;overflow-x:auto;line-height:normal;font-family:Menlo,'DejaVu Sans Mono',consolas,'Courier New',monospace\">2024.10.14 10:37:11.489 |MainThread   | INFO    | geometry.py:617 -    draw_cylinders_3D() | model - Plotting cylinder in 3D\n",
       "</pre>\n"
      ],
      "text/plain": [
       "2024.10.14 10:37:11.489 |MainThread   | INFO    | geometry.py:617 -    draw_cylinders_3D() | model - Plotting cylinder in 3D\n"
      ]
     },
     "metadata": {},
     "output_type": "display_data"
    },
    {
     "data": {
      "text/html": [
       "<pre style=\"white-space:pre;overflow-x:auto;line-height:normal;font-family:Menlo,'DejaVu Sans Mono',consolas,'Courier New',monospace\">2024.10.14 10:37:11.505 |MainThread   | INFO    | geometry.py:617 -    draw_cylinders_3D() | model - Plotting cylinder in 3D\n",
       "</pre>\n"
      ],
      "text/plain": [
       "2024.10.14 10:37:11.505 |MainThread   | INFO    | geometry.py:617 -    draw_cylinders_3D() | model - Plotting cylinder in 3D\n"
      ]
     },
     "metadata": {},
     "output_type": "display_data"
    },
    {
     "data": {
      "text/html": [
       "<pre style=\"white-space:pre;overflow-x:auto;line-height:normal;font-family:Menlo,'DejaVu Sans Mono',consolas,'Courier New',monospace\">2024.10.14 10:37:11.517 |MainThread   | INFO    | geometry.py:617 -    draw_cylinders_3D() | model - Plotting cylinder in 3D\n",
       "</pre>\n"
      ],
      "text/plain": [
       "2024.10.14 10:37:11.517 |MainThread   | INFO    | geometry.py:617 -    draw_cylinders_3D() | model - Plotting cylinder in 3D\n"
      ]
     },
     "metadata": {},
     "output_type": "display_data"
    },
    {
     "data": {
      "text/html": [
       "<pre style=\"white-space:pre;overflow-x:auto;line-height:normal;font-family:Menlo,'DejaVu Sans Mono',consolas,'Courier New',monospace\">2024.10.14 10:37:11.533 |MainThread   | INFO    | geometry.py:617 -    draw_cylinders_3D() | model - Plotting cylinder in 3D\n",
       "</pre>\n"
      ],
      "text/plain": [
       "2024.10.14 10:37:11.533 |MainThread   | INFO    | geometry.py:617 -    draw_cylinders_3D() | model - Plotting cylinder in 3D\n"
      ]
     },
     "metadata": {},
     "output_type": "display_data"
    },
    {
     "data": {
      "text/html": [
       "<pre style=\"white-space:pre;overflow-x:auto;line-height:normal;font-family:Menlo,'DejaVu Sans Mono',consolas,'Courier New',monospace\">2024.10.14 10:37:11.546 |MainThread   | INFO    | geometry.py:617 -    draw_cylinders_3D() | model - Plotting cylinder in 3D\n",
       "</pre>\n"
      ],
      "text/plain": [
       "2024.10.14 10:37:11.546 |MainThread   | INFO    | geometry.py:617 -    draw_cylinders_3D() | model - Plotting cylinder in 3D\n"
      ]
     },
     "metadata": {},
     "output_type": "display_data"
    },
    {
     "data": {
      "text/html": [
       "<pre style=\"white-space:pre;overflow-x:auto;line-height:normal;font-family:Menlo,'DejaVu Sans Mono',consolas,'Courier New',monospace\">2024.10.14 10:37:11.557 |MainThread   | INFO    | geometry.py:617 -    draw_cylinders_3D() | model - Plotting cylinder in 3D\n",
       "</pre>\n"
      ],
      "text/plain": [
       "2024.10.14 10:37:11.557 |MainThread   | INFO    | geometry.py:617 -    draw_cylinders_3D() | model - Plotting cylinder in 3D\n"
      ]
     },
     "metadata": {},
     "output_type": "display_data"
    },
    {
     "data": {
      "text/html": [
       "<pre style=\"white-space:pre;overflow-x:auto;line-height:normal;font-family:Menlo,'DejaVu Sans Mono',consolas,'Courier New',monospace\">2024.10.14 10:37:11.572 |MainThread   | INFO    | geometry.py:617 -    draw_cylinders_3D() | model - Plotting cylinder in 3D\n",
       "</pre>\n"
      ],
      "text/plain": [
       "2024.10.14 10:37:11.572 |MainThread   | INFO    | geometry.py:617 -    draw_cylinders_3D() | model - Plotting cylinder in 3D\n"
      ]
     },
     "metadata": {},
     "output_type": "display_data"
    },
    {
     "data": {
      "text/html": [
       "<pre style=\"white-space:pre;overflow-x:auto;line-height:normal;font-family:Menlo,'DejaVu Sans Mono',consolas,'Courier New',monospace\">2024.10.14 10:37:11.594 |MainThread   | INFO    | geometry.py:617 -    draw_cylinders_3D() | model - Plotting cylinder in 3D\n",
       "</pre>\n"
      ],
      "text/plain": [
       "2024.10.14 10:37:11.594 |MainThread   | INFO    | geometry.py:617 -    draw_cylinders_3D() | model - Plotting cylinder in 3D\n"
      ]
     },
     "metadata": {},
     "output_type": "display_data"
    },
    {
     "data": {
      "text/html": [
       "<pre style=\"white-space:pre;overflow-x:auto;line-height:normal;font-family:Menlo,'DejaVu Sans Mono',consolas,'Courier New',monospace\">2024.10.14 10:37:11.608 |MainThread   | INFO    | geometry.py:617 -    draw_cylinders_3D() | model - Plotting cylinder in 3D\n",
       "</pre>\n"
      ],
      "text/plain": [
       "2024.10.14 10:37:11.608 |MainThread   | INFO    | geometry.py:617 -    draw_cylinders_3D() | model - Plotting cylinder in 3D\n"
      ]
     },
     "metadata": {},
     "output_type": "display_data"
    },
    {
     "data": {
      "text/html": [
       "<pre style=\"white-space:pre;overflow-x:auto;line-height:normal;font-family:Menlo,'DejaVu Sans Mono',consolas,'Courier New',monospace\">2024.10.14 10:37:11.622 |MainThread   | INFO    | geometry.py:617 -    draw_cylinders_3D() | model - Plotting cylinder in 3D\n",
       "</pre>\n"
      ],
      "text/plain": [
       "2024.10.14 10:37:11.622 |MainThread   | INFO    | geometry.py:617 -    draw_cylinders_3D() | model - Plotting cylinder in 3D\n"
      ]
     },
     "metadata": {},
     "output_type": "display_data"
    },
    {
     "data": {
      "text/html": [
       "<pre style=\"white-space:pre;overflow-x:auto;line-height:normal;font-family:Menlo,'DejaVu Sans Mono',consolas,'Courier New',monospace\">2024.10.14 10:37:11.639 |MainThread   | INFO    | geometry.py:617 -    draw_cylinders_3D() | model - Plotting cylinder in 3D\n",
       "</pre>\n"
      ],
      "text/plain": [
       "2024.10.14 10:37:11.639 |MainThread   | INFO    | geometry.py:617 -    draw_cylinders_3D() | model - Plotting cylinder in 3D\n"
      ]
     },
     "metadata": {},
     "output_type": "display_data"
    },
    {
     "data": {
      "text/html": [
       "<pre style=\"white-space:pre;overflow-x:auto;line-height:normal;font-family:Menlo,'DejaVu Sans Mono',consolas,'Courier New',monospace\">2024.10.14 10:37:11.655 |MainThread   | INFO    | geometry.py:617 -    draw_cylinders_3D() | model - Plotting cylinder in 3D\n",
       "</pre>\n"
      ],
      "text/plain": [
       "2024.10.14 10:37:11.655 |MainThread   | INFO    | geometry.py:617 -    draw_cylinders_3D() | model - Plotting cylinder in 3D\n"
      ]
     },
     "metadata": {},
     "output_type": "display_data"
    },
    {
     "data": {
      "text/html": [
       "<pre style=\"white-space:pre;overflow-x:auto;line-height:normal;font-family:Menlo,'DejaVu Sans Mono',consolas,'Courier New',monospace\">2024.10.14 10:37:11.670 |MainThread   | INFO    | geometry.py:617 -    draw_cylinders_3D() | model - Plotting cylinder in 3D\n",
       "</pre>\n"
      ],
      "text/plain": [
       "2024.10.14 10:37:11.670 |MainThread   | INFO    | geometry.py:617 -    draw_cylinders_3D() | model - Plotting cylinder in 3D\n"
      ]
     },
     "metadata": {},
     "output_type": "display_data"
    },
    {
     "data": {
      "text/html": [
       "<pre style=\"white-space:pre;overflow-x:auto;line-height:normal;font-family:Menlo,'DejaVu Sans Mono',consolas,'Courier New',monospace\">2024.10.14 10:37:11.690 |MainThread   | INFO    | geometry.py:617 -    draw_cylinders_3D() | model - Plotting cylinder in 3D\n",
       "</pre>\n"
      ],
      "text/plain": [
       "2024.10.14 10:37:11.690 |MainThread   | INFO    | geometry.py:617 -    draw_cylinders_3D() | model - Plotting cylinder in 3D\n"
      ]
     },
     "metadata": {},
     "output_type": "display_data"
    },
    {
     "data": {
      "text/html": [
       "<pre style=\"white-space:pre;overflow-x:auto;line-height:normal;font-family:Menlo,'DejaVu Sans Mono',consolas,'Courier New',monospace\">2024.10.14 10:37:11.706 |MainThread   | INFO    | geometry.py:617 -    draw_cylinders_3D() | model - Plotting cylinder in 3D\n",
       "</pre>\n"
      ],
      "text/plain": [
       "2024.10.14 10:37:11.706 |MainThread   | INFO    | geometry.py:617 -    draw_cylinders_3D() | model - Plotting cylinder in 3D\n"
      ]
     },
     "metadata": {},
     "output_type": "display_data"
    },
    {
     "data": {
      "text/html": [
       "<pre style=\"white-space:pre;overflow-x:auto;line-height:normal;font-family:Menlo,'DejaVu Sans Mono',consolas,'Courier New',monospace\">2024.10.14 10:37:11.726 |MainThread   | INFO    | geometry.py:617 -    draw_cylinders_3D() | model - Plotting cylinder in 3D\n",
       "</pre>\n"
      ],
      "text/plain": [
       "2024.10.14 10:37:11.726 |MainThread   | INFO    | geometry.py:617 -    draw_cylinders_3D() | model - Plotting cylinder in 3D\n"
      ]
     },
     "metadata": {},
     "output_type": "display_data"
    },
    {
     "data": {
      "text/html": [
       "<pre style=\"white-space:pre;overflow-x:auto;line-height:normal;font-family:Menlo,'DejaVu Sans Mono',consolas,'Courier New',monospace\">2024.10.14 10:37:11.739 |MainThread   | INFO    | geometry.py:617 -    draw_cylinders_3D() | model - Plotting cylinder in 3D\n",
       "</pre>\n"
      ],
      "text/plain": [
       "2024.10.14 10:37:11.739 |MainThread   | INFO    | geometry.py:617 -    draw_cylinders_3D() | model - Plotting cylinder in 3D\n"
      ]
     },
     "metadata": {},
     "output_type": "display_data"
    },
    {
     "data": {
      "text/html": [
       "<pre style=\"white-space:pre;overflow-x:auto;line-height:normal;font-family:Menlo,'DejaVu Sans Mono',consolas,'Courier New',monospace\">2024.10.14 10:37:11.756 |MainThread   | INFO    | geometry.py:617 -    draw_cylinders_3D() | model - Plotting cylinder in 3D\n",
       "</pre>\n"
      ],
      "text/plain": [
       "2024.10.14 10:37:11.756 |MainThread   | INFO    | geometry.py:617 -    draw_cylinders_3D() | model - Plotting cylinder in 3D\n"
      ]
     },
     "metadata": {},
     "output_type": "display_data"
    },
    {
     "data": {
      "text/html": [
       "<pre style=\"white-space:pre;overflow-x:auto;line-height:normal;font-family:Menlo,'DejaVu Sans Mono',consolas,'Courier New',monospace\">2024.10.14 10:37:11.774 |MainThread   | INFO    | geometry.py:617 -    draw_cylinders_3D() | model - Plotting cylinder in 3D\n",
       "</pre>\n"
      ],
      "text/plain": [
       "2024.10.14 10:37:11.774 |MainThread   | INFO    | geometry.py:617 -    draw_cylinders_3D() | model - Plotting cylinder in 3D\n"
      ]
     },
     "metadata": {},
     "output_type": "display_data"
    },
    {
     "data": {
      "text/html": [
       "<pre style=\"white-space:pre;overflow-x:auto;line-height:normal;font-family:Menlo,'DejaVu Sans Mono',consolas,'Courier New',monospace\">2024.10.14 10:37:11.790 |MainThread   | INFO    | geometry.py:617 -    draw_cylinders_3D() | model - Plotting cylinder in 3D\n",
       "</pre>\n"
      ],
      "text/plain": [
       "2024.10.14 10:37:11.790 |MainThread   | INFO    | geometry.py:617 -    draw_cylinders_3D() | model - Plotting cylinder in 3D\n"
      ]
     },
     "metadata": {},
     "output_type": "display_data"
    },
    {
     "data": {
      "text/html": [
       "<pre style=\"white-space:pre;overflow-x:auto;line-height:normal;font-family:Menlo,'DejaVu Sans Mono',consolas,'Courier New',monospace\">2024.10.14 10:37:11.806 |MainThread   | INFO    | geometry.py:617 -    draw_cylinders_3D() | model - Plotting cylinder in 3D\n",
       "</pre>\n"
      ],
      "text/plain": [
       "2024.10.14 10:37:11.806 |MainThread   | INFO    | geometry.py:617 -    draw_cylinders_3D() | model - Plotting cylinder in 3D\n"
      ]
     },
     "metadata": {},
     "output_type": "display_data"
    },
    {
     "data": {
      "text/html": [
       "<pre style=\"white-space:pre;overflow-x:auto;line-height:normal;font-family:Menlo,'DejaVu Sans Mono',consolas,'Courier New',monospace\">2024.10.14 10:37:11.824 |MainThread   | INFO    | geometry.py:617 -    draw_cylinders_3D() | model - Plotting cylinder in 3D\n",
       "</pre>\n"
      ],
      "text/plain": [
       "2024.10.14 10:37:11.824 |MainThread   | INFO    | geometry.py:617 -    draw_cylinders_3D() | model - Plotting cylinder in 3D\n"
      ]
     },
     "metadata": {},
     "output_type": "display_data"
    },
    {
     "data": {
      "text/html": [
       "<pre style=\"white-space:pre;overflow-x:auto;line-height:normal;font-family:Menlo,'DejaVu Sans Mono',consolas,'Courier New',monospace\">2024.10.14 10:37:11.836 |MainThread   | INFO    | geometry.py:617 -    draw_cylinders_3D() | model - Plotting cylinder in 3D\n",
       "</pre>\n"
      ],
      "text/plain": [
       "2024.10.14 10:37:11.836 |MainThread   | INFO    | geometry.py:617 -    draw_cylinders_3D() | model - Plotting cylinder in 3D\n"
      ]
     },
     "metadata": {},
     "output_type": "display_data"
    },
    {
     "data": {
      "text/html": [
       "<pre style=\"white-space:pre;overflow-x:auto;line-height:normal;font-family:Menlo,'DejaVu Sans Mono',consolas,'Courier New',monospace\">2024.10.14 10:37:11.851 |MainThread   | INFO    | geometry.py:617 -    draw_cylinders_3D() | model - Plotting cylinder in 3D\n",
       "</pre>\n"
      ],
      "text/plain": [
       "2024.10.14 10:37:11.851 |MainThread   | INFO    | geometry.py:617 -    draw_cylinders_3D() | model - Plotting cylinder in 3D\n"
      ]
     },
     "metadata": {},
     "output_type": "display_data"
    },
    {
     "data": {
      "text/html": [
       "<pre style=\"white-space:pre;overflow-x:auto;line-height:normal;font-family:Menlo,'DejaVu Sans Mono',consolas,'Courier New',monospace\">2024.10.14 10:37:11.863 |MainThread   | INFO    | geometry.py:617 -    draw_cylinders_3D() | model - Plotting cylinder in 3D\n",
       "</pre>\n"
      ],
      "text/plain": [
       "2024.10.14 10:37:11.863 |MainThread   | INFO    | geometry.py:617 -    draw_cylinders_3D() | model - Plotting cylinder in 3D\n"
      ]
     },
     "metadata": {},
     "output_type": "display_data"
    },
    {
     "data": {
      "text/html": [
       "<pre style=\"white-space:pre;overflow-x:auto;line-height:normal;font-family:Menlo,'DejaVu Sans Mono',consolas,'Courier New',monospace\">2024.10.14 10:37:11.879 |MainThread   | INFO    | geometry.py:617 -    draw_cylinders_3D() | model - Plotting cylinder in 3D\n",
       "</pre>\n"
      ],
      "text/plain": [
       "2024.10.14 10:37:11.879 |MainThread   | INFO    | geometry.py:617 -    draw_cylinders_3D() | model - Plotting cylinder in 3D\n"
      ]
     },
     "metadata": {},
     "output_type": "display_data"
    },
    {
     "data": {
      "text/html": [
       "<pre style=\"white-space:pre;overflow-x:auto;line-height:normal;font-family:Menlo,'DejaVu Sans Mono',consolas,'Courier New',monospace\">2024.10.14 10:37:11.897 |MainThread   | INFO    | geometry.py:617 -    draw_cylinders_3D() | model - Plotting cylinder in 3D\n",
       "</pre>\n"
      ],
      "text/plain": [
       "2024.10.14 10:37:11.897 |MainThread   | INFO    | geometry.py:617 -    draw_cylinders_3D() | model - Plotting cylinder in 3D\n"
      ]
     },
     "metadata": {},
     "output_type": "display_data"
    },
    {
     "data": {
      "text/html": [
       "<pre style=\"white-space:pre;overflow-x:auto;line-height:normal;font-family:Menlo,'DejaVu Sans Mono',consolas,'Courier New',monospace\">2024.10.14 10:37:11.913 |MainThread   | INFO    | geometry.py:617 -    draw_cylinders_3D() | model - Plotting cylinder in 3D\n",
       "</pre>\n"
      ],
      "text/plain": [
       "2024.10.14 10:37:11.913 |MainThread   | INFO    | geometry.py:617 -    draw_cylinders_3D() | model - Plotting cylinder in 3D\n"
      ]
     },
     "metadata": {},
     "output_type": "display_data"
    },
    {
     "data": {
      "text/html": [
       "<pre style=\"white-space:pre;overflow-x:auto;line-height:normal;font-family:Menlo,'DejaVu Sans Mono',consolas,'Courier New',monospace\">2024.10.14 10:37:11.928 |MainThread   | INFO    | geometry.py:617 -    draw_cylinders_3D() | model - Plotting cylinder in 3D\n",
       "</pre>\n"
      ],
      "text/plain": [
       "2024.10.14 10:37:11.928 |MainThread   | INFO    | geometry.py:617 -    draw_cylinders_3D() | model - Plotting cylinder in 3D\n"
      ]
     },
     "metadata": {},
     "output_type": "display_data"
    },
    {
     "data": {
      "text/html": [
       "<pre style=\"white-space:pre;overflow-x:auto;line-height:normal;font-family:Menlo,'DejaVu Sans Mono',consolas,'Courier New',monospace\">2024.10.14 10:37:11.950 |MainThread   | INFO    | geometry.py:617 -    draw_cylinders_3D() | model - Plotting cylinder in 3D\n",
       "</pre>\n"
      ],
      "text/plain": [
       "2024.10.14 10:37:11.950 |MainThread   | INFO    | geometry.py:617 -    draw_cylinders_3D() | model - Plotting cylinder in 3D\n"
      ]
     },
     "metadata": {},
     "output_type": "display_data"
    },
    {
     "data": {
      "text/html": [
       "<pre style=\"white-space:pre;overflow-x:auto;line-height:normal;font-family:Menlo,'DejaVu Sans Mono',consolas,'Courier New',monospace\">2024.10.14 10:37:11.962 |MainThread   | INFO    | geometry.py:617 -    draw_cylinders_3D() | model - Plotting cylinder in 3D\n",
       "</pre>\n"
      ],
      "text/plain": [
       "2024.10.14 10:37:11.962 |MainThread   | INFO    | geometry.py:617 -    draw_cylinders_3D() | model - Plotting cylinder in 3D\n"
      ]
     },
     "metadata": {},
     "output_type": "display_data"
    },
    {
     "data": {
      "text/html": [
       "<pre style=\"white-space:pre;overflow-x:auto;line-height:normal;font-family:Menlo,'DejaVu Sans Mono',consolas,'Courier New',monospace\">2024.10.14 10:37:11.975 |MainThread   | INFO    | geometry.py:617 -    draw_cylinders_3D() | model - Plotting cylinder in 3D\n",
       "</pre>\n"
      ],
      "text/plain": [
       "2024.10.14 10:37:11.975 |MainThread   | INFO    | geometry.py:617 -    draw_cylinders_3D() | model - Plotting cylinder in 3D\n"
      ]
     },
     "metadata": {},
     "output_type": "display_data"
    },
    {
     "data": {
      "text/html": [
       "<pre style=\"white-space:pre;overflow-x:auto;line-height:normal;font-family:Menlo,'DejaVu Sans Mono',consolas,'Courier New',monospace\">2024.10.14 10:37:11.991 |MainThread   | INFO    | geometry.py:617 -    draw_cylinders_3D() | model - Plotting cylinder in 3D\n",
       "</pre>\n"
      ],
      "text/plain": [
       "2024.10.14 10:37:11.991 |MainThread   | INFO    | geometry.py:617 -    draw_cylinders_3D() | model - Plotting cylinder in 3D\n"
      ]
     },
     "metadata": {},
     "output_type": "display_data"
    },
    {
     "data": {
      "text/html": [
       "<pre style=\"white-space:pre;overflow-x:auto;line-height:normal;font-family:Menlo,'DejaVu Sans Mono',consolas,'Courier New',monospace\">2024.10.14 10:37:12.012 |MainThread   | INFO    | geometry.py:617 -    draw_cylinders_3D() | model - Plotting cylinder in 3D\n",
       "</pre>\n"
      ],
      "text/plain": [
       "2024.10.14 10:37:12.012 |MainThread   | INFO    | geometry.py:617 -    draw_cylinders_3D() | model - Plotting cylinder in 3D\n"
      ]
     },
     "metadata": {},
     "output_type": "display_data"
    },
    {
     "data": {
      "text/html": [
       "<pre style=\"white-space:pre;overflow-x:auto;line-height:normal;font-family:Menlo,'DejaVu Sans Mono',consolas,'Courier New',monospace\">2024.10.14 10:37:12.029 |MainThread   | INFO    | geometry.py:617 -    draw_cylinders_3D() | model - Plotting cylinder in 3D\n",
       "</pre>\n"
      ],
      "text/plain": [
       "2024.10.14 10:37:12.029 |MainThread   | INFO    | geometry.py:617 -    draw_cylinders_3D() | model - Plotting cylinder in 3D\n"
      ]
     },
     "metadata": {},
     "output_type": "display_data"
    },
    {
     "data": {
      "text/html": [
       "<pre style=\"white-space:pre;overflow-x:auto;line-height:normal;font-family:Menlo,'DejaVu Sans Mono',consolas,'Courier New',monospace\">2024.10.14 10:37:12.039 |MainThread   | INFO    | geometry.py:617 -    draw_cylinders_3D() | model - Plotting cylinder in 3D\n",
       "</pre>\n"
      ],
      "text/plain": [
       "2024.10.14 10:37:12.039 |MainThread   | INFO    | geometry.py:617 -    draw_cylinders_3D() | model - Plotting cylinder in 3D\n"
      ]
     },
     "metadata": {},
     "output_type": "display_data"
    },
    {
     "data": {
      "text/html": [
       "<pre style=\"white-space:pre;overflow-x:auto;line-height:normal;font-family:Menlo,'DejaVu Sans Mono',consolas,'Courier New',monospace\">2024.10.14 10:37:12.054 |MainThread   | INFO    | geometry.py:617 -    draw_cylinders_3D() | model - Plotting cylinder in 3D\n",
       "</pre>\n"
      ],
      "text/plain": [
       "2024.10.14 10:37:12.054 |MainThread   | INFO    | geometry.py:617 -    draw_cylinders_3D() | model - Plotting cylinder in 3D\n"
      ]
     },
     "metadata": {},
     "output_type": "display_data"
    },
    {
     "data": {
      "text/html": [
       "<pre style=\"white-space:pre;overflow-x:auto;line-height:normal;font-family:Menlo,'DejaVu Sans Mono',consolas,'Courier New',monospace\">2024.10.14 10:37:12.069 |MainThread   | INFO    | geometry.py:617 -    draw_cylinders_3D() | model - Plotting cylinder in 3D\n",
       "</pre>\n"
      ],
      "text/plain": [
       "2024.10.14 10:37:12.069 |MainThread   | INFO    | geometry.py:617 -    draw_cylinders_3D() | model - Plotting cylinder in 3D\n"
      ]
     },
     "metadata": {},
     "output_type": "display_data"
    },
    {
     "data": {
      "text/html": [
       "<pre style=\"white-space:pre;overflow-x:auto;line-height:normal;font-family:Menlo,'DejaVu Sans Mono',consolas,'Courier New',monospace\">2024.10.14 10:37:12.085 |MainThread   | INFO    | geometry.py:617 -    draw_cylinders_3D() | model - Plotting cylinder in 3D\n",
       "</pre>\n"
      ],
      "text/plain": [
       "2024.10.14 10:37:12.085 |MainThread   | INFO    | geometry.py:617 -    draw_cylinders_3D() | model - Plotting cylinder in 3D\n"
      ]
     },
     "metadata": {},
     "output_type": "display_data"
    },
    {
     "data": {
      "text/html": [
       "<pre style=\"white-space:pre;overflow-x:auto;line-height:normal;font-family:Menlo,'DejaVu Sans Mono',consolas,'Courier New',monospace\">2024.10.14 10:37:12.103 |MainThread   | INFO    | geometry.py:617 -    draw_cylinders_3D() | model - Plotting cylinder in 3D\n",
       "</pre>\n"
      ],
      "text/plain": [
       "2024.10.14 10:37:12.103 |MainThread   | INFO    | geometry.py:617 -    draw_cylinders_3D() | model - Plotting cylinder in 3D\n"
      ]
     },
     "metadata": {},
     "output_type": "display_data"
    },
    {
     "data": {
      "text/html": [
       "<pre style=\"white-space:pre;overflow-x:auto;line-height:normal;font-family:Menlo,'DejaVu Sans Mono',consolas,'Courier New',monospace\">2024.10.14 10:37:12.118 |MainThread   | INFO    | geometry.py:617 -    draw_cylinders_3D() | model - Plotting cylinder in 3D\n",
       "</pre>\n"
      ],
      "text/plain": [
       "2024.10.14 10:37:12.118 |MainThread   | INFO    | geometry.py:617 -    draw_cylinders_3D() | model - Plotting cylinder in 3D\n"
      ]
     },
     "metadata": {},
     "output_type": "display_data"
    },
    {
     "data": {
      "text/html": [
       "<pre style=\"white-space:pre;overflow-x:auto;line-height:normal;font-family:Menlo,'DejaVu Sans Mono',consolas,'Courier New',monospace\">2024.10.14 10:37:12.132 |MainThread   | INFO    | geometry.py:617 -    draw_cylinders_3D() | model - Plotting cylinder in 3D\n",
       "</pre>\n"
      ],
      "text/plain": [
       "2024.10.14 10:37:12.132 |MainThread   | INFO    | geometry.py:617 -    draw_cylinders_3D() | model - Plotting cylinder in 3D\n"
      ]
     },
     "metadata": {},
     "output_type": "display_data"
    },
    {
     "data": {
      "text/html": [
       "<pre style=\"white-space:pre;overflow-x:auto;line-height:normal;font-family:Menlo,'DejaVu Sans Mono',consolas,'Courier New',monospace\">2024.10.14 10:37:12.142 |MainThread   | INFO    | geometry.py:617 -    draw_cylinders_3D() | model - Plotting cylinder in 3D\n",
       "</pre>\n"
      ],
      "text/plain": [
       "2024.10.14 10:37:12.142 |MainThread   | INFO    | geometry.py:617 -    draw_cylinders_3D() | model - Plotting cylinder in 3D\n"
      ]
     },
     "metadata": {},
     "output_type": "display_data"
    },
    {
     "data": {
      "text/html": [
       "<pre style=\"white-space:pre;overflow-x:auto;line-height:normal;font-family:Menlo,'DejaVu Sans Mono',consolas,'Courier New',monospace\">2024.10.14 10:37:12.153 |MainThread   | INFO    | geometry.py:617 -    draw_cylinders_3D() | model - Plotting cylinder in 3D\n",
       "</pre>\n"
      ],
      "text/plain": [
       "2024.10.14 10:37:12.153 |MainThread   | INFO    | geometry.py:617 -    draw_cylinders_3D() | model - Plotting cylinder in 3D\n"
      ]
     },
     "metadata": {},
     "output_type": "display_data"
    },
    {
     "data": {
      "text/html": [
       "<pre style=\"white-space:pre;overflow-x:auto;line-height:normal;font-family:Menlo,'DejaVu Sans Mono',consolas,'Courier New',monospace\">2024.10.14 10:37:12.170 |MainThread   | INFO    | geometry.py:617 -    draw_cylinders_3D() | model - Plotting cylinder in 3D\n",
       "</pre>\n"
      ],
      "text/plain": [
       "2024.10.14 10:37:12.170 |MainThread   | INFO    | geometry.py:617 -    draw_cylinders_3D() | model - Plotting cylinder in 3D\n"
      ]
     },
     "metadata": {},
     "output_type": "display_data"
    },
    {
     "data": {
      "text/html": [
       "<pre style=\"white-space:pre;overflow-x:auto;line-height:normal;font-family:Menlo,'DejaVu Sans Mono',consolas,'Courier New',monospace\">2024.10.14 10:37:12.186 |MainThread   | INFO    | geometry.py:617 -    draw_cylinders_3D() | model - Plotting cylinder in 3D\n",
       "</pre>\n"
      ],
      "text/plain": [
       "2024.10.14 10:37:12.186 |MainThread   | INFO    | geometry.py:617 -    draw_cylinders_3D() | model - Plotting cylinder in 3D\n"
      ]
     },
     "metadata": {},
     "output_type": "display_data"
    },
    {
     "data": {
      "text/html": [
       "<pre style=\"white-space:pre;overflow-x:auto;line-height:normal;font-family:Menlo,'DejaVu Sans Mono',consolas,'Courier New',monospace\">2024.10.14 10:37:12.203 |MainThread   | INFO    | geometry.py:617 -    draw_cylinders_3D() | model - Plotting cylinder in 3D\n",
       "</pre>\n"
      ],
      "text/plain": [
       "2024.10.14 10:37:12.203 |MainThread   | INFO    | geometry.py:617 -    draw_cylinders_3D() | model - Plotting cylinder in 3D\n"
      ]
     },
     "metadata": {},
     "output_type": "display_data"
    },
    {
     "data": {
      "text/html": [
       "<pre style=\"white-space:pre;overflow-x:auto;line-height:normal;font-family:Menlo,'DejaVu Sans Mono',consolas,'Courier New',monospace\">2024.10.14 10:37:12.218 |MainThread   | INFO    | geometry.py:617 -    draw_cylinders_3D() | model - Plotting cylinder in 3D\n",
       "</pre>\n"
      ],
      "text/plain": [
       "2024.10.14 10:37:12.218 |MainThread   | INFO    | geometry.py:617 -    draw_cylinders_3D() | model - Plotting cylinder in 3D\n"
      ]
     },
     "metadata": {},
     "output_type": "display_data"
    },
    {
     "data": {
      "text/html": [
       "<pre style=\"white-space:pre;overflow-x:auto;line-height:normal;font-family:Menlo,'DejaVu Sans Mono',consolas,'Courier New',monospace\">2024.10.14 10:37:12.233 |MainThread   | INFO    | geometry.py:617 -    draw_cylinders_3D() | model - Plotting cylinder in 3D\n",
       "</pre>\n"
      ],
      "text/plain": [
       "2024.10.14 10:37:12.233 |MainThread   | INFO    | geometry.py:617 -    draw_cylinders_3D() | model - Plotting cylinder in 3D\n"
      ]
     },
     "metadata": {},
     "output_type": "display_data"
    },
    {
     "data": {
      "text/html": [
       "<pre style=\"white-space:pre;overflow-x:auto;line-height:normal;font-family:Menlo,'DejaVu Sans Mono',consolas,'Courier New',monospace\">2024.10.14 10:37:12.248 |MainThread   | INFO    | geometry.py:617 -    draw_cylinders_3D() | model - Plotting cylinder in 3D\n",
       "</pre>\n"
      ],
      "text/plain": [
       "2024.10.14 10:37:12.248 |MainThread   | INFO    | geometry.py:617 -    draw_cylinders_3D() | model - Plotting cylinder in 3D\n"
      ]
     },
     "metadata": {},
     "output_type": "display_data"
    },
    {
     "data": {
      "text/html": [
       "<pre style=\"white-space:pre;overflow-x:auto;line-height:normal;font-family:Menlo,'DejaVu Sans Mono',consolas,'Courier New',monospace\">2024.10.14 10:37:12.262 |MainThread   | INFO    | geometry.py:617 -    draw_cylinders_3D() | model - Plotting cylinder in 3D\n",
       "</pre>\n"
      ],
      "text/plain": [
       "2024.10.14 10:37:12.262 |MainThread   | INFO    | geometry.py:617 -    draw_cylinders_3D() | model - Plotting cylinder in 3D\n"
      ]
     },
     "metadata": {},
     "output_type": "display_data"
    },
    {
     "data": {
      "text/html": [
       "<pre style=\"white-space:pre;overflow-x:auto;line-height:normal;font-family:Menlo,'DejaVu Sans Mono',consolas,'Courier New',monospace\">2024.10.14 10:37:12.276 |MainThread   | INFO    | geometry.py:617 -    draw_cylinders_3D() | model - Plotting cylinder in 3D\n",
       "</pre>\n"
      ],
      "text/plain": [
       "2024.10.14 10:37:12.276 |MainThread   | INFO    | geometry.py:617 -    draw_cylinders_3D() | model - Plotting cylinder in 3D\n"
      ]
     },
     "metadata": {},
     "output_type": "display_data"
    },
    {
     "data": {
      "text/html": [
       "<pre style=\"white-space:pre;overflow-x:auto;line-height:normal;font-family:Menlo,'DejaVu Sans Mono',consolas,'Courier New',monospace\">2024.10.14 10:37:12.290 |MainThread   | INFO    | geometry.py:617 -    draw_cylinders_3D() | model - Plotting cylinder in 3D\n",
       "</pre>\n"
      ],
      "text/plain": [
       "2024.10.14 10:37:12.290 |MainThread   | INFO    | geometry.py:617 -    draw_cylinders_3D() | model - Plotting cylinder in 3D\n"
      ]
     },
     "metadata": {},
     "output_type": "display_data"
    },
    {
     "data": {
      "text/html": [
       "<pre style=\"white-space:pre;overflow-x:auto;line-height:normal;font-family:Menlo,'DejaVu Sans Mono',consolas,'Courier New',monospace\">2024.10.14 10:37:12.314 |MainThread   | INFO    | geometry.py:617 -    draw_cylinders_3D() | model - Plotting cylinder in 3D\n",
       "</pre>\n"
      ],
      "text/plain": [
       "2024.10.14 10:37:12.314 |MainThread   | INFO    | geometry.py:617 -    draw_cylinders_3D() | model - Plotting cylinder in 3D\n"
      ]
     },
     "metadata": {},
     "output_type": "display_data"
    },
    {
     "data": {
      "text/html": [
       "<pre style=\"white-space:pre;overflow-x:auto;line-height:normal;font-family:Menlo,'DejaVu Sans Mono',consolas,'Courier New',monospace\">2024.10.14 10:37:12.329 |MainThread   | INFO    | geometry.py:617 -    draw_cylinders_3D() | model - Plotting cylinder in 3D\n",
       "</pre>\n"
      ],
      "text/plain": [
       "2024.10.14 10:37:12.329 |MainThread   | INFO    | geometry.py:617 -    draw_cylinders_3D() | model - Plotting cylinder in 3D\n"
      ]
     },
     "metadata": {},
     "output_type": "display_data"
    },
    {
     "data": {
      "text/html": [
       "<pre style=\"white-space:pre;overflow-x:auto;line-height:normal;font-family:Menlo,'DejaVu Sans Mono',consolas,'Courier New',monospace\">2024.10.14 10:37:12.347 |MainThread   | INFO    | geometry.py:617 -    draw_cylinders_3D() | model - Plotting cylinder in 3D\n",
       "</pre>\n"
      ],
      "text/plain": [
       "2024.10.14 10:37:12.347 |MainThread   | INFO    | geometry.py:617 -    draw_cylinders_3D() | model - Plotting cylinder in 3D\n"
      ]
     },
     "metadata": {},
     "output_type": "display_data"
    },
    {
     "data": {
      "text/html": [
       "<pre style=\"white-space:pre;overflow-x:auto;line-height:normal;font-family:Menlo,'DejaVu Sans Mono',consolas,'Courier New',monospace\">2024.10.14 10:37:12.361 |MainThread   | INFO    | geometry.py:617 -    draw_cylinders_3D() | model - Plotting cylinder in 3D\n",
       "</pre>\n"
      ],
      "text/plain": [
       "2024.10.14 10:37:12.361 |MainThread   | INFO    | geometry.py:617 -    draw_cylinders_3D() | model - Plotting cylinder in 3D\n"
      ]
     },
     "metadata": {},
     "output_type": "display_data"
    },
    {
     "data": {
      "text/html": [
       "<pre style=\"white-space:pre;overflow-x:auto;line-height:normal;font-family:Menlo,'DejaVu Sans Mono',consolas,'Courier New',monospace\">2024.10.14 10:37:12.374 |MainThread   | INFO    | geometry.py:617 -    draw_cylinders_3D() | model - Plotting cylinder in 3D\n",
       "</pre>\n"
      ],
      "text/plain": [
       "2024.10.14 10:37:12.374 |MainThread   | INFO    | geometry.py:617 -    draw_cylinders_3D() | model - Plotting cylinder in 3D\n"
      ]
     },
     "metadata": {},
     "output_type": "display_data"
    },
    {
     "data": {
      "text/html": [
       "<pre style=\"white-space:pre;overflow-x:auto;line-height:normal;font-family:Menlo,'DejaVu Sans Mono',consolas,'Courier New',monospace\">2024.10.14 10:37:12.392 |MainThread   | INFO    | geometry.py:617 -    draw_cylinders_3D() | model - Plotting cylinder in 3D\n",
       "</pre>\n"
      ],
      "text/plain": [
       "2024.10.14 10:37:12.392 |MainThread   | INFO    | geometry.py:617 -    draw_cylinders_3D() | model - Plotting cylinder in 3D\n"
      ]
     },
     "metadata": {},
     "output_type": "display_data"
    },
    {
     "data": {
      "text/html": [
       "<pre style=\"white-space:pre;overflow-x:auto;line-height:normal;font-family:Menlo,'DejaVu Sans Mono',consolas,'Courier New',monospace\">2024.10.14 10:37:12.411 |MainThread   | INFO    | geometry.py:617 -    draw_cylinders_3D() | model - Plotting cylinder in 3D\n",
       "</pre>\n"
      ],
      "text/plain": [
       "2024.10.14 10:37:12.411 |MainThread   | INFO    | geometry.py:617 -    draw_cylinders_3D() | model - Plotting cylinder in 3D\n"
      ]
     },
     "metadata": {},
     "output_type": "display_data"
    },
    {
     "data": {
      "text/html": [
       "<pre style=\"white-space:pre;overflow-x:auto;line-height:normal;font-family:Menlo,'DejaVu Sans Mono',consolas,'Courier New',monospace\">2024.10.14 10:37:12.424 |MainThread   | INFO    | geometry.py:617 -    draw_cylinders_3D() | model - Plotting cylinder in 3D\n",
       "</pre>\n"
      ],
      "text/plain": [
       "2024.10.14 10:37:12.424 |MainThread   | INFO    | geometry.py:617 -    draw_cylinders_3D() | model - Plotting cylinder in 3D\n"
      ]
     },
     "metadata": {},
     "output_type": "display_data"
    },
    {
     "data": {
      "text/html": [
       "<pre style=\"white-space:pre;overflow-x:auto;line-height:normal;font-family:Menlo,'DejaVu Sans Mono',consolas,'Courier New',monospace\">2024.10.14 10:37:12.441 |MainThread   | INFO    | geometry.py:617 -    draw_cylinders_3D() | model - Plotting cylinder in 3D\n",
       "</pre>\n"
      ],
      "text/plain": [
       "2024.10.14 10:37:12.441 |MainThread   | INFO    | geometry.py:617 -    draw_cylinders_3D() | model - Plotting cylinder in 3D\n"
      ]
     },
     "metadata": {},
     "output_type": "display_data"
    },
    {
     "data": {
      "text/html": [
       "<pre style=\"white-space:pre;overflow-x:auto;line-height:normal;font-family:Menlo,'DejaVu Sans Mono',consolas,'Courier New',monospace\">2024.10.14 10:37:12.461 |MainThread   | INFO    | geometry.py:617 -    draw_cylinders_3D() | model - Plotting cylinder in 3D\n",
       "</pre>\n"
      ],
      "text/plain": [
       "2024.10.14 10:37:12.461 |MainThread   | INFO    | geometry.py:617 -    draw_cylinders_3D() | model - Plotting cylinder in 3D\n"
      ]
     },
     "metadata": {},
     "output_type": "display_data"
    },
    {
     "data": {
      "text/html": [
       "<pre style=\"white-space:pre;overflow-x:auto;line-height:normal;font-family:Menlo,'DejaVu Sans Mono',consolas,'Courier New',monospace\">2024.10.14 10:37:12.475 |MainThread   | INFO    | geometry.py:617 -    draw_cylinders_3D() | model - Plotting cylinder in 3D\n",
       "</pre>\n"
      ],
      "text/plain": [
       "2024.10.14 10:37:12.475 |MainThread   | INFO    | geometry.py:617 -    draw_cylinders_3D() | model - Plotting cylinder in 3D\n"
      ]
     },
     "metadata": {},
     "output_type": "display_data"
    },
    {
     "data": {
      "text/html": [
       "<pre style=\"white-space:pre;overflow-x:auto;line-height:normal;font-family:Menlo,'DejaVu Sans Mono',consolas,'Courier New',monospace\">2024.10.14 10:37:12.486 |MainThread   | INFO    | geometry.py:617 -    draw_cylinders_3D() | model - Plotting cylinder in 3D\n",
       "</pre>\n"
      ],
      "text/plain": [
       "2024.10.14 10:37:12.486 |MainThread   | INFO    | geometry.py:617 -    draw_cylinders_3D() | model - Plotting cylinder in 3D\n"
      ]
     },
     "metadata": {},
     "output_type": "display_data"
    },
    {
     "data": {
      "text/html": [
       "<pre style=\"white-space:pre;overflow-x:auto;line-height:normal;font-family:Menlo,'DejaVu Sans Mono',consolas,'Courier New',monospace\">2024.10.14 10:37:12.498 |MainThread   | INFO    | geometry.py:617 -    draw_cylinders_3D() | model - Plotting cylinder in 3D\n",
       "</pre>\n"
      ],
      "text/plain": [
       "2024.10.14 10:37:12.498 |MainThread   | INFO    | geometry.py:617 -    draw_cylinders_3D() | model - Plotting cylinder in 3D\n"
      ]
     },
     "metadata": {},
     "output_type": "display_data"
    },
    {
     "data": {
      "text/html": [
       "<pre style=\"white-space:pre;overflow-x:auto;line-height:normal;font-family:Menlo,'DejaVu Sans Mono',consolas,'Courier New',monospace\">2024.10.14 10:37:12.505 |MainThread   | INFO    | geometry.py:617 -    draw_cylinders_3D() | model - Plotting cylinder in 3D\n",
       "</pre>\n"
      ],
      "text/plain": [
       "2024.10.14 10:37:12.505 |MainThread   | INFO    | geometry.py:617 -    draw_cylinders_3D() | model - Plotting cylinder in 3D\n"
      ]
     },
     "metadata": {},
     "output_type": "display_data"
    },
    {
     "data": {
      "text/html": [
       "<pre style=\"white-space:pre;overflow-x:auto;line-height:normal;font-family:Menlo,'DejaVu Sans Mono',consolas,'Courier New',monospace\">2024.10.14 10:37:12.517 |MainThread   | INFO    | geometry.py:617 -    draw_cylinders_3D() | model - Plotting cylinder in 3D\n",
       "</pre>\n"
      ],
      "text/plain": [
       "2024.10.14 10:37:12.517 |MainThread   | INFO    | geometry.py:617 -    draw_cylinders_3D() | model - Plotting cylinder in 3D\n"
      ]
     },
     "metadata": {},
     "output_type": "display_data"
    },
    {
     "data": {
      "text/html": [
       "<pre style=\"white-space:pre;overflow-x:auto;line-height:normal;font-family:Menlo,'DejaVu Sans Mono',consolas,'Courier New',monospace\">2024.10.14 10:37:12.524 |MainThread   | INFO    | geometry.py:617 -    draw_cylinders_3D() | model - Plotting cylinder in 3D\n",
       "</pre>\n"
      ],
      "text/plain": [
       "2024.10.14 10:37:12.524 |MainThread   | INFO    | geometry.py:617 -    draw_cylinders_3D() | model - Plotting cylinder in 3D\n"
      ]
     },
     "metadata": {},
     "output_type": "display_data"
    },
    {
     "data": {
      "text/html": [
       "<pre style=\"white-space:pre;overflow-x:auto;line-height:normal;font-family:Menlo,'DejaVu Sans Mono',consolas,'Courier New',monospace\">2024.10.14 10:37:12.535 |MainThread   | INFO    | geometry.py:617 -    draw_cylinders_3D() | model - Plotting cylinder in 3D\n",
       "</pre>\n"
      ],
      "text/plain": [
       "2024.10.14 10:37:12.535 |MainThread   | INFO    | geometry.py:617 -    draw_cylinders_3D() | model - Plotting cylinder in 3D\n"
      ]
     },
     "metadata": {},
     "output_type": "display_data"
    },
    {
     "data": {
      "text/html": [
       "<pre style=\"white-space:pre;overflow-x:auto;line-height:normal;font-family:Menlo,'DejaVu Sans Mono',consolas,'Courier New',monospace\">2024.10.14 10:37:12.545 |MainThread   | INFO    | geometry.py:617 -    draw_cylinders_3D() | model - Plotting cylinder in 3D\n",
       "</pre>\n"
      ],
      "text/plain": [
       "2024.10.14 10:37:12.545 |MainThread   | INFO    | geometry.py:617 -    draw_cylinders_3D() | model - Plotting cylinder in 3D\n"
      ]
     },
     "metadata": {},
     "output_type": "display_data"
    },
    {
     "data": {
      "text/html": [
       "<pre style=\"white-space:pre;overflow-x:auto;line-height:normal;font-family:Menlo,'DejaVu Sans Mono',consolas,'Courier New',monospace\">2024.10.14 10:37:12.556 |MainThread   | INFO    | geometry.py:617 -    draw_cylinders_3D() | model - Plotting cylinder in 3D\n",
       "</pre>\n"
      ],
      "text/plain": [
       "2024.10.14 10:37:12.556 |MainThread   | INFO    | geometry.py:617 -    draw_cylinders_3D() | model - Plotting cylinder in 3D\n"
      ]
     },
     "metadata": {},
     "output_type": "display_data"
    },
    {
     "data": {
      "text/html": [
       "<pre style=\"white-space:pre;overflow-x:auto;line-height:normal;font-family:Menlo,'DejaVu Sans Mono',consolas,'Courier New',monospace\">2024.10.14 10:37:12.568 |MainThread   | INFO    | geometry.py:617 -    draw_cylinders_3D() | model - Plotting cylinder in 3D\n",
       "</pre>\n"
      ],
      "text/plain": [
       "2024.10.14 10:37:12.568 |MainThread   | INFO    | geometry.py:617 -    draw_cylinders_3D() | model - Plotting cylinder in 3D\n"
      ]
     },
     "metadata": {},
     "output_type": "display_data"
    },
    {
     "data": {
      "text/html": [
       "<pre style=\"white-space:pre;overflow-x:auto;line-height:normal;font-family:Menlo,'DejaVu Sans Mono',consolas,'Courier New',monospace\">2024.10.14 10:37:12.581 |MainThread   | INFO    | geometry.py:617 -    draw_cylinders_3D() | model - Plotting cylinder in 3D\n",
       "</pre>\n"
      ],
      "text/plain": [
       "2024.10.14 10:37:12.581 |MainThread   | INFO    | geometry.py:617 -    draw_cylinders_3D() | model - Plotting cylinder in 3D\n"
      ]
     },
     "metadata": {},
     "output_type": "display_data"
    },
    {
     "data": {
      "text/html": [
       "<pre style=\"white-space:pre;overflow-x:auto;line-height:normal;font-family:Menlo,'DejaVu Sans Mono',consolas,'Courier New',monospace\">2024.10.14 10:37:12.591 |MainThread   | INFO    | geometry.py:617 -    draw_cylinders_3D() | model - Plotting cylinder in 3D\n",
       "</pre>\n"
      ],
      "text/plain": [
       "2024.10.14 10:37:12.591 |MainThread   | INFO    | geometry.py:617 -    draw_cylinders_3D() | model - Plotting cylinder in 3D\n"
      ]
     },
     "metadata": {},
     "output_type": "display_data"
    },
    {
     "data": {
      "text/html": [
       "<pre style=\"white-space:pre;overflow-x:auto;line-height:normal;font-family:Menlo,'DejaVu Sans Mono',consolas,'Courier New',monospace\">2024.10.14 10:37:12.603 |MainThread   | INFO    | geometry.py:617 -    draw_cylinders_3D() | model - Plotting cylinder in 3D\n",
       "</pre>\n"
      ],
      "text/plain": [
       "2024.10.14 10:37:12.603 |MainThread   | INFO    | geometry.py:617 -    draw_cylinders_3D() | model - Plotting cylinder in 3D\n"
      ]
     },
     "metadata": {},
     "output_type": "display_data"
    },
    {
     "data": {
      "text/html": [
       "<pre style=\"white-space:pre;overflow-x:auto;line-height:normal;font-family:Menlo,'DejaVu Sans Mono',consolas,'Courier New',monospace\">2024.10.14 10:37:12.614 |MainThread   | INFO    | geometry.py:617 -    draw_cylinders_3D() | model - Plotting cylinder in 3D\n",
       "</pre>\n"
      ],
      "text/plain": [
       "2024.10.14 10:37:12.614 |MainThread   | INFO    | geometry.py:617 -    draw_cylinders_3D() | model - Plotting cylinder in 3D\n"
      ]
     },
     "metadata": {},
     "output_type": "display_data"
    },
    {
     "data": {
      "text/html": [
       "<pre style=\"white-space:pre;overflow-x:auto;line-height:normal;font-family:Menlo,'DejaVu Sans Mono',consolas,'Courier New',monospace\">2024.10.14 10:37:12.623 |MainThread   | INFO    | geometry.py:617 -    draw_cylinders_3D() | model - Plotting cylinder in 3D\n",
       "</pre>\n"
      ],
      "text/plain": [
       "2024.10.14 10:37:12.623 |MainThread   | INFO    | geometry.py:617 -    draw_cylinders_3D() | model - Plotting cylinder in 3D\n"
      ]
     },
     "metadata": {},
     "output_type": "display_data"
    },
    {
     "data": {
      "text/html": [
       "<pre style=\"white-space:pre;overflow-x:auto;line-height:normal;font-family:Menlo,'DejaVu Sans Mono',consolas,'Courier New',monospace\">2024.10.14 10:37:12.634 |MainThread   | INFO    | geometry.py:617 -    draw_cylinders_3D() | model - Plotting cylinder in 3D\n",
       "</pre>\n"
      ],
      "text/plain": [
       "2024.10.14 10:37:12.634 |MainThread   | INFO    | geometry.py:617 -    draw_cylinders_3D() | model - Plotting cylinder in 3D\n"
      ]
     },
     "metadata": {},
     "output_type": "display_data"
    },
    {
     "data": {
      "text/html": [
       "<pre style=\"white-space:pre;overflow-x:auto;line-height:normal;font-family:Menlo,'DejaVu Sans Mono',consolas,'Courier New',monospace\">2024.10.14 10:37:12.641 |MainThread   | INFO    | geometry.py:617 -    draw_cylinders_3D() | model - Plotting cylinder in 3D\n",
       "</pre>\n"
      ],
      "text/plain": [
       "2024.10.14 10:37:12.641 |MainThread   | INFO    | geometry.py:617 -    draw_cylinders_3D() | model - Plotting cylinder in 3D\n"
      ]
     },
     "metadata": {},
     "output_type": "display_data"
    },
    {
     "data": {
      "text/html": [
       "<pre style=\"white-space:pre;overflow-x:auto;line-height:normal;font-family:Menlo,'DejaVu Sans Mono',consolas,'Courier New',monospace\">2024.10.14 10:37:12.654 |MainThread   | INFO    | geometry.py:617 -    draw_cylinders_3D() | model - Plotting cylinder in 3D\n",
       "</pre>\n"
      ],
      "text/plain": [
       "2024.10.14 10:37:12.654 |MainThread   | INFO    | geometry.py:617 -    draw_cylinders_3D() | model - Plotting cylinder in 3D\n"
      ]
     },
     "metadata": {},
     "output_type": "display_data"
    },
    {
     "data": {
      "text/html": [
       "<pre style=\"white-space:pre;overflow-x:auto;line-height:normal;font-family:Menlo,'DejaVu Sans Mono',consolas,'Courier New',monospace\">2024.10.14 10:37:12.820 |MainThread   | INFO    | geometry.py:617 -    draw_cylinders_3D() | model - Plotting cylinder in 3D\n",
       "</pre>\n"
      ],
      "text/plain": [
       "2024.10.14 10:37:12.820 |MainThread   | INFO    | geometry.py:617 -    draw_cylinders_3D() | model - Plotting cylinder in 3D\n"
      ]
     },
     "metadata": {},
     "output_type": "display_data"
    },
    {
     "data": {
      "text/html": [
       "<pre style=\"white-space:pre;overflow-x:auto;line-height:normal;font-family:Menlo,'DejaVu Sans Mono',consolas,'Courier New',monospace\">2024.10.14 10:37:12.834 |MainThread   | INFO    | geometry.py:617 -    draw_cylinders_3D() | model - Plotting cylinder in 3D\n",
       "</pre>\n"
      ],
      "text/plain": [
       "2024.10.14 10:37:12.834 |MainThread   | INFO    | geometry.py:617 -    draw_cylinders_3D() | model - Plotting cylinder in 3D\n"
      ]
     },
     "metadata": {},
     "output_type": "display_data"
    },
    {
     "data": {
      "text/html": [
       "<pre style=\"white-space:pre;overflow-x:auto;line-height:normal;font-family:Menlo,'DejaVu Sans Mono',consolas,'Courier New',monospace\">2024.10.14 10:37:12.842 |MainThread   | INFO    | geometry.py:617 -    draw_cylinders_3D() | model - Plotting cylinder in 3D\n",
       "</pre>\n"
      ],
      "text/plain": [
       "2024.10.14 10:37:12.842 |MainThread   | INFO    | geometry.py:617 -    draw_cylinders_3D() | model - Plotting cylinder in 3D\n"
      ]
     },
     "metadata": {},
     "output_type": "display_data"
    },
    {
     "data": {
      "text/html": [
       "<pre style=\"white-space:pre;overflow-x:auto;line-height:normal;font-family:Menlo,'DejaVu Sans Mono',consolas,'Courier New',monospace\">2024.10.14 10:37:12.858 |MainThread   | INFO    | geometry.py:617 -    draw_cylinders_3D() | model - Plotting cylinder in 3D\n",
       "</pre>\n"
      ],
      "text/plain": [
       "2024.10.14 10:37:12.858 |MainThread   | INFO    | geometry.py:617 -    draw_cylinders_3D() | model - Plotting cylinder in 3D\n"
      ]
     },
     "metadata": {},
     "output_type": "display_data"
    },
    {
     "data": {
      "text/html": [
       "<pre style=\"white-space:pre;overflow-x:auto;line-height:normal;font-family:Menlo,'DejaVu Sans Mono',consolas,'Courier New',monospace\">2024.10.14 10:37:12.871 |MainThread   | INFO    | geometry.py:617 -    draw_cylinders_3D() | model - Plotting cylinder in 3D\n",
       "</pre>\n"
      ],
      "text/plain": [
       "2024.10.14 10:37:12.871 |MainThread   | INFO    | geometry.py:617 -    draw_cylinders_3D() | model - Plotting cylinder in 3D\n"
      ]
     },
     "metadata": {},
     "output_type": "display_data"
    },
    {
     "name": "stdout",
     "output_type": "stream",
     "text": [
      "XZ Projection of a collection of cylinders\n"
     ]
    },
    {
     "data": {
      "image/png": "[encoded data removed]",
      "text/plain": [
       "<Figure size 640x480 with 1 Axes>"
      ]
     },
     "metadata": {},
     "output_type": "display_data"
    }
   ],
   "source": [
    "myCollection = CylinderCollection()\n",
    "# The below file is one of our several testing files, featuring only\n",
    "# the trunk of a tree and one of its branches\n",
    "myCollection.from_csv(\"charlie_brown.csv\")\n",
    "\n",
    "# by filtering for cyl_id>100, we are only plotting the\n",
    "# cylinders that are part of the branch\n",
    "myCollection.draw(\"XZ\", show=True, save=False)\n",
    "myCollection.draw(\"XY\", show=True, save=False)\n",
    "myCollection.draw(\"YZ\", show=True, save=False)\n",
    "# myCollection.draw(\"3D\", show=False, save=False, file_name_ext=\"2d_3d_comparison\")\n",
    "\n",
    "\n",
    "print(\"XZ Projection of a collection of cylinders\")"
   ]
  },
  {
   "cell_type": "markdown",
   "id": "ec4cb1f2",
   "metadata": {},
   "source": [
    "To understand how these features support canoPyHydro's titular 'flow identification' functionality, check out [Flow Identification and Drawing](flow_identification_drawing.ipynb)"
   ]
  },
  {
   "cell_type": "markdown",
   "id": "a2f23faa",
   "metadata": {},
   "source": [
    "#"
   ]
  },
  {
   "cell_type": "markdown",
   "id": "525152f2",
   "metadata": {},
   "source": [
    "### Forester"
   ]
  },
  {
   "cell_type": "markdown",
   "id": "8ada9f74",
   "metadata": {},
   "source": []
  },
  {
   "cell_type": "markdown",
   "id": "f7f38d25",
   "metadata": {},
   "source": [
    "Forester objects allow users to conveniently create and manage Cylinder Collections. In particular, Foresters are useful for reading in and processing QSM files.\n"
   ]
  },
  {
   "cell_type": "markdown",
   "id": "a1be0566",
   "metadata": {},
   "source": [
    "When a Forester object is created, available file names are read from the default directory, './data/input/'. \\\n",
    "This list of available files can be accessed through the Forester.file_names attribute, as shown below"
   ]
  },
  {
   "cell_type": "code",
   "execution_count": null,
   "id": "3661ce99",
   "metadata": {
    "tags": [
     "myTag"
    ]
   },
   "outputs": [],
   "source": [
    "# Creating a new Forester object\n",
    "myForester = Forester()\n",
    "print(\n",
    "    f\"Files available in {myForester.directory}: {list(map(str,myForester.file_names))}\"\n",
    ")"
   ]
  },
  {
   "cell_type": "markdown",
   "id": "ece770db",
   "metadata": {},
   "source": [
    "Optionally, a custom path may be passed to the Forester object, In which case, the Forester will look for files in the passed directory instead"
   ]
  },
  {
   "cell_type": "code",
   "execution_count": null,
   "id": "d3d3873f",
   "metadata": {},
   "outputs": [],
   "source": [
    "# Passing a custom directory to the Forester object will change the directory attribute\n",
    "directory = \"/data/test/\"\n",
    "myForester = Forester(\"data/test/\")\n",
    "print(\n",
    "    f\"Files available in {myForester.directory}: {list(map(str,myForester.file_names))}\"\n",
    ")"
   ]
  },
  {
   "cell_type": "markdown",
   "id": "49ae18fe",
   "metadata": {},
   "source": [
    "The 'qsm_to_collection' function can be used create CylinderCollections from a specified file."
   ]
  },
  {
   "cell_type": "code",
   "execution_count": null,
   "id": "27e6af2a",
   "metadata": {},
   "outputs": [],
   "source": [
    "# Importing a QSM file as a CylinderCollection\n",
    "myForester = Forester(\"data/test/\")\n",
    "myForester.qsm_to_collection(\"example_tree.csv\")\n",
    "\n",
    "cylCollections = myForester.cylinder_collections\n",
    "firstCollection = cylCollections[0]\n",
    "\n",
    "print(\n",
    "    f\"Forester has {len(cylCollections)} CylinderCollection, imported from {cylCollections[0].file_name}\"\n",
    ")"
   ]
  },
  {
   "cell_type": "markdown",
   "id": "ccd8c24b",
   "metadata": {},
   "source": [
    "If 'All' is provided as the file name, all of the files in the given directory will be read in as CylinderCollections. \\\n",
    "(Note that this may require a significant amount of memory.)"
   ]
  },
  {
   "cell_type": "code",
   "execution_count": null,
   "id": "984272e4",
   "metadata": {},
   "outputs": [],
   "source": [
    "# Reading in all files in the directory as collections\n",
    "myForester.qsm_to_collection(\"All\")\n",
    "cylCollections = myForester.cylinder_collections\n",
    "firstCollection = cylCollections[0]\n",
    "print(\n",
    "    f\"\"\"Forester created {len(cylCollections)} CylinderCollections, imported from the following files\n",
    "      {list(map(lambda x: x.file_name,cylCollections))}\"\"\"\n",
    ")"
   ]
  },
  {
   "cell_type": "markdown",
   "id": "d283d9cd",
   "metadata": {},
   "source": [
    "Putting all that we have learned together, you can see that all of the statistics available through canoPyHydro can be generated with the below 10 lines of code"
   ]
  },
  {
   "cell_type": "code",
   "execution_count": null,
   "id": "7a310a9a",
   "metadata": {},
   "outputs": [],
   "source": [
    "forest = Forester(\"data/input/\")\n",
    "forest.get_file_names()\n",
    "forest.qsm_to_collection(file_name=\"5_SmallTree.csv\")\n",
    "collection = forest.cylinder_collections[0]\n",
    "collection.project_cylinders(\"XY\")\n",
    "collection.initialize_digraph_from(in_flow_grade_lim=-0.16)\n",
    "collection.find_flow_components()\n",
    "print(\"finished_find_flow_components\")\n",
    "collection.calculate_flows()\n",
    "pickle_collection(collection)"
   ]
  }
 ],
 "metadata": {
  "jupytext": {
   "formats": "ipynb,py:percent"
  },
  "kernelspec": {
   "display_name": "venv",
   "language": "python",
   "name": "python3"
  },
  "language_info": {
   "codemirror_mode": {
    "name": "ipython",
    "version": 3
   },
   "file_extension": ".py",
   "mimetype": "text/x-python",
   "name": "python",
   "nbconvert_exporter": "python",
   "pygments_lexer": "ipython3",
   "version": "3.10.12"
  }
 },
 "nbformat": 4,
 "nbformat_minor": 5
}
