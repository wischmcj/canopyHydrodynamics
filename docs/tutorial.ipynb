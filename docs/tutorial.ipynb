{
 "cells": [
  {
   "cell_type": "markdown",
   "id": "57f53381",
   "metadata": {},
   "source": [
    "## Objects  "
   ]
  },
  {
   "cell_type": "code",
   "execution_count": null,
   "id": "af3865bb",
   "metadata": {},
   "outputs": [],
   "source": []
  },
  {
   "cell_type": "code",
   "execution_count": null,
   "id": "d117e315",
   "metadata": {},
   "outputs": [],
   "source": [
    "#   RUNME.setup\n",
    "#  This helps set up your kernal's environment in order to avoid errors\n",
    "import os\n",
    "\n",
    "from matplotlib import pyplot as plt\n",
    "import numpy as np\n",
    "from canopyhydro.configuration import qsm_cols\n",
    "from canopyhydro.Cylinder import Cylinder, create_cyl\n",
    "from src.canopyhydro.CylinderCollection import CylinderCollection\n",
    "from src.canopyhydro.Forester import Forester\n",
    "\n",
    "# Determines where configuration file is located\n",
    "# file contains directory info and model input settings\n",
    "config_file = os.environ[\n",
    "    \"CANOPYHYDRO_CONFIG\"\n",
    "] = f\"{os.getcwd()}/canopyhydro_config.toml\"\n",
    "log_config = os.environ[\"CANOPYHYDRO_LOG_CONFIG\"] = f\"{os.getcwd()}/logging_config.yml\"\n"
   ]
  },
  {
   "cell_type": "code",
   "execution_count": null,
   "id": "7ccee5a3",
   "metadata": {},
   "outputs": [],
   "source": [
    "# Creating a Cylinder object via inputs\n",
    "myCyl = Cylinder(\n",
    "    cyl_id=1.0,\n",
    "    x=[0,3],\n",
    "    y=[0,2],\n",
    "    z=[0,6],\n",
    "    radius=2.0,\n",
    "    length=0.064433,\n",
    "    branch_order=0.0,\n",
    "    branch_id=0.0,\n",
    "    volume=0.010021,\n",
    "    parent_id=0.0,\n",
    "    reverse_branch_order=32.0,\n",
    "    segment_id=0.0,\n",
    ")\n",
    "print(myCyl)"
   ]
  },
  {
   "cell_type": "code",
   "execution_count": null,
   "id": "67714844",
   "metadata": {},
   "outputs": [],
   "source": [
    "# Projecting a cylinder onto the XY plane\n",
    "import numpy as np\n",
    "from canopyhydro.Cylinder import Cylinder\n",
    "from canopyhydro.CylinderCollection import CylinderCollection\n",
    "cyl = Cylinder(1, np.array([0, 1]), np.array([0, 1]), np.array([0, 1]), 1, 1, 0, 0, 1, 0, 0, 0)\n",
    "cyl.get_projection(\"XY\")\n",
    "print(cyl.projected_data['XY']['polygon'])\n",
    "print(cyl.projected_data['XY']['base_vector'])\n",
    "print(cyl.projected_data['XY']['anti_vector'])\n",
    "print(cyl.projected_data['XY']['angle'])\n",
    "print(cyl.projected_data['XY']['area'])"
   ]
  },
  {
   "cell_type": "markdown",
   "id": "21d2a621",
   "metadata": {},
   "source": [
    "### Cylinder"
   ]
  },
  {
   "cell_type": "markdown",
   "id": "cc97e998",
   "metadata": {},
   "source": [
    "The Cylinder class is used to represent the 3-D cylinders that make up a QSM "
   ]
  },
  {
   "cell_type": "code",
   "execution_count": null,
   "id": "ca2e3ba3",
   "metadata": {},
   "outputs": [],
   "source": [
    "# A trivial example of a Cylinder object\n",
    "\n",
    "\n",
    "myCyl = Cylinder(\n",
    "    cyl_id=1.0,\n",
    "    x=[3, 6],\n",
    "    y=[2, 4],\n",
    "    z=[6, 12],\n",
    "    radius=2.0,\n",
    "    length=0.064433,\n",
    "    branch_order=0.0,\n",
    "    branch_id=0.0,\n",
    "    volume=0.010021,\n",
    "    parent_id=0.0,\n",
    "    reverse_branch_order=32.0,\n",
    "    segment_id=0.0,\n",
    ")\n",
    "\n",
    "fig = myCyl.draw_3D(show=True, draw_vectors=True, draw_projections=True)"
   ]
  },
  {
   "cell_type": "markdown",
   "id": "694d11bf",
   "metadata": {},
   "source": [
    "The most important function of Cylinder objects is their ability to return data regarding the projections onto planes. Cylinder objects utilize our custom 'geometry' module to calculate their projections onto the XY, XZ and YZ planes. "
   ]
  },
  {
   "cell_type": "code",
   "execution_count": null,
   "id": "1a3b2b4d",
   "metadata": {},
   "outputs": [],
   "source": [
    "# Here we show the 3D view and the 3 possible 2D projections of a Cylinder object\n",
    "myCyl = Cylinder(\n",
    "    cyl_id=1.0,\n",
    "    x=[0,3],\n",
    "    y=[0,2],\n",
    "    z=[0,6],\n",
    "    radius=2.0,\n",
    "    length=0.064433,\n",
    "    branch_order=0.0,\n",
    "    branch_id=0.0,\n",
    "    volume=0.010021,\n",
    "    parent_id=0.0,\n",
    "    reverse_branch_order=32.0,\n",
    "    segment_id=0.0,\n",
    ")\n",
    "\n",
    "\n",
    "fig = myCyl.draw_3D(show=False, draw_projections=True)\n",
    "\n",
    "myCyl.get_projection(\"XY\")\n",
    "print(\"'myCyl' as seen from above\")\n",
    "print(\n",
    "    f\"The 'XY' projection of myCyl as an area of {round(myCyl.projected_data['XY']['area'],2)} cm^3\"\n",
    ")\n",
    "print(\n",
    "    f\"       and the cylinder makes an angle of {round(myCyl.projected_data['XY']['angle'],2)} radians with the XY plane\"\n",
    ")\n",
    "\n",
    "myCyl.get_projection(\"XZ\")\n",
    "print(\n",
    "    f\"The 'XZ' projection of myCyl as an area of {round(myCyl.projected_data['XZ']['area'],2)} cm^3\"\n",
    ")\n",
    "print(\n",
    "    f\"       and the cylinder makes an angle of {round(myCyl.projected_data['XZ']['angle'],2)} radians with the XZ plane\"\n",
    ")\n",
    "\n",
    "myCyl.get_projection(\"YZ\")\n",
    "print(\n",
    "    f\"The 'YZ' projection of myCyl as an area of {round(myCyl.projected_data['YZ']['area'],2)} cm^3\"\n",
    ")\n",
    "print(\n",
    "    f\"       and the cylinder makes an angle of {round(myCyl.projected_data['YZ']['angle'],2)} radians with the YZ plane\"\n",
    ")"
   ]
  },
  {
   "cell_type": "markdown",
   "id": "e434f057",
   "metadata": {},
   "source": [
    "In the above 3D representations, the entire surface of cylinder must be calculated, s this may be computationally intensive. \\\n",
    "As such, the 'get_projection' function calculates statistics regarding 2D projections directly instead."
   ]
  },
  {
   "cell_type": "code",
   "execution_count": null,
   "id": "aa5ac7c7",
   "metadata": {},
   "outputs": [],
   "source": [
    "# The get_projection function allows for the retrieval of\n",
    "# projection data without the need to define the entire surface of the cylinder\n",
    "\n",
    "\n",
    "myCyl = Cylinder(\n",
    "    cyl_id=1.0,\n",
    "    x=[3, 6],\n",
    "    y=[2, 4],\n",
    "    z=[6, 12],\n",
    "    radius=2.0,\n",
    "    length=0.064433,\n",
    "    branch_order=0.0,\n",
    "    branch_id=0.0,\n",
    "    volume=0.010021,\n",
    "    parent_id=0.0,\n",
    "    reverse_branch_order=32.0,\n",
    "    segment_id=0.0,\n",
    ")\n",
    "\n",
    "print(\"'myCyl' as seen from above\")\n",
    "myCyl.get_projection(\"XY\")\n",
    "myCyl.draw(plane=\"XY\")\n",
    "plt.show()\n",
    "\n",
    "print(\"'myCyl' as seen from the 'fromt' of the tree\")\n",
    "myCyl.get_projection(\"XZ\")\n",
    "myCyl.draw(plane=\"XZ\")\n",
    "plt.show()\n",
    "\n",
    "print(\"'myCyl' as seen from one 'side' of the tree\")\n",
    "myCyl.get_projection(\"YZ\")\n",
    "myCyl.draw(plane=\"YZ\")\n",
    "plt.show()"
   ]
  },
  {
   "cell_type": "markdown",
   "id": "4fdc5c70",
   "metadata": {},
   "source": [
    "### Cylinder Collection "
   ]
  },
  {
   "cell_type": "markdown",
   "id": "26ea874e",
   "metadata": {},
   "source": [
    "Cylinder Collections are just as they sound and, at the most basic level, a Cylinder Collection is defined as a list of 1 or more Cylinder objects. \\\n",
    "Cylinder Collections almost always represent QSM's (or parts of a QSM), and are meant to help users explore their QSMs. \\\n",
    "Below, we demonstrate how one might initialize a cylinder collection using cylinder data (e.g. QSM data) stored in a CSV file."
   ]
  },
  {
   "cell_type": "code",
   "execution_count": null,
   "id": "65608029",
   "metadata": {},
   "outputs": [],
   "source": [
    "# Example showing the most basic possible cylinder Collection4\n",
    "myCollection = CylinderCollection()\n",
    "# The below file is one of our several testing files, featuring only\n",
    "# the trunk of a tree and one of its branches\n",
    "myCollection.from_csv(\"5_SmallTree.csv\")\n",
    "myCollection.statistics('XY')\n",
    "\n",
    "# by filtering for cyl_id>100, we are only plotting the\n",
    "# cylinders that are part of the branch\n",
    "# myCollection.draw(\"XZ\", filter_lambda=lambda: cyl_id > 50,highlight_lambda=lambda: cyl_id > 100,\n",
    "#                     save=True, file_name_ext=\"highlighted_branch_tutorial.svg\")  # noqa\n",
    "\n",
    "# print(\"XZ Projection of a collection of cylinders\")\n",
    "\n",
    "myCollection.statistics('XY')"
   ]
  },
  {
   "cell_type": "markdown",
   "id": "e11ba84a",
   "metadata": {},
   "source": [
    "\n",
    "The above also demonstrates a very useful feature available for Cylinder Collections: Filtering. \\\n"
   ]
  },
  {
   "cell_type": "code",
   "execution_count": null,
   "id": "3f44977b",
   "metadata": {},
   "outputs": [],
   "source": [
    "# myCollection = CylinderCollection()\n",
    "# The below file is one of our several testing files, featuring only\n",
    "# the trunk of a tree and one of its branches\n",
    "# myCollection.from_csv('10_MediumCollection.csv')\n",
    "\n",
    "# by filtering for cyl_id>100, we are only plotting the\n",
    "# cylinders that are part of the branch\n",
    "myCollection.draw(\"XZ\", show=False, filter_lambda=lambda: branch_id < 20)\n",
    "# myCollection.draw('XY',show=False)\n",
    "# myCollection.draw('YZ',show=False, save=True, file_name_ext = '2d_3d_comparison')\n",
    "# myCollection.draw('3D',show=False, save = True, file_name_ext = '3d_example', filter_lambda=lambda: branch_id<20)"
   ]
  },
  {
   "cell_type": "code",
   "execution_count": null,
   "id": "4383de18",
   "metadata": {},
   "outputs": [],
   "source": [
    "myCollection = CylinderCollection()\n",
    "# The below file is one of our several testing files, featuring only\n",
    "# the trunk of a tree and one of its branches\n",
    "myCollection.from_csv(\"charlie_brown.csv\")\n",
    "\n",
    "# by filtering for cyl_id>100, we are only plotting the\n",
    "# cylinders that are part of the branch\n",
    "# myCollection.draw(\"XZ\", show=True, save=True)\n",
    "# myCollection.draw(\"XY\", show=True, save=True)\n",
    "# myCollection.draw(\"YZ\", show=True, save=True)\n",
    "myCollection.draw(\n",
    "    \"3D\",\n",
    "    show=False,\n",
    "    save=True,\n",
    "    file_name_ext=\"2d_3d_comparison\"\n",
    ")\n",
    "\n",
    "print(\"XZ Projection of a collection of cylinders\")"
   ]
  },
  {
   "cell_type": "code",
   "execution_count": 3,
   "id": "722e407d",
   "metadata": {},
   "outputs": [
    {
     "name": "stdout",
     "output_type": "stream",
     "text": [
      "None\n"
     ]
    }
   ],
   "source": [
    "print(myCollection.flows)"
   ]
  },
  {
   "cell_type": "markdown",
   "id": "4952330b",
   "metadata": {},
   "source": [
    "Cylinder Collection objects are often 1-1 with a QSM, and differ from QSMs in that they have been given additional structure via attributes and methods. "
   ]
  },
  {
   "cell_type": "code",
   "execution_count": null,
   "id": "ffc7a0a6",
   "metadata": {},
   "outputs": [],
   "source": [
    "# Example printing out a png of a cylinder collection, as well as a list of attributes"
   ]
  },
  {
   "cell_type": "markdown",
   "id": "84bb690d",
   "metadata": {},
   "source": [
    "The most important of these attributes is CylinderCollection.digraph, which is a mathematical graph corresponding the CylinderCollection. \\ \n",
    "This graph representation is used in tandem with a traversal algoritm to predict which rain partition each cylinder in the collection belongs to"
   ]
  },
  {
   "cell_type": "code",
   "execution_count": null,
   "id": "57b736f0",
   "metadata": {},
   "outputs": [],
   "source": [
    "# Code example printing out a cylinder collection, colored by stem v. drip flow"
   ]
  },
  {
   "cell_type": "markdown",
   "id": "4f941464",
   "metadata": {},
   "source": [
    "Alpha shapes are another key attribute used in statistics calculations. \\\n",
    "Alpha shapes represent the estimated area covered by the represented tree's canopy when projected in the XY, XZ or YZ direction. \\\n",
    "**these shapes are particularly important in the calculation of Woody Index (see statistics_calculations for more info)"
   ]
  },
  {
   "cell_type": "code",
   "execution_count": null,
   "id": "7ce7145c-7d70-4c1f-aacf-bd487bad9d60",
   "metadata": {},
   "outputs": [],
   "source": [
    "# A demonstration showing the calculation and plotting of alpha shapes"
   ]
  },
  {
   "cell_type": "markdown",
   "id": "9baf6cb6",
   "metadata": {},
   "source": [
    "The remaining attributes of a CylinderCollection consists primarily of summarry statistics. \\\n",
    "Statistics may be calculated using dedicated functions, or they may be calculated via the overarching 'statistics' function. \\\n",
    "(see statistics_calculations for more info)"
   ]
  },
  {
   "cell_type": "code",
   "execution_count": null,
   "id": "525d2d90",
   "metadata": {},
   "outputs": [],
   "source": [
    "# Demonstrating several options for working with statistics\n",
    "\n",
    "# A few statistic specific functions\n",
    "\n",
    "# Results obtained through the bulk statistics function\n"
   ]
  },
  {
   "cell_type": "markdown",
   "id": "a2f23faa",
   "metadata": {},
   "source": [
    "#"
   ]
  },
  {
   "cell_type": "markdown",
   "id": "525152f2",
   "metadata": {},
   "source": [
    "### Forester"
   ]
  },
  {
   "cell_type": "markdown",
   "id": "f7f38d25",
   "metadata": {},
   "source": [
    "Forester objects allow users to conveniently create and manage Cylinder Collections. In particular, Foresters are useful for reading in and processing QSM files.\n"
   ]
  },
  {
   "cell_type": "markdown",
   "id": "a1be0566",
   "metadata": {},
   "source": [
    "When a Forester object is created, available file names are read from the default directory, './data/input/'. \\\n",
    "This list of available files can be accessed through the Forester.file_names attribute, as shown below"
   ]
  },
  {
   "cell_type": "code",
   "execution_count": null,
   "id": "3661ce99",
   "metadata": {
    "tags": [
     "myTag"
    ]
   },
   "outputs": [],
   "source": [
    "# Creating a new Forester object\n",
    "myForester = Forester()\n",
    "print(\n",
    "    f\"Files available in {myForester.directory}: {list(map(str,myForester.file_names))}\"\n",
    ")"
   ]
  },
  {
   "cell_type": "markdown",
   "id": "ece770db",
   "metadata": {},
   "source": [
    "Optionally, a custom path may be passed to the Forester object, In which case, the Forester will look for files in the passed directory instead"
   ]
  },
  {
   "cell_type": "code",
   "execution_count": null,
   "id": "d3d3873f",
   "metadata": {},
   "outputs": [],
   "source": [
    "# Passing a custom directory to the Forester object will change the directory attribute\n",
    "directory = \"/data/test/\"\n",
    "myForester = Forester(\"data/test/\")\n",
    "print(\n",
    "    f\"Files available in {myForester.directory}: {list(map(str,myForester.file_names))}\"\n",
    ")"
   ]
  },
  {
   "cell_type": "markdown",
   "id": "49ae18fe",
   "metadata": {},
   "source": [
    "The 'qsm_to_collection' function can be used create CylinderCollections from a specified file."
   ]
  },
  {
   "cell_type": "code",
   "execution_count": null,
   "id": "27e6af2a",
   "metadata": {},
   "outputs": [],
   "source": [
    "# Importing a QSM file as a CylinderCollection\n",
    "myForester = Forester(\"data/test/\")\n",
    "myForester.qsm_to_collection(\"5_SmallTree.csv\")\n",
    "\n",
    "cylCollections = myForester.cylinder_collections\n",
    "firstCollection = cylCollections[0]\n",
    "\n",
    "print(\n",
    "    f\"Forester has {len(cylCollections)} CylinderCollection, imported from {cylCollections[0].file_name}\"\n",
    ")"
   ]
  },
  {
   "cell_type": "markdown",
   "id": "ccd8c24b",
   "metadata": {},
   "source": [
    "If 'All' is provided as the file name, all of the files in the given directory will be read in as CylinderCollections. \\\n",
    "(Note that this may require a significant amount of memory.)"
   ]
  },
  {
   "cell_type": "code",
   "execution_count": null,
   "id": "984272e4",
   "metadata": {},
   "outputs": [],
   "source": [
    "# Reading in all files in the directory as collections\n",
    "myForester.qsm_to_collection(\"All\")\n",
    "cylCollections = myForester.cylinder_collections\n",
    "firstCollection = cylCollections[0]\n",
    "print(\n",
    "    f\"\"\"Forester created {len(cylCollections)} CylinderCollections, imported from the following files \n",
    "      {list(map(lambda x: x.file_name,cylCollections))}\"\"\"\n",
    ")"
   ]
  },
  {
   "cell_type": "code",
   "execution_count": null,
   "id": "22e005d3",
   "metadata": {},
   "outputs": [],
   "source": [
    "# Code stored here that may or may not be useful as scraps\n",
    "# Alternatively, the 'Forester' class can be used\n",
    "myForester = Forester()\n",
    "print(\n",
    "    f\"Files available in {myForester.directory}: {list(map(str,myForester.file_names))}\"\n",
    ")\n",
    "# Foresters can ...\n",
    "## ... use a custom directory\n",
    "myForester = Forester(\"data/test/\")\n",
    "print(\n",
    "    f\"Files available in {myForester.directory}: {list(map(str,myForester.file_names))}\"\n",
    ")\n",
    "## ... Read in single QSMs\n",
    "myForester.qsm_to_collection(\"5_SmallTree.csv\")\n",
    "print(f\"Forester has {len(myForester.cylinder_collections)} CylinderCollections\")\n",
    "# .. or read in all files in a directory\n",
    "myForester.qsm_to_collection(\"All\")\n",
    "print(\n",
    "    f\"\"\"Forester created {len(myForester.cylinder_collections)} CylinderCollections,\"\"\"\n",
    ")"
   ]
  },
  {
   "cell_type": "code",
   "execution_count": null,
   "id": "7a310a9a",
   "metadata": {},
   "outputs": [],
   "source": [
    "forest = Forester(test_input_dir)\n",
    "forest.get_file_names()\n",
    "forest.qsm_to_collection(file_name=\"3_HappyPathWTrunk.csv\")\n",
    "collection = forest.cylinder_collections[0]\n",
    "collection.project_cylinders(\"XY\")\n",
    "collection.initialize_digraph_from(in_flow_grade_lim=-0.16)\n",
    "collection.find_flow_components()\n",
    "print(\"finished_find_flow_components\")\n",
    "collection.calculate_flows()\n",
    "pickle_collection(collection)"
   ]
  },
  {
   "cell_type": "markdown",
   "id": "8a67b2a2",
   "metadata": {},
   "source": [
    "\n",
    "# Configuration \n",
    "\n",
    "There are many optional configuration options, but there are only a few that are **necessary** to adjust/check \\\n",
    "to ensure the code runs as expected. \\\n",
    "The default configuration file can be be found at '/CanopyHydrodynamics/src/canopyhydro/user_def_config.toml'. \\\n",
    "At this time functionality changes must be made to this file (e.g. a custom file location cannot be set)\n",
    "\n",
    "## QSM File structre \n",
    "The [qsm] section details the column numbers in which each variable is stored in the input file. To read in this file correctly, \n",
    "the following columns are required, and each row in the QSM must have a corresponding value for each:\n",
    "        - cyl_id\n",
    "        - parent_id\n",
    "        - x (specify two columns as an array, one for x0 another for x1)\n",
    "        - y (specify two columns as an array, one for y0 another for y1)\n",
    "        - z (specify two columns as an array, one for z0 another for z1)\n",
    "        - radius\n",
    "        - volume\n",
    "        - length\n",
    "the below additional columns are required as well but can be left blank in the input file:\n",
    "        - branch_order\n",
    "        - reverse_branch_order\n",
    "        - segment_id\n",
    "## Model Parameters\n",
    "More detail on these parameters can be found in the documentation. For now, all you need to ensure is that both \n",
    "variables have an integer value\n",
    "- min_len_drip_flow\n",
    "    - must be > 0\n",
    "- min_flow_grade_lim\n",
    "    - must be > -pi/2 and \n",
    "    \n",
    "## Directories \n",
    "root_dir       \n",
    "input_dir      \n",
    "output_dir     \n",
    "test_input_dir "
   ]
  }
 ],
 "metadata": {
  "kernelspec": {
   "display_name": "venv",
   "language": "python",
   "name": "python3"
  },
  "language_info": {
   "codemirror_mode": {
    "name": "ipython",
    "version": 3
   },
   "file_extension": ".py",
   "mimetype": "text/x-python",
   "name": "python",
   "nbconvert_exporter": "python",
   "pygments_lexer": "ipython3",
   "version": "3.10.12"
  }
 },
 "nbformat": 4,
 "nbformat_minor": 5
}
